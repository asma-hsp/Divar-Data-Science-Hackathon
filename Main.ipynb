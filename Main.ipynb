{
 "cells": [
  {
   "cell_type": "code",
   "execution_count": null,
   "id": "a06696b6-0afd-4da7-b44b-82faed23f51a",
   "metadata": {},
   "outputs": [],
   "source": [
    "import pandas as pd\n",
    "import numpy as np\n",
    "import json\n",
    "import persian\n",
    "import category_encoders as ce\n",
    "import seaborn as sns\n",
    "import matplotlib.pyplot as plt\n",
    "import pickle\n",
    "import hazm\n",
    "import time\n",
    "import sys\n",
    "import warnings\n",
    "import shap\n",
    "warnings.simplefilter(action='ignore', category=FutureWarning)"
   ]
  },
  {
   "cell_type": "code",
   "execution_count": 2,
   "id": "44c89d42-f41c-464f-96d3-4aa1bbcab426",
   "metadata": {},
   "outputs": [],
   "source": [
    "from sklearn import preprocessing\n",
    "\n",
    "from sklearn.metrics import roc_auc_score\n",
    "from sklearn.model_selection import cross_validate\n",
    "from sklearn.model_selection import RepeatedStratifiedKFold\n",
    "from sklearn.model_selection import GridSearchCV\n",
    "from sklearn.model_selection import RandomizedSearchCV\n",
    "from sklearn.pipeline import make_pipeline\n",
    "from sklearn.metrics import confusion_matrix\n",
    "from sklearn.model_selection import train_test_split\n",
    "\n",
    "from sklearn.ensemble import RandomForestClassifier\n",
    "from sklearn.svm import SVC\n",
    "from sklearn.tree import DecisionTreeClassifier\n",
    "\n",
    "from skopt  import BayesSearchCV \n",
    "\n",
    "import xgboost as xgb\n",
    "import lightgbm as lgb"
   ]
  },
  {
   "cell_type": "markdown",
   "id": "6ffb99b4-c395-4afc-917f-fc168a818b1e",
   "metadata": {},
   "source": [
    "# Read Data"
   ]
  },
  {
   "cell_type": "code",
   "execution_count": 3,
   "id": "2f93bf0e-859b-41a8-b619-72aa9d35317c",
   "metadata": {},
   "outputs": [],
   "source": [
    "path = '/home/asma/Desktop/Divaar/javaneh_amlak/Amlak/'\n",
    "\n",
    "validation = pd.read_csv(path + 'validation.csv')\n",
    "train_labels = pd.read_csv(path + 'train_labels.csv')\n",
    "\n",
    "action_logs = pd.read_parquet(path + 'action_logs.parquet')\n",
    "ladder = pd.read_parquet(path + 'ladder.parquet')\n",
    "posts = pd.read_parquet(path+ 'posts.parquet')\n",
    "\n",
    "image_features = pd.read_csv(path+ 'images_features.csv').drop(['Unnamed: 0'], axis=1)"
   ]
  },
  {
   "cell_type": "markdown",
   "id": "b53f8bb1-a121-49fe-a080-05d1bf0d2a23",
   "metadata": {},
   "source": [
    "# Clean Data"
   ]
  },
  {
   "cell_type": "code",
   "execution_count": 4,
   "id": "ef67c4cd-5d9b-4142-bbb7-bffc15fc5f3a",
   "metadata": {},
   "outputs": [
    {
     "data": {
      "text/html": [
       "<div>\n",
       "<style scoped>\n",
       "    .dataframe tbody tr th:only-of-type {\n",
       "        vertical-align: middle;\n",
       "    }\n",
       "\n",
       "    .dataframe tbody tr th {\n",
       "        vertical-align: top;\n",
       "    }\n",
       "\n",
       "    .dataframe thead th {\n",
       "        text-align: right;\n",
       "    }\n",
       "</style>\n",
       "<table border=\"1\" class=\"dataframe\">\n",
       "  <thead>\n",
       "    <tr style=\"text-align: right;\">\n",
       "      <th></th>\n",
       "      <th>dullness</th>\n",
       "      <th>whiteness</th>\n",
       "      <th>image_size</th>\n",
       "      <th>width</th>\n",
       "      <th>height</th>\n",
       "      <th>blurrness</th>\n",
       "      <th>token</th>\n",
       "      <th>image_num</th>\n",
       "    </tr>\n",
       "  </thead>\n",
       "  <tbody>\n",
       "    <tr>\n",
       "      <th>0</th>\n",
       "      <td>0.0</td>\n",
       "      <td>2.365</td>\n",
       "      <td>68299</td>\n",
       "      <td>600</td>\n",
       "      <td>600</td>\n",
       "      <td>1809.952067</td>\n",
       "      <td>AY-RNJEr</td>\n",
       "      <td>0.jpg</td>\n",
       "    </tr>\n",
       "    <tr>\n",
       "      <th>9</th>\n",
       "      <td>0.0</td>\n",
       "      <td>0.000</td>\n",
       "      <td>90407</td>\n",
       "      <td>600</td>\n",
       "      <td>600</td>\n",
       "      <td>2881.315465</td>\n",
       "      <td>AY-ncLKW</td>\n",
       "      <td>0.jpg</td>\n",
       "    </tr>\n",
       "    <tr>\n",
       "      <th>10</th>\n",
       "      <td>36.2</td>\n",
       "      <td>44.145</td>\n",
       "      <td>69763</td>\n",
       "      <td>600</td>\n",
       "      <td>600</td>\n",
       "      <td>1394.461501</td>\n",
       "      <td>AY0DAuv8</td>\n",
       "      <td>0.jpg</td>\n",
       "    </tr>\n",
       "  </tbody>\n",
       "</table>\n",
       "</div>"
      ],
      "text/plain": [
       "    dullness  whiteness  image_size  width  height    blurrness     token  \\\n",
       "0        0.0      2.365       68299    600     600  1809.952067  AY-RNJEr   \n",
       "9        0.0      0.000       90407    600     600  2881.315465  AY-ncLKW   \n",
       "10      36.2     44.145       69763    600     600  1394.461501  AY0DAuv8   \n",
       "\n",
       "   image_num  \n",
       "0      0.jpg  \n",
       "9      0.jpg  \n",
       "10     0.jpg  "
      ]
     },
     "execution_count": 4,
     "metadata": {},
     "output_type": "execute_result"
    }
   ],
   "source": [
    "image_features = image_features.sort_values(by=['token', 'image_num']).reset_index(drop=True)\n",
    "image_features = image_features.drop_duplicates(subset=['token'],keep='first')\n",
    "image_features.head(3)"
   ]
  },
  {
   "cell_type": "code",
   "execution_count": 5,
   "id": "340d6779-72f0-4972-8f6a-e1e63c2e0c87",
   "metadata": {},
   "outputs": [],
   "source": [
    "action_logs = action_logs.reset_index(drop=True)\n",
    "action_logs['ds'] = pd.to_datetime(action_logs['ds'])\n",
    "action_logs['by_overuser'] = action_logs['by_overuser'].fillna(False)"
   ]
  },
  {
   "cell_type": "markdown",
   "id": "4bd5f353-8901-413a-9bb8-3463003fcfa7",
   "metadata": {},
   "source": [
    "# Extract Features"
   ]
  },
  {
   "cell_type": "code",
   "execution_count": 6,
   "id": "ea5c43b6-5ace-466e-b6d1-4ad8a0c58c31",
   "metadata": {},
   "outputs": [],
   "source": [
    "def get_action_features(group):\n",
    "    \n",
    "    total = group.shape[0]\n",
    "    clicks = group[group['action']=='click_post'].shape[0] \n",
    "    contacts = group[group['action']=='click_contact'].shape[0] / clicks\n",
    "    bookmarks = group[group['action']=='click_bookmark'].shape[0]/ clicks\n",
    "    by_overusers = group[group['by_overuser']].shape[0] / total\n",
    "    \n",
    "    return total, clicks, contacts, bookmarks, by_overusers"
   ]
  },
  {
   "cell_type": "code",
   "execution_count": 7,
   "id": "a9ddb824-f2b8-42b8-bff7-edfa505b299c",
   "metadata": {},
   "outputs": [],
   "source": [
    "tokens_action = action_logs.groupby('token')\\\n",
    "                           .apply(lambda group: get_action_features(group))\\\n",
    "                           .reset_index()\n",
    "tokens_action = pd.concat([tokens_action.drop(0 , axis=1), tokens_action[0].apply(pd.Series)], axis=1)\\\n",
    "                   .rename({0: 'total_actions', 1: 'clicks', 2: 'contacts', 3: 'bookmarks', 4: 'by_overusers'}, axis=1)"
   ]
  },
  {
   "cell_type": "code",
   "execution_count": 8,
   "id": "a5573b45-68e7-4f96-be68-897500600757",
   "metadata": {},
   "outputs": [],
   "source": [
    "def find_pre_category(posts):\n",
    "    \n",
    "    residential_sell = ['apartment-sell', 'house-villa-sell', 'plot-old']\n",
    "    residential_rent = ['apartment-rent', 'house-villa-rent']\n",
    "    commercial_sell  = ['office-sell', 'shop-sell','industry-agriculture-business-sell']\n",
    "    commercial_rent  = ['office-rent', 'shop-rent','industry-agriculture-business-rent']\n",
    "    short_term_rent  = ['suite-apartment', 'villa', 'workspace'] \n",
    "    construction     = ['partnership', 'presell']\n",
    "\n",
    "    conditions = [\n",
    "        posts['category'].isin(residential_sell),\n",
    "        posts['category'].isin(residential_rent),\n",
    "        posts['category'].isin(commercial_sell),\n",
    "        posts['category'].isin(commercial_rent),\n",
    "        posts['category'].isin(short_term_rent),\n",
    "        posts['category'].isin(construction)]\n",
    "    \n",
    "    choices = ['residential_sell', 'residential_rent', 'commercial_sell', 'commercial_rent', 'short_term_rent', 'construction']\n",
    "    \n",
    "    posts['pre_category'] = np.select(condlist=conditions, choicelist=choices, default='other')\n",
    "    \n",
    "    return posts['pre_category']"
   ]
  },
  {
   "cell_type": "code",
   "execution_count": 9,
   "id": "c76ee108-4db8-444a-b2ad-cc941aa584cb",
   "metadata": {
    "tags": []
   },
   "outputs": [],
   "source": [
    "def extract_from_data_posts(posts_data):\n",
    "    \n",
    "    posts = posts_data.copy()\n",
    "    \n",
    "    posts['data'] = posts['data'].apply(lambda x:json.loads(x))\n",
    "    posts = pd.concat([posts.drop(['data'], axis=1), posts['data'].apply(pd.Series)], axis=1)\n",
    "    #posts = pd.concat([posts.drop(['price'], axis=1), posts['price'].apply(pd.Series)], axis=1)\n",
    "    #posts.drop(0,inplace = True,axis = 1)\n",
    "    #posts.value = posts.value/(10**6)\n",
    "    cat = posts.category.iloc[:,1]\n",
    "    posts.drop('category',inplace = True,axis = 1)\n",
    "    posts['category'] = cat\n",
    "    drop_columns = ['job_title', 'exchange', 'deed_type', 'bizzDeed', 'zoonkan_enabled',\\\n",
    "                    'national_id', 'property_type', 'daily_rent', 'desc']\n",
    "    posts = posts.drop(drop_columns, axis=1, errors='ignore')\n",
    "    \n",
    "    return posts                              "
   ]
  },
  {
   "cell_type": "code",
   "execution_count": 10,
   "id": "9ef98bae-5bf5-4a4a-bf10-556623130b02",
   "metadata": {},
   "outputs": [],
   "source": [
    "def extract_from_contact(data):\n",
    "    \n",
    "    conditions = [\n",
    "        data['contact']=={'chat_enable': 'false', 'chat_enabled': False},\n",
    "        data['contact']=={'hide_phone': False, 'chat_enabled': True},\n",
    "        (data['contact']!={'chat_enabled': False}) & (data['contact']!={'chat_enabled': True})]\n",
    "    \n",
    "    choices = [\n",
    "        {'chat_enabled': False},\n",
    "        {'chat_enabled': True},\n",
    "        {'chat_enabled': False}]\n",
    "    \n",
    "    data['contact'] = np.select(condlist=conditions, choicelist=choices, default= data['contact']) \n",
    "    data = pd.concat([data.drop(['contact'], axis=1), data['contact'].apply(pd.Series)], axis=1)\n",
    "    \n",
    "    return data['chat_enabled'].astype(int)"
   ]
  },
  {
   "cell_type": "code",
   "execution_count": 11,
   "id": "6c158c96-4fbc-4ca2-a5a2-b48bbfc1cfdd",
   "metadata": {},
   "outputs": [],
   "source": [
    "def handle_year (data):\n",
    "    \n",
    "    string_year = 'قبل از ۱۳۷۰'\n",
    "    data['year'] = np.where(data['year']== string_year, 1369, data['year'])\n",
    "    data['year'] = data['year'].apply(lambda x:persian.convert_fa_numbers(x))\n",
    "    data['year'] = np.where(data['year']=='nan', -1, data['year'])\n",
    "    data['year'] = pd.to_numeric(data['year'])\n",
    "    \n",
    "    return data['year']"
   ]
  },
  {
   "cell_type": "code",
   "execution_count": 12,
   "id": "cadc1c93-ef07-4a61-a530-f6895fcfaebd",
   "metadata": {},
   "outputs": [],
   "source": [
    "def find_username_category(group):\n",
    "    \n",
    "    #print(group)\n",
    "    total_posts = group.shape[0]\n",
    "    fake_posts = group[group['result']=='fake-post'].shape[0]\n",
    "    min_posts = 3\n",
    "    min_fake_ratio = 0.5\n",
    "    username_category = \"defult\"\n",
    "    \n",
    "    if (total_posts<min_posts):\n",
    "        username_category = 'without_history'\n",
    "        \n",
    "    elif ((fake_posts/ total_posts) > min_fake_ratio):\n",
    "        username_category = 'BAD'\n",
    "        \n",
    "    else:\n",
    "        username_category = 'Ok'\n",
    "\n",
    "    return username_category       "
   ]
  },
  {
   "cell_type": "code",
   "execution_count": 13,
   "id": "578ce22d-ccd5-4613-823b-4e701979dd86",
   "metadata": {},
   "outputs": [],
   "source": [
    "def username_category (train_data, validation_data, is_train=True):\n",
    "    \n",
    "    if (is_train==True):\n",
    "        data = train_data.copy()\n",
    "        username_df = data.groupby(['username'])\\\n",
    "                            .apply(lambda group:find_username_category(group))\\\n",
    "                            .reset_index()\\\n",
    "                            .rename({0:'username_category'}, axis=1)\n",
    "\n",
    "        data = data.merge(username_df, on='username', how='left')\n",
    "    \n",
    "    else:\n",
    "        data = validation_data.copy()\n",
    "        user_df = train_data[['username_category', 'username']].drop_duplicates(['username'])\n",
    "        data = data.merge(user_df, on='username', how='left')\n",
    "        \n",
    "    return data['username_category'].fillna('without_history')"
   ]
  },
  {
   "cell_type": "code",
   "execution_count": 14,
   "id": "92b83d51-4513-4fb8-a5e1-68d695743d8c",
   "metadata": {},
   "outputs": [],
   "source": [
    "def is_rent(data):\n",
    "    \n",
    "    conditions = [\n",
    "        ((data['pre_category'] == 'residential_sell')|\n",
    "        (data['pre_category'] == 'commercial_sell') |\n",
    "        (data['pre_category'] == 'construction')    |\n",
    "        (data['pre_category'] == 'short_term_rent'))]\n",
    "    \n",
    "    choices = [0]\n",
    "    \n",
    "    data['is_rent'] = np.select(condlist= conditions, choicelist=choices, default=1)\n",
    "    \n",
    "    return data['is_rent']"
   ]
  },
  {
   "cell_type": "code",
   "execution_count": 15,
   "id": "e6953b7c-189d-4148-8737-875d22892f09",
   "metadata": {},
   "outputs": [],
   "source": [
    "def rent_features(data):\n",
    "    \n",
    "    data = data.copy()\n",
    "    data['rent_credit_transform'] = np.where(data['is_rent']==0, 'sell', data['rent_credit_transform'])\n",
    "    data['rent_to_single'] = np.where(data['is_rent']==0, 'sell', data['rent_to_single'])\n",
    "    data['rent_type'] = np.where(data['is_rent']==0, 'sell', data['rent_type'])\n",
    "    data['rent_to_single'] = data['rent_to_single'].fillna('false')\n",
    "    \n",
    "    return data"
   ]
  },
  {
   "cell_type": "code",
   "execution_count": 16,
   "id": "6db69076-035f-4d8f-801e-f54783b167b0",
   "metadata": {},
   "outputs": [],
   "source": [
    "def handle_image_featuters(data):\n",
    "    \n",
    "    data = data.copy()\n",
    "    blurriness_median = data['blurrness'].median()\n",
    "    width_median = data['width'].median()\n",
    "    \n",
    "    b_conditions = [\n",
    "        (data['blurrness'].isnull()),\n",
    "        (data['blurrness']<=blurriness_median),\n",
    "        (data['blurrness']>blurriness_median)]\n",
    "    \n",
    "    b_choices = [\n",
    "        'no_images',\n",
    "        'low_blurrness',\n",
    "        'high_blurness']\n",
    "    \n",
    "    w_conditions = [\n",
    "        (data['width'].isnull()),\n",
    "        (data['width']<=width_median),\n",
    "        (data['width']>width_median)]\n",
    "    \n",
    "    w_choices = [\n",
    "        'no_images',\n",
    "        'low_width',\n",
    "        'high_width']\n",
    "    \n",
    "    data['blurriness_cat'] = np.select(condlist=b_conditions, choicelist=b_choices)\n",
    "    data['width_cat'] = np.select(condlist=w_conditions, choicelist=w_choices)\n",
    " \n",
    "    \n",
    "    \n",
    "    return data['blurriness_cat'], data['width_cat']"
   ]
  },
  {
   "cell_type": "code",
   "execution_count": 17,
   "id": "d095f8c0-1d3a-40a2-a9fb-2160a1c8bb43",
   "metadata": {
    "tags": []
   },
   "outputs": [],
   "source": [
    "def handle_actions_features(data):\n",
    "    \n",
    "    data = data.copy()\n",
    "    \n",
    "    contact_median = data['contacts'].median()\n",
    "    by_overuser_q3 = data['by_overusers'].quantile(0.75)\n",
    "    bookmarks_median = data['bookmarks'].median()\n",
    "    \n",
    "    data['contacts_boolean'] = np.where(data['contacts']< contact_median, 0, 1) \n",
    "    data['by_overuser_boolean'] = np.where(data['by_overusers']> by_overuser_q3, 0, 1)\n",
    "    data['bookmark_boolean'] = np.where(data['bookmarks']< bookmarks_median, 0, 1)\n",
    "\n",
    "    return data['contacts_boolean'], data['by_overuser_boolean'], data['bookmark_boolean']"
   ]
  },
  {
   "cell_type": "code",
   "execution_count": 18,
   "id": "11dde2da-1562-4c3c-83cf-16cbb7a9a289",
   "metadata": {},
   "outputs": [],
   "source": [
    "def find_price(row):\n",
    "    \n",
    "    if (row['is_rent']):\n",
    "        row['new_credit'] = row['new_credit'] +  (row['new_rent']/3000000) * 100000000\n",
    "        price = row['new_credit']* 6\n",
    "    else:\n",
    "        price = row['new_price']\n",
    "    \n",
    "    return np.log(price)"
   ]
  },
  {
   "cell_type": "code",
   "execution_count": 19,
   "id": "25cec770-a7fe-4104-8bd5-ebbc0413433e",
   "metadata": {},
   "outputs": [],
   "source": [
    "def count_real_words(text):\n",
    "    normalizer = hazm.Normalizer()\n",
    "    normalizer.normalize(text)\n",
    "    words = hazm.word_tokenize(text)\n",
    "    real_words = []\n",
    "    \n",
    "    for word in words:\n",
    "        if (len(str(word)))>2:\n",
    "            real_words.append(word)\n",
    "            \n",
    "    return len(real_words)"
   ]
  },
  {
   "cell_type": "code",
   "execution_count": 20,
   "id": "414ef69d-a2e5-4732-8aa2-cf6cac263615",
   "metadata": {},
   "outputs": [],
   "source": [
    "def handle_rooms(data):\n",
    "    \n",
    "    string0 = 'بدون اتاق'\n",
    "    string1 = 'یک'\n",
    "    string2 = 'دو'\n",
    "    string3 = 'سه'\n",
    "    string4 = 'چهار'\n",
    "    string5 = 'پنج یا بیشتر'\n",
    "    \n",
    "    rooms_map = {\n",
    "        string0 : 0,\n",
    "        string1 : 1,\n",
    "        string2 : 2,\n",
    "        string3 : 3,\n",
    "        string4 : 4,\n",
    "        string5 : 5 }\n",
    "    \n",
    "    return data['rooms'].map(rooms_map).fillna(2)"
   ]
  },
  {
   "cell_type": "code",
   "execution_count": 21,
   "id": "37a442d5-5195-4d9d-9db8-04989af565b0",
   "metadata": {},
   "outputs": [],
   "source": [
    "def extract_features(train_data, validation_data, is_train):\n",
    "    \n",
    "    if (is_train):\n",
    "        data = train_data.copy()\n",
    "    else:\n",
    "        data = validation_data.copy()\n",
    "    \n",
    "    \n",
    "    data = extract_from_data_posts(data)\n",
    "\n",
    "    data['text'] = data['title'] + data['description']\n",
    "    data['words_count'] = data['text'].apply(lambda s: count_real_words(s))\n",
    "    data['rooms'] = handle_rooms(data)\n",
    "  \n",
    "    data['username_category'] = username_category(train_data, validation_data, is_train)\n",
    "    \n",
    "    data['contacts_boolean'], data['by_overuser_boolean'], data['bookmark_boolean'] = handle_actions_features(data)\n",
    "    data['blurriness_cat'], data['width_cat'] = handle_image_featuters(data)\n",
    "    data['chat_enabled'] = extract_from_contact(data)\n",
    "    data['year'] = handle_year(data)\n",
    "\n",
    "    data['full_options'] = np.where(((data['parking']=='true')\\\n",
    "                                     & (data['elevator']=='true')\\\n",
    "                                     & (data['warehouse']=='true')), 1, 0) \n",
    "\n",
    "    data['is_new'] = np.where(data['year']>1390, 1, 0)\n",
    "    data['pre_category'] = find_pre_category(data)    \n",
    "    data['is_rent'] = is_rent(data)\n",
    "    data = rent_features(data)\n",
    "    \n",
    "    data['published_year'] = data['first_published_at'].dt.year\n",
    "    data['published_dayofweek'] = data['first_published_at'].dt.dayofweek\n",
    "    data['published_hour'] = data['first_published_at'].dt.hour\n",
    "    data['published_year'] = np.where(data['published_year']<2021, 2021, data['published_year'])\n",
    "    data['published_year'] = np.where(data['published_year']==2021, 0, 1)\n",
    "    data['published_month'] = data['first_published_at'].dt.month\n",
    "    data['published_season'] = np.where(data['published_month']<4, 1, 0)\n",
    "    \n",
    "    data['image_count'] = data['image_count'].astype(int)\n",
    "    data['is_agent'] = np.where(data['username'].isnull(), 1, 0)\n",
    "    data['is_tehran'] = np.where(data['city']=='tehran', 1, 0) \n",
    "    data['is_niavaran'] = np.where(data['district']=='niavaran', 1, 0)\n",
    "    user_type_string = 'شخصی'\n",
    "    data['user_type'] = np.where(data['user_type']==user_type_string, 0, 1) #is_agent\n",
    "    \n",
    "    \n",
    "    data['total_price'] = data.apply(lambda row:  find_price(row), axis=1)\n",
    "    data['total_price'] = data['total_price'].fillna(data['total_price'].median())\n",
    "\n",
    "    \n",
    "    return data"
   ]
  },
  {
   "cell_type": "code",
   "execution_count": 22,
   "id": "dda9bb45-5e0f-4d68-a48f-1b5f2d077c66",
   "metadata": {},
   "outputs": [],
   "source": [
    "def handle_missing_values(data):\n",
    "    \n",
    "    missing_values = {\n",
    "        'dullness' : -1,\n",
    "        'whiteness' : -1,\n",
    "        'image_size': -1,\n",
    "        'width': -1,\n",
    "        'height': -1,\n",
    "        'blurrness': -1,\n",
    "        'size': data['size'].median(),\n",
    "        'rent_type': 'rent_credit'}\n",
    "    \n",
    "    return data.fillna(missing_values)"
   ]
  },
  {
   "cell_type": "code",
   "execution_count": 23,
   "id": "687d7065-cb4e-4372-bc60-ce582cd3294c",
   "metadata": {},
   "outputs": [],
   "source": [
    "def get_full_data(train_data, test_data, is_train):\n",
    "    \n",
    "    if (is_train):\n",
    "        data = train_data.copy()\n",
    "        \n",
    "    else:\n",
    "        data = test_data.copy()\n",
    "    \n",
    "    data = data.merge(posts, on='token', how='left')\n",
    "    data = data.merge(image_features, on= 'token', how='left')\n",
    "    data = data.merge(tokens_action, on='token', how='left')\n",
    "    \n",
    "    if(is_train):\n",
    "        data = data.dropna(subset=['first_published_at']).reset_index(drop=True)\n",
    "        data = extract_features(data, test_data, is_train)\n",
    "    else:\n",
    "        data = extract_features(train_data, data, is_train)\n",
    "    \n",
    "    data = handle_missing_values(data)\n",
    "    \n",
    "    return data"
   ]
  },
  {
   "cell_type": "code",
   "execution_count": 24,
   "id": "272b071e-654e-4284-8bb6-81c3d81d8fec",
   "metadata": {},
   "outputs": [],
   "source": [
    "train_full_data = get_full_data(train_labels, validation, True)\n",
    "validation_full_data = get_full_data(train_full_data, validation, False)"
   ]
  },
  {
   "cell_type": "code",
   "execution_count": 25,
   "id": "f17d754e-0e25-46e3-9504-2e198c80076a",
   "metadata": {},
   "outputs": [],
   "source": [
    "def drop_useless_columns(data, is_train):\n",
    "    \n",
    "    drop_list = ['token', 'first_published_at', 'device_id', 'user_hash',\n",
    "                 'retiredAtUtc', 'district', 'city', 'username', 'call_date', 'category',\n",
    "                 'image_num',\n",
    "                 'contact',\n",
    "                 'parking', 'elevator', 'warehouse',\n",
    "                 'title', 'description', 'text',\n",
    "                 'floor',\n",
    "                 'rent', 'price', 'credit', 'new_rent', 'new_credit', 'new_price',\n",
    "                 'other_options_and_attributes', 'balcony']\n",
    "    \n",
    "    if (is_train):\n",
    "        drop_list.append('tag')\n",
    "        \n",
    "    return data.drop(drop_list, axis=1)"
   ]
  },
  {
   "cell_type": "code",
   "execution_count": 26,
   "id": "d883a7b2-46d7-4cd6-9eb8-55ab0110e573",
   "metadata": {},
   "outputs": [],
   "source": [
    "train_full_data = drop_useless_columns(train_full_data, True)\n",
    "validation_full_data = drop_useless_columns(validation_full_data, False)"
   ]
  },
  {
   "cell_type": "code",
   "execution_count": 27,
   "id": "dc69dfc6-8997-4aed-b4c7-9a195ce23463",
   "metadata": {},
   "outputs": [
    {
     "name": "stdout",
     "output_type": "stream",
     "text": [
      "<class 'pandas.core.frame.DataFrame'>\n",
      "RangeIndex: 5999 entries, 0 to 5998\n",
      "Data columns (total 41 columns):\n",
      " #   Column                 Non-Null Count  Dtype  \n",
      "---  ------                 --------------  -----  \n",
      " 0   result                 5999 non-null   object \n",
      " 1   image_count            5999 non-null   int64  \n",
      " 2   dullness               5999 non-null   float64\n",
      " 3   whiteness              5999 non-null   float64\n",
      " 4   image_size             5999 non-null   float64\n",
      " 5   width                  5999 non-null   float64\n",
      " 6   height                 5999 non-null   float64\n",
      " 7   blurrness              5999 non-null   float64\n",
      " 8   total_actions          5999 non-null   float64\n",
      " 9   clicks                 5999 non-null   float64\n",
      " 10  contacts               5999 non-null   float64\n",
      " 11  bookmarks              5999 non-null   float64\n",
      " 12  by_overusers           5999 non-null   float64\n",
      " 13  size                   5999 non-null   float64\n",
      " 14  year                   5999 non-null   int64  \n",
      " 15  rooms                  5999 non-null   float64\n",
      " 16  rent_type              5999 non-null   object \n",
      " 17  user_type              5999 non-null   int64  \n",
      " 18  rent_to_single         5999 non-null   object \n",
      " 19  rent_credit_transform  5999 non-null   object \n",
      " 20  words_count            5999 non-null   int64  \n",
      " 21  username_category      5999 non-null   object \n",
      " 22  contacts_boolean       5999 non-null   int64  \n",
      " 23  by_overuser_boolean    5999 non-null   int64  \n",
      " 24  bookmark_boolean       5999 non-null   int64  \n",
      " 25  blurriness_cat         5999 non-null   object \n",
      " 26  width_cat              5999 non-null   object \n",
      " 27  chat_enabled           5999 non-null   int64  \n",
      " 28  full_options           5999 non-null   int64  \n",
      " 29  is_new                 5999 non-null   int64  \n",
      " 30  pre_category           5999 non-null   object \n",
      " 31  is_rent                5999 non-null   int64  \n",
      " 32  published_year         5999 non-null   int64  \n",
      " 33  published_dayofweek    5999 non-null   int64  \n",
      " 34  published_hour         5999 non-null   int64  \n",
      " 35  published_month        5999 non-null   int64  \n",
      " 36  published_season       5999 non-null   int64  \n",
      " 37  is_agent               5999 non-null   int64  \n",
      " 38  is_tehran              5999 non-null   int64  \n",
      " 39  is_niavaran            5999 non-null   int64  \n",
      " 40  total_price            5999 non-null   float64\n",
      "dtypes: float64(14), int64(19), object(8)\n",
      "memory usage: 1.9+ MB\n"
     ]
    }
   ],
   "source": [
    "train_full_data.info()"
   ]
  },
  {
   "cell_type": "code",
   "execution_count": 28,
   "id": "af2c951e-1f6a-4200-b67c-8e27545d6abb",
   "metadata": {},
   "outputs": [
    {
     "name": "stdout",
     "output_type": "stream",
     "text": [
      "<class 'pandas.core.frame.DataFrame'>\n",
      "Int64Index: 2172 entries, 0 to 2171\n",
      "Data columns (total 40 columns):\n",
      " #   Column                 Non-Null Count  Dtype  \n",
      "---  ------                 --------------  -----  \n",
      " 0   image_count            2172 non-null   int64  \n",
      " 1   dullness               2172 non-null   float64\n",
      " 2   whiteness              2172 non-null   float64\n",
      " 3   image_size             2172 non-null   float64\n",
      " 4   width                  2172 non-null   float64\n",
      " 5   height                 2172 non-null   float64\n",
      " 6   blurrness              2172 non-null   float64\n",
      " 7   total_actions          2172 non-null   float64\n",
      " 8   clicks                 2172 non-null   float64\n",
      " 9   contacts               2172 non-null   float64\n",
      " 10  bookmarks              2172 non-null   float64\n",
      " 11  by_overusers           2172 non-null   float64\n",
      " 12  size                   2172 non-null   float64\n",
      " 13  year                   2172 non-null   int64  \n",
      " 14  rooms                  2172 non-null   float64\n",
      " 15  user_type              2172 non-null   int64  \n",
      " 16  rent_type              2172 non-null   object \n",
      " 17  rent_to_single         2172 non-null   object \n",
      " 18  rent_credit_transform  2172 non-null   object \n",
      " 19  words_count            2172 non-null   int64  \n",
      " 20  username_category      2172 non-null   object \n",
      " 21  contacts_boolean       2172 non-null   int64  \n",
      " 22  by_overuser_boolean    2172 non-null   int64  \n",
      " 23  bookmark_boolean       2172 non-null   int64  \n",
      " 24  blurriness_cat         2172 non-null   object \n",
      " 25  width_cat              2172 non-null   object \n",
      " 26  chat_enabled           2172 non-null   int64  \n",
      " 27  full_options           2172 non-null   int64  \n",
      " 28  is_new                 2172 non-null   int64  \n",
      " 29  pre_category           2172 non-null   object \n",
      " 30  is_rent                2172 non-null   int64  \n",
      " 31  published_year         2172 non-null   int64  \n",
      " 32  published_dayofweek    2172 non-null   int64  \n",
      " 33  published_hour         2172 non-null   int64  \n",
      " 34  published_month        2172 non-null   int64  \n",
      " 35  published_season       2172 non-null   int64  \n",
      " 36  is_agent               2172 non-null   int64  \n",
      " 37  is_tehran              2172 non-null   int64  \n",
      " 38  is_niavaran            2172 non-null   int64  \n",
      " 39  total_price            2172 non-null   float64\n",
      "dtypes: float64(14), int64(19), object(7)\n",
      "memory usage: 695.7+ KB\n"
     ]
    }
   ],
   "source": [
    "validation_full_data.info()"
   ]
  },
  {
   "cell_type": "code",
   "execution_count": 29,
   "id": "96a65b6f-17df-4716-8cd1-c1427e8329af",
   "metadata": {},
   "outputs": [],
   "source": [
    "X_train_full = train_full_data.drop('result', axis=1)\n",
    "y_train_full = train_full_data['result'].map({'ok': 0, 'fake-post': 1})"
   ]
  },
  {
   "cell_type": "markdown",
   "id": "b009223d-ebf0-4ee3-87bd-435a2bd9a7cb",
   "metadata": {},
   "source": [
    "# Encode Categoricals and Normalize Numerics"
   ]
  },
  {
   "cell_type": "code",
   "execution_count": 30,
   "id": "127bb1cd-ed72-46cd-8c3f-d7a2644aeea8",
   "metadata": {},
   "outputs": [],
   "source": [
    "from sklearn.preprocessing import OneHotEncoder\n",
    "from sklearn.preprocessing import StandardScaler\n",
    "from sklearn.preprocessing import Normalizer"
   ]
  },
  {
   "cell_type": "code",
   "execution_count": 31,
   "id": "75d168b2-91f8-4f42-92e8-301579b6cc9f",
   "metadata": {},
   "outputs": [],
   "source": [
    "def encode_categorical_features(data):\n",
    "    \n",
    "    df=data.copy()\n",
    "    data_cat = data.select_dtypes(include=[object])\n",
    "    cat_columns = list(data_cat.columns)\n",
    "    onehotencoder = OneHotEncoder()\n",
    "    #print(cat_columns)\n",
    "    for column in cat_columns:\n",
    "        X = onehotencoder.fit_transform(data[column].values.reshape(-1,1)).toarray()\n",
    "        dfOneHot = pd.DataFrame(X, columns = [str(column)+str(int(i)) for i in range(data[column].nunique())])\n",
    "        #print(dfOneHot)\n",
    "        df = pd.concat([df, dfOneHot], axis=1)\n",
    "        df = df.drop([column], axis=1) \n",
    "        #print(df.shape)\n",
    "            \n",
    "    return df"
   ]
  },
  {
   "cell_type": "code",
   "execution_count": 32,
   "id": "51e8a03c-7a6b-45f4-9e06-e7a18870b895",
   "metadata": {},
   "outputs": [],
   "source": [
    "def scale_data (data):\n",
    "    \n",
    "    df = data.copy()\n",
    "    scaler = StandardScaler()\n",
    "    scaled_data = scaler.fit_transform(data)\n",
    "    df = pd.DataFrame(scaled_data, columns=df.columns)\n",
    "    \n",
    "    return df"
   ]
  },
  {
   "cell_type": "code",
   "execution_count": 33,
   "id": "f163f405-45da-4d26-90b2-b9b83e48536a",
   "metadata": {},
   "outputs": [],
   "source": [
    "X_train_full = encode_categorical_features(X_train_full)\n",
    "validation_full = encode_categorical_features(validation_full_data)\n",
    "X_train_full = scale_data(X_train_full)\n",
    "validation_full = scale_data(validation_full)"
   ]
  },
  {
   "cell_type": "code",
   "execution_count": 34,
   "id": "972827ab-cd5c-47b3-816e-bb2fc14a26a7",
   "metadata": {},
   "outputs": [
    {
     "data": {
      "text/plain": [
       "(5999, 57)"
      ]
     },
     "execution_count": 34,
     "metadata": {},
     "output_type": "execute_result"
    }
   ],
   "source": [
    "X_train_full.shape"
   ]
  },
  {
   "cell_type": "code",
   "execution_count": 35,
   "id": "0ffc5a47-1231-499c-beb4-723a9d61b82c",
   "metadata": {},
   "outputs": [
    {
     "data": {
      "text/plain": [
       "(2172, 57)"
      ]
     },
     "execution_count": 35,
     "metadata": {},
     "output_type": "execute_result"
    }
   ],
   "source": [
    "validation_full.shape"
   ]
  },
  {
   "cell_type": "markdown",
   "id": "9088327a-dbc0-47ec-9554-3811a2413f6e",
   "metadata": {},
   "source": [
    "# Feature Selection"
   ]
  },
  {
   "cell_type": "code",
   "execution_count": 36,
   "id": "b5c3f157-cc08-4dee-9e49-1adc970cac77",
   "metadata": {},
   "outputs": [],
   "source": [
    "from sklearn.feature_selection import mutual_info_classif\n",
    "from sklearn.feature_selection import SelectKBest\n",
    "from sklearn.feature_selection import chi2"
   ]
  },
  {
   "cell_type": "code",
   "execution_count": 37,
   "id": "21d0b836-25a2-4b3e-89b0-8afdb3af1c69",
   "metadata": {},
   "outputs": [],
   "source": [
    "categoricals= ['username_category', 'pre_category',\n",
    "               'width_cat', 'blurriness_cat',\n",
    "               'rent_credit_transform', 'rent_to_single', 'rent_type']"
   ]
  },
  {
   "cell_type": "markdown",
   "id": "430dac57-3b02-4b09-9514-31c6d6c4f443",
   "metadata": {},
   "source": [
    "## Information Gain"
   ]
  },
  {
   "cell_type": "code",
   "execution_count": 38,
   "id": "cd9b5949-fa02-484e-a806-7cc271e89d6b",
   "metadata": {},
   "outputs": [
    {
     "data": {
      "image/png": "[encoded data removed]",
      "text/plain": [
       "<Figure size 432x288 with 1 Axes>"
      ]
     },
     "metadata": {
      "needs_background": "light"
     },
     "output_type": "display_data"
    }
   ],
   "source": [
    "importances = mutual_info_classif(X_train_full, y_train_full)\n",
    "featur_importance = pd.DataFrame(importances, X_train_full.columns)\n",
    "featur_importance.plot(kind='barh', color='teal')\n",
    "plt.rcParams[\"figure.figsize\"] = (20,15)\n",
    "plt.show()"
   ]
  },
  {
   "cell_type": "markdown",
   "id": "5a83b922-c388-4167-b2d4-92891a907192",
   "metadata": {},
   "source": [
    "## Random Forest"
   ]
  },
  {
   "cell_type": "code",
   "execution_count": 39,
   "id": "0ce1c04d-bd4c-467c-bbd2-bc4511f8da3f",
   "metadata": {},
   "outputs": [
    {
     "data": {
      "image/png": "[encoded data removed]",
      "text/plain": [
       "<Figure size 1440x1080 with 1 Axes>"
      ]
     },
     "metadata": {
      "needs_background": "light"
     },
     "output_type": "display_data"
    }
   ],
   "source": [
    "from sklearn.ensemble import RandomForestClassifier\n",
    "\n",
    "random_forest = RandomForestClassifier().fit(X_train_full, y_train_full)\n",
    "importances = random_forest.feature_importances_\n",
    "featur_importance = pd.DataFrame(importances, X_train_full.columns)\n",
    "featur_importance.plot(kind='barh', color='teal')\n",
    "plt.rcParams[\"figure.figsize\"] = (10, 50)\n",
    "plt.show()"
   ]
  },
  {
   "cell_type": "markdown",
   "id": "f3f919ef-dbc3-4a5e-96a5-b1f6dae4a933",
   "metadata": {},
   "source": [
    "## Correlation Coefficient"
   ]
  },
  {
   "cell_type": "code",
   "execution_count": 40,
   "id": "964e4649-a841-4d39-b311-dc4a947e253b",
   "metadata": {},
   "outputs": [
    {
     "data": {
      "text/plain": [
       "<AxesSubplot:>"
      ]
     },
     "execution_count": 40,
     "metadata": {},
     "output_type": "execute_result"
    },
    {
     "data": {
      "image/png": "[encoded data removed]",
      "text/plain": [
       "<Figure size 720x720 with 2 Axes>"
      ]
     },
     "metadata": {
      "needs_background": "light"
     },
     "output_type": "display_data"
    }
   ],
   "source": [
    "cor = train_full_data.corr()\n",
    "plt.figure(figsize=(10, 10))\n",
    "sns.heatmap(cor)"
   ]
  },
  {
   "cell_type": "code",
   "execution_count": 41,
   "id": "06b96023-5f00-4d88-9174-fc44f2b91644",
   "metadata": {
    "tags": []
   },
   "outputs": [
    {
     "name": "stdout",
     "output_type": "stream",
     "text": [
      "<class 'pandas.core.frame.DataFrame'>\n",
      "RangeIndex: 5999 entries, 0 to 5998\n",
      "Data columns (total 57 columns):\n",
      " #   Column                  Non-Null Count  Dtype  \n",
      "---  ------                  --------------  -----  \n",
      " 0   image_count             5999 non-null   float64\n",
      " 1   dullness                5999 non-null   float64\n",
      " 2   whiteness               5999 non-null   float64\n",
      " 3   image_size              5999 non-null   float64\n",
      " 4   width                   5999 non-null   float64\n",
      " 5   height                  5999 non-null   float64\n",
      " 6   blurrness               5999 non-null   float64\n",
      " 7   total_actions           5999 non-null   float64\n",
      " 8   clicks                  5999 non-null   float64\n",
      " 9   contacts                5999 non-null   float64\n",
      " 10  bookmarks               5999 non-null   float64\n",
      " 11  by_overusers            5999 non-null   float64\n",
      " 12  size                    5999 non-null   float64\n",
      " 13  year                    5999 non-null   float64\n",
      " 14  rooms                   5999 non-null   float64\n",
      " 15  user_type               5999 non-null   float64\n",
      " 16  words_count             5999 non-null   float64\n",
      " 17  contacts_boolean        5999 non-null   float64\n",
      " 18  by_overuser_boolean     5999 non-null   float64\n",
      " 19  bookmark_boolean        5999 non-null   float64\n",
      " 20  chat_enabled            5999 non-null   float64\n",
      " 21  full_options            5999 non-null   float64\n",
      " 22  is_new                  5999 non-null   float64\n",
      " 23  is_rent                 5999 non-null   float64\n",
      " 24  published_year          5999 non-null   float64\n",
      " 25  published_dayofweek     5999 non-null   float64\n",
      " 26  published_hour          5999 non-null   float64\n",
      " 27  published_month         5999 non-null   float64\n",
      " 28  published_season        5999 non-null   float64\n",
      " 29  is_agent                5999 non-null   float64\n",
      " 30  is_tehran               5999 non-null   float64\n",
      " 31  is_niavaran             5999 non-null   float64\n",
      " 32  total_price             5999 non-null   float64\n",
      " 33  rent_type0              5999 non-null   float64\n",
      " 34  rent_type1              5999 non-null   float64\n",
      " 35  rent_type2              5999 non-null   float64\n",
      " 36  rent_to_single0         5999 non-null   float64\n",
      " 37  rent_to_single1         5999 non-null   float64\n",
      " 38  rent_to_single2         5999 non-null   float64\n",
      " 39  rent_credit_transform0  5999 non-null   float64\n",
      " 40  rent_credit_transform1  5999 non-null   float64\n",
      " 41  rent_credit_transform2  5999 non-null   float64\n",
      " 42  username_category0      5999 non-null   float64\n",
      " 43  username_category1      5999 non-null   float64\n",
      " 44  username_category2      5999 non-null   float64\n",
      " 45  blurriness_cat0         5999 non-null   float64\n",
      " 46  blurriness_cat1         5999 non-null   float64\n",
      " 47  blurriness_cat2         5999 non-null   float64\n",
      " 48  width_cat0              5999 non-null   float64\n",
      " 49  width_cat1              5999 non-null   float64\n",
      " 50  width_cat2              5999 non-null   float64\n",
      " 51  pre_category0           5999 non-null   float64\n",
      " 52  pre_category1           5999 non-null   float64\n",
      " 53  pre_category2           5999 non-null   float64\n",
      " 54  pre_category3           5999 non-null   float64\n",
      " 55  pre_category4           5999 non-null   float64\n",
      " 56  pre_category5           5999 non-null   float64\n",
      "dtypes: float64(57)\n",
      "memory usage: 2.6 MB\n"
     ]
    }
   ],
   "source": [
    "X_train_full.info()"
   ]
  },
  {
   "cell_type": "code",
   "execution_count": 42,
   "id": "9f0da21f-53d5-4568-adb9-b8a0fd701bb7",
   "metadata": {},
   "outputs": [],
   "source": [
    "drop_list = ['dullness', 'whiteness', 'image_size', 'total_actions', 'clicks', 'contacts',\n",
    "             'by_overusers', 'contacts_boolean', 'is_new', 'published_hour', 'pre_category2','pre_category1', 'pre_category0',\n",
    "             'width_cat2', 'blurriness_cat2', 'username_category1', 'rent_credit_transform0', 'user_type', 'contacts_boolean',\n",
    "             'by_overuser_boolean', 'bookmark_boolean', 'chat_enabled',\n",
    "             'rent_to_single0', 'rent_type0', 'published_hour', 'published_year', 'published_month', 'chat_enabled']"
   ]
  },
  {
   "cell_type": "code",
   "execution_count": 43,
   "id": "8961116f-f4e5-4e41-8f42-c011861d4b43",
   "metadata": {},
   "outputs": [],
   "source": [
    "X_train_data = X_train_full.drop(drop_list, axis=1)\n",
    "validation_data = validation_full.drop(drop_list, axis=1)"
   ]
  },
  {
   "cell_type": "markdown",
   "id": "adb828d1-0957-437f-b7fd-1949f6f15001",
   "metadata": {},
   "source": [
    "# Split Train and Test"
   ]
  },
  {
   "cell_type": "code",
   "execution_count": 44,
   "id": "df0b076b-257c-4c8d-a693-e2c75f794536",
   "metadata": {},
   "outputs": [],
   "source": [
    "from sklearn.model_selection import train_test_split"
   ]
  },
  {
   "cell_type": "code",
   "execution_count": 45,
   "id": "b08fb1d2-e60a-4173-90ae-76b3a8883899",
   "metadata": {},
   "outputs": [],
   "source": [
    "X_train, X_test, y_train, y_test = train_test_split(X_train_data, y_train_full,\n",
    "                                                    stratify=y_train_full, \n",
    "                                                    test_size=0.2)"
   ]
  },
  {
   "cell_type": "code",
   "execution_count": 46,
   "id": "09ee189d-4c94-41cf-b27a-7d703a038e53",
   "metadata": {},
   "outputs": [],
   "source": [
    "test_df = X_test.join(train_labels)\n",
    "train_df = X_train.join(train_labels)"
   ]
  },
  {
   "cell_type": "code",
   "execution_count": 47,
   "id": "c45a6d78-224c-4817-9b00-3711e3123107",
   "metadata": {},
   "outputs": [
    {
     "data": {
      "text/plain": [
       "(4799, 32)"
      ]
     },
     "execution_count": 47,
     "metadata": {},
     "output_type": "execute_result"
    }
   ],
   "source": [
    "X_train.shape"
   ]
  },
  {
   "cell_type": "code",
   "execution_count": 48,
   "id": "0be99789-88c5-4956-b48b-45f10575c210",
   "metadata": {},
   "outputs": [
    {
     "data": {
      "text/plain": [
       "(1200, 32)"
      ]
     },
     "execution_count": 48,
     "metadata": {},
     "output_type": "execute_result"
    }
   ],
   "source": [
    "X_test.shape"
   ]
  },
  {
   "cell_type": "code",
   "execution_count": 49,
   "id": "ec1570b0-ba0c-40d2-a5f6-fa61d79a0f9d",
   "metadata": {},
   "outputs": [],
   "source": [
    "def get_roc_score(model, X_train, y_train, X_test, y_test):\n",
    "    model.fit(X_train,y_train)\n",
    "    y_predict_prob = model.predict_proba(X_test)\n",
    "    y_predict_fake_prob = [prob[1] for prob in y_predict_prob]\n",
    "    return roc_auc_score(y_test, y_predict_fake_prob)"
   ]
  },
  {
   "cell_type": "code",
   "execution_count": 50,
   "id": "f3952827-348e-4c30-886e-a5d9e26400ba",
   "metadata": {},
   "outputs": [
    {
     "data": {
      "text/plain": [
       "0.7726240669346238"
      ]
     },
     "execution_count": 50,
     "metadata": {},
     "output_type": "execute_result"
    }
   ],
   "source": [
    "random_forest = RandomForestClassifier()\n",
    "get_roc_score(random_forest, X_train, y_train, X_test, y_test)"
   ]
  },
  {
   "cell_type": "markdown",
   "id": "be15accf-f191-4db5-9544-f1f93c8c8ab6",
   "metadata": {},
   "source": [
    "# Model Selection"
   ]
  },
  {
   "cell_type": "code",
   "execution_count": 52,
   "id": "1a351edc-7dd2-45d6-bd69-6ee2d7060982",
   "metadata": {},
   "outputs": [],
   "source": [
    "scoring = ['accuracy', 'precision', 'recall' , 'f1_weighted', 'roc_auc']"
   ]
  },
  {
   "cell_type": "markdown",
   "id": "a95ced9a-b058-41b9-9c04-b41074a485f9",
   "metadata": {},
   "source": [
    "### Decision Tree"
   ]
  },
  {
   "cell_type": "code",
   "execution_count": 53,
   "id": "53d90b14-8968-4c30-8ff4-be2a6d7388e6",
   "metadata": {},
   "outputs": [],
   "source": [
    "decision_tree = DecisionTreeClassifier()\n",
    "\n",
    "scores = cross_validate(decision_tree, X_train, np.ravel(y_train), scoring=scoring, cv=5)\n",
    "\n",
    "sorted(scores.keys())\n",
    "dtree_fit_time = scores['fit_time'].mean()\n",
    "dtree_score_time = scores['score_time'].mean()\n",
    "dtree_accuracy = scores['test_accuracy'].mean()\n",
    "dtree_precision = scores['test_precision'].mean()\n",
    "dtree_recall = scores['test_recall'].mean()\n",
    "dtree_f1 = scores['test_f1_weighted'].mean()\n",
    "dtree_roc = scores['test_roc_auc'].mean()\n",
    "dtree_test_score =  get_roc_score(decision_tree, X_train, y_train, X_test, y_test)"
   ]
  },
  {
   "cell_type": "markdown",
   "id": "2c7b3724-3423-4075-b150-26881bd28b03",
   "metadata": {},
   "source": [
    "### Logistic Regression"
   ]
  },
  {
   "cell_type": "code",
   "execution_count": 54,
   "id": "86c66f77-600a-4756-b673-d617f449cc3d",
   "metadata": {},
   "outputs": [],
   "source": [
    "from sklearn.linear_model import LogisticRegression\n",
    "\n",
    "LR = LogisticRegression(random_state=0)\n",
    "scores = cross_validate(LR, X_train, np.ravel(y_train), scoring=scoring, cv=5)\n",
    "\n",
    "\n",
    "sorted(scores.keys())\n",
    "LR_fit_time = scores['fit_time'].mean()\n",
    "LR_score_time = scores['score_time'].mean()\n",
    "LR_accuracy = scores['test_accuracy'].mean()\n",
    "LR_precision = scores['test_precision'].mean()\n",
    "LR_recall = scores['test_recall'].mean()\n",
    "LR_f1 = scores['test_f1_weighted'].mean()\n",
    "LR_roc = scores['test_roc_auc'].mean()\n",
    "LR_test_score =  get_roc_score(LR, X_train, y_train, X_test, y_test)"
   ]
  },
  {
   "cell_type": "markdown",
   "id": "97ba2385-325b-4069-bf83-ab495627e927",
   "metadata": {},
   "source": [
    "### Random Forest Classifier"
   ]
  },
  {
   "cell_type": "code",
   "execution_count": 55,
   "id": "2bb4cb7c-9073-46f5-a2b9-5fa6b6fb1b80",
   "metadata": {},
   "outputs": [],
   "source": [
    "from sklearn.ensemble import RandomForestClassifier\n",
    "\n",
    "random_forest = RandomForestClassifier()\n",
    "scores = cross_validate(random_forest, X_train, np.ravel(y_train), scoring=scoring, cv=5)\n",
    "\n",
    "sorted(scores.keys())\n",
    "forest_fit_time = scores['fit_time'].mean()\n",
    "forest_score_time = scores['score_time'].mean()\n",
    "forest_accuracy = scores['test_accuracy'].mean()\n",
    "forest_precision = scores['test_precision'].mean()\n",
    "forest_recall = scores['test_recall'].mean()\n",
    "forest_f1 = scores['test_f1_weighted'].mean()\n",
    "forest_roc = scores['test_roc_auc'].mean()\n",
    "forest_test_score =  get_roc_score(random_forest, X_train, y_train, X_test, y_test)"
   ]
  },
  {
   "cell_type": "markdown",
   "id": "8b321e52-272e-41fb-b763-3ca6aac3cd21",
   "metadata": {},
   "source": [
    "### Support Vector Machine"
   ]
  },
  {
   "cell_type": "code",
   "execution_count": 56,
   "id": "c97600c4-ea2d-4ffa-9532-c248b446ef08",
   "metadata": {
    "tags": []
   },
   "outputs": [],
   "source": [
    "from sklearn.svm import SVC\n",
    "\n",
    "SVM = SVC(probability=True)\n",
    "scores = cross_validate(SVM, X_train, np.ravel(y_train), scoring=scoring, cv=5)\n",
    "\n",
    "sorted(scores.keys())\n",
    "SVM_fit_time = scores['fit_time'].mean()\n",
    "SVM_score_time = scores['score_time'].mean()\n",
    "SVM_accuracy = scores['test_accuracy'].mean()\n",
    "SVM_precision = scores['test_precision'].mean()\n",
    "SVM_recall = scores['test_recall'].mean()\n",
    "SVM_f1 = scores['test_f1_weighted'].mean()\n",
    "SVM_roc = scores['test_roc_auc'].mean()\n",
    "SVM_test_score =  get_roc_score(SVM, X_train, y_train, X_test, y_test)"
   ]
  },
  {
   "cell_type": "markdown",
   "id": "f6ba99e2-f1d9-45f4-bb2a-2c4b99c0f9e7",
   "metadata": {},
   "source": [
    "### K Nearest Neighbors"
   ]
  },
  {
   "cell_type": "code",
   "execution_count": 57,
   "id": "981540ee-7f80-4dc1-acc7-403a288996f0",
   "metadata": {},
   "outputs": [],
   "source": [
    "from sklearn.neighbors import KNeighborsClassifier\n",
    " \n",
    "KNN = make_pipeline(StandardScaler(), KNeighborsClassifier())\n",
    "scores = cross_validate(KNN, X_train, np.ravel(y_train), scoring=scoring, cv=5)\n",
    "\n",
    "sorted(scores.keys())\n",
    "KNN_fit_time = scores['fit_time'].mean()\n",
    "KNN_score_time = scores['score_time'].mean()\n",
    "KNN_accuracy = scores['test_accuracy'].mean()\n",
    "KNN_precision = scores['test_precision'].mean()\n",
    "KNN_recall = scores['test_recall'].mean()\n",
    "KNN_f1 = scores['test_f1_weighted'].mean()\n",
    "KNN_roc = scores['test_roc_auc'].mean()\n",
    "KNN_test_score =  get_roc_score(KNN, X_train, y_train, X_test, y_test)"
   ]
  },
  {
   "cell_type": "markdown",
   "id": "1751d411-206b-4073-9aae-f151a3764f4d",
   "metadata": {},
   "source": [
    "### XGboost"
   ]
  },
  {
   "cell_type": "code",
   "execution_count": 58,
   "id": "f5478555-6392-4dce-9867-1d0368ef9c57",
   "metadata": {},
   "outputs": [],
   "source": [
    "XGB = xgb.XGBClassifier(use_label_encoder=False, eval_metric='auc')\n",
    "scores = cross_validate(XGB, X_train, np.ravel(y_train), scoring=scoring, cv=5)\n",
    "\n",
    "sorted(scores.keys())\n",
    "XGB_fit_time = scores['fit_time'].mean()\n",
    "XGB_score_time = scores['score_time'].mean()\n",
    "XGB_accuracy = scores['test_accuracy'].mean()\n",
    "XGB_precision = scores['test_precision'].mean()\n",
    "XGB_recall = scores['test_recall'].mean()\n",
    "XGB_f1 = scores['test_f1_weighted'].mean()\n",
    "XGB_roc = scores['test_roc_auc'].mean()\n",
    "XGB_test_score =  get_roc_score(XGB, X_train, y_train, X_test, y_test)"
   ]
  },
  {
   "cell_type": "markdown",
   "id": "52542cc1-cadf-43fa-8505-0fc77f229e96",
   "metadata": {},
   "source": [
    "### LightGBM"
   ]
  },
  {
   "cell_type": "code",
   "execution_count": 59,
   "id": "6df61797-ad87-43a3-8178-6addd8a7f3c0",
   "metadata": {},
   "outputs": [],
   "source": [
    "LGBM = lgb.LGBMClassifier()\n",
    "scores = cross_validate(LGBM, X_train, np.ravel(y_train), scoring=scoring, cv=5)\n",
    "\n",
    "sorted(scores.keys())\n",
    "lgb_fit_time = scores['fit_time'].mean()\n",
    "lgb_score_time = scores['score_time'].mean()\n",
    "lgb_accuracy = scores['test_accuracy'].mean()\n",
    "lgb_precision = scores['test_precision'].mean()\n",
    "lgb_recall = scores['test_recall'].mean()\n",
    "lgb_f1 = scores['test_f1_weighted'].mean()\n",
    "lgb_roc = scores['test_roc_auc'].mean()\n",
    "lgb_test_score =  get_roc_score(LGBM, X_train, y_train, X_test, y_test)"
   ]
  },
  {
   "cell_type": "code",
   "execution_count": 60,
   "id": "28c45aaa-00d7-41a6-aa66-a5d81f36e26b",
   "metadata": {},
   "outputs": [
    {
     "data": {
      "text/html": [
       "<div>\n",
       "<style scoped>\n",
       "    .dataframe tbody tr th:only-of-type {\n",
       "        vertical-align: middle;\n",
       "    }\n",
       "\n",
       "    .dataframe tbody tr th {\n",
       "        vertical-align: top;\n",
       "    }\n",
       "\n",
       "    .dataframe thead th {\n",
       "        text-align: right;\n",
       "    }\n",
       "</style>\n",
       "<table border=\"1\" class=\"dataframe\">\n",
       "  <thead>\n",
       "    <tr style=\"text-align: right;\">\n",
       "      <th></th>\n",
       "      <th>Model</th>\n",
       "      <th>Fitting time</th>\n",
       "      <th>Scoring time</th>\n",
       "      <th>Accuracy</th>\n",
       "      <th>Precision</th>\n",
       "      <th>Recall</th>\n",
       "      <th>F1_score</th>\n",
       "      <th>AUC_ROC</th>\n",
       "      <th>Test_AUC_ROC</th>\n",
       "    </tr>\n",
       "  </thead>\n",
       "  <tbody>\n",
       "    <tr>\n",
       "      <th>3</th>\n",
       "      <td>Random Forest</td>\n",
       "      <td>0.398496</td>\n",
       "      <td>0.041427</td>\n",
       "      <td>0.769743</td>\n",
       "      <td>0.728610</td>\n",
       "      <td>0.388227</td>\n",
       "      <td>0.745232</td>\n",
       "      <td>0.757734</td>\n",
       "      <td>0.771121</td>\n",
       "    </tr>\n",
       "    <tr>\n",
       "      <th>6</th>\n",
       "      <td>LightGBM</td>\n",
       "      <td>0.107976</td>\n",
       "      <td>0.009307</td>\n",
       "      <td>0.773077</td>\n",
       "      <td>0.708235</td>\n",
       "      <td>0.434164</td>\n",
       "      <td>0.754767</td>\n",
       "      <td>0.752554</td>\n",
       "      <td>0.770444</td>\n",
       "    </tr>\n",
       "    <tr>\n",
       "      <th>5</th>\n",
       "      <td>XGBoost</td>\n",
       "      <td>0.169371</td>\n",
       "      <td>0.007739</td>\n",
       "      <td>0.751615</td>\n",
       "      <td>0.634742</td>\n",
       "      <td>0.432766</td>\n",
       "      <td>0.736273</td>\n",
       "      <td>0.729087</td>\n",
       "      <td>0.757887</td>\n",
       "    </tr>\n",
       "    <tr>\n",
       "      <th>1</th>\n",
       "      <td>Logistic Regression</td>\n",
       "      <td>0.029059</td>\n",
       "      <td>0.005603</td>\n",
       "      <td>0.774535</td>\n",
       "      <td>0.769270</td>\n",
       "      <td>0.369009</td>\n",
       "      <td>0.746345</td>\n",
       "      <td>0.758592</td>\n",
       "      <td>0.750970</td>\n",
       "    </tr>\n",
       "    <tr>\n",
       "      <th>2</th>\n",
       "      <td>Support Vector Machine</td>\n",
       "      <td>1.772489</td>\n",
       "      <td>0.173177</td>\n",
       "      <td>0.775996</td>\n",
       "      <td>0.808054</td>\n",
       "      <td>0.345001</td>\n",
       "      <td>0.743485</td>\n",
       "      <td>0.744287</td>\n",
       "      <td>0.746216</td>\n",
       "    </tr>\n",
       "    <tr>\n",
       "      <th>4</th>\n",
       "      <td>K-Nearest Neighbors</td>\n",
       "      <td>0.006643</td>\n",
       "      <td>0.218859</td>\n",
       "      <td>0.746196</td>\n",
       "      <td>0.612672</td>\n",
       "      <td>0.447194</td>\n",
       "      <td>0.733299</td>\n",
       "      <td>0.718036</td>\n",
       "      <td>0.722518</td>\n",
       "    </tr>\n",
       "    <tr>\n",
       "      <th>0</th>\n",
       "      <td>Decison Tree</td>\n",
       "      <td>0.026996</td>\n",
       "      <td>0.006045</td>\n",
       "      <td>0.686391</td>\n",
       "      <td>0.484074</td>\n",
       "      <td>0.500654</td>\n",
       "      <td>0.687716</td>\n",
       "      <td>0.634045</td>\n",
       "      <td>0.633656</td>\n",
       "    </tr>\n",
       "  </tbody>\n",
       "</table>\n",
       "</div>"
      ],
      "text/plain": [
       "                    Model  Fitting time  Scoring time  Accuracy  Precision  \\\n",
       "3           Random Forest      0.398496      0.041427  0.769743   0.728610   \n",
       "6                LightGBM      0.107976      0.009307  0.773077   0.708235   \n",
       "5                 XGBoost      0.169371      0.007739  0.751615   0.634742   \n",
       "1     Logistic Regression      0.029059      0.005603  0.774535   0.769270   \n",
       "2  Support Vector Machine      1.772489      0.173177  0.775996   0.808054   \n",
       "4     K-Nearest Neighbors      0.006643      0.218859  0.746196   0.612672   \n",
       "0            Decison Tree      0.026996      0.006045  0.686391   0.484074   \n",
       "\n",
       "     Recall  F1_score   AUC_ROC  Test_AUC_ROC  \n",
       "3  0.388227  0.745232  0.757734      0.771121  \n",
       "6  0.434164  0.754767  0.752554      0.770444  \n",
       "5  0.432766  0.736273  0.729087      0.757887  \n",
       "1  0.369009  0.746345  0.758592      0.750970  \n",
       "2  0.345001  0.743485  0.744287      0.746216  \n",
       "4  0.447194  0.733299  0.718036      0.722518  \n",
       "0  0.500654  0.687716  0.634045      0.633656  "
      ]
     },
     "execution_count": 60,
     "metadata": {},
     "output_type": "execute_result"
    }
   ],
   "source": [
    "models_initial = pd.DataFrame({\n",
    "    'Model': ['Decison Tree', 'Logistic Regression', 'Support Vector Machine', 'Random Forest',\n",
    "              'K-Nearest Neighbors', 'XGBoost', 'LightGBM'],\n",
    "    'Fitting time': [dtree_fit_time, LR_fit_time, SVM_fit_time, forest_fit_time, KNN_fit_time, XGB_fit_time, lgb_fit_time],\n",
    "    'Scoring time': [dtree_score_time, LR_score_time, SVM_score_time, forest_score_time, KNN_score_time, XGB_score_time,\n",
    "                     lgb_score_time],\n",
    "    'Accuracy'    : [dtree_accuracy, LR_accuracy, SVM_accuracy, forest_accuracy, KNN_accuracy, XGB_accuracy, lgb_accuracy],\n",
    "    'Precision'   : [dtree_precision,LR_precision, SVM_precision, forest_precision, KNN_precision, XGB_precision,\n",
    "                     lgb_precision],\n",
    "    'Recall'      : [dtree_recall, LR_recall, SVM_recall, forest_recall, KNN_recall, XGB_recall, lgb_recall],\n",
    "    'F1_score'    : [dtree_f1, LR_f1, SVM_f1, forest_f1, KNN_f1, XGB_f1, lgb_f1],\n",
    "    'AUC_ROC'     : [dtree_roc, LR_roc, SVM_roc, forest_roc, KNN_roc, XGB_roc, lgb_roc],\n",
    "    'Test_AUC_ROC': [dtree_test_score, LR_test_score, SVM_test_score, forest_test_score, KNN_test_score, XGB_test_score,\n",
    "                     lgb_test_score]\n",
    "    },\n",
    "    columns = ['Model', 'Fitting time', 'Scoring time', 'Accuracy',\n",
    "               'Precision', 'Recall', 'F1_score', 'AUC_ROC', 'Test_AUC_ROC'])\n",
    "\n",
    "models_initial.sort_values(by='Test_AUC_ROC', ascending=False)"
   ]
  },
  {
   "cell_type": "code",
   "execution_count": null,
   "id": "a05b80a3-65bc-436a-9031-a83d9016ac46",
   "metadata": {},
   "outputs": [],
   "source": [
    "#models_initial.to_csv('models_performance_00.csv', index=False)"
   ]
  },
  {
   "cell_type": "markdown",
   "id": "f2e427ba-0871-44f0-a150-ceab60499c17",
   "metadata": {},
   "source": [
    "# Check Errors"
   ]
  },
  {
   "cell_type": "code",
   "execution_count": 61,
   "id": "e9b85cbb-68d5-49b7-9734-c1741aefdc45",
   "metadata": {},
   "outputs": [],
   "source": [
    "def predict(model, X_train, y_train, X_test, y_test, train_labels):\n",
    "    test = X_test.join(train_labels).drop('result', axis=1)\n",
    "    test = pd.concat([test, y_test], axis=1)\n",
    "    model.fit(X_train, y_train)\n",
    "    test['predicted_class'] = model.predict(X_test)\n",
    "    y_predict_prob = model.predict_proba(X_test)\n",
    "    y_predict_fake_prob = [prob[1] for prob in y_predict_prob]\n",
    "    test['fake_prob'] = y_predict_fake_prob\n",
    "    \n",
    "    return test[['token', 'tag', 'result', 'predicted_class', 'fake_prob']]"
   ]
  },
  {
   "cell_type": "code",
   "execution_count": 62,
   "id": "45d41780-fc10-4b4e-9201-51da496d7249",
   "metadata": {},
   "outputs": [],
   "source": [
    "errors_df = predict(random_forest, X_train, y_train, X_test, y_test, train_labels)\n",
    "errors_df['True'] = np.where(errors_df['result']!=errors_df['predicted_class'], 0, 1)"
   ]
  },
  {
   "cell_type": "code",
   "execution_count": 63,
   "id": "882d1641-61f9-4343-9803-819e16be132c",
   "metadata": {},
   "outputs": [
    {
     "data": {
      "text/html": [
       "<div>\n",
       "<style scoped>\n",
       "    .dataframe tbody tr th:only-of-type {\n",
       "        vertical-align: middle;\n",
       "    }\n",
       "\n",
       "    .dataframe tbody tr th {\n",
       "        vertical-align: top;\n",
       "    }\n",
       "\n",
       "    .dataframe thead th {\n",
       "        text-align: right;\n",
       "    }\n",
       "</style>\n",
       "<table border=\"1\" class=\"dataframe\">\n",
       "  <thead>\n",
       "    <tr style=\"text-align: right;\">\n",
       "      <th></th>\n",
       "      <th>token</th>\n",
       "      <th>tag</th>\n",
       "      <th>result</th>\n",
       "      <th>predicted_class</th>\n",
       "      <th>fake_prob</th>\n",
       "      <th>True</th>\n",
       "    </tr>\n",
       "  </thead>\n",
       "  <tbody>\n",
       "    <tr>\n",
       "      <th>1312</th>\n",
       "      <td>QYGqSP53</td>\n",
       "      <td>NaN</td>\n",
       "      <td>1</td>\n",
       "      <td>1</td>\n",
       "      <td>0.60</td>\n",
       "      <td>1</td>\n",
       "    </tr>\n",
       "    <tr>\n",
       "      <th>2956</th>\n",
       "      <td>QY-ZiqgV</td>\n",
       "      <td>NaN</td>\n",
       "      <td>1</td>\n",
       "      <td>0</td>\n",
       "      <td>0.47</td>\n",
       "      <td>0</td>\n",
       "    </tr>\n",
       "    <tr>\n",
       "      <th>1391</th>\n",
       "      <td>QY4tgQIb</td>\n",
       "      <td>-</td>\n",
       "      <td>0</td>\n",
       "      <td>0</td>\n",
       "      <td>0.14</td>\n",
       "      <td>1</td>\n",
       "    </tr>\n",
       "    <tr>\n",
       "      <th>1138</th>\n",
       "      <td>QYleCeHs</td>\n",
       "      <td>NaN</td>\n",
       "      <td>0</td>\n",
       "      <td>0</td>\n",
       "      <td>0.10</td>\n",
       "      <td>1</td>\n",
       "    </tr>\n",
       "    <tr>\n",
       "      <th>4873</th>\n",
       "      <td>QY9mlJUs</td>\n",
       "      <td>NaN</td>\n",
       "      <td>0</td>\n",
       "      <td>1</td>\n",
       "      <td>0.52</td>\n",
       "      <td>0</td>\n",
       "    </tr>\n",
       "  </tbody>\n",
       "</table>\n",
       "</div>"
      ],
      "text/plain": [
       "         token  tag  result  predicted_class  fake_prob  True\n",
       "1312  QYGqSP53  NaN       1                1       0.60     1\n",
       "2956  QY-ZiqgV  NaN       1                0       0.47     0\n",
       "1391  QY4tgQIb    -       0                0       0.14     1\n",
       "1138  QYleCeHs  NaN       0                0       0.10     1\n",
       "4873  QY9mlJUs  NaN       0                1       0.52     0"
      ]
     },
     "execution_count": 63,
     "metadata": {},
     "output_type": "execute_result"
    }
   ],
   "source": [
    "errors_df.head()"
   ]
  },
  {
   "cell_type": "code",
   "execution_count": 64,
   "id": "3fffd638-a6e3-4ecf-ae1f-0f6df118fc9b",
   "metadata": {},
   "outputs": [
    {
     "data": {
      "text/plain": [
       "count    1200.000000\n",
       "mean        0.312875\n",
       "std         0.231500\n",
       "min         0.000000\n",
       "25%         0.150000\n",
       "50%         0.245000\n",
       "75%         0.400000\n",
       "max         0.990000\n",
       "Name: fake_prob, dtype: float64"
      ]
     },
     "execution_count": 64,
     "metadata": {},
     "output_type": "execute_result"
    }
   ],
   "source": [
    "errors_df['fake_prob'].describe()"
   ]
  },
  {
   "cell_type": "code",
   "execution_count": 65,
   "id": "06ba64d5-b3c7-43eb-8005-7e6e5eed0be0",
   "metadata": {},
   "outputs": [
    {
     "data": {
      "text/plain": [
       "1    933\n",
       "0    267\n",
       "Name: True, dtype: int64"
      ]
     },
     "execution_count": 65,
     "metadata": {},
     "output_type": "execute_result"
    }
   ],
   "source": [
    "errors_df['True'].value_counts()"
   ]
  },
  {
   "cell_type": "code",
   "execution_count": 66,
   "id": "48b06e5b-bdfd-49d1-8cca-33c887fe65db",
   "metadata": {},
   "outputs": [
    {
     "data": {
      "text/plain": [
       "211"
      ]
     },
     "execution_count": 66,
     "metadata": {},
     "output_type": "execute_result"
    }
   ],
   "source": [
    "errors_df[(errors_df['True']==0) & (errors_df['result']==1)]['tag'].shape[0]"
   ]
  },
  {
   "cell_type": "code",
   "execution_count": 67,
   "id": "50574d18-096e-4881-bf9a-aa306fa81364",
   "metadata": {},
   "outputs": [
    {
     "data": {
      "text/plain": [
       "56"
      ]
     },
     "execution_count": 67,
     "metadata": {},
     "output_type": "execute_result"
    }
   ],
   "source": [
    "errors_df[(errors_df['True']==0) & (errors_df['result']==0)]['tag'].shape[0]"
   ]
  },
  {
   "cell_type": "markdown",
   "id": "35f0a242-7e70-44e8-8107-d33b8326becf",
   "metadata": {},
   "source": [
    "# Tuning Hyperparameters"
   ]
  },
  {
   "cell_type": "code",
   "execution_count": 117,
   "id": "9ff6e858-7c26-493a-89e6-f1f024f9f49a",
   "metadata": {
    "tags": []
   },
   "outputs": [],
   "source": [
    "def randomized_search(X_data, y_data, model, random_grid):\n",
    "    \n",
    "    cv = RepeatedStratifiedKFold(n_splits=10, n_repeats=3, random_state=1)\n",
    "    random_search = RandomizedSearchCV(model, random_grid, n_iter=10, scoring='roc_auc', n_jobs=-1, cv=cv, random_state=1)\n",
    "    search_result = random_search.fit(X_data, np.ravel(y_data))\n",
    "\n",
    "    print(\"Best: %f using %s\" % (search_result.best_score_, search_result.best_params_))\n",
    "    \n",
    "    means = search_result.cv_results_['mean_test_score']\n",
    "    fit_times = search_result.cv_results_['std_test_score']\n",
    "    params = search_result.cv_results_['params']\n",
    "    for mean, time, param in zip(means, fit_times, params):\n",
    "        print(\"%f (%f) with: %r\" % (mean, time, param))"
   ]
  },
  {
   "cell_type": "code",
   "execution_count": 118,
   "id": "06dc94fa-d381-4483-9862-6a3d8b1f5997",
   "metadata": {},
   "outputs": [],
   "source": [
    "def grid_search (X_data, y_data, model, grid):\n",
    "    \n",
    "    cv = RepeatedStratifiedKFold(n_splits=10, n_repeats=3, random_state=1)\n",
    "    grid_search = GridSearchCV(model, grid, scoring='roc_auc', n_jobs=-1, cv=cv)\n",
    "    grid_result = grid_search.fit(X_data, np.ravel(y_data))\n",
    "\n",
    "    print(\"Best: %f using %s\" % (grid_result.best_score_, grid_result.best_params_))\n",
    "    \n",
    "    means = grid_result.cv_results_['mean_test_score']\n",
    "    fit_times = grid_result.cv_results_['std_test_score']\n",
    "    params = grid_result.cv_results_['params']\n",
    "    for mean, time, param in zip(means, fit_times, params):\n",
    "        print(\"%f (%f) with: %r\" % (mean, time, param))"
   ]
  },
  {
   "cell_type": "code",
   "execution_count": 120,
   "id": "d3ce484b-86da-4f66-8131-e43d02c6feaa",
   "metadata": {},
   "outputs": [
    {
     "name": "stdout",
     "output_type": "stream",
     "text": [
      "Best: 0.756601 using {'n_estimators': 350, 'min_samples_split': 0.005, 'min_samples_leaf': 0.01, 'max_features': 'log2', 'max_depth': 5}\n",
      "0.753296 (0.025501) with: {'n_estimators': 450, 'min_samples_split': 0.05, 'min_samples_leaf': 0.01, 'max_features': 'log2', 'max_depth': 5}\n",
      "0.750571 (0.025626) with: {'n_estimators': 450, 'min_samples_split': 0.01, 'min_samples_leaf': 0.01, 'max_features': 'log2', 'max_depth': 4}\n",
      "0.756601 (0.025158) with: {'n_estimators': 350, 'min_samples_split': 0.005, 'min_samples_leaf': 0.01, 'max_features': 'log2', 'max_depth': 5}\n",
      "0.754718 (0.024172) with: {'n_estimators': 300, 'min_samples_split': 0.01, 'min_samples_leaf': 0.01, 'max_features': 'sqrt', 'max_depth': 4}\n",
      "0.754797 (0.024808) with: {'n_estimators': 350, 'min_samples_split': 0.05, 'min_samples_leaf': 0.001, 'max_features': 'log2', 'max_depth': 5}\n",
      "0.756263 (0.025287) with: {'n_estimators': 300, 'min_samples_split': 0.005, 'min_samples_leaf': 0.01, 'max_features': 'log2', 'max_depth': 5}\n",
      "0.743105 (0.025398) with: {'n_estimators': 400, 'min_samples_split': 0.005, 'min_samples_leaf': 0.025, 'max_features': 'sqrt', 'max_depth': 3}\n",
      "0.755036 (0.024056) with: {'n_estimators': 150, 'min_samples_split': 0.01, 'min_samples_leaf': 0.001, 'max_features': 'sqrt', 'max_depth': 4}\n",
      "0.745230 (0.025242) with: {'n_estimators': 450, 'min_samples_split': 0.05, 'min_samples_leaf': 0.01, 'max_features': 'sqrt', 'max_depth': 3}\n",
      "0.753507 (0.024797) with: {'n_estimators': 200, 'min_samples_split': 0.01, 'min_samples_leaf': 0.025, 'max_features': 'sqrt', 'max_depth': 5}\n"
     ]
    }
   ],
   "source": [
    "model = RandomForestClassifier()\n",
    "n_estimators = range(50, 500, 50)\n",
    "max_depth = [3, 4, 5]\n",
    "min_samples_split = [0.05, 0.02, 0.01, 0.005]\n",
    "min_samples_leaf = [0.01, 0.001, 0.025, ]\n",
    "max_features = ['log2', 'sqrt']\n",
    "grid = dict(n_estimators= n_estimators, max_depth = max_depth, min_samples_leaf= min_samples_leaf,\n",
    "            max_features=max_features, min_samples_split=min_samples_split)\n",
    "randomized_search(X_train, y_train, model, grid)"
   ]
  },
  {
   "cell_type": "code",
   "execution_count": 150,
   "id": "6fe9dbe3-457d-405a-bc6e-4d9f9d3d323f",
   "metadata": {},
   "outputs": [
    {
     "name": "stdout",
     "output_type": "stream",
     "text": [
      "Best: 0.761548 using {'n_estimators': 350, 'min_samples_split': 0.005, 'min_samples_leaf': 0.005, 'max_features': 'log2', 'max_depth': 7}\n",
      "0.751729 (0.021927) with: {'n_estimators': 350, 'min_samples_split': 0.005, 'min_samples_leaf': 0.015, 'max_features': 'log2', 'max_depth': 6}\n",
      "0.759154 (0.021020) with: {'n_estimators': 350, 'min_samples_split': 0.005, 'min_samples_leaf': 0.005, 'max_features': 'log2', 'max_depth': 6}\n",
      "0.756799 (0.021524) with: {'n_estimators': 350, 'min_samples_split': 0.006, 'min_samples_leaf': 0.01, 'max_features': 'log2', 'max_depth': 7}\n",
      "0.754624 (0.022000) with: {'n_estimators': 350, 'min_samples_split': 0.006, 'min_samples_leaf': 0.005, 'max_features': 'log2', 'max_depth': 5}\n",
      "0.761548 (0.021468) with: {'n_estimators': 350, 'min_samples_split': 0.005, 'min_samples_leaf': 0.005, 'max_features': 'log2', 'max_depth': 7}\n",
      "0.755010 (0.021596) with: {'n_estimators': 350, 'min_samples_split': 0.004, 'min_samples_leaf': 0.01, 'max_features': 'log2', 'max_depth': 6}\n",
      "0.756978 (0.020615) with: {'n_estimators': 350, 'min_samples_split': 0.005, 'min_samples_leaf': 0.01, 'max_features': 'log2', 'max_depth': 7}\n",
      "0.761488 (0.021032) with: {'n_estimators': 350, 'min_samples_split': 0.006, 'min_samples_leaf': 0.005, 'max_features': 'log2', 'max_depth': 7}\n",
      "0.754121 (0.021258) with: {'n_estimators': 350, 'min_samples_split': 0.004, 'min_samples_leaf': 0.005, 'max_features': 'log2', 'max_depth': 5}\n",
      "0.752294 (0.021575) with: {'n_estimators': 350, 'min_samples_split': 0.005, 'min_samples_leaf': 0.01, 'max_features': 'log2', 'max_depth': 5}\n"
     ]
    }
   ],
   "source": [
    "model = RandomForestClassifier()\n",
    "n_estimators = [350]\n",
    "max_depth = [5, 6, 7]\n",
    "min_samples_split = [0.006, 0.004, 0.005]\n",
    "min_samples_leaf = [0.01, 0.005, 0.015 ]\n",
    "max_features = ['log2']\n",
    "grid = dict(n_estimators= n_estimators, max_depth = max_depth, min_samples_leaf= min_samples_leaf,\n",
    "            max_features=max_features, min_samples_split=min_samples_split)\n",
    "randomized_search(X_train, y_train, model, grid)"
   ]
  },
  {
   "cell_type": "code",
   "execution_count": 162,
   "id": "cd450a1e-8d0c-45af-892b-20c26c8dab2e",
   "metadata": {},
   "outputs": [
    {
     "name": "stdout",
     "output_type": "stream",
     "text": [
      "Best: 0.764311 using {'class_weight': {1: 1, 0: 1}, 'max_depth': 40, 'max_features': 'log2', 'min_samples_leaf': 0.005, 'min_samples_split': 0.005, 'n_estimators': 350}\n",
      "0.763672 (0.021221) with: {'class_weight': {1: 1, 0: 2}, 'max_depth': 40, 'max_features': 'log2', 'min_samples_leaf': 0.005, 'min_samples_split': 0.005, 'n_estimators': 350}\n",
      "0.764311 (0.021042) with: {'class_weight': {1: 1, 0: 1}, 'max_depth': 40, 'max_features': 'log2', 'min_samples_leaf': 0.005, 'min_samples_split': 0.005, 'n_estimators': 350}\n",
      "0.763609 (0.020925) with: {'class_weight': {1: 1, 0: 3}, 'max_depth': 40, 'max_features': 'log2', 'min_samples_leaf': 0.005, 'min_samples_split': 0.005, 'n_estimators': 350}\n"
     ]
    }
   ],
   "source": [
    "model = RandomForestClassifier()\n",
    "n_estimators = [350]\n",
    "max_depth = [40]\n",
    "min_samples_split = [0.005]\n",
    "min_samples_leaf = [0.005]\n",
    "max_features = ['log2']\n",
    "class_weight= [{1:1, 0:2}, {1:1, 0:1}, {1:1, 0:3}]\n",
    "grid = dict(n_estimators= n_estimators, max_depth = max_depth, min_samples_leaf= min_samples_leaf,\n",
    "            max_features=max_features, min_samples_split=min_samples_split, class_weight= class_weight)\n",
    "grid_search(X_train, y_train, model, grid)"
   ]
  },
  {
   "cell_type": "code",
   "execution_count": 159,
   "id": "51dfe735-5d34-4f27-9e08-0087d74ff956",
   "metadata": {},
   "outputs": [],
   "source": [
    "random_forest = RandomForestClassifier(max_depth = 40, \n",
    "                                       max_features= 'log2',\n",
    "                                       min_samples_leaf = 0.005,\n",
    "                                       min_samples_split = 0.005,\n",
    "                                       n_estimators= 350)\n",
    "random_forest = random_forest.fit(X_train, y_train)"
   ]
  },
  {
   "cell_type": "code",
   "execution_count": 160,
   "id": "2d4d5ca9-a88f-4fc7-ae84-edeef66ec169",
   "metadata": {},
   "outputs": [
    {
     "data": {
      "text/plain": [
       "RandomForestClassifier(max_depth=40, max_features='log2',\n",
       "                       min_samples_leaf=0.005, min_samples_split=0.005,\n",
       "                       n_estimators=350)"
      ]
     },
     "execution_count": 160,
     "metadata": {},
     "output_type": "execute_result"
    }
   ],
   "source": [
    "random_forest"
   ]
  },
  {
   "cell_type": "code",
   "execution_count": 167,
   "id": "dc1fb54f-3905-4a4b-a988-3b73eacdab13",
   "metadata": {},
   "outputs": [],
   "source": [
    "from bayes_opt import BayesianOptimization"
   ]
  },
  {
   "cell_type": "code",
   "execution_count": 172,
   "id": "505c6a7e-572b-41a3-88e5-fe645e477f07",
   "metadata": {},
   "outputs": [
    {
     "name": "stdout",
     "output_type": "stream",
     "text": [
      "CPU times: user 10 µs, sys: 0 ns, total: 10 µs\n",
      "Wall time: 15 µs\n"
     ]
    }
   ],
   "source": [
    "%%time\n",
    "\n",
    "def bayes_parameter_opt_lgb(X, y, init_round=15, opt_round=25, n_folds=3, random_seed=6,n_estimators=10000, output_process=False):\n",
    "    train_data = lgb.Dataset(data=X, label=y, free_raw_data=False)\n",
    "    def lgb_eval(learning_rate,num_leaves, feature_fraction, bagging_fraction, max_depth,\\\n",
    "                 max_bin, min_data_in_leaf,min_sum_hessian_in_leaf,subsample):\n",
    "        params = {'application':'binary', 'metric':'auc'}\n",
    "        params['learning_rate'] = max(min(learning_rate, 1), 0)\n",
    "        params[\"num_leaves\"] = int(round(num_leaves))\n",
    "        params['feature_fraction'] = max(min(feature_fraction, 1), 0)\n",
    "        params['bagging_fraction'] = max(min(bagging_fraction, 1), 0)\n",
    "        params['max_depth'] = int(round(max_depth))\n",
    "        params['max_bin'] = int(round(max_depth))\n",
    "        params['min_data_in_leaf'] = int(round(min_data_in_leaf))\n",
    "        params['min_sum_hessian_in_leaf'] = min_sum_hessian_in_leaf\n",
    "        params['subsample'] = max(min(subsample, 1), 0)\n",
    "        \n",
    "        cv_result = lgb.cv(params, train_data, nfold=n_folds, seed=random_seed, stratified=True, verbose_eval =200, metrics=['auc'])\n",
    "        return max(cv_result['auc-mean'])\n",
    "     \n",
    "    lgbBO = BayesianOptimization(lgb_eval, {'learning_rate': (0.01, 1.0),\n",
    "                                            'num_leaves': (24, 80),\n",
    "                                            'feature_fraction': (0.1, 0.9),\n",
    "                                            'bagging_fraction': (0.8, 1),\n",
    "                                            'max_depth': (5, 30),\n",
    "                                            'max_bin':(20,90),\n",
    "                                            'min_data_in_leaf': (20, 80),\n",
    "                                            'min_sum_hessian_in_leaf':(0,100),\n",
    "                                           'subsample': (0.01, 1.0)}, random_state=200)\n",
    "\n",
    "    \n",
    "    #n_iter: How many steps of bayesian optimization you want to perform. The more steps the more likely to find a good maximum you are.\n",
    "    #init_points: How many steps of random exploration you want to perform. Random exploration can help by diversifying the exploration space.\n",
    "    \n",
    "    lgbBO.maximize(init_points=init_round, n_iter=opt_round)\n",
    "    \n",
    "    model_auc=[]\n",
    "    for model in range(len( lgbBO.res)):\n",
    "        model_auc.append(lgbBO.res[model]['target'])\n",
    "    \n",
    "    # return best parameters\n",
    "    return lgbBO.res[pd.Series(model_auc).idxmax()]['target'],lgbBO.res[pd.Series(model_auc).idxmax()]['params']"
   ]
  },
  {
   "cell_type": "code",
   "execution_count": null,
   "id": "676d994c-6ef4-4f4d-92cb-7284b62fe395",
   "metadata": {},
   "outputs": [],
   "source": [
    "bayes_parameter_opt_lgb(X_train, y_train)"
   ]
  },
  {
   "cell_type": "markdown",
   "id": "9fb32661-b2a0-4a32-93e6-0b3bf7ede056",
   "metadata": {},
   "source": [
    "0.763714066674901,\n",
    " {'bagging_fraction': 0.8525494246713672,\n",
    "  'feature_fraction': 0.20020645279635316,\n",
    "  'learning_rate': 0.14434668708405266,\n",
    "  'max_bin': 36.079469594293414,\n",
    "  'max_depth': 7.689472442994714,\n",
    "  'min_data_in_leaf': 55.7673935086993,\n",
    "  'min_sum_hessian_in_leaf': 62.297711718914115,\n",
    "  'num_leaves': 49.510038695902644,\n",
    "  'subsample': 0.7438387845838078})"
   ]
  },
  {
   "cell_type": "code",
   "execution_count": 53,
   "id": "5b97338c-996a-4204-a9e0-bf478415018c",
   "metadata": {},
   "outputs": [
    {
     "name": "stderr",
     "output_type": "stream",
     "text": [
      "\n",
      "  0%|          | 0/7 [00:00<?, ?it/s]\u001b[A\n",
      "feature_fraction, val_score: -inf:   0%|          | 0/7 [00:00<?, ?it/s]\u001b[A'early_stopping_rounds' argument is deprecated and will be removed in a future release of LightGBM. Pass 'early_stopping()' callback via 'callbacks' argument instead.\n",
      "'verbose_eval' argument is deprecated and will be removed in a future release of LightGBM. Pass 'log_evaluation()' callback via 'callbacks' argument instead.\n",
      "\n",
      "feature_fraction, val_score: 0.766955:   0%|          | 0/7 [02:17<?, ?it/s]\u001b[A\n",
      "feature_fraction, val_score: 0.766955:  14%|#4        | 1/7 [02:17<13:44, 137.45s/it]\u001b[A\n",
      "feature_fraction, val_score: 0.766955:  14%|#4        | 1/7 [02:17<13:44, 137.45s/it]\u001b[A'early_stopping_rounds' argument is deprecated and will be removed in a future release of LightGBM. Pass 'early_stopping()' callback via 'callbacks' argument instead.\n",
      "'verbose_eval' argument is deprecated and will be removed in a future release of LightGBM. Pass 'log_evaluation()' callback via 'callbacks' argument instead.\n",
      "\n",
      "feature_fraction, val_score: 0.768691:  14%|#4        | 1/7 [03:11<13:44, 137.45s/it]\u001b[A\n",
      "feature_fraction, val_score: 0.768691:  29%|##8       | 2/7 [03:11<07:22, 88.54s/it] \u001b[A\n",
      "feature_fraction, val_score: 0.768691:  29%|##8       | 2/7 [03:11<07:22, 88.54s/it]\u001b[A'early_stopping_rounds' argument is deprecated and will be removed in a future release of LightGBM. Pass 'early_stopping()' callback via 'callbacks' argument instead.\n",
      "'verbose_eval' argument is deprecated and will be removed in a future release of LightGBM. Pass 'log_evaluation()' callback via 'callbacks' argument instead.\n",
      "\n",
      "feature_fraction, val_score: 0.770210:  29%|##8       | 2/7 [04:15<07:22, 88.54s/it]\u001b[A\n",
      "feature_fraction, val_score: 0.770210:  43%|####2     | 3/7 [04:15<05:08, 77.08s/it]\u001b[A\n",
      "feature_fraction, val_score: 0.770210:  43%|####2     | 3/7 [04:15<05:08, 77.08s/it]\u001b[A'early_stopping_rounds' argument is deprecated and will be removed in a future release of LightGBM. Pass 'early_stopping()' callback via 'callbacks' argument instead.\n",
      "'verbose_eval' argument is deprecated and will be removed in a future release of LightGBM. Pass 'log_evaluation()' callback via 'callbacks' argument instead.\n",
      "\n",
      "feature_fraction, val_score: 0.770210:  43%|####2     | 3/7 [06:31<05:08, 77.08s/it]\u001b[A\n",
      "feature_fraction, val_score: 0.770210:  57%|#####7    | 4/7 [06:31<05:01, 100.40s/it]\u001b[A\n",
      "feature_fraction, val_score: 0.770210:  57%|#####7    | 4/7 [06:31<05:01, 100.40s/it]\u001b[A'early_stopping_rounds' argument is deprecated and will be removed in a future release of LightGBM. Pass 'early_stopping()' callback via 'callbacks' argument instead.\n",
      "'verbose_eval' argument is deprecated and will be removed in a future release of LightGBM. Pass 'log_evaluation()' callback via 'callbacks' argument instead.\n",
      "\n",
      "feature_fraction, val_score: 0.770718:  57%|#####7    | 4/7 [07:33<05:01, 100.40s/it]\u001b[A\n",
      "feature_fraction, val_score: 0.770718:  71%|#######1  | 5/7 [07:33<02:53, 86.73s/it] \u001b[A\n",
      "feature_fraction, val_score: 0.770718:  71%|#######1  | 5/7 [07:33<02:53, 86.73s/it]\u001b[A'early_stopping_rounds' argument is deprecated and will be removed in a future release of LightGBM. Pass 'early_stopping()' callback via 'callbacks' argument instead.\n",
      "'verbose_eval' argument is deprecated and will be removed in a future release of LightGBM. Pass 'log_evaluation()' callback via 'callbacks' argument instead.\n",
      "\n",
      "feature_fraction, val_score: 0.770768:  71%|#######1  | 5/7 [09:16<02:53, 86.73s/it]\u001b[A\n",
      "feature_fraction, val_score: 0.770768:  86%|########5 | 6/7 [09:16<01:32, 92.17s/it]\u001b[A\n",
      "feature_fraction, val_score: 0.770768:  86%|########5 | 6/7 [09:16<01:32, 92.17s/it]\u001b[A'early_stopping_rounds' argument is deprecated and will be removed in a future release of LightGBM. Pass 'early_stopping()' callback via 'callbacks' argument instead.\n",
      "'verbose_eval' argument is deprecated and will be removed in a future release of LightGBM. Pass 'log_evaluation()' callback via 'callbacks' argument instead.\n",
      "\n",
      "feature_fraction, val_score: 0.770768:  86%|########5 | 6/7 [11:44<01:32, 92.17s/it]\u001b[A\n",
      "feature_fraction, val_score: 0.770768: 100%|##########| 7/7 [11:44<00:00, 100.59s/it]\u001b[A\n",
      "\n",
      "  0%|          | 0/20 [00:00<?, ?it/s]\u001b[A\n",
      "num_leaves, val_score: 0.770768:   0%|          | 0/20 [00:00<?, ?it/s]\u001b[A'early_stopping_rounds' argument is deprecated and will be removed in a future release of LightGBM. Pass 'early_stopping()' callback via 'callbacks' argument instead.\n",
      "'verbose_eval' argument is deprecated and will be removed in a future release of LightGBM. Pass 'log_evaluation()' callback via 'callbacks' argument instead.\n",
      "\n",
      "num_leaves, val_score: 0.770768:   0%|          | 0/20 [04:50<?, ?it/s]\u001b[A\n",
      "num_leaves, val_score: 0.770768:   5%|5         | 1/20 [04:50<1:31:54, 290.26s/it]\u001b[A\n",
      "num_leaves, val_score: 0.770768:   5%|5         | 1/20 [04:50<1:31:54, 290.26s/it]\u001b[A'early_stopping_rounds' argument is deprecated and will be removed in a future release of LightGBM. Pass 'early_stopping()' callback via 'callbacks' argument instead.\n",
      "'verbose_eval' argument is deprecated and will be removed in a future release of LightGBM. Pass 'log_evaluation()' callback via 'callbacks' argument instead.\n",
      "\n",
      "num_leaves, val_score: 0.770768:   5%|5         | 1/20 [08:53<1:31:54, 290.26s/it]\u001b[A\n",
      "num_leaves, val_score: 0.770768:  10%|#         | 2/20 [08:53<1:18:45, 262.52s/it]\u001b[A\n",
      "num_leaves, val_score: 0.770768:  10%|#         | 2/20 [08:53<1:18:45, 262.52s/it]\u001b[A'early_stopping_rounds' argument is deprecated and will be removed in a future release of LightGBM. Pass 'early_stopping()' callback via 'callbacks' argument instead.\n",
      "'verbose_eval' argument is deprecated and will be removed in a future release of LightGBM. Pass 'log_evaluation()' callback via 'callbacks' argument instead.\n",
      "\n",
      "num_leaves, val_score: 0.770768:  10%|#         | 2/20 [12:21<1:18:45, 262.52s/it]\u001b[A\n",
      "num_leaves, val_score: 0.770768:  15%|#5        | 3/20 [12:22<1:07:24, 237.92s/it]\u001b[A\n",
      "num_leaves, val_score: 0.770768:  15%|#5        | 3/20 [12:22<1:07:24, 237.92s/it]\u001b[A'early_stopping_rounds' argument is deprecated and will be removed in a future release of LightGBM. Pass 'early_stopping()' callback via 'callbacks' argument instead.\n",
      "'verbose_eval' argument is deprecated and will be removed in a future release of LightGBM. Pass 'log_evaluation()' callback via 'callbacks' argument instead.\n",
      "\n",
      "num_leaves, val_score: 0.770768:  15%|#5        | 3/20 [15:08<1:07:24, 237.92s/it]\u001b[A\n",
      "num_leaves, val_score: 0.770768:  20%|##        | 4/20 [15:08<55:56, 209.76s/it]  \u001b[A\n",
      "num_leaves, val_score: 0.770768:  20%|##        | 4/20 [15:08<55:56, 209.76s/it]\u001b[A'early_stopping_rounds' argument is deprecated and will be removed in a future release of LightGBM. Pass 'early_stopping()' callback via 'callbacks' argument instead.\n",
      "'verbose_eval' argument is deprecated and will be removed in a future release of LightGBM. Pass 'log_evaluation()' callback via 'callbacks' argument instead.\n",
      "\n",
      "num_leaves, val_score: 0.770768:  20%|##        | 4/20 [17:24<55:56, 209.76s/it]\u001b[A\n",
      "num_leaves, val_score: 0.770768:  25%|##5       | 5/20 [17:24<45:46, 183.11s/it]\u001b[A\n",
      "num_leaves, val_score: 0.770768:  25%|##5       | 5/20 [17:24<45:46, 183.11s/it]\u001b[A'early_stopping_rounds' argument is deprecated and will be removed in a future release of LightGBM. Pass 'early_stopping()' callback via 'callbacks' argument instead.\n",
      "'verbose_eval' argument is deprecated and will be removed in a future release of LightGBM. Pass 'log_evaluation()' callback via 'callbacks' argument instead.\n",
      "\n",
      "num_leaves, val_score: 0.770768:  25%|##5       | 5/20 [20:05<45:46, 183.11s/it]\u001b[A\n",
      "num_leaves, val_score: 0.770768:  30%|###       | 6/20 [20:05<40:59, 175.69s/it]\u001b[A\n",
      "num_leaves, val_score: 0.770768:  30%|###       | 6/20 [20:05<40:59, 175.69s/it]\u001b[A'early_stopping_rounds' argument is deprecated and will be removed in a future release of LightGBM. Pass 'early_stopping()' callback via 'callbacks' argument instead.\n",
      "'verbose_eval' argument is deprecated and will be removed in a future release of LightGBM. Pass 'log_evaluation()' callback via 'callbacks' argument instead.\n",
      "\n",
      "num_leaves, val_score: 0.770768:  30%|###       | 6/20 [22:38<40:59, 175.69s/it]\u001b[A\n",
      "num_leaves, val_score: 0.770768:  35%|###5      | 7/20 [22:38<36:27, 168.28s/it]\u001b[A\n",
      "num_leaves, val_score: 0.770768:  35%|###5      | 7/20 [22:38<36:27, 168.28s/it]\u001b[A'early_stopping_rounds' argument is deprecated and will be removed in a future release of LightGBM. Pass 'early_stopping()' callback via 'callbacks' argument instead.\n",
      "'verbose_eval' argument is deprecated and will be removed in a future release of LightGBM. Pass 'log_evaluation()' callback via 'callbacks' argument instead.\n",
      "\n",
      "num_leaves, val_score: 0.770768:  35%|###5      | 7/20 [25:02<36:27, 168.28s/it]\u001b[A\n",
      "num_leaves, val_score: 0.770768:  40%|####      | 8/20 [25:02<32:06, 160.54s/it]\u001b[A\n",
      "num_leaves, val_score: 0.770768:  40%|####      | 8/20 [25:02<32:06, 160.54s/it]\u001b[A'early_stopping_rounds' argument is deprecated and will be removed in a future release of LightGBM. Pass 'early_stopping()' callback via 'callbacks' argument instead.\n",
      "'verbose_eval' argument is deprecated and will be removed in a future release of LightGBM. Pass 'log_evaluation()' callback via 'callbacks' argument instead.\n"
     ]
    },
    {
     "ename": "KeyboardInterrupt",
     "evalue": "",
     "output_type": "error",
     "traceback": [
      "\u001b[0;31m---------------------------------------------------------------------------\u001b[0m",
      "\u001b[0;31mKeyboardInterrupt\u001b[0m                         Traceback (most recent call last)",
      "\u001b[0;32m<ipython-input-53-6ecd35effbb0>\u001b[0m in \u001b[0;36m<module>\u001b[0;34m\u001b[0m\n\u001b[1;32m     40\u001b[0m \u001b[0;34m\u001b[0m\u001b[0m\n\u001b[1;32m     41\u001b[0m \u001b[0;34m\u001b[0m\u001b[0m\n\u001b[0;32m---> 42\u001b[0;31m \u001b[0mtuner\u001b[0m\u001b[0;34m.\u001b[0m\u001b[0mrun\u001b[0m\u001b[0;34m(\u001b[0m\u001b[0;34m)\u001b[0m\u001b[0;34m\u001b[0m\u001b[0;34m\u001b[0m\u001b[0m\n\u001b[0m",
      "\u001b[0;32m~/.local/lib/python3.8/site-packages/optuna/integration/_lightgbm_tuner/optimize.py\u001b[0m in \u001b[0;36mrun\u001b[0;34m(self)\u001b[0m\n\u001b[1;32m    545\u001b[0m \u001b[0;34m\u001b[0m\u001b[0m\n\u001b[1;32m    546\u001b[0m         \u001b[0mself\u001b[0m\u001b[0;34m.\u001b[0m\u001b[0mtune_feature_fraction\u001b[0m\u001b[0;34m(\u001b[0m\u001b[0;34m)\u001b[0m\u001b[0;34m\u001b[0m\u001b[0;34m\u001b[0m\u001b[0m\n\u001b[0;32m--> 547\u001b[0;31m         \u001b[0mself\u001b[0m\u001b[0;34m.\u001b[0m\u001b[0mtune_num_leaves\u001b[0m\u001b[0;34m(\u001b[0m\u001b[0;34m)\u001b[0m\u001b[0;34m\u001b[0m\u001b[0;34m\u001b[0m\u001b[0m\n\u001b[0m\u001b[1;32m    548\u001b[0m         \u001b[0mself\u001b[0m\u001b[0;34m.\u001b[0m\u001b[0mtune_bagging\u001b[0m\u001b[0;34m(\u001b[0m\u001b[0;34m)\u001b[0m\u001b[0;34m\u001b[0m\u001b[0;34m\u001b[0m\u001b[0m\n\u001b[1;32m    549\u001b[0m         \u001b[0mself\u001b[0m\u001b[0;34m.\u001b[0m\u001b[0mtune_feature_fraction_stage2\u001b[0m\u001b[0;34m(\u001b[0m\u001b[0;34m)\u001b[0m\u001b[0;34m\u001b[0m\u001b[0;34m\u001b[0m\u001b[0m\n",
      "\u001b[0;32m~/.local/lib/python3.8/site-packages/optuna/integration/_lightgbm_tuner/optimize.py\u001b[0m in \u001b[0;36mtune_num_leaves\u001b[0;34m(self, n_trials)\u001b[0m\n\u001b[1;32m    572\u001b[0m \u001b[0;34m\u001b[0m\u001b[0m\n\u001b[1;32m    573\u001b[0m     \u001b[0;32mdef\u001b[0m \u001b[0mtune_num_leaves\u001b[0m\u001b[0;34m(\u001b[0m\u001b[0mself\u001b[0m\u001b[0;34m,\u001b[0m \u001b[0mn_trials\u001b[0m\u001b[0;34m:\u001b[0m \u001b[0mint\u001b[0m \u001b[0;34m=\u001b[0m \u001b[0;36m20\u001b[0m\u001b[0;34m)\u001b[0m \u001b[0;34m->\u001b[0m \u001b[0;32mNone\u001b[0m\u001b[0;34m:\u001b[0m\u001b[0;34m\u001b[0m\u001b[0;34m\u001b[0m\u001b[0m\n\u001b[0;32m--> 574\u001b[0;31m         self._tune_params(\n\u001b[0m\u001b[1;32m    575\u001b[0m             \u001b[0;34m[\u001b[0m\u001b[0;34m\"num_leaves\"\u001b[0m\u001b[0;34m]\u001b[0m\u001b[0;34m,\u001b[0m\u001b[0;34m\u001b[0m\u001b[0;34m\u001b[0m\u001b[0m\n\u001b[1;32m    576\u001b[0m             \u001b[0mn_trials\u001b[0m\u001b[0;34m,\u001b[0m\u001b[0;34m\u001b[0m\u001b[0;34m\u001b[0m\u001b[0m\n",
      "\u001b[0;32m~/.local/lib/python3.8/site-packages/optuna/integration/_lightgbm_tuner/optimize.py\u001b[0m in \u001b[0;36m_tune_params\u001b[0;34m(self, target_param_names, n_trials, sampler, step_name)\u001b[0m\n\u001b[1;32m    652\u001b[0m             \u001b[0m_timeout\u001b[0m \u001b[0;34m=\u001b[0m \u001b[0;32mNone\u001b[0m\u001b[0;34m\u001b[0m\u001b[0;34m\u001b[0m\u001b[0m\n\u001b[1;32m    653\u001b[0m         \u001b[0;32mif\u001b[0m \u001b[0m_n_trials\u001b[0m \u001b[0;34m>\u001b[0m \u001b[0;36m0\u001b[0m\u001b[0;34m:\u001b[0m\u001b[0;34m\u001b[0m\u001b[0;34m\u001b[0m\u001b[0m\n\u001b[0;32m--> 654\u001b[0;31m             study.optimize(\n\u001b[0m\u001b[1;32m    655\u001b[0m                 \u001b[0mobjective\u001b[0m\u001b[0;34m,\u001b[0m\u001b[0;34m\u001b[0m\u001b[0;34m\u001b[0m\u001b[0m\n\u001b[1;32m    656\u001b[0m                 \u001b[0mn_trials\u001b[0m\u001b[0;34m=\u001b[0m\u001b[0m_n_trials\u001b[0m\u001b[0;34m,\u001b[0m\u001b[0;34m\u001b[0m\u001b[0;34m\u001b[0m\u001b[0m\n",
      "\u001b[0;32m~/.local/lib/python3.8/site-packages/optuna/study/study.py\u001b[0m in \u001b[0;36moptimize\u001b[0;34m(self, func, n_trials, timeout, n_jobs, catch, callbacks, gc_after_trial, show_progress_bar)\u001b[0m\n\u001b[1;32m    398\u001b[0m             )\n\u001b[1;32m    399\u001b[0m \u001b[0;34m\u001b[0m\u001b[0m\n\u001b[0;32m--> 400\u001b[0;31m         _optimize(\n\u001b[0m\u001b[1;32m    401\u001b[0m             \u001b[0mstudy\u001b[0m\u001b[0;34m=\u001b[0m\u001b[0mself\u001b[0m\u001b[0;34m,\u001b[0m\u001b[0;34m\u001b[0m\u001b[0;34m\u001b[0m\u001b[0m\n\u001b[1;32m    402\u001b[0m             \u001b[0mfunc\u001b[0m\u001b[0;34m=\u001b[0m\u001b[0mfunc\u001b[0m\u001b[0;34m,\u001b[0m\u001b[0;34m\u001b[0m\u001b[0;34m\u001b[0m\u001b[0m\n",
      "\u001b[0;32m~/.local/lib/python3.8/site-packages/optuna/study/_optimize.py\u001b[0m in \u001b[0;36m_optimize\u001b[0;34m(study, func, n_trials, timeout, n_jobs, catch, callbacks, gc_after_trial, show_progress_bar)\u001b[0m\n\u001b[1;32m     64\u001b[0m     \u001b[0;32mtry\u001b[0m\u001b[0;34m:\u001b[0m\u001b[0;34m\u001b[0m\u001b[0;34m\u001b[0m\u001b[0m\n\u001b[1;32m     65\u001b[0m         \u001b[0;32mif\u001b[0m \u001b[0mn_jobs\u001b[0m \u001b[0;34m==\u001b[0m \u001b[0;36m1\u001b[0m\u001b[0;34m:\u001b[0m\u001b[0;34m\u001b[0m\u001b[0;34m\u001b[0m\u001b[0m\n\u001b[0;32m---> 66\u001b[0;31m             _optimize_sequential(\n\u001b[0m\u001b[1;32m     67\u001b[0m                 \u001b[0mstudy\u001b[0m\u001b[0;34m,\u001b[0m\u001b[0;34m\u001b[0m\u001b[0;34m\u001b[0m\u001b[0m\n\u001b[1;32m     68\u001b[0m                 \u001b[0mfunc\u001b[0m\u001b[0;34m,\u001b[0m\u001b[0;34m\u001b[0m\u001b[0;34m\u001b[0m\u001b[0m\n",
      "\u001b[0;32m~/.local/lib/python3.8/site-packages/optuna/study/_optimize.py\u001b[0m in \u001b[0;36m_optimize_sequential\u001b[0;34m(study, func, n_trials, timeout, catch, callbacks, gc_after_trial, reseed_sampler_rng, time_start, progress_bar)\u001b[0m\n\u001b[1;32m    161\u001b[0m \u001b[0;34m\u001b[0m\u001b[0m\n\u001b[1;32m    162\u001b[0m         \u001b[0;32mtry\u001b[0m\u001b[0;34m:\u001b[0m\u001b[0;34m\u001b[0m\u001b[0;34m\u001b[0m\u001b[0m\n\u001b[0;32m--> 163\u001b[0;31m             \u001b[0mtrial\u001b[0m \u001b[0;34m=\u001b[0m \u001b[0m_run_trial\u001b[0m\u001b[0;34m(\u001b[0m\u001b[0mstudy\u001b[0m\u001b[0;34m,\u001b[0m \u001b[0mfunc\u001b[0m\u001b[0;34m,\u001b[0m \u001b[0mcatch\u001b[0m\u001b[0;34m)\u001b[0m\u001b[0;34m\u001b[0m\u001b[0;34m\u001b[0m\u001b[0m\n\u001b[0m\u001b[1;32m    164\u001b[0m         \u001b[0;32mexcept\u001b[0m \u001b[0mException\u001b[0m\u001b[0;34m:\u001b[0m\u001b[0;34m\u001b[0m\u001b[0;34m\u001b[0m\u001b[0m\n\u001b[1;32m    165\u001b[0m             \u001b[0;32mraise\u001b[0m\u001b[0;34m\u001b[0m\u001b[0;34m\u001b[0m\u001b[0m\n",
      "\u001b[0;32m~/.local/lib/python3.8/site-packages/optuna/study/_optimize.py\u001b[0m in \u001b[0;36m_run_trial\u001b[0;34m(study, func, catch)\u001b[0m\n\u001b[1;32m    211\u001b[0m \u001b[0;34m\u001b[0m\u001b[0m\n\u001b[1;32m    212\u001b[0m     \u001b[0;32mtry\u001b[0m\u001b[0;34m:\u001b[0m\u001b[0;34m\u001b[0m\u001b[0;34m\u001b[0m\u001b[0m\n\u001b[0;32m--> 213\u001b[0;31m         \u001b[0mvalue_or_values\u001b[0m \u001b[0;34m=\u001b[0m \u001b[0mfunc\u001b[0m\u001b[0;34m(\u001b[0m\u001b[0mtrial\u001b[0m\u001b[0;34m)\u001b[0m\u001b[0;34m\u001b[0m\u001b[0;34m\u001b[0m\u001b[0m\n\u001b[0m\u001b[1;32m    214\u001b[0m     \u001b[0;32mexcept\u001b[0m \u001b[0mexceptions\u001b[0m\u001b[0;34m.\u001b[0m\u001b[0mTrialPruned\u001b[0m \u001b[0;32mas\u001b[0m \u001b[0me\u001b[0m\u001b[0;34m:\u001b[0m\u001b[0;34m\u001b[0m\u001b[0;34m\u001b[0m\u001b[0m\n\u001b[1;32m    215\u001b[0m         \u001b[0;31m# TODO(mamu): Handle multi-objective cases.\u001b[0m\u001b[0;34m\u001b[0m\u001b[0;34m\u001b[0m\u001b[0;34m\u001b[0m\u001b[0m\n",
      "\u001b[0;32m~/.local/lib/python3.8/site-packages/optuna/integration/_lightgbm_tuner/optimize.py\u001b[0m in \u001b[0;36m__call__\u001b[0;34m(self, trial)\u001b[0m\n\u001b[1;32m    318\u001b[0m         \u001b[0mstart_time\u001b[0m \u001b[0;34m=\u001b[0m \u001b[0mtime\u001b[0m\u001b[0;34m.\u001b[0m\u001b[0mtime\u001b[0m\u001b[0;34m(\u001b[0m\u001b[0;34m)\u001b[0m\u001b[0;34m\u001b[0m\u001b[0;34m\u001b[0m\u001b[0m\n\u001b[1;32m    319\u001b[0m         \u001b[0mtrain_set\u001b[0m \u001b[0;34m=\u001b[0m \u001b[0mcopy\u001b[0m\u001b[0;34m.\u001b[0m\u001b[0mcopy\u001b[0m\u001b[0;34m(\u001b[0m\u001b[0mself\u001b[0m\u001b[0;34m.\u001b[0m\u001b[0mtrain_set\u001b[0m\u001b[0;34m)\u001b[0m\u001b[0;34m\u001b[0m\u001b[0;34m\u001b[0m\u001b[0m\n\u001b[0;32m--> 320\u001b[0;31m         \u001b[0mcv_results\u001b[0m \u001b[0;34m=\u001b[0m \u001b[0mlgb\u001b[0m\u001b[0;34m.\u001b[0m\u001b[0mcv\u001b[0m\u001b[0;34m(\u001b[0m\u001b[0mself\u001b[0m\u001b[0;34m.\u001b[0m\u001b[0mlgbm_params\u001b[0m\u001b[0;34m,\u001b[0m \u001b[0mtrain_set\u001b[0m\u001b[0;34m,\u001b[0m \u001b[0;34m**\u001b[0m\u001b[0mself\u001b[0m\u001b[0;34m.\u001b[0m\u001b[0mlgbm_kwargs\u001b[0m\u001b[0;34m)\u001b[0m\u001b[0;34m\u001b[0m\u001b[0;34m\u001b[0m\u001b[0m\n\u001b[0m\u001b[1;32m    321\u001b[0m \u001b[0;34m\u001b[0m\u001b[0m\n\u001b[1;32m    322\u001b[0m         \u001b[0mval_scores\u001b[0m \u001b[0;34m=\u001b[0m \u001b[0mself\u001b[0m\u001b[0;34m.\u001b[0m\u001b[0m_get_cv_scores\u001b[0m\u001b[0;34m(\u001b[0m\u001b[0mcv_results\u001b[0m\u001b[0;34m)\u001b[0m\u001b[0;34m\u001b[0m\u001b[0;34m\u001b[0m\u001b[0m\n",
      "\u001b[0;32m~/.local/lib/python3.8/site-packages/lightgbm/engine.py\u001b[0m in \u001b[0;36mcv\u001b[0;34m(params, train_set, num_boost_round, folds, nfold, stratified, shuffle, metrics, fobj, feval, init_model, feature_name, categorical_feature, early_stopping_rounds, fpreproc, verbose_eval, show_stdv, seed, callbacks, eval_train_metric, return_cvbooster)\u001b[0m\n\u001b[1;32m    638\u001b[0m                                     \u001b[0mend_iteration\u001b[0m\u001b[0;34m=\u001b[0m\u001b[0mnum_boost_round\u001b[0m\u001b[0;34m,\u001b[0m\u001b[0;34m\u001b[0m\u001b[0;34m\u001b[0m\u001b[0m\n\u001b[1;32m    639\u001b[0m                                     evaluation_result_list=None))\n\u001b[0;32m--> 640\u001b[0;31m         \u001b[0mcvfolds\u001b[0m\u001b[0;34m.\u001b[0m\u001b[0mupdate\u001b[0m\u001b[0;34m(\u001b[0m\u001b[0mfobj\u001b[0m\u001b[0;34m=\u001b[0m\u001b[0mfobj\u001b[0m\u001b[0;34m)\u001b[0m\u001b[0;34m\u001b[0m\u001b[0;34m\u001b[0m\u001b[0m\n\u001b[0m\u001b[1;32m    641\u001b[0m         \u001b[0mres\u001b[0m \u001b[0;34m=\u001b[0m \u001b[0m_agg_cv_result\u001b[0m\u001b[0;34m(\u001b[0m\u001b[0mcvfolds\u001b[0m\u001b[0;34m.\u001b[0m\u001b[0meval_valid\u001b[0m\u001b[0;34m(\u001b[0m\u001b[0mfeval\u001b[0m\u001b[0;34m)\u001b[0m\u001b[0;34m,\u001b[0m \u001b[0meval_train_metric\u001b[0m\u001b[0;34m)\u001b[0m\u001b[0;34m\u001b[0m\u001b[0;34m\u001b[0m\u001b[0m\n\u001b[1;32m    642\u001b[0m         \u001b[0;32mfor\u001b[0m \u001b[0m_\u001b[0m\u001b[0;34m,\u001b[0m \u001b[0mkey\u001b[0m\u001b[0;34m,\u001b[0m \u001b[0mmean\u001b[0m\u001b[0;34m,\u001b[0m \u001b[0m_\u001b[0m\u001b[0;34m,\u001b[0m \u001b[0mstd\u001b[0m \u001b[0;32min\u001b[0m \u001b[0mres\u001b[0m\u001b[0;34m:\u001b[0m\u001b[0;34m\u001b[0m\u001b[0;34m\u001b[0m\u001b[0m\n",
      "\u001b[0;32m~/.local/lib/python3.8/site-packages/lightgbm/engine.py\u001b[0m in \u001b[0;36mhandler_function\u001b[0;34m(*args, **kwargs)\u001b[0m\n\u001b[1;32m    351\u001b[0m             \u001b[0mret\u001b[0m \u001b[0;34m=\u001b[0m \u001b[0;34m[\u001b[0m\u001b[0;34m]\u001b[0m\u001b[0;34m\u001b[0m\u001b[0;34m\u001b[0m\u001b[0m\n\u001b[1;32m    352\u001b[0m             \u001b[0;32mfor\u001b[0m \u001b[0mbooster\u001b[0m \u001b[0;32min\u001b[0m \u001b[0mself\u001b[0m\u001b[0;34m.\u001b[0m\u001b[0mboosters\u001b[0m\u001b[0;34m:\u001b[0m\u001b[0;34m\u001b[0m\u001b[0;34m\u001b[0m\u001b[0m\n\u001b[0;32m--> 353\u001b[0;31m                 \u001b[0mret\u001b[0m\u001b[0;34m.\u001b[0m\u001b[0mappend\u001b[0m\u001b[0;34m(\u001b[0m\u001b[0mgetattr\u001b[0m\u001b[0;34m(\u001b[0m\u001b[0mbooster\u001b[0m\u001b[0;34m,\u001b[0m \u001b[0mname\u001b[0m\u001b[0;34m)\u001b[0m\u001b[0;34m(\u001b[0m\u001b[0;34m*\u001b[0m\u001b[0margs\u001b[0m\u001b[0;34m,\u001b[0m \u001b[0;34m**\u001b[0m\u001b[0mkwargs\u001b[0m\u001b[0;34m)\u001b[0m\u001b[0;34m)\u001b[0m\u001b[0;34m\u001b[0m\u001b[0;34m\u001b[0m\u001b[0m\n\u001b[0m\u001b[1;32m    354\u001b[0m             \u001b[0;32mreturn\u001b[0m \u001b[0mret\u001b[0m\u001b[0;34m\u001b[0m\u001b[0;34m\u001b[0m\u001b[0m\n\u001b[1;32m    355\u001b[0m         \u001b[0;32mreturn\u001b[0m \u001b[0mhandler_function\u001b[0m\u001b[0;34m\u001b[0m\u001b[0;34m\u001b[0m\u001b[0m\n",
      "\u001b[0;32m~/.local/lib/python3.8/site-packages/lightgbm/basic.py\u001b[0m in \u001b[0;36mupdate\u001b[0;34m(self, train_set, fobj)\u001b[0m\n\u001b[1;32m   3019\u001b[0m             \u001b[0;32mif\u001b[0m \u001b[0mself\u001b[0m\u001b[0;34m.\u001b[0m\u001b[0m__set_objective_to_none\u001b[0m\u001b[0;34m:\u001b[0m\u001b[0;34m\u001b[0m\u001b[0;34m\u001b[0m\u001b[0m\n\u001b[1;32m   3020\u001b[0m                 \u001b[0;32mraise\u001b[0m \u001b[0mLightGBMError\u001b[0m\u001b[0;34m(\u001b[0m\u001b[0;34m'Cannot update due to null objective function.'\u001b[0m\u001b[0;34m)\u001b[0m\u001b[0;34m\u001b[0m\u001b[0;34m\u001b[0m\u001b[0m\n\u001b[0;32m-> 3021\u001b[0;31m             _safe_call(_LIB.LGBM_BoosterUpdateOneIter(\n\u001b[0m\u001b[1;32m   3022\u001b[0m                 \u001b[0mself\u001b[0m\u001b[0;34m.\u001b[0m\u001b[0mhandle\u001b[0m\u001b[0;34m,\u001b[0m\u001b[0;34m\u001b[0m\u001b[0;34m\u001b[0m\u001b[0m\n\u001b[1;32m   3023\u001b[0m                 ctypes.byref(is_finished)))\n",
      "\u001b[0;31mKeyboardInterrupt\u001b[0m: "
     ]
    }
   ],
   "source": [
    "import numpy as np\n",
    "import pandas as pd\n",
    "from sklearn.model_selection import RepeatedKFold\n",
    "import optuna.integration.lightgbm as lgb\n",
    "import optuna\n",
    "\n",
    "rkf = RepeatedKFold(n_splits=5, n_repeats=10, random_state=42)\n",
    "\n",
    "params = {\n",
    "        \"objective\": \"binary\",\n",
    "        \"metric\": \"auc\",\n",
    "        \"verbosity\": -1,\n",
    "        \"boosting_type\": \"gbdt\",                \n",
    "        \"seed\": 42\n",
    "    }\n",
    "study_tuner = optuna.create_study(direction='maximize')\n",
    "dtrain = lgb.Dataset(X_train_full, label=y_train_full)\n",
    "data_cat = X_train.select_dtypes(include=[object])\n",
    "cat_columns = list(data_cat.columns)\n",
    "ids_of_categorical = cat_columns\n",
    "dtrain = lgb.Dataset(X_train, label=y_train)\n",
    "\n",
    "# Suppress information only outputs - otherwise optuna is \n",
    "# quite verbose, which can be nice, but takes up a lot of space\n",
    "optuna.logging.set_verbosity(optuna.logging.WARNING) \n",
    "\n",
    "# Run optuna LightGBMTunerCV tuning of LightGBM with cross-validation\n",
    "tuner = lgb.LightGBMTunerCV(params, \n",
    "                            dtrain, \n",
    "                            #categorical_feature=ids_of_categorical,\n",
    "                            study=study_tuner,\n",
    "                            verbose_eval=False,                            \n",
    "                            early_stopping_rounds=250,\n",
    "                            time_budget=3000, # Time budget of 5 hours, we will not really need it\n",
    "                            seed = 42,\n",
    "                            folds=rkf,\n",
    "                            num_boost_round=10000,\n",
    "                            callbacks=[lgb.reset_parameter(learning_rate = [0.005]*200 + [0.001]*9800) ] #[0.1]*5 + [0.05]*15 + [0.01]*45 + \n",
    "                           )\n",
    "\n",
    "\n",
    "tuner.run()"
   ]
  },
  {
   "cell_type": "code",
   "execution_count": 180,
   "id": "9b6d52ea-2908-4d5e-a995-914822590acb",
   "metadata": {},
   "outputs": [
    {
     "name": "stdout",
     "output_type": "stream",
     "text": [
      "[LightGBM] [Warning] feature_fraction is set=0.20020645279635316, colsample_bytree=1.0 will be ignored. Current value: feature_fraction=0.20020645279635316\n",
      "[LightGBM] [Warning] min_data_in_leaf is set=56, min_child_samples=20 will be ignored. Current value: min_data_in_leaf=56\n",
      "[LightGBM] [Warning] min_sum_hessian_in_leaf is set=62.297711718914115, min_child_weight=0.001 will be ignored. Current value: min_sum_hessian_in_leaf=62.297711718914115\n",
      "[LightGBM] [Warning] bagging_fraction is set=0.8525494246713672, subsample=0.7438387845838078 will be ignored. Current value: bagging_fraction=0.8525494246713672\n"
     ]
    },
    {
     "data": {
      "text/plain": [
       "0.7742170453613322"
      ]
     },
     "execution_count": 180,
     "metadata": {},
     "output_type": "execute_result"
    }
   ],
   "source": [
    "LGBM = lgb.LGBMClassifier(bagging_fraction = 0.8525494246713672,\n",
    "                          feature_fraction =  0.20020645279635316,\n",
    "                          learning_rate = 0.14434668708405266,\n",
    "                          max_bin = 36,\n",
    "                          max_depth = 8,\n",
    "                          min_data_in_leaf = 56,\n",
    "                          min_sum_hessian_in_leaf = 62.297711718914115,\n",
    "                          num_leaves = 49,\n",
    "                          subsample = 0.7438387845838078)\n",
    "get_roc_score(LGBM, X_train, y_train, X_test, y_test)"
   ]
  },
  {
   "cell_type": "code",
   "execution_count": 183,
   "id": "4375ca3d-77aa-4d69-ba93-cce8419fc1c0",
   "metadata": {},
   "outputs": [
    {
     "name": "stdout",
     "output_type": "stream",
     "text": [
      "<class 'pandas.core.frame.DataFrame'>\n",
      "RangeIndex: 2172 entries, 0 to 2171\n",
      "Data columns (total 32 columns):\n",
      " #   Column                  Non-Null Count  Dtype  \n",
      "---  ------                  --------------  -----  \n",
      " 0   image_count             2172 non-null   float64\n",
      " 1   width                   2172 non-null   float64\n",
      " 2   height                  2172 non-null   float64\n",
      " 3   blurrness               2172 non-null   float64\n",
      " 4   bookmarks               2172 non-null   float64\n",
      " 5   size                    2172 non-null   float64\n",
      " 6   year                    2172 non-null   float64\n",
      " 7   rooms                   2172 non-null   float64\n",
      " 8   words_count             2172 non-null   float64\n",
      " 9   full_options            2172 non-null   float64\n",
      " 10  is_rent                 2172 non-null   float64\n",
      " 11  published_dayofweek     2172 non-null   float64\n",
      " 12  published_season        2172 non-null   float64\n",
      " 13  is_agent                2172 non-null   float64\n",
      " 14  is_tehran               2172 non-null   float64\n",
      " 15  is_niavaran             2172 non-null   float64\n",
      " 16  total_price             2172 non-null   float64\n",
      " 17  rent_type1              2172 non-null   float64\n",
      " 18  rent_type2              2172 non-null   float64\n",
      " 19  rent_to_single1         2172 non-null   float64\n",
      " 20  rent_to_single2         2172 non-null   float64\n",
      " 21  rent_credit_transform1  2172 non-null   float64\n",
      " 22  rent_credit_transform2  2172 non-null   float64\n",
      " 23  username_category0      2172 non-null   float64\n",
      " 24  username_category2      2172 non-null   float64\n",
      " 25  blurriness_cat0         2172 non-null   float64\n",
      " 26  blurriness_cat1         2172 non-null   float64\n",
      " 27  width_cat0              2172 non-null   float64\n",
      " 28  width_cat1              2172 non-null   float64\n",
      " 29  pre_category3           2172 non-null   float64\n",
      " 30  pre_category4           2172 non-null   float64\n",
      " 31  pre_category5           2172 non-null   float64\n",
      "dtypes: float64(32)\n",
      "memory usage: 543.1 KB\n"
     ]
    }
   ],
   "source": [
    "validation_data.info()"
   ]
  },
  {
   "cell_type": "code",
   "execution_count": 46,
   "id": "74fa2a02-bf8d-4478-b614-17f787c2273e",
   "metadata": {},
   "outputs": [],
   "source": [
    "def get_output(model, validation_full, validation):\n",
    "\n",
    "    y_predict_prob = model.predict_proba(validation_full)\n",
    "    y_predict_fake_prob = [prob[1] for prob in y_predict_prob]\n",
    " \n",
    "    validation['prediction'] = y_predict_fake_prob\n",
    "    out = validation[['token', 'prediction']]\n",
    "    out.to_csv('output.csv', index=False)\n",
    "    \n",
    "    return out"
   ]
  },
  {
   "cell_type": "code",
   "execution_count": 184,
   "id": "69de9a6c-9163-4e90-aaec-54c8d3d6b6d7",
   "metadata": {},
   "outputs": [
    {
     "data": {
      "text/html": [
       "<div>\n",
       "<style scoped>\n",
       "    .dataframe tbody tr th:only-of-type {\n",
       "        vertical-align: middle;\n",
       "    }\n",
       "\n",
       "    .dataframe tbody tr th {\n",
       "        vertical-align: top;\n",
       "    }\n",
       "\n",
       "    .dataframe thead th {\n",
       "        text-align: right;\n",
       "    }\n",
       "</style>\n",
       "<table border=\"1\" class=\"dataframe\">\n",
       "  <thead>\n",
       "    <tr style=\"text-align: right;\">\n",
       "      <th></th>\n",
       "      <th>token</th>\n",
       "      <th>prediction</th>\n",
       "    </tr>\n",
       "  </thead>\n",
       "  <tbody>\n",
       "    <tr>\n",
       "      <th>0</th>\n",
       "      <td>QYt9WGLi</td>\n",
       "      <td>0.238306</td>\n",
       "    </tr>\n",
       "    <tr>\n",
       "      <th>1</th>\n",
       "      <td>QYDaIXQH</td>\n",
       "      <td>0.157237</td>\n",
       "    </tr>\n",
       "    <tr>\n",
       "      <th>2</th>\n",
       "      <td>wX-DxjWR</td>\n",
       "      <td>0.146804</td>\n",
       "    </tr>\n",
       "    <tr>\n",
       "      <th>3</th>\n",
       "      <td>QYvPrbxo</td>\n",
       "      <td>0.288773</td>\n",
       "    </tr>\n",
       "    <tr>\n",
       "      <th>4</th>\n",
       "      <td>QYEP35DV</td>\n",
       "      <td>0.715496</td>\n",
       "    </tr>\n",
       "    <tr>\n",
       "      <th>...</th>\n",
       "      <td>...</td>\n",
       "      <td>...</td>\n",
       "    </tr>\n",
       "    <tr>\n",
       "      <th>2167</th>\n",
       "      <td>QYtGvCm5</td>\n",
       "      <td>0.120958</td>\n",
       "    </tr>\n",
       "    <tr>\n",
       "      <th>2168</th>\n",
       "      <td>QY7dxpU8</td>\n",
       "      <td>0.170491</td>\n",
       "    </tr>\n",
       "    <tr>\n",
       "      <th>2169</th>\n",
       "      <td>QYjuJcr9</td>\n",
       "      <td>0.517789</td>\n",
       "    </tr>\n",
       "    <tr>\n",
       "      <th>2170</th>\n",
       "      <td>QYkO40a0</td>\n",
       "      <td>0.309350</td>\n",
       "    </tr>\n",
       "    <tr>\n",
       "      <th>2171</th>\n",
       "      <td>QYCqJ2fP</td>\n",
       "      <td>0.089173</td>\n",
       "    </tr>\n",
       "  </tbody>\n",
       "</table>\n",
       "<p>2172 rows × 2 columns</p>\n",
       "</div>"
      ],
      "text/plain": [
       "         token  prediction\n",
       "0     QYt9WGLi    0.238306\n",
       "1     QYDaIXQH    0.157237\n",
       "2     wX-DxjWR    0.146804\n",
       "3     QYvPrbxo    0.288773\n",
       "4     QYEP35DV    0.715496\n",
       "...        ...         ...\n",
       "2167  QYtGvCm5    0.120958\n",
       "2168  QY7dxpU8    0.170491\n",
       "2169  QYjuJcr9    0.517789\n",
       "2170  QYkO40a0    0.309350\n",
       "2171  QYCqJ2fP    0.089173\n",
       "\n",
       "[2172 rows x 2 columns]"
      ]
     },
     "execution_count": 184,
     "metadata": {},
     "output_type": "execute_result"
    }
   ],
   "source": [
    "get_output(LGBM, validation_data, validation)"
   ]
  },
  {
   "cell_type": "code",
   "execution_count": null,
   "id": "cf0ef6f5-4093-4b3c-b331-f8e03915033a",
   "metadata": {},
   "outputs": [],
   "source": []
  }
 ],
 "metadata": {
  "kernelspec": {
   "display_name": "Python 3",
   "language": "python",
   "name": "python3"
  },
  "language_info": {
   "codemirror_mode": {
    "name": "ipython",
    "version": 3
   },
   "file_extension": ".py",
   "mimetype": "text/x-python",
   "name": "python",
   "nbconvert_exporter": "python",
   "pygments_lexer": "ipython3",
   "version": "3.8.10"
  }
 },
 "nbformat": 4,
 "nbformat_minor": 5
}
