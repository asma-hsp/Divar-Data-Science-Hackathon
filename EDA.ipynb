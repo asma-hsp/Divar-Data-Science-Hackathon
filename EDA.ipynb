{
 "cells": [
  {
   "cell_type": "code",
   "execution_count": 151,
   "id": "14301a75-2d1b-43df-ad14-e87bbe4e2005",
   "metadata": {},
   "outputs": [],
   "source": [
    "import pandas as pd\n",
    "import numpy as np\n",
    "import json\n",
    "import persian\n",
    "import category_encoders as ce\n",
    "import seaborn as sns\n",
    "import matplotlib.pyplot as plt\n",
    "import pickle\n",
    "import hazm"
   ]
  },
  {
   "cell_type": "code",
   "execution_count": 2,
   "id": "78a61737-a3da-495e-9472-e81c513aeedb",
   "metadata": {},
   "outputs": [],
   "source": [
    "path = '/home/asma/Desktop/Divaar/javaneh_amlak/Amlak/'\n",
    "\n",
    "validation = pd.read_csv(path + 'validation.csv')\n",
    "train_labels = pd.read_csv(path + 'train_labels.csv')\n",
    "\n",
    "action_logs = pd.read_parquet(path + 'action_logs.parquet')\n",
    "ladder = pd.read_parquet(path + 'ladder.parquet')\n",
    "posts = pd.read_parquet(path+ 'posts.parquet')\n",
    "\n",
    "image_features = pd.read_csv(path+ 'images_features.csv').drop(['Unnamed: 0'], axis=1)"
   ]
  },
  {
   "cell_type": "code",
   "execution_count": 3,
   "id": "1da5bd95-82d6-482c-96b0-d06c763919f9",
   "metadata": {},
   "outputs": [
    {
     "data": {
      "text/html": [
       "<div>\n",
       "<style scoped>\n",
       "    .dataframe tbody tr th:only-of-type {\n",
       "        vertical-align: middle;\n",
       "    }\n",
       "\n",
       "    .dataframe tbody tr th {\n",
       "        vertical-align: top;\n",
       "    }\n",
       "\n",
       "    .dataframe thead th {\n",
       "        text-align: right;\n",
       "    }\n",
       "</style>\n",
       "<table border=\"1\" class=\"dataframe\">\n",
       "  <thead>\n",
       "    <tr style=\"text-align: right;\">\n",
       "      <th></th>\n",
       "      <th>dullness</th>\n",
       "      <th>whiteness</th>\n",
       "      <th>image_size</th>\n",
       "      <th>width</th>\n",
       "      <th>height</th>\n",
       "      <th>blurrness</th>\n",
       "      <th>token</th>\n",
       "      <th>image_num</th>\n",
       "    </tr>\n",
       "  </thead>\n",
       "  <tbody>\n",
       "    <tr>\n",
       "      <th>0</th>\n",
       "      <td>0.0</td>\n",
       "      <td>2.365</td>\n",
       "      <td>68299</td>\n",
       "      <td>600</td>\n",
       "      <td>600</td>\n",
       "      <td>1809.952067</td>\n",
       "      <td>AY-RNJEr</td>\n",
       "      <td>0.jpg</td>\n",
       "    </tr>\n",
       "    <tr>\n",
       "      <th>9</th>\n",
       "      <td>0.0</td>\n",
       "      <td>0.000</td>\n",
       "      <td>90407</td>\n",
       "      <td>600</td>\n",
       "      <td>600</td>\n",
       "      <td>2881.315465</td>\n",
       "      <td>AY-ncLKW</td>\n",
       "      <td>0.jpg</td>\n",
       "    </tr>\n",
       "    <tr>\n",
       "      <th>10</th>\n",
       "      <td>36.2</td>\n",
       "      <td>44.145</td>\n",
       "      <td>69763</td>\n",
       "      <td>600</td>\n",
       "      <td>600</td>\n",
       "      <td>1394.461501</td>\n",
       "      <td>AY0DAuv8</td>\n",
       "      <td>0.jpg</td>\n",
       "    </tr>\n",
       "  </tbody>\n",
       "</table>\n",
       "</div>"
      ],
      "text/plain": [
       "    dullness  whiteness  image_size  width  height    blurrness     token  \\\n",
       "0        0.0      2.365       68299    600     600  1809.952067  AY-RNJEr   \n",
       "9        0.0      0.000       90407    600     600  2881.315465  AY-ncLKW   \n",
       "10      36.2     44.145       69763    600     600  1394.461501  AY0DAuv8   \n",
       "\n",
       "   image_num  \n",
       "0      0.jpg  \n",
       "9      0.jpg  \n",
       "10     0.jpg  "
      ]
     },
     "execution_count": 3,
     "metadata": {},
     "output_type": "execute_result"
    }
   ],
   "source": [
    "image_features = pd.read_csv(path+ 'images_features.csv').drop(['Unnamed: 0'], axis=1)\n",
    "image_features = image_features.sort_values(by=['token', 'image_num']).reset_index(drop=True)\n",
    "image_features = image_features.drop_duplicates(subset=['token'],keep='first')\n",
    "image_features.head(3)"
   ]
  },
  {
   "cell_type": "code",
   "execution_count": 4,
   "id": "47af2482-6b05-4f49-977f-afd58721fcff",
   "metadata": {},
   "outputs": [],
   "source": [
    "action_logs = action_logs.reset_index(drop=True)\n",
    "action_logs['ds'] = pd.to_datetime(action_logs['ds'])\n",
    "action_logs['by_overuser'] = action_logs['by_overuser'].fillna(False)"
   ]
  },
  {
   "cell_type": "code",
   "execution_count": 5,
   "id": "6c670f45-ae41-438a-b2c2-4a7c384c04ab",
   "metadata": {},
   "outputs": [],
   "source": [
    "def get_action_features(group):\n",
    "    \n",
    "    total = group.shape[0]\n",
    "    clicks = group[group['action']=='click_post'].shape[0] \n",
    "    contacts = group[group['action']=='click_contact'].shape[0] / clicks\n",
    "    bookmarks = group[group['action']=='click_bookmark'].shape[0]/ clicks\n",
    "    by_overusers = group[group['by_overuser']].shape[0] / total\n",
    "    \n",
    "    return total, clicks, contacts, bookmarks, by_overusers"
   ]
  },
  {
   "cell_type": "code",
   "execution_count": 6,
   "id": "45679daa-a8e7-4f6e-9dfb-2fd53781c3ae",
   "metadata": {},
   "outputs": [],
   "source": [
    "tokens_action = action_logs.groupby('token')\\\n",
    "                           .apply(lambda group: get_action_features(group))\\\n",
    "                           .reset_index()\n",
    "tokens_action = pd.concat([tokens_action.drop(0 , axis=1), tokens_action[0].apply(pd.Series)], axis=1)\\\n",
    "                   .rename({0: 'total_actions', 1: 'clicks', 2: 'contacts', 3: 'bookmarks', 4: 'by_overusers'}, axis=1)"
   ]
  },
  {
   "cell_type": "code",
   "execution_count": 42,
   "id": "e8da5489-ce3c-47da-bb51-73f31cfdd778",
   "metadata": {},
   "outputs": [],
   "source": [
    "def fake_percenatge (data, feature):\n",
    "    \n",
    "    fakes = data[data['result']=='fake-post'].groupby([feature])['token'].count().reset_index().rename({'token':'fake-post'},axis=1)\n",
    "    total = data.groupby([feature])['token'].count().reset_index().rename({'token':'total-post'},axis=1)\n",
    "    total_fakes = data[data['result']=='fake-post'].shape[0]\n",
    "    total = total.merge(fakes, on=feature, how='left')\n",
    "    total['value_fake_prcentage'] = total['fake-post'] / total['total-post'] * 100\n",
    "    #total = total.fillna(0)\n",
    "    total['fake_percentage'] = total['fake-post'] / total_fakes * 100\n",
    "    \n",
    "    return total.sort_values(by='fake_percentage', ascending=False)"
   ]
  },
  {
   "cell_type": "code",
   "execution_count": 8,
   "id": "18c44631-eb90-404a-84cb-6e336ad5901e",
   "metadata": {},
   "outputs": [],
   "source": [
    "def find_pre_category(posts):\n",
    "    \n",
    "    residential_sell = ['apartment-sell', 'house-villa-sell', 'plot-old']\n",
    "    residential_rent = ['apartment-rent', 'house-villa-rent']\n",
    "    commercial_sell  = ['office-sell', 'shop-sell','industry-agriculture-business-sell']\n",
    "    commercial_rent  = ['office-rent', 'shop-rent','industry-agriculture-business-rent']\n",
    "    short_term_rent  = ['suite-apartment', 'villa', 'workspace'] \n",
    "    construction     = ['partnership', 'presell']\n",
    "\n",
    "    conditions = [\n",
    "        posts['category'].isin(residential_sell),\n",
    "        posts['category'].isin(residential_rent),\n",
    "        posts['category'].isin(commercial_sell),\n",
    "        posts['category'].isin(commercial_rent),\n",
    "        posts['category'].isin(short_term_rent),\n",
    "        posts['category'].isin(construction)]\n",
    "    \n",
    "    choices = ['residential_sell', 'residential_rent', 'commercial_sell', 'commercial_rent', 'short_term_rent', 'construction' ]\n",
    "    \n",
    "    posts['pre_category'] = np.select(condlist=conditions, choicelist=choices, default='other')\n",
    "    \n",
    "    return posts['pre_category']"
   ]
  },
  {
   "cell_type": "code",
   "execution_count": 9,
   "id": "dfc4460a-da19-482e-8281-477b23420c4a",
   "metadata": {
    "tags": []
   },
   "outputs": [],
   "source": [
    "def extract_from_data_posts(posts_data):\n",
    "    \n",
    "    posts = posts_data.copy()\n",
    "    \n",
    "    posts['data'] = posts['data'].apply(lambda x:json.loads(x))\n",
    "    posts = pd.concat([posts.drop(['data'], axis=1), posts['data'].apply(pd.Series)], axis=1)\n",
    "    #posts = pd.concat([posts.drop(['price'], axis=1), posts['price'].apply(pd.Series)], axis=1)\n",
    "    #posts.drop(0,inplace = True,axis = 1)\n",
    "    #posts.value = posts.value/(10**6)\n",
    "    cat = posts.category.iloc[:,1]\n",
    "    posts.drop('category',inplace = True,axis = 1)\n",
    "    posts['category'] = cat\n",
    "    drop_columns = ['job_title', 'exchange', 'deed_type', 'bizzDeed', 'zoonkan_enabled',\\\n",
    "                    'national_id', 'property_type', 'daily_rent', 'desc']\n",
    "    posts = posts.drop(drop_columns, axis=1, errors='ignore')\n",
    "    \n",
    "    return posts                              "
   ]
  },
  {
   "cell_type": "code",
   "execution_count": 10,
   "id": "b00ad27d-316d-48b1-9d5c-0602a1496f31",
   "metadata": {},
   "outputs": [],
   "source": [
    "def extract_from_contact(data):\n",
    "    \n",
    "    conditions = [\n",
    "        data['contact']=={'chat_enable': 'false', 'chat_enabled': False},\n",
    "        data['contact']=={'hide_phone': False, 'chat_enabled': True},\n",
    "        (data['contact']!={'chat_enabled': False}) & (data['contact']!={'chat_enabled': True})]\n",
    "    \n",
    "    choices = [\n",
    "        {'chat_enabled': False},\n",
    "        {'chat_enabled': True},\n",
    "        {'chat_enabled': False}]\n",
    "    \n",
    "    data['contact'] = np.select(condlist=conditions, choicelist=choices, default= data['contact']) \n",
    "    data = pd.concat([data.drop(['contact'], axis=1), data['contact'].apply(pd.Series)], axis=1)\n",
    "    \n",
    "    return data['chat_enabled'].astype(int)"
   ]
  },
  {
   "cell_type": "code",
   "execution_count": 11,
   "id": "3ce63918-823e-40df-ba96-afbfc2c3ae92",
   "metadata": {},
   "outputs": [],
   "source": [
    "def handle_year (data):\n",
    "    \n",
    "    string_year = 'قبل از ۱۳۷۰'\n",
    "    data['year'] = np.where(data['year']== string_year, 1369, data['year'])\n",
    "    data['year'] = data['year'].apply(lambda x:persian.convert_fa_numbers(x))\n",
    "    data['year'] = np.where(data['year']=='nan', -1, data['year'])\n",
    "    data['year'] = pd.to_numeric(data['year'])\n",
    "    \n",
    "    return data['year']"
   ]
  },
  {
   "cell_type": "code",
   "execution_count": 12,
   "id": "ceb50da3-b0fe-4798-b63a-d37c2d5735b9",
   "metadata": {},
   "outputs": [],
   "source": [
    "def find_username_category(group):\n",
    "    \n",
    "    #print(group)\n",
    "    total_posts = group.shape[0]\n",
    "    fake_posts = group[group['result']=='fake-post'].shape[0]\n",
    "    min_posts = 3\n",
    "    min_fake_ratio = 0.5\n",
    "    username_category = \"defult\"\n",
    "    \n",
    "    if (total_posts<min_posts):\n",
    "        username_category = 'without_history'\n",
    "        \n",
    "    elif ((fake_posts/ total_posts) > min_fake_ratio):\n",
    "        username_category = 'KOSKESH'\n",
    "        \n",
    "    else:\n",
    "        username_category = 'Ok'\n",
    "\n",
    "    return username_category       "
   ]
  },
  {
   "cell_type": "code",
   "execution_count": 13,
   "id": "c6ffc74c-e43c-4534-8c8f-3436ac9b7ecc",
   "metadata": {},
   "outputs": [],
   "source": [
    "def username_category (data):\n",
    "    \n",
    "    data = data.copy()\n",
    "    username_df = data.groupby(['username'])\\\n",
    "                        .apply(lambda group:find_username_category(group))\\\n",
    "                        .reset_index()\\\n",
    "                        .rename({0:'username_category'}, axis=1)\n",
    "\n",
    "    data = data.merge(username_df, on='username', how='left')\n",
    "    \n",
    "    return data['username_category']"
   ]
  },
  {
   "cell_type": "code",
   "execution_count": 14,
   "id": "b8d52088-e852-4558-9b6e-c62f3f91bd1f",
   "metadata": {},
   "outputs": [],
   "source": [
    "def is_rent(data):\n",
    "    \n",
    "    conditions = [\n",
    "        ((data['pre_category'] == 'residential_sell')|\n",
    "        (data['pre_category'] == 'commercial_sell') |\n",
    "        (data['pre_category'] == 'construction')    |\n",
    "        (data['pre_category'] == 'short_term_rent'))]\n",
    "    \n",
    "    choices = [0]\n",
    "    \n",
    "    data['is_rent'] = np.select(condlist= conditions, choicelist=choices, default=1)\n",
    "    \n",
    "    return data['is_rent']"
   ]
  },
  {
   "cell_type": "code",
   "execution_count": 15,
   "id": "70a16f6a-989d-4e06-b88e-9fe4e44df908",
   "metadata": {},
   "outputs": [],
   "source": [
    "def rent_features(data):\n",
    "    \n",
    "    data = data.copy()\n",
    "    data['rent_credit_transform'] = np.where(data['is_rent']==0, 'sell', data['rent_credit_transform'])\n",
    "    data['rent_to_single'] = np.where(data['is_rent']==0, 'sell', data['rent_to_single'])\n",
    "    data['rent_type'] = np.where(data['is_rent']==0, 'sell', data['rent_type'])\n",
    "    data['rent_to_single'] = data['rent_to_single'].fillna('false')\n",
    "    \n",
    "    return data"
   ]
  },
  {
   "cell_type": "code",
   "execution_count": 16,
   "id": "4def9e07-f653-45c9-af3b-ce2dd4e4915c",
   "metadata": {},
   "outputs": [],
   "source": [
    "def handle_image_featuters(data):\n",
    "    \n",
    "    data = data.copy()\n",
    "    blurriness_median = data['blurrness'].median()\n",
    "    width_median = data['width'].median()\n",
    "    \n",
    "    b_conditions = [\n",
    "        (data['blurrness'].isnull()),\n",
    "        (data['blurrness']<=blurriness_median),\n",
    "        (data['blurrness']>blurriness_median)]\n",
    "    \n",
    "    b_choices = [\n",
    "        'no_images',\n",
    "        'low_blurrness',\n",
    "        'high_blurness']\n",
    "    \n",
    "    w_conditions = [\n",
    "        (data['width'].isnull()),\n",
    "        (data['width']<=width_median),\n",
    "        (data['width']>width_median)]\n",
    "    \n",
    "    w_choices = [\n",
    "        'no_images',\n",
    "        'low_width',\n",
    "        'high_width']\n",
    "    \n",
    "    data['blurriness_cat'] = np.select(condlist=b_conditions, choicelist=b_choices)\n",
    "    data['width_cat'] = np.select(condlist=w_conditions, choicelist=w_choices)\n",
    " \n",
    "    \n",
    "    \n",
    "    return data['blurriness_cat'], data['width_cat']"
   ]
  },
  {
   "cell_type": "code",
   "execution_count": 17,
   "id": "f67438fe-3774-4b42-86cf-9dae54ec104a",
   "metadata": {
    "tags": []
   },
   "outputs": [],
   "source": [
    "def handle_actions_features(data):\n",
    "    \n",
    "    data = data.copy()\n",
    "    \n",
    "    contact_median = data['contacts'].median()\n",
    "    by_overuser_q3 = data['by_overusers'].quantile(0.75)\n",
    "    bookmarks_median = data['bookmarks'].median()\n",
    "    \n",
    "    data['contacts_boolean'] = np.where(data['contacts']< contact_median, 0, 1) \n",
    "    data['by_overuser_boolean'] = np.where(data['by_overusers']> by_overuser_q3, 0, 1)\n",
    "    data['bookmark_boolean'] = np.where(data['bookmarks']< bookmarks_median, 0, 1)\n",
    "\n",
    "    return data['contacts_boolean'], data['by_overuser_boolean'], data['bookmark_boolean']"
   ]
  },
  {
   "cell_type": "code",
   "execution_count": 18,
   "id": "896c2a2b-6330-4f7f-ac5a-64b912bd3bd9",
   "metadata": {},
   "outputs": [],
   "source": [
    "def find_price(row):\n",
    "    if (row['is_rent']):\n",
    "        row['new_credit'] = row['new_credit'] +  (row['new_rent']/3000000) * 100000000\n",
    "        price = row['new_credit']* 6\n",
    "    else:\n",
    "        price = row['new_price']\n",
    "    \n",
    "    return np.log(price)"
   ]
  },
  {
   "cell_type": "code",
   "execution_count": 137,
   "id": "1e507a0f-e49f-4481-93ce-1015c93cf975",
   "metadata": {},
   "outputs": [],
   "source": [
    "def preprocess(data):\n",
    "    \n",
    "    data = data.copy()\n",
    "    \n",
    "    data = extract_from_data_posts(data)\n",
    "    data['contacts_boolean'], data['by_overuser_boolean'], data['bookmark_boolean'] = handle_actions_features(data)\n",
    "    data['blurriness_cat'], data['width_cat'] = handle_image_featuters(data)\n",
    "    data['chat_enabled'] = extract_from_contact(data)\n",
    "    data['year'] = handle_year(data)\n",
    "\n",
    "    data['full_options'] = np.where(((data['parking']=='true')\\\n",
    "                                     & (data['elevator']=='true')\\\n",
    "                                     & (data['warehouse']=='true')), 1, 0) \n",
    "\n",
    "    data['is_new'] = np.where(data['year']>1390, 1, 0)\n",
    "    data['pre_category'] = find_pre_category(data)    \n",
    "    data['is_rent'] = is_rent(data)\n",
    "    data = rent_features(data)\n",
    "    \n",
    "    data['published_year'] = data['first_published_at'].dt.year\n",
    "    data['published_dayofweek'] = data['first_published_at'].dt.dayofweek\n",
    "    data['published_hour'] = data['first_published_at'].dt.hour\n",
    "    data['published_year'] = np.where(data['published_year']<2021, 2021, data['published_year'])\n",
    "    data['published_year'] = np.where(data['published_year']==2021, 0, 1)\n",
    "    data['published_month'] = data['first_published_at'].dt.month\n",
    "    data['published_season'] = np.where(data['published_month']<4, 1, 0)\n",
    "    \n",
    "    data['image_count'] = data['image_count'].astype(int)\n",
    "    data['is_agent'] = np.where(data['username'].isnull(), 1, 0)\n",
    "    data['is_tehran'] = np.where(data['city']=='tehran', 1, 0) \n",
    "    data['is_niavaran'] = np.where(data['district']=='niavaran', 1, 0)\n",
    "    user_type_string = 'شخصی'\n",
    "    data['user_type'] = np.where(data['user_type']==user_type_string, 0, 1) #is_agent\n",
    "    \n",
    "    \n",
    "    data['total_price'] = data.apply(lambda row:  find_price(row), axis=1)\n",
    "    data['total_price'] = data['total_price'].fillna(data['total_price'].median())\n",
    "    \n",
    "    \n",
    "    return data"
   ]
  },
  {
   "cell_type": "code",
   "execution_count": 32,
   "id": "cd609644-f3f9-459b-8461-7d7c3e5c8dff",
   "metadata": {},
   "outputs": [],
   "source": [
    "def train_preprocess(train_data):\n",
    "    \n",
    "    data = train_data.copy()\n",
    "    ##for train_data\n",
    "    data = data.dropna(subset=['first_published_at']).reset_index(drop=True)   \n",
    "    drop_columns = ['tag', 'call_date']\n",
    "    data.drop(drop_columns, axis=1, inplace=True)\n",
    "    \n",
    "    data['username_category'] = username_category(data)\n",
    "    data['username_category'] = data['username_category'].fillna('without_history')\n",
    "\n",
    "    \n",
    "    return data"
   ]
  },
  {
   "cell_type": "code",
   "execution_count": 33,
   "id": "10e4f465-eb11-4d86-9509-a09343e19358",
   "metadata": {},
   "outputs": [],
   "source": [
    "def validation_preprocess(validation_data, train_data):\n",
    "    \n",
    "    user_df = train_data[['username_category', 'username']].drop_duplicates(['username'])\n",
    "    drop_columns = ['call_date']\n",
    "    validation_data.drop(drop_columns, axis=1, inplace=True)\n",
    "    #print(user_df.shape)\n",
    "    validation_data = validation_data.merge(user_df, on='username', how='left')\n",
    "    validation_data['username_category'] = validation_data['username_category'].fillna('without_history')\n",
    "    \n",
    "    return validation_data"
   ]
  },
  {
   "cell_type": "code",
   "execution_count": 139,
   "id": "1e7ad505-7922-429a-b4fe-59e09fcf2d0d",
   "metadata": {},
   "outputs": [],
   "source": [
    "train_posts = train_labels.merge(posts, on='token', how='left')\n",
    "validation_posts = validation.merge(posts, on='token', how='left')"
   ]
  },
  {
   "cell_type": "code",
   "execution_count": 140,
   "id": "4708dcdc-428a-49b4-8a88-3d766c695859",
   "metadata": {},
   "outputs": [],
   "source": [
    "train_posts = train_posts.merge(image_features, on= 'token', how='left')\n",
    "validation_posts = validation_posts.merge(image_features, on='token', how= 'left')"
   ]
  },
  {
   "cell_type": "code",
   "execution_count": 141,
   "id": "ca1f4458-7c1c-42b9-a9c5-390497fad945",
   "metadata": {},
   "outputs": [],
   "source": [
    "train_posts = train_posts.merge(tokens_action, on='token', how='left')\n",
    "validation_posts = validation_posts.merge(tokens_action, on='token', how='left')"
   ]
  },
  {
   "cell_type": "code",
   "execution_count": 142,
   "id": "502bee47-d8aa-4d75-a731-a28878b0d772",
   "metadata": {},
   "outputs": [],
   "source": [
    "train_data = train_preprocess(train_posts)\n",
    "validation_data =validation_preprocess(validation_posts, train_data)\n",
    "train_data = preprocess(train_data)\n",
    "validation_data = preprocess(validation_data)"
   ]
  },
  {
   "cell_type": "code",
   "execution_count": 38,
   "id": "0e8242a9-0dd4-4cd1-94f8-a10712714eab",
   "metadata": {},
   "outputs": [
    {
     "data": {
      "text/plain": [
       "count    5999.000000\n",
       "mean        0.055499\n",
       "std         0.050881\n",
       "min         0.000000\n",
       "25%         0.022565\n",
       "50%         0.040000\n",
       "75%         0.071628\n",
       "max         0.500000\n",
       "Name: contacts, dtype: float64"
      ]
     },
     "execution_count": 38,
     "metadata": {},
     "output_type": "execute_result"
    }
   ],
   "source": [
    "train_data['contacts'].describe()"
   ]
  },
  {
   "cell_type": "code",
   "execution_count": 39,
   "id": "f9166bee-845c-41f5-9b30-94cbd89c5fc3",
   "metadata": {},
   "outputs": [],
   "source": [
    "bins = [-1, 0.02, 0.04, 0.07, 1]\n",
    "labels = ['very_low', 'low', 'high', 'very_high']\n",
    "\n",
    "train_data['contacts_bin'] = pd.cut(train_data['contacts'], bins= bins, labels= labels)"
   ]
  },
  {
   "cell_type": "code",
   "execution_count": 40,
   "id": "028cfc5e-7ab2-4cf1-a0d2-042f1eea49b6",
   "metadata": {},
   "outputs": [
    {
     "data": {
      "text/plain": [
       "low          1737\n",
       "very_high    1560\n",
       "high         1423\n",
       "very_low     1279\n",
       "Name: contacts_bin, dtype: int64"
      ]
     },
     "execution_count": 40,
     "metadata": {},
     "output_type": "execute_result"
    }
   ],
   "source": [
    "train_data['contacts_bin'].value_counts(dropna=False)"
   ]
  },
  {
   "cell_type": "code",
   "execution_count": 43,
   "id": "12d69e97-5271-4624-8d87-cbc22befb8c7",
   "metadata": {},
   "outputs": [
    {
     "data": {
      "text/html": [
       "<div>\n",
       "<style scoped>\n",
       "    .dataframe tbody tr th:only-of-type {\n",
       "        vertical-align: middle;\n",
       "    }\n",
       "\n",
       "    .dataframe tbody tr th {\n",
       "        vertical-align: top;\n",
       "    }\n",
       "\n",
       "    .dataframe thead th {\n",
       "        text-align: right;\n",
       "    }\n",
       "</style>\n",
       "<table border=\"1\" class=\"dataframe\">\n",
       "  <thead>\n",
       "    <tr style=\"text-align: right;\">\n",
       "      <th></th>\n",
       "      <th>contacts_bin</th>\n",
       "      <th>total-post</th>\n",
       "      <th>fake-post</th>\n",
       "      <th>value_fake_prcentage</th>\n",
       "      <th>fake_percentage</th>\n",
       "    </tr>\n",
       "  </thead>\n",
       "  <tbody>\n",
       "    <tr>\n",
       "      <th>1</th>\n",
       "      <td>low</td>\n",
       "      <td>1737</td>\n",
       "      <td>516</td>\n",
       "      <td>29.706390</td>\n",
       "      <td>28.304992</td>\n",
       "    </tr>\n",
       "    <tr>\n",
       "      <th>3</th>\n",
       "      <td>very_high</td>\n",
       "      <td>1560</td>\n",
       "      <td>516</td>\n",
       "      <td>33.076923</td>\n",
       "      <td>28.304992</td>\n",
       "    </tr>\n",
       "    <tr>\n",
       "      <th>2</th>\n",
       "      <td>high</td>\n",
       "      <td>1423</td>\n",
       "      <td>461</td>\n",
       "      <td>32.396346</td>\n",
       "      <td>25.287987</td>\n",
       "    </tr>\n",
       "    <tr>\n",
       "      <th>0</th>\n",
       "      <td>very_low</td>\n",
       "      <td>1279</td>\n",
       "      <td>330</td>\n",
       "      <td>25.801407</td>\n",
       "      <td>18.102030</td>\n",
       "    </tr>\n",
       "  </tbody>\n",
       "</table>\n",
       "</div>"
      ],
      "text/plain": [
       "  contacts_bin  total-post  fake-post  value_fake_prcentage  fake_percentage\n",
       "1          low        1737        516             29.706390        28.304992\n",
       "3    very_high        1560        516             33.076923        28.304992\n",
       "2         high        1423        461             32.396346        25.287987\n",
       "0     very_low        1279        330             25.801407        18.102030"
      ]
     },
     "execution_count": 43,
     "metadata": {},
     "output_type": "execute_result"
    }
   ],
   "source": [
    "fake_percenatge(train_data, 'contacts_bin')"
   ]
  },
  {
   "cell_type": "code",
   "execution_count": 44,
   "id": "183c231c-1a11-4df8-8d18-40c660a5735f",
   "metadata": {},
   "outputs": [
    {
     "data": {
      "text/plain": [
       "count    5999.000000\n",
       "mean        0.109583\n",
       "std         0.115870\n",
       "min         0.000000\n",
       "25%         0.052632\n",
       "50%         0.073529\n",
       "75%         0.112979\n",
       "max         0.889764\n",
       "Name: by_overusers, dtype: float64"
      ]
     },
     "execution_count": 44,
     "metadata": {},
     "output_type": "execute_result"
    }
   ],
   "source": [
    "train_data['by_overusers'].describe()"
   ]
  },
  {
   "cell_type": "code",
   "execution_count": 45,
   "id": "efdbfcbe-bccc-45e0-b024-bbb737fc649f",
   "metadata": {},
   "outputs": [],
   "source": [
    "bins = [-1, 0.05, 0.07, 0.11, 1]\n",
    "labels = ['very_low', 'low', 'high', 'very_high']\n",
    "\n",
    "train_data['by_overusers_bin'] = pd.cut(train_data['by_overusers'], bins= bins, labels= labels)"
   ]
  },
  {
   "cell_type": "code",
   "execution_count": 46,
   "id": "79a8a3ad-6c72-467c-ac9a-63ababb98c82",
   "metadata": {},
   "outputs": [
    {
     "data": {
      "text/plain": [
       "high         1643\n",
       "very_high    1570\n",
       "low          1478\n",
       "very_low     1308\n",
       "Name: by_overusers_bin, dtype: int64"
      ]
     },
     "execution_count": 46,
     "metadata": {},
     "output_type": "execute_result"
    }
   ],
   "source": [
    "train_data['by_overusers_bin'].value_counts(dropna=False)"
   ]
  },
  {
   "cell_type": "code",
   "execution_count": 47,
   "id": "ca285f89-e65b-4631-8c67-3ae68f13cb18",
   "metadata": {},
   "outputs": [
    {
     "data": {
      "text/html": [
       "<div>\n",
       "<style scoped>\n",
       "    .dataframe tbody tr th:only-of-type {\n",
       "        vertical-align: middle;\n",
       "    }\n",
       "\n",
       "    .dataframe tbody tr th {\n",
       "        vertical-align: top;\n",
       "    }\n",
       "\n",
       "    .dataframe thead th {\n",
       "        text-align: right;\n",
       "    }\n",
       "</style>\n",
       "<table border=\"1\" class=\"dataframe\">\n",
       "  <thead>\n",
       "    <tr style=\"text-align: right;\">\n",
       "      <th></th>\n",
       "      <th>by_overusers_bin</th>\n",
       "      <th>total-post</th>\n",
       "      <th>fake-post</th>\n",
       "      <th>value_fake_prcentage</th>\n",
       "      <th>fake_percentage</th>\n",
       "    </tr>\n",
       "  </thead>\n",
       "  <tbody>\n",
       "    <tr>\n",
       "      <th>1</th>\n",
       "      <td>low</td>\n",
       "      <td>1478</td>\n",
       "      <td>513</td>\n",
       "      <td>34.709066</td>\n",
       "      <td>28.140428</td>\n",
       "    </tr>\n",
       "    <tr>\n",
       "      <th>2</th>\n",
       "      <td>high</td>\n",
       "      <td>1643</td>\n",
       "      <td>510</td>\n",
       "      <td>31.040779</td>\n",
       "      <td>27.975864</td>\n",
       "    </tr>\n",
       "    <tr>\n",
       "      <th>0</th>\n",
       "      <td>very_low</td>\n",
       "      <td>1308</td>\n",
       "      <td>459</td>\n",
       "      <td>35.091743</td>\n",
       "      <td>25.178278</td>\n",
       "    </tr>\n",
       "    <tr>\n",
       "      <th>3</th>\n",
       "      <td>very_high</td>\n",
       "      <td>1570</td>\n",
       "      <td>341</td>\n",
       "      <td>21.719745</td>\n",
       "      <td>18.705431</td>\n",
       "    </tr>\n",
       "  </tbody>\n",
       "</table>\n",
       "</div>"
      ],
      "text/plain": [
       "  by_overusers_bin  total-post  fake-post  value_fake_prcentage  \\\n",
       "1              low        1478        513             34.709066   \n",
       "2             high        1643        510             31.040779   \n",
       "0         very_low        1308        459             35.091743   \n",
       "3        very_high        1570        341             21.719745   \n",
       "\n",
       "   fake_percentage  \n",
       "1        28.140428  \n",
       "2        27.975864  \n",
       "0        25.178278  \n",
       "3        18.705431  "
      ]
     },
     "execution_count": 47,
     "metadata": {},
     "output_type": "execute_result"
    }
   ],
   "source": [
    "fake_percenatge(train_data, 'by_overusers_bin')"
   ]
  },
  {
   "cell_type": "code",
   "execution_count": 48,
   "id": "7d0cefde-9e5f-45c4-ba9e-77864a3fc7b8",
   "metadata": {},
   "outputs": [
    {
     "data": {
      "text/plain": [
       "count     5999.000000\n",
       "mean       538.497750\n",
       "std       1106.724309\n",
       "min          4.000000\n",
       "25%        137.000000\n",
       "50%        282.000000\n",
       "75%        575.000000\n",
       "max      39621.000000\n",
       "Name: clicks, dtype: float64"
      ]
     },
     "execution_count": 48,
     "metadata": {},
     "output_type": "execute_result"
    }
   ],
   "source": [
    "train_data['clicks'].describe()"
   ]
  },
  {
   "cell_type": "code",
   "execution_count": 49,
   "id": "3bc94986-2f44-4027-9832-01365d95913b",
   "metadata": {},
   "outputs": [],
   "source": [
    "bins = [-1, 137, 282, 575, 100000000]\n",
    "labels = ['very_low', 'low', 'high', 'very_high']\n",
    "\n",
    "train_data['clicks_bin'] = pd.cut(train_data['clicks'], bins= bins, labels= labels)"
   ]
  },
  {
   "cell_type": "code",
   "execution_count": 50,
   "id": "151bd4d7-491f-40dd-84ff-361c5520c83f",
   "metadata": {},
   "outputs": [
    {
     "data": {
      "text/plain": [
       "high         1502\n",
       "very_low     1501\n",
       "low          1500\n",
       "very_high    1496\n",
       "Name: clicks_bin, dtype: int64"
      ]
     },
     "execution_count": 50,
     "metadata": {},
     "output_type": "execute_result"
    }
   ],
   "source": [
    "train_data['clicks_bin'].value_counts(dropna=False)"
   ]
  },
  {
   "cell_type": "code",
   "execution_count": 51,
   "id": "a0b8006e-2ae0-45d9-89d1-7aa5a278f19f",
   "metadata": {},
   "outputs": [
    {
     "data": {
      "text/html": [
       "<div>\n",
       "<style scoped>\n",
       "    .dataframe tbody tr th:only-of-type {\n",
       "        vertical-align: middle;\n",
       "    }\n",
       "\n",
       "    .dataframe tbody tr th {\n",
       "        vertical-align: top;\n",
       "    }\n",
       "\n",
       "    .dataframe thead th {\n",
       "        text-align: right;\n",
       "    }\n",
       "</style>\n",
       "<table border=\"1\" class=\"dataframe\">\n",
       "  <thead>\n",
       "    <tr style=\"text-align: right;\">\n",
       "      <th></th>\n",
       "      <th>clicks_bin</th>\n",
       "      <th>total-post</th>\n",
       "      <th>fake-post</th>\n",
       "      <th>value_fake_prcentage</th>\n",
       "      <th>fake_percentage</th>\n",
       "    </tr>\n",
       "  </thead>\n",
       "  <tbody>\n",
       "    <tr>\n",
       "      <th>0</th>\n",
       "      <td>very_low</td>\n",
       "      <td>1501</td>\n",
       "      <td>474</td>\n",
       "      <td>31.578947</td>\n",
       "      <td>26.001097</td>\n",
       "    </tr>\n",
       "    <tr>\n",
       "      <th>3</th>\n",
       "      <td>very_high</td>\n",
       "      <td>1496</td>\n",
       "      <td>469</td>\n",
       "      <td>31.350267</td>\n",
       "      <td>25.726824</td>\n",
       "    </tr>\n",
       "    <tr>\n",
       "      <th>2</th>\n",
       "      <td>high</td>\n",
       "      <td>1502</td>\n",
       "      <td>461</td>\n",
       "      <td>30.692410</td>\n",
       "      <td>25.287987</td>\n",
       "    </tr>\n",
       "    <tr>\n",
       "      <th>1</th>\n",
       "      <td>low</td>\n",
       "      <td>1500</td>\n",
       "      <td>419</td>\n",
       "      <td>27.933333</td>\n",
       "      <td>22.984092</td>\n",
       "    </tr>\n",
       "  </tbody>\n",
       "</table>\n",
       "</div>"
      ],
      "text/plain": [
       "  clicks_bin  total-post  fake-post  value_fake_prcentage  fake_percentage\n",
       "0   very_low        1501        474             31.578947        26.001097\n",
       "3  very_high        1496        469             31.350267        25.726824\n",
       "2       high        1502        461             30.692410        25.287987\n",
       "1        low        1500        419             27.933333        22.984092"
      ]
     },
     "execution_count": 51,
     "metadata": {},
     "output_type": "execute_result"
    }
   ],
   "source": [
    "fake_percenatge(train_data, 'clicks_bin')"
   ]
  },
  {
   "cell_type": "code",
   "execution_count": 52,
   "id": "02008638-6cbc-41e9-a525-d1727ee71b0a",
   "metadata": {},
   "outputs": [
    {
     "data": {
      "text/plain": [
       "count    5999.000000\n",
       "mean        0.039190\n",
       "std         0.029401\n",
       "min         0.000000\n",
       "25%         0.017563\n",
       "50%         0.033333\n",
       "75%         0.054371\n",
       "max         0.250000\n",
       "Name: bookmarks, dtype: float64"
      ]
     },
     "execution_count": 52,
     "metadata": {},
     "output_type": "execute_result"
    }
   ],
   "source": [
    "train_data['bookmarks'].describe()"
   ]
  },
  {
   "cell_type": "code",
   "execution_count": 53,
   "id": "67269dbd-8966-41fb-98b3-2fc16259c24c",
   "metadata": {},
   "outputs": [],
   "source": [
    "bins = [-1, 0.017, 0.033, 0.05, 1]\n",
    "labels = ['very_low', 'low', 'high', 'very_high']\n",
    "\n",
    "train_data['bookmarks_bin'] = pd.cut(train_data['bookmarks'], bins= bins, labels= labels)"
   ]
  },
  {
   "cell_type": "code",
   "execution_count": 54,
   "id": "b9c6cb37-a965-42e2-a1c2-de40192e38e3",
   "metadata": {},
   "outputs": [
    {
     "data": {
      "text/plain": [
       "very_high    1744\n",
       "low          1516\n",
       "very_low     1447\n",
       "high         1292\n",
       "Name: bookmarks_bin, dtype: int64"
      ]
     },
     "execution_count": 54,
     "metadata": {},
     "output_type": "execute_result"
    }
   ],
   "source": [
    "train_data['bookmarks_bin'].value_counts(dropna=False)"
   ]
  },
  {
   "cell_type": "code",
   "execution_count": 55,
   "id": "e47882ee-56e9-42ce-95ac-1b7ad0829dce",
   "metadata": {},
   "outputs": [
    {
     "data": {
      "text/html": [
       "<div>\n",
       "<style scoped>\n",
       "    .dataframe tbody tr th:only-of-type {\n",
       "        vertical-align: middle;\n",
       "    }\n",
       "\n",
       "    .dataframe tbody tr th {\n",
       "        vertical-align: top;\n",
       "    }\n",
       "\n",
       "    .dataframe thead th {\n",
       "        text-align: right;\n",
       "    }\n",
       "</style>\n",
       "<table border=\"1\" class=\"dataframe\">\n",
       "  <thead>\n",
       "    <tr style=\"text-align: right;\">\n",
       "      <th></th>\n",
       "      <th>bookmarks_bin</th>\n",
       "      <th>total-post</th>\n",
       "      <th>fake-post</th>\n",
       "      <th>value_fake_prcentage</th>\n",
       "      <th>fake_percentage</th>\n",
       "    </tr>\n",
       "  </thead>\n",
       "  <tbody>\n",
       "    <tr>\n",
       "      <th>3</th>\n",
       "      <td>very_high</td>\n",
       "      <td>1744</td>\n",
       "      <td>635</td>\n",
       "      <td>36.410550</td>\n",
       "      <td>34.832693</td>\n",
       "    </tr>\n",
       "    <tr>\n",
       "      <th>1</th>\n",
       "      <td>low</td>\n",
       "      <td>1516</td>\n",
       "      <td>405</td>\n",
       "      <td>26.715040</td>\n",
       "      <td>22.216127</td>\n",
       "    </tr>\n",
       "    <tr>\n",
       "      <th>2</th>\n",
       "      <td>high</td>\n",
       "      <td>1292</td>\n",
       "      <td>393</td>\n",
       "      <td>30.417957</td>\n",
       "      <td>21.557872</td>\n",
       "    </tr>\n",
       "    <tr>\n",
       "      <th>0</th>\n",
       "      <td>very_low</td>\n",
       "      <td>1447</td>\n",
       "      <td>390</td>\n",
       "      <td>26.952315</td>\n",
       "      <td>21.393308</td>\n",
       "    </tr>\n",
       "  </tbody>\n",
       "</table>\n",
       "</div>"
      ],
      "text/plain": [
       "  bookmarks_bin  total-post  fake-post  value_fake_prcentage  fake_percentage\n",
       "3     very_high        1744        635             36.410550        34.832693\n",
       "1           low        1516        405             26.715040        22.216127\n",
       "2          high        1292        393             30.417957        21.557872\n",
       "0      very_low        1447        390             26.952315        21.393308"
      ]
     },
     "execution_count": 55,
     "metadata": {},
     "output_type": "execute_result"
    }
   ],
   "source": [
    "fake_percenatge(train_data, 'bookmarks_bin')"
   ]
  },
  {
   "cell_type": "code",
   "execution_count": 56,
   "id": "90b368b4-2f27-4c0b-a16a-9a62229f2df6",
   "metadata": {},
   "outputs": [
    {
     "data": {
      "text/plain": [
       "count     5999.000000\n",
       "mean       589.183864\n",
       "std       1236.691687\n",
       "min          5.000000\n",
       "25%        150.000000\n",
       "50%        308.000000\n",
       "75%        627.000000\n",
       "max      47195.000000\n",
       "Name: total_actions, dtype: float64"
      ]
     },
     "execution_count": 56,
     "metadata": {},
     "output_type": "execute_result"
    }
   ],
   "source": [
    "train_data['total_actions'].describe()"
   ]
  },
  {
   "cell_type": "code",
   "execution_count": 57,
   "id": "e2c5ac29-a899-4988-abce-8baf4da75d68",
   "metadata": {},
   "outputs": [],
   "source": [
    "bins = [-1, 150, 308, 627, 1000000000]\n",
    "labels = ['very_low', 'low', 'high', 'very_high']\n",
    "\n",
    "train_data['total_bin'] = pd.cut(train_data['total_actions'], bins= bins, labels= labels)"
   ]
  },
  {
   "cell_type": "code",
   "execution_count": 58,
   "id": "8e7f235e-770e-41cb-977c-f301e8828ce3",
   "metadata": {},
   "outputs": [
    {
     "data": {
      "text/plain": [
       "very_low     1508\n",
       "high         1501\n",
       "very_high    1498\n",
       "low          1492\n",
       "Name: total_bin, dtype: int64"
      ]
     },
     "execution_count": 58,
     "metadata": {},
     "output_type": "execute_result"
    }
   ],
   "source": [
    "train_data['total_bin'].value_counts(dropna=False)"
   ]
  },
  {
   "cell_type": "code",
   "execution_count": 59,
   "id": "a6e271cf-456c-4ccc-8cf5-d8d1bcb8b835",
   "metadata": {},
   "outputs": [
    {
     "data": {
      "text/html": [
       "<div>\n",
       "<style scoped>\n",
       "    .dataframe tbody tr th:only-of-type {\n",
       "        vertical-align: middle;\n",
       "    }\n",
       "\n",
       "    .dataframe tbody tr th {\n",
       "        vertical-align: top;\n",
       "    }\n",
       "\n",
       "    .dataframe thead th {\n",
       "        text-align: right;\n",
       "    }\n",
       "</style>\n",
       "<table border=\"1\" class=\"dataframe\">\n",
       "  <thead>\n",
       "    <tr style=\"text-align: right;\">\n",
       "      <th></th>\n",
       "      <th>total_bin</th>\n",
       "      <th>total-post</th>\n",
       "      <th>fake-post</th>\n",
       "      <th>value_fake_prcentage</th>\n",
       "      <th>fake_percentage</th>\n",
       "    </tr>\n",
       "  </thead>\n",
       "  <tbody>\n",
       "    <tr>\n",
       "      <th>3</th>\n",
       "      <td>very_high</td>\n",
       "      <td>1498</td>\n",
       "      <td>477</td>\n",
       "      <td>31.842457</td>\n",
       "      <td>26.165661</td>\n",
       "    </tr>\n",
       "    <tr>\n",
       "      <th>0</th>\n",
       "      <td>very_low</td>\n",
       "      <td>1508</td>\n",
       "      <td>471</td>\n",
       "      <td>31.233422</td>\n",
       "      <td>25.836533</td>\n",
       "    </tr>\n",
       "    <tr>\n",
       "      <th>2</th>\n",
       "      <td>high</td>\n",
       "      <td>1501</td>\n",
       "      <td>454</td>\n",
       "      <td>30.246502</td>\n",
       "      <td>24.904004</td>\n",
       "    </tr>\n",
       "    <tr>\n",
       "      <th>1</th>\n",
       "      <td>low</td>\n",
       "      <td>1492</td>\n",
       "      <td>421</td>\n",
       "      <td>28.217158</td>\n",
       "      <td>23.093801</td>\n",
       "    </tr>\n",
       "  </tbody>\n",
       "</table>\n",
       "</div>"
      ],
      "text/plain": [
       "   total_bin  total-post  fake-post  value_fake_prcentage  fake_percentage\n",
       "3  very_high        1498        477             31.842457        26.165661\n",
       "0   very_low        1508        471             31.233422        25.836533\n",
       "2       high        1501        454             30.246502        24.904004\n",
       "1        low        1492        421             28.217158        23.093801"
      ]
     },
     "execution_count": 59,
     "metadata": {},
     "output_type": "execute_result"
    }
   ],
   "source": [
    "fake_percenatge(train_data, 'total_bin')"
   ]
  },
  {
   "cell_type": "code",
   "execution_count": 62,
   "id": "ee1467ca-ec8a-4203-addd-febeee2989c5",
   "metadata": {},
   "outputs": [
    {
     "data": {
      "text/html": [
       "<div>\n",
       "<style scoped>\n",
       "    .dataframe tbody tr th:only-of-type {\n",
       "        vertical-align: middle;\n",
       "    }\n",
       "\n",
       "    .dataframe tbody tr th {\n",
       "        vertical-align: top;\n",
       "    }\n",
       "\n",
       "    .dataframe thead th {\n",
       "        text-align: right;\n",
       "    }\n",
       "</style>\n",
       "<table border=\"1\" class=\"dataframe\">\n",
       "  <thead>\n",
       "    <tr style=\"text-align: right;\">\n",
       "      <th></th>\n",
       "      <th>image_size_boolean</th>\n",
       "      <th>total-post</th>\n",
       "      <th>fake-post</th>\n",
       "      <th>value_fake_prcentage</th>\n",
       "      <th>fake_percentage</th>\n",
       "    </tr>\n",
       "  </thead>\n",
       "  <tbody>\n",
       "    <tr>\n",
       "      <th>1</th>\n",
       "      <td>1</td>\n",
       "      <td>3583</td>\n",
       "      <td>1161</td>\n",
       "      <td>32.403014</td>\n",
       "      <td>63.686231</td>\n",
       "    </tr>\n",
       "    <tr>\n",
       "      <th>0</th>\n",
       "      <td>0</td>\n",
       "      <td>2416</td>\n",
       "      <td>662</td>\n",
       "      <td>27.400662</td>\n",
       "      <td>36.313769</td>\n",
       "    </tr>\n",
       "  </tbody>\n",
       "</table>\n",
       "</div>"
      ],
      "text/plain": [
       "   image_size_boolean  total-post  fake-post  value_fake_prcentage  \\\n",
       "1                   1        3583       1161             32.403014   \n",
       "0                   0        2416        662             27.400662   \n",
       "\n",
       "   fake_percentage  \n",
       "1        63.686231  \n",
       "0        36.313769  "
      ]
     },
     "execution_count": 62,
     "metadata": {},
     "output_type": "execute_result"
    }
   ],
   "source": [
    "train_data['image_size_boolean'] = np.where((train_data['image_size']<61000), 0, 1)\n",
    "fake_percenatge(train_data, 'image_size_boolean')"
   ]
  },
  {
   "cell_type": "code",
   "execution_count": 64,
   "id": "8c5dd509-a68b-4375-ad96-fd168a6c194e",
   "metadata": {},
   "outputs": [
    {
     "data": {
      "text/html": [
       "<div>\n",
       "<style scoped>\n",
       "    .dataframe tbody tr th:only-of-type {\n",
       "        vertical-align: middle;\n",
       "    }\n",
       "\n",
       "    .dataframe tbody tr th {\n",
       "        vertical-align: top;\n",
       "    }\n",
       "\n",
       "    .dataframe thead th {\n",
       "        text-align: right;\n",
       "    }\n",
       "</style>\n",
       "<table border=\"1\" class=\"dataframe\">\n",
       "  <thead>\n",
       "    <tr style=\"text-align: right;\">\n",
       "      <th></th>\n",
       "      <th>dullness_boolean</th>\n",
       "      <th>total-post</th>\n",
       "      <th>fake-post</th>\n",
       "      <th>value_fake_prcentage</th>\n",
       "      <th>fake_percentage</th>\n",
       "    </tr>\n",
       "  </thead>\n",
       "  <tbody>\n",
       "    <tr>\n",
       "      <th>0</th>\n",
       "      <td>0</td>\n",
       "      <td>3349</td>\n",
       "      <td>1036</td>\n",
       "      <td>30.934607</td>\n",
       "      <td>56.829402</td>\n",
       "    </tr>\n",
       "    <tr>\n",
       "      <th>1</th>\n",
       "      <td>1</td>\n",
       "      <td>2650</td>\n",
       "      <td>787</td>\n",
       "      <td>29.698113</td>\n",
       "      <td>43.170598</td>\n",
       "    </tr>\n",
       "  </tbody>\n",
       "</table>\n",
       "</div>"
      ],
      "text/plain": [
       "   dullness_boolean  total-post  fake-post  value_fake_prcentage  \\\n",
       "0                 0        3349       1036             30.934607   \n",
       "1                 1        2650        787             29.698113   \n",
       "\n",
       "   fake_percentage  \n",
       "0        56.829402  \n",
       "1        43.170598  "
      ]
     },
     "execution_count": 64,
     "metadata": {},
     "output_type": "execute_result"
    }
   ],
   "source": [
    "train_data['dullness_boolean'] = np.where((train_data['dullness']<=2), 0, 1)\n",
    "fake_percenatge(train_data, 'dullness_boolean')"
   ]
  },
  {
   "cell_type": "code",
   "execution_count": 66,
   "id": "ec521783-46ef-4f0e-b048-5246ee8103c2",
   "metadata": {},
   "outputs": [
    {
     "data": {
      "text/html": [
       "<div>\n",
       "<style scoped>\n",
       "    .dataframe tbody tr th:only-of-type {\n",
       "        vertical-align: middle;\n",
       "    }\n",
       "\n",
       "    .dataframe tbody tr th {\n",
       "        vertical-align: top;\n",
       "    }\n",
       "\n",
       "    .dataframe thead th {\n",
       "        text-align: right;\n",
       "    }\n",
       "</style>\n",
       "<table border=\"1\" class=\"dataframe\">\n",
       "  <thead>\n",
       "    <tr style=\"text-align: right;\">\n",
       "      <th></th>\n",
       "      <th>whiteness_boolean</th>\n",
       "      <th>total-post</th>\n",
       "      <th>fake-post</th>\n",
       "      <th>value_fake_prcentage</th>\n",
       "      <th>fake_percentage</th>\n",
       "    </tr>\n",
       "  </thead>\n",
       "  <tbody>\n",
       "    <tr>\n",
       "      <th>0</th>\n",
       "      <td>0</td>\n",
       "      <td>3611</td>\n",
       "      <td>1153</td>\n",
       "      <td>31.930213</td>\n",
       "      <td>63.247394</td>\n",
       "    </tr>\n",
       "    <tr>\n",
       "      <th>1</th>\n",
       "      <td>1</td>\n",
       "      <td>2388</td>\n",
       "      <td>670</td>\n",
       "      <td>28.056951</td>\n",
       "      <td>36.752606</td>\n",
       "    </tr>\n",
       "  </tbody>\n",
       "</table>\n",
       "</div>"
      ],
      "text/plain": [
       "   whiteness_boolean  total-post  fake-post  value_fake_prcentage  \\\n",
       "0                  0        3611       1153             31.930213   \n",
       "1                  1        2388        670             28.056951   \n",
       "\n",
       "   fake_percentage  \n",
       "0        63.247394  \n",
       "1        36.752606  "
      ]
     },
     "execution_count": 66,
     "metadata": {},
     "output_type": "execute_result"
    }
   ],
   "source": [
    "train_data['whiteness_boolean'] = np.where(train_data['whiteness']<=9, 0, 1)\n",
    "fake_percenatge(train_data, 'whiteness_boolean')"
   ]
  },
  {
   "cell_type": "code",
   "execution_count": 67,
   "id": "9b30bd76-e350-46dd-bea0-be470dc08630",
   "metadata": {},
   "outputs": [
    {
     "data": {
      "text/plain": [
       "count    4857.000000\n",
       "mean        8.284671\n",
       "std        17.879739\n",
       "min         0.000000\n",
       "25%         0.000000\n",
       "50%         0.000000\n",
       "75%         6.600000\n",
       "max       100.000000\n",
       "Name: dullness, dtype: float64"
      ]
     },
     "execution_count": 67,
     "metadata": {},
     "output_type": "execute_result"
    }
   ],
   "source": [
    "train_data['dullness'].describe()"
   ]
  },
  {
   "cell_type": "code",
   "execution_count": 68,
   "id": "9410aec4-18ab-4045-a381-e79368c645a9",
   "metadata": {},
   "outputs": [
    {
     "data": {
      "text/plain": [
       "count    4857.000000\n",
       "mean        8.284671\n",
       "std        17.879739\n",
       "min         0.000000\n",
       "25%         0.000000\n",
       "50%         0.000000\n",
       "75%         6.600000\n",
       "max       100.000000\n",
       "Name: dullness, dtype: float64"
      ]
     },
     "execution_count": 68,
     "metadata": {},
     "output_type": "execute_result"
    }
   ],
   "source": [
    "train_data['dullness'].describe()"
   ]
  },
  {
   "cell_type": "code",
   "execution_count": 69,
   "id": "6e82410d-39ec-4dcf-a91a-26163e85cdd2",
   "metadata": {},
   "outputs": [
    {
     "data": {
      "text/plain": [
       "count    4857.000000\n",
       "mean        8.562178\n",
       "std        16.478037\n",
       "min         0.000000\n",
       "25%         0.000000\n",
       "50%         0.000000\n",
       "75%         9.420000\n",
       "max       100.000000\n",
       "Name: whiteness, dtype: float64"
      ]
     },
     "execution_count": 69,
     "metadata": {},
     "output_type": "execute_result"
    }
   ],
   "source": [
    "train_data['whiteness'].describe()"
   ]
  },
  {
   "cell_type": "code",
   "execution_count": 70,
   "id": "28bfe243-cff3-401f-81cc-306abe5be53f",
   "metadata": {},
   "outputs": [
    {
     "data": {
      "text/plain": [
       "count     4857.000000\n",
       "mean       834.924080\n",
       "std       1255.533285\n",
       "min          3.341211\n",
       "25%        178.639250\n",
       "50%        402.015965\n",
       "75%        985.427248\n",
       "max      16054.349944\n",
       "Name: blurrness, dtype: float64"
      ]
     },
     "execution_count": 70,
     "metadata": {},
     "output_type": "execute_result"
    }
   ],
   "source": [
    "train_data['blurrness'].describe()"
   ]
  },
  {
   "cell_type": "code",
   "execution_count": 71,
   "id": "67231e2e-1c14-462b-95d3-523178b6300e",
   "metadata": {},
   "outputs": [
    {
     "data": {
      "text/plain": [
       "count      4857.000000\n",
       "mean      75598.190859\n",
       "std       50891.176372\n",
       "min       10915.000000\n",
       "25%       41627.000000\n",
       "50%       61201.000000\n",
       "75%       92691.000000\n",
       "max      415653.000000\n",
       "Name: image_size, dtype: float64"
      ]
     },
     "execution_count": 71,
     "metadata": {},
     "output_type": "execute_result"
    }
   ],
   "source": [
    "train_data['image_size'].describe()"
   ]
  },
  {
   "cell_type": "code",
   "execution_count": 72,
   "id": "1d814361-3acd-460e-981b-b4d7e1f1c99c",
   "metadata": {},
   "outputs": [
    {
     "data": {
      "text/plain": [
       "count    4857.000000\n",
       "mean      778.206506\n",
       "std       218.923704\n",
       "min       496.000000\n",
       "25%       600.000000\n",
       "50%       600.000000\n",
       "75%      1000.000000\n",
       "max      1200.000000\n",
       "Name: width, dtype: float64"
      ]
     },
     "execution_count": 72,
     "metadata": {},
     "output_type": "execute_result"
    }
   ],
   "source": [
    "train_data['width'].describe()"
   ]
  },
  {
   "cell_type": "code",
   "execution_count": 73,
   "id": "49317adf-4e56-4a35-b572-18e6a20f4a11",
   "metadata": {},
   "outputs": [
    {
     "data": {
      "text/plain": [
       "count    4857.000000\n",
       "mean      780.148240\n",
       "std       220.106209\n",
       "min       485.000000\n",
       "25%       600.000000\n",
       "50%       600.000000\n",
       "75%       977.000000\n",
       "max      1200.000000\n",
       "Name: height, dtype: float64"
      ]
     },
     "execution_count": 73,
     "metadata": {},
     "output_type": "execute_result"
    }
   ],
   "source": [
    "train_data['height'].describe()"
   ]
  },
  {
   "cell_type": "code",
   "execution_count": 74,
   "id": "9060fcc7-9c16-447f-918d-be5c3aa29fde",
   "metadata": {},
   "outputs": [
    {
     "data": {
      "text/html": [
       "<div>\n",
       "<style scoped>\n",
       "    .dataframe tbody tr th:only-of-type {\n",
       "        vertical-align: middle;\n",
       "    }\n",
       "\n",
       "    .dataframe tbody tr th {\n",
       "        vertical-align: top;\n",
       "    }\n",
       "\n",
       "    .dataframe thead th {\n",
       "        text-align: right;\n",
       "    }\n",
       "</style>\n",
       "<table border=\"1\" class=\"dataframe\">\n",
       "  <thead>\n",
       "    <tr style=\"text-align: right;\">\n",
       "      <th></th>\n",
       "      <th>height_boolean</th>\n",
       "      <th>total-post</th>\n",
       "      <th>fake-post</th>\n",
       "      <th>value_fake_prcentage</th>\n",
       "      <th>fake_percentage</th>\n",
       "    </tr>\n",
       "  </thead>\n",
       "  <tbody>\n",
       "    <tr>\n",
       "      <th>1</th>\n",
       "      <td>1</td>\n",
       "      <td>3564</td>\n",
       "      <td>1315</td>\n",
       "      <td>36.896745</td>\n",
       "      <td>72.133845</td>\n",
       "    </tr>\n",
       "    <tr>\n",
       "      <th>0</th>\n",
       "      <td>0</td>\n",
       "      <td>2435</td>\n",
       "      <td>508</td>\n",
       "      <td>20.862423</td>\n",
       "      <td>27.866155</td>\n",
       "    </tr>\n",
       "  </tbody>\n",
       "</table>\n",
       "</div>"
      ],
      "text/plain": [
       "   height_boolean  total-post  fake-post  value_fake_prcentage  \\\n",
       "1               1        3564       1315             36.896745   \n",
       "0               0        2435        508             20.862423   \n",
       "\n",
       "   fake_percentage  \n",
       "1        72.133845  \n",
       "0        27.866155  "
      ]
     },
     "execution_count": 74,
     "metadata": {},
     "output_type": "execute_result"
    }
   ],
   "source": [
    "train_data['height_boolean'] = np.where(train_data['height']<=600, 0, 1)\n",
    "fake_percenatge(train_data, 'height_boolean')"
   ]
  },
  {
   "cell_type": "code",
   "execution_count": 75,
   "id": "d6b0e06e-99f7-4430-b69a-546fb420a6ed",
   "metadata": {},
   "outputs": [
    {
     "name": "stderr",
     "output_type": "stream",
     "text": [
      "/home/asma/.local/lib/python3.8/site-packages/seaborn/distributions.py:2557: FutureWarning: `distplot` is a deprecated function and will be removed in a future version. Please adapt your code to use either `displot` (a figure-level function with similar flexibility) or `histplot` (an axes-level function for histograms).\n",
      "  warnings.warn(msg, FutureWarning)\n"
     ]
    },
    {
     "data": {
      "text/plain": [
       "<AxesSubplot:xlabel='width', ylabel='Density'>"
      ]
     },
     "execution_count": 75,
     "metadata": {},
     "output_type": "execute_result"
    },
    {
     "data": {
      "image/png": "[encoded data removed]",
      "text/plain": [
       "<Figure size 432x288 with 1 Axes>"
      ]
     },
     "metadata": {
      "needs_background": "light"
     },
     "output_type": "display_data"
    }
   ],
   "source": [
    "sns.distplot(train_data['width'])"
   ]
  },
  {
   "cell_type": "code",
   "execution_count": 76,
   "id": "c65bf798-3260-4e03-895a-4a093fdd0fab",
   "metadata": {},
   "outputs": [
    {
     "name": "stderr",
     "output_type": "stream",
     "text": [
      "/home/asma/.local/lib/python3.8/site-packages/seaborn/distributions.py:2557: FutureWarning: `distplot` is a deprecated function and will be removed in a future version. Please adapt your code to use either `displot` (a figure-level function with similar flexibility) or `histplot` (an axes-level function for histograms).\n",
      "  warnings.warn(msg, FutureWarning)\n"
     ]
    },
    {
     "data": {
      "text/plain": [
       "<AxesSubplot:xlabel='blurrness', ylabel='Density'>"
      ]
     },
     "execution_count": 76,
     "metadata": {},
     "output_type": "execute_result"
    },
    {
     "data": {
      "image/png": "[encoded data removed]",
      "text/plain": [
       "<Figure size 432x288 with 1 Axes>"
      ]
     },
     "metadata": {
      "needs_background": "light"
     },
     "output_type": "display_data"
    }
   ],
   "source": [
    "sns.distplot(train_data['blurrness'])"
   ]
  },
  {
   "cell_type": "code",
   "execution_count": 79,
   "id": "462d7f2f-beae-41c0-89ac-9c97743145f1",
   "metadata": {},
   "outputs": [
    {
     "data": {
      "text/html": [
       "<div>\n",
       "<style scoped>\n",
       "    .dataframe tbody tr th:only-of-type {\n",
       "        vertical-align: middle;\n",
       "    }\n",
       "\n",
       "    .dataframe tbody tr th {\n",
       "        vertical-align: top;\n",
       "    }\n",
       "\n",
       "    .dataframe thead th {\n",
       "        text-align: right;\n",
       "    }\n",
       "</style>\n",
       "<table border=\"1\" class=\"dataframe\">\n",
       "  <thead>\n",
       "    <tr style=\"text-align: right;\">\n",
       "      <th></th>\n",
       "      <th>width_boolean</th>\n",
       "      <th>total-post</th>\n",
       "      <th>fake-post</th>\n",
       "      <th>value_fake_prcentage</th>\n",
       "      <th>fake_percentage</th>\n",
       "    </tr>\n",
       "  </thead>\n",
       "  <tbody>\n",
       "    <tr>\n",
       "      <th>1</th>\n",
       "      <td>1</td>\n",
       "      <td>3567</td>\n",
       "      <td>1316</td>\n",
       "      <td>36.893748</td>\n",
       "      <td>72.1887</td>\n",
       "    </tr>\n",
       "    <tr>\n",
       "      <th>0</th>\n",
       "      <td>0</td>\n",
       "      <td>2432</td>\n",
       "      <td>507</td>\n",
       "      <td>20.847039</td>\n",
       "      <td>27.8113</td>\n",
       "    </tr>\n",
       "  </tbody>\n",
       "</table>\n",
       "</div>"
      ],
      "text/plain": [
       "   width_boolean  total-post  fake-post  value_fake_prcentage  fake_percentage\n",
       "1              1        3567       1316             36.893748          72.1887\n",
       "0              0        2432        507             20.847039          27.8113"
      ]
     },
     "execution_count": 79,
     "metadata": {},
     "output_type": "execute_result"
    }
   ],
   "source": [
    "train_data['width_boolean'] = np.where(train_data['width']<=600, 0, 1)\n",
    "fake_percenatge(train_data, 'width_boolean')"
   ]
  },
  {
   "cell_type": "code",
   "execution_count": 81,
   "id": "ebc620a3-ceb7-4e97-873c-7c9776d0a0f2",
   "metadata": {},
   "outputs": [],
   "source": [
    "train_data['image_count'] = np.where(train_data['dullness'].isnull(), 0, train_data['image_count'])"
   ]
  },
  {
   "cell_type": "code",
   "execution_count": 82,
   "id": "24c55deb-0476-4c64-b08e-07d595b219b9",
   "metadata": {},
   "outputs": [],
   "source": [
    "validation_data['image_count'] = np.where(validation_data['dullness'].isnull(), 0, validation_data['image_count'])\n",
    "validation_data = validation_data.fillna(0)"
   ]
  },
  {
   "cell_type": "code",
   "execution_count": 83,
   "id": "e8fd57c0-d7bb-4ce7-8d69-209ebb705955",
   "metadata": {},
   "outputs": [
    {
     "name": "stdout",
     "output_type": "stream",
     "text": [
      "<class 'pandas.core.frame.DataFrame'>\n",
      "Int64Index: 2172 entries, 0 to 2171\n",
      "Data columns (total 44 columns):\n",
      " #   Column                 Non-Null Count  Dtype  \n",
      "---  ------                 --------------  -----  \n",
      " 0   token                  2172 non-null   object \n",
      " 1   image_count            2172 non-null   int64  \n",
      " 2   dullness               2172 non-null   float64\n",
      " 3   whiteness              2172 non-null   float64\n",
      " 4   image_size             2172 non-null   float64\n",
      " 5   width                  2172 non-null   float64\n",
      " 6   height                 2172 non-null   float64\n",
      " 7   blurrness              2172 non-null   float64\n",
      " 8   total_actions          2172 non-null   float64\n",
      " 9   clicks                 2172 non-null   float64\n",
      " 10  contacts               2172 non-null   float64\n",
      " 11  bookmarks              2172 non-null   float64\n",
      " 12  by_overusers           2172 non-null   float64\n",
      " 13  username_category      2172 non-null   object \n",
      " 14  size                   2172 non-null   float64\n",
      " 15  year                   2172 non-null   int64  \n",
      " 16  rooms                  2172 non-null   object \n",
      " 17  new_price              2172 non-null   float64\n",
      " 18  user_type              2172 non-null   int64  \n",
      " 19  new_rent               2172 non-null   float64\n",
      " 20  rent_type              2172 non-null   object \n",
      " 21  new_credit             2172 non-null   float64\n",
      " 22  rent_to_single         2172 non-null   object \n",
      " 23  rent_credit_transform  2172 non-null   object \n",
      " 24  category               2172 non-null   object \n",
      " 25  contacts_boolean       2172 non-null   int64  \n",
      " 26  by_overuser_boolean    2172 non-null   int64  \n",
      " 27  bookmark_boolean       2172 non-null   int64  \n",
      " 28  blurriness_cat         2172 non-null   object \n",
      " 29  width_cat              2172 non-null   object \n",
      " 30  chat_enabled           2172 non-null   int64  \n",
      " 31  full_options           2172 non-null   int64  \n",
      " 32  is_new                 2172 non-null   int64  \n",
      " 33  pre_category           2172 non-null   object \n",
      " 34  is_rent                2172 non-null   int64  \n",
      " 35  published_year         2172 non-null   int64  \n",
      " 36  published_dayofweek    2172 non-null   int64  \n",
      " 37  published_hour         2172 non-null   int64  \n",
      " 38  published_month        2172 non-null   int64  \n",
      " 39  published_season       2172 non-null   int64  \n",
      " 40  is_agent               2172 non-null   int64  \n",
      " 41  is_tehran              2172 non-null   int64  \n",
      " 42  is_niavaran            2172 non-null   int64  \n",
      " 43  total_price            2172 non-null   float64\n",
      "dtypes: float64(16), int64(18), object(10)\n",
      "memory usage: 763.6+ KB\n"
     ]
    }
   ],
   "source": [
    "validation_data.info()"
   ]
  },
  {
   "cell_type": "code",
   "execution_count": 84,
   "id": "4897148a-5aac-457d-8fa5-8ff98465a2f8",
   "metadata": {},
   "outputs": [
    {
     "data": {
      "text/plain": [
       "low_blurrness    2429\n",
       "high_blurness    2428\n",
       "no_images        1142\n",
       "Name: blurriness_cat, dtype: int64"
      ]
     },
     "execution_count": 84,
     "metadata": {},
     "output_type": "execute_result"
    }
   ],
   "source": [
    "train_data['blurriness_cat'].value_counts()"
   ]
  },
  {
   "cell_type": "code",
   "execution_count": 85,
   "id": "66c98319-e53b-4a12-a69c-c7e1252c5d0f",
   "metadata": {},
   "outputs": [
    {
     "data": {
      "text/plain": [
       "low_width     2432\n",
       "high_width    2425\n",
       "no_images     1142\n",
       "Name: width_cat, dtype: int64"
      ]
     },
     "execution_count": 85,
     "metadata": {},
     "output_type": "execute_result"
    }
   ],
   "source": [
    "train_data['width_cat'].value_counts()"
   ]
  },
  {
   "cell_type": "code",
   "execution_count": 86,
   "id": "373a88a1-9790-4ae1-8907-d69b6d229201",
   "metadata": {},
   "outputs": [
    {
     "data": {
      "text/html": [
       "<div>\n",
       "<style scoped>\n",
       "    .dataframe tbody tr th:only-of-type {\n",
       "        vertical-align: middle;\n",
       "    }\n",
       "\n",
       "    .dataframe tbody tr th {\n",
       "        vertical-align: top;\n",
       "    }\n",
       "\n",
       "    .dataframe thead th {\n",
       "        text-align: right;\n",
       "    }\n",
       "</style>\n",
       "<table border=\"1\" class=\"dataframe\">\n",
       "  <thead>\n",
       "    <tr style=\"text-align: right;\">\n",
       "      <th></th>\n",
       "      <th>blurriness_cat</th>\n",
       "      <th>total-post</th>\n",
       "      <th>fake-post</th>\n",
       "      <th>value_fake_prcentage</th>\n",
       "      <th>fake_percentage</th>\n",
       "    </tr>\n",
       "  </thead>\n",
       "  <tbody>\n",
       "    <tr>\n",
       "      <th>1</th>\n",
       "      <td>low_blurrness</td>\n",
       "      <td>2429</td>\n",
       "      <td>859</td>\n",
       "      <td>35.364347</td>\n",
       "      <td>47.120132</td>\n",
       "    </tr>\n",
       "    <tr>\n",
       "      <th>0</th>\n",
       "      <td>high_blurness</td>\n",
       "      <td>2428</td>\n",
       "      <td>663</td>\n",
       "      <td>27.306425</td>\n",
       "      <td>36.368623</td>\n",
       "    </tr>\n",
       "    <tr>\n",
       "      <th>2</th>\n",
       "      <td>no_images</td>\n",
       "      <td>1142</td>\n",
       "      <td>301</td>\n",
       "      <td>26.357268</td>\n",
       "      <td>16.511245</td>\n",
       "    </tr>\n",
       "  </tbody>\n",
       "</table>\n",
       "</div>"
      ],
      "text/plain": [
       "  blurriness_cat  total-post  fake-post  value_fake_prcentage  fake_percentage\n",
       "1  low_blurrness        2429        859             35.364347        47.120132\n",
       "0  high_blurness        2428        663             27.306425        36.368623\n",
       "2      no_images        1142        301             26.357268        16.511245"
      ]
     },
     "execution_count": 86,
     "metadata": {},
     "output_type": "execute_result"
    }
   ],
   "source": [
    "fake_percenatge(train_data, 'blurriness_cat')"
   ]
  },
  {
   "cell_type": "code",
   "execution_count": 87,
   "id": "ba37deeb-cf70-4f28-8dca-cf95146adb8f",
   "metadata": {},
   "outputs": [
    {
     "data": {
      "text/html": [
       "<div>\n",
       "<style scoped>\n",
       "    .dataframe tbody tr th:only-of-type {\n",
       "        vertical-align: middle;\n",
       "    }\n",
       "\n",
       "    .dataframe tbody tr th {\n",
       "        vertical-align: top;\n",
       "    }\n",
       "\n",
       "    .dataframe thead th {\n",
       "        text-align: right;\n",
       "    }\n",
       "</style>\n",
       "<table border=\"1\" class=\"dataframe\">\n",
       "  <thead>\n",
       "    <tr style=\"text-align: right;\">\n",
       "      <th></th>\n",
       "      <th>width_cat</th>\n",
       "      <th>total-post</th>\n",
       "      <th>fake-post</th>\n",
       "      <th>value_fake_prcentage</th>\n",
       "      <th>fake_percentage</th>\n",
       "    </tr>\n",
       "  </thead>\n",
       "  <tbody>\n",
       "    <tr>\n",
       "      <th>0</th>\n",
       "      <td>high_width</td>\n",
       "      <td>2425</td>\n",
       "      <td>1015</td>\n",
       "      <td>41.855670</td>\n",
       "      <td>55.677455</td>\n",
       "    </tr>\n",
       "    <tr>\n",
       "      <th>1</th>\n",
       "      <td>low_width</td>\n",
       "      <td>2432</td>\n",
       "      <td>507</td>\n",
       "      <td>20.847039</td>\n",
       "      <td>27.811300</td>\n",
       "    </tr>\n",
       "    <tr>\n",
       "      <th>2</th>\n",
       "      <td>no_images</td>\n",
       "      <td>1142</td>\n",
       "      <td>301</td>\n",
       "      <td>26.357268</td>\n",
       "      <td>16.511245</td>\n",
       "    </tr>\n",
       "  </tbody>\n",
       "</table>\n",
       "</div>"
      ],
      "text/plain": [
       "    width_cat  total-post  fake-post  value_fake_prcentage  fake_percentage\n",
       "0  high_width        2425       1015             41.855670        55.677455\n",
       "1   low_width        2432        507             20.847039        27.811300\n",
       "2   no_images        1142        301             26.357268        16.511245"
      ]
     },
     "execution_count": 87,
     "metadata": {},
     "output_type": "execute_result"
    }
   ],
   "source": [
    "fake_percenatge(train_data, 'width_cat')"
   ]
  },
  {
   "cell_type": "code",
   "execution_count": 92,
   "id": "9a218794-71cb-4fc8-b42a-3c7e597baf10",
   "metadata": {},
   "outputs": [
    {
     "data": {
      "text/html": [
       "<div>\n",
       "<style scoped>\n",
       "    .dataframe tbody tr th:only-of-type {\n",
       "        vertical-align: middle;\n",
       "    }\n",
       "\n",
       "    .dataframe tbody tr th {\n",
       "        vertical-align: top;\n",
       "    }\n",
       "\n",
       "    .dataframe thead th {\n",
       "        text-align: right;\n",
       "    }\n",
       "</style>\n",
       "<table border=\"1\" class=\"dataframe\">\n",
       "  <thead>\n",
       "    <tr style=\"text-align: right;\">\n",
       "      <th></th>\n",
       "      <th>blurrness_boolean</th>\n",
       "      <th>total-post</th>\n",
       "      <th>fake-post</th>\n",
       "      <th>value_fake_prcentage</th>\n",
       "      <th>fake_percentage</th>\n",
       "    </tr>\n",
       "  </thead>\n",
       "  <tbody>\n",
       "    <tr>\n",
       "      <th>1</th>\n",
       "      <td>1</td>\n",
       "      <td>3580</td>\n",
       "      <td>967</td>\n",
       "      <td>27.011173</td>\n",
       "      <td>53.044432</td>\n",
       "    </tr>\n",
       "    <tr>\n",
       "      <th>0</th>\n",
       "      <td>0</td>\n",
       "      <td>2419</td>\n",
       "      <td>856</td>\n",
       "      <td>35.386523</td>\n",
       "      <td>46.955568</td>\n",
       "    </tr>\n",
       "  </tbody>\n",
       "</table>\n",
       "</div>"
      ],
      "text/plain": [
       "   blurrness_boolean  total-post  fake-post  value_fake_prcentage  \\\n",
       "1                  1        3580        967             27.011173   \n",
       "0                  0        2419        856             35.386523   \n",
       "\n",
       "   fake_percentage  \n",
       "1        53.044432  \n",
       "0        46.955568  "
      ]
     },
     "execution_count": 92,
     "metadata": {},
     "output_type": "execute_result"
    }
   ],
   "source": [
    "train_data['blurrness_boolean'] = np.where((train_data['blurrness']<400), 0, 1)\n",
    "fake_percenatge(train_data, 'blurrness_boolean')"
   ]
  },
  {
   "cell_type": "code",
   "execution_count": 93,
   "id": "bcc50645-31c3-499b-abbf-1112f8bfeea2",
   "metadata": {},
   "outputs": [
    {
     "data": {
      "text/plain": [
       "548"
      ]
     },
     "execution_count": 93,
     "metadata": {},
     "output_type": "execute_result"
    }
   ],
   "source": [
    "train_data[(train_data['result']=='fake-post') & (train_data['dullness']>0)].shape[0]"
   ]
  },
  {
   "cell_type": "code",
   "execution_count": 94,
   "id": "4794a0ee-c7e2-49c4-a817-6ebbf95f8a98",
   "metadata": {},
   "outputs": [
    {
     "name": "stdout",
     "output_type": "stream",
     "text": [
      "<class 'pandas.core.frame.DataFrame'>\n",
      "Int64Index: 0 entries\n",
      "Data columns (total 56 columns):\n",
      " #   Column                 Non-Null Count  Dtype   \n",
      "---  ------                 --------------  -----   \n",
      " 0   token                  0 non-null      object  \n",
      " 1   result                 0 non-null      object  \n",
      " 2   image_count            0 non-null      int64   \n",
      " 3   dullness               0 non-null      float64 \n",
      " 4   whiteness              0 non-null      float64 \n",
      " 5   image_size             0 non-null      float64 \n",
      " 6   width                  0 non-null      float64 \n",
      " 7   height                 0 non-null      float64 \n",
      " 8   blurrness              0 non-null      float64 \n",
      " 9   total_actions          0 non-null      float64 \n",
      " 10  clicks                 0 non-null      float64 \n",
      " 11  contacts               0 non-null      float64 \n",
      " 12  bookmarks              0 non-null      float64 \n",
      " 13  by_overusers           0 non-null      float64 \n",
      " 14  username_category      0 non-null      object  \n",
      " 15  size                   0 non-null      float64 \n",
      " 16  year                   0 non-null      int64   \n",
      " 17  rooms                  0 non-null      object  \n",
      " 18  new_rent               0 non-null      float64 \n",
      " 19  rent_type              0 non-null      object  \n",
      " 20  user_type              0 non-null      int64   \n",
      " 21  new_credit             0 non-null      float64 \n",
      " 22  rent_to_single         0 non-null      object  \n",
      " 23  rent_credit_transform  0 non-null      object  \n",
      " 24  new_price              0 non-null      float64 \n",
      " 25  category               0 non-null      object  \n",
      " 26  contacts_boolean       0 non-null      int64   \n",
      " 27  by_overuser_boolean    0 non-null      int64   \n",
      " 28  bookmark_boolean       0 non-null      int64   \n",
      " 29  blurriness_cat         0 non-null      object  \n",
      " 30  width_cat              0 non-null      object  \n",
      " 31  chat_enabled           0 non-null      int64   \n",
      " 32  full_options           0 non-null      int64   \n",
      " 33  is_new                 0 non-null      int64   \n",
      " 34  pre_category           0 non-null      object  \n",
      " 35  is_rent                0 non-null      int64   \n",
      " 36  published_year         0 non-null      int64   \n",
      " 37  published_dayofweek    0 non-null      int64   \n",
      " 38  published_hour         0 non-null      int64   \n",
      " 39  published_month        0 non-null      int64   \n",
      " 40  published_season       0 non-null      int64   \n",
      " 41  is_agent               0 non-null      int64   \n",
      " 42  is_tehran              0 non-null      int64   \n",
      " 43  is_niavaran            0 non-null      int64   \n",
      " 44  total_price            0 non-null      float64 \n",
      " 45  contacts_bin           0 non-null      category\n",
      " 46  by_overusers_bin       0 non-null      category\n",
      " 47  clicks_bin             0 non-null      category\n",
      " 48  bookmarks_bin          0 non-null      category\n",
      " 49  total_bin              0 non-null      category\n",
      " 50  image_size_boolean     0 non-null      int64   \n",
      " 51  dullness_boolean       0 non-null      int64   \n",
      " 52  whiteness_boolean      0 non-null      int64   \n",
      " 53  height_boolean         0 non-null      int64   \n",
      " 54  width_boolean          0 non-null      int64   \n",
      " 55  blurrness_boolean      0 non-null      int64   \n",
      "dtypes: category(5), float64(16), int64(24), object(11)\n",
      "memory usage: 1020.0+ bytes\n"
     ]
    }
   ],
   "source": [
    "train_data_x = train_data.dropna().copy()\n",
    "train_data_x.info()"
   ]
  },
  {
   "cell_type": "code",
   "execution_count": 95,
   "id": "a7e3c240-968a-4f77-8039-93f51a943618",
   "metadata": {},
   "outputs": [
    {
     "data": {
      "text/html": [
       "<div>\n",
       "<style scoped>\n",
       "    .dataframe tbody tr th:only-of-type {\n",
       "        vertical-align: middle;\n",
       "    }\n",
       "\n",
       "    .dataframe tbody tr th {\n",
       "        vertical-align: top;\n",
       "    }\n",
       "\n",
       "    .dataframe thead th {\n",
       "        text-align: right;\n",
       "    }\n",
       "</style>\n",
       "<table border=\"1\" class=\"dataframe\">\n",
       "  <thead>\n",
       "    <tr style=\"text-align: right;\">\n",
       "      <th></th>\n",
       "      <th>total-post</th>\n",
       "      <th>image_size_boolean</th>\n",
       "      <th>fake-post</th>\n",
       "      <th>value_fake_prcentage</th>\n",
       "      <th>fake_percentage</th>\n",
       "    </tr>\n",
       "  </thead>\n",
       "  <tbody>\n",
       "  </tbody>\n",
       "</table>\n",
       "</div>"
      ],
      "text/plain": [
       "Empty DataFrame\n",
       "Columns: [total-post, image_size_boolean, fake-post, value_fake_prcentage, fake_percentage]\n",
       "Index: []"
      ]
     },
     "execution_count": 95,
     "metadata": {},
     "output_type": "execute_result"
    }
   ],
   "source": [
    "train_data_x['image_size_boolean'] = np.where((train_data_x['image_size']<61000), 0, 1)\n",
    "fake_percenatge(train_data_x, 'image_size_boolean')"
   ]
  },
  {
   "cell_type": "code",
   "execution_count": 96,
   "id": "48d509a9-aad3-4910-859b-f402ccba6ecb",
   "metadata": {},
   "outputs": [
    {
     "data": {
      "text/html": [
       "<div>\n",
       "<style scoped>\n",
       "    .dataframe tbody tr th:only-of-type {\n",
       "        vertical-align: middle;\n",
       "    }\n",
       "\n",
       "    .dataframe tbody tr th {\n",
       "        vertical-align: top;\n",
       "    }\n",
       "\n",
       "    .dataframe thead th {\n",
       "        text-align: right;\n",
       "    }\n",
       "</style>\n",
       "<table border=\"1\" class=\"dataframe\">\n",
       "  <thead>\n",
       "    <tr style=\"text-align: right;\">\n",
       "      <th></th>\n",
       "      <th>total-post</th>\n",
       "      <th>dullness_boolean</th>\n",
       "      <th>fake-post</th>\n",
       "      <th>value_fake_prcentage</th>\n",
       "      <th>fake_percentage</th>\n",
       "    </tr>\n",
       "  </thead>\n",
       "  <tbody>\n",
       "  </tbody>\n",
       "</table>\n",
       "</div>"
      ],
      "text/plain": [
       "Empty DataFrame\n",
       "Columns: [total-post, dullness_boolean, fake-post, value_fake_prcentage, fake_percentage]\n",
       "Index: []"
      ]
     },
     "execution_count": 96,
     "metadata": {},
     "output_type": "execute_result"
    }
   ],
   "source": [
    "train_data_x['dullness_boolean'] = np.where((train_data_x['dullness']<=2), 0, 1)\n",
    "fake_percenatge(train_data_x, 'dullness_boolean')"
   ]
  },
  {
   "cell_type": "code",
   "execution_count": 97,
   "id": "34c891fa-366c-456d-8416-757a215cbd9e",
   "metadata": {},
   "outputs": [
    {
     "data": {
      "text/html": [
       "<div>\n",
       "<style scoped>\n",
       "    .dataframe tbody tr th:only-of-type {\n",
       "        vertical-align: middle;\n",
       "    }\n",
       "\n",
       "    .dataframe tbody tr th {\n",
       "        vertical-align: top;\n",
       "    }\n",
       "\n",
       "    .dataframe thead th {\n",
       "        text-align: right;\n",
       "    }\n",
       "</style>\n",
       "<table border=\"1\" class=\"dataframe\">\n",
       "  <thead>\n",
       "    <tr style=\"text-align: right;\">\n",
       "      <th></th>\n",
       "      <th>total-post</th>\n",
       "      <th>whiteness_boolean</th>\n",
       "      <th>fake-post</th>\n",
       "      <th>value_fake_prcentage</th>\n",
       "      <th>fake_percentage</th>\n",
       "    </tr>\n",
       "  </thead>\n",
       "  <tbody>\n",
       "  </tbody>\n",
       "</table>\n",
       "</div>"
      ],
      "text/plain": [
       "Empty DataFrame\n",
       "Columns: [total-post, whiteness_boolean, fake-post, value_fake_prcentage, fake_percentage]\n",
       "Index: []"
      ]
     },
     "execution_count": 97,
     "metadata": {},
     "output_type": "execute_result"
    }
   ],
   "source": [
    "train_data_x['whiteness_boolean'] = np.where(train_data_x['whiteness']<=9, 0, 1)\n",
    "fake_percenatge(train_data_x, 'whiteness_boolean')"
   ]
  },
  {
   "cell_type": "code",
   "execution_count": 98,
   "id": "53f5007a-951d-4fba-b052-f7eb9613495a",
   "metadata": {},
   "outputs": [
    {
     "data": {
      "text/plain": [
       "count    4857.000000\n",
       "mean        8.284671\n",
       "std        17.879739\n",
       "min         0.000000\n",
       "25%         0.000000\n",
       "50%         0.000000\n",
       "75%         6.600000\n",
       "max       100.000000\n",
       "Name: dullness, dtype: float64"
      ]
     },
     "execution_count": 98,
     "metadata": {},
     "output_type": "execute_result"
    }
   ],
   "source": [
    "train_data['dullness'].describe()"
   ]
  },
  {
   "cell_type": "code",
   "execution_count": 99,
   "id": "9aa0871d-cc81-4e8d-b2cb-5c490dc121b3",
   "metadata": {},
   "outputs": [
    {
     "data": {
      "text/plain": [
       "count    4857.000000\n",
       "mean        8.284671\n",
       "std        17.879739\n",
       "min         0.000000\n",
       "25%         0.000000\n",
       "50%         0.000000\n",
       "75%         6.600000\n",
       "max       100.000000\n",
       "Name: dullness, dtype: float64"
      ]
     },
     "execution_count": 99,
     "metadata": {},
     "output_type": "execute_result"
    }
   ],
   "source": [
    "train_data['dullness'].describe()"
   ]
  },
  {
   "cell_type": "code",
   "execution_count": 100,
   "id": "3c9f1910-1e5f-4724-8dd1-24b27b05f751",
   "metadata": {},
   "outputs": [
    {
     "data": {
      "text/plain": [
       "count    4857.000000\n",
       "mean        8.562178\n",
       "std        16.478037\n",
       "min         0.000000\n",
       "25%         0.000000\n",
       "50%         0.000000\n",
       "75%         9.420000\n",
       "max       100.000000\n",
       "Name: whiteness, dtype: float64"
      ]
     },
     "execution_count": 100,
     "metadata": {},
     "output_type": "execute_result"
    }
   ],
   "source": [
    "train_data['whiteness'].describe()"
   ]
  },
  {
   "cell_type": "code",
   "execution_count": 101,
   "id": "e3e5fb76-d0ff-4120-98cb-b81dd9364706",
   "metadata": {},
   "outputs": [
    {
     "data": {
      "text/plain": [
       "count     4857.000000\n",
       "mean       834.924080\n",
       "std       1255.533285\n",
       "min          3.341211\n",
       "25%        178.639250\n",
       "50%        402.015965\n",
       "75%        985.427248\n",
       "max      16054.349944\n",
       "Name: blurrness, dtype: float64"
      ]
     },
     "execution_count": 101,
     "metadata": {},
     "output_type": "execute_result"
    }
   ],
   "source": [
    "train_data['blurrness'].describe()"
   ]
  },
  {
   "cell_type": "code",
   "execution_count": 102,
   "id": "7037608d-563e-4f93-8c5a-8e7dabbe4c3c",
   "metadata": {},
   "outputs": [
    {
     "data": {
      "text/plain": [
       "count      4857.000000\n",
       "mean      75598.190859\n",
       "std       50891.176372\n",
       "min       10915.000000\n",
       "25%       41627.000000\n",
       "50%       61201.000000\n",
       "75%       92691.000000\n",
       "max      415653.000000\n",
       "Name: image_size, dtype: float64"
      ]
     },
     "execution_count": 102,
     "metadata": {},
     "output_type": "execute_result"
    }
   ],
   "source": [
    "train_data['image_size'].describe()"
   ]
  },
  {
   "cell_type": "code",
   "execution_count": 103,
   "id": "ecb2c333-1808-49f3-b413-786d518c97a3",
   "metadata": {},
   "outputs": [
    {
     "data": {
      "text/plain": [
       "count    4857.000000\n",
       "mean      778.206506\n",
       "std       218.923704\n",
       "min       496.000000\n",
       "25%       600.000000\n",
       "50%       600.000000\n",
       "75%      1000.000000\n",
       "max      1200.000000\n",
       "Name: width, dtype: float64"
      ]
     },
     "execution_count": 103,
     "metadata": {},
     "output_type": "execute_result"
    }
   ],
   "source": [
    "train_data['width'].describe()"
   ]
  },
  {
   "cell_type": "code",
   "execution_count": 104,
   "id": "1ceb4652-4976-429a-833e-da3088b11184",
   "metadata": {},
   "outputs": [
    {
     "data": {
      "text/plain": [
       "count    4857.000000\n",
       "mean      780.148240\n",
       "std       220.106209\n",
       "min       485.000000\n",
       "25%       600.000000\n",
       "50%       600.000000\n",
       "75%       977.000000\n",
       "max      1200.000000\n",
       "Name: height, dtype: float64"
      ]
     },
     "execution_count": 104,
     "metadata": {},
     "output_type": "execute_result"
    }
   ],
   "source": [
    "train_data['height'].describe()"
   ]
  },
  {
   "cell_type": "code",
   "execution_count": 105,
   "id": "711d27fc-f071-4d73-a734-cca10c895803",
   "metadata": {},
   "outputs": [
    {
     "data": {
      "text/html": [
       "<div>\n",
       "<style scoped>\n",
       "    .dataframe tbody tr th:only-of-type {\n",
       "        vertical-align: middle;\n",
       "    }\n",
       "\n",
       "    .dataframe tbody tr th {\n",
       "        vertical-align: top;\n",
       "    }\n",
       "\n",
       "    .dataframe thead th {\n",
       "        text-align: right;\n",
       "    }\n",
       "</style>\n",
       "<table border=\"1\" class=\"dataframe\">\n",
       "  <thead>\n",
       "    <tr style=\"text-align: right;\">\n",
       "      <th></th>\n",
       "      <th>height_boolean</th>\n",
       "      <th>total-post</th>\n",
       "      <th>fake-post</th>\n",
       "      <th>value_fake_prcentage</th>\n",
       "      <th>fake_percentage</th>\n",
       "    </tr>\n",
       "  </thead>\n",
       "  <tbody>\n",
       "    <tr>\n",
       "      <th>1</th>\n",
       "      <td>1</td>\n",
       "      <td>3564</td>\n",
       "      <td>1315</td>\n",
       "      <td>36.896745</td>\n",
       "      <td>72.133845</td>\n",
       "    </tr>\n",
       "    <tr>\n",
       "      <th>0</th>\n",
       "      <td>0</td>\n",
       "      <td>2435</td>\n",
       "      <td>508</td>\n",
       "      <td>20.862423</td>\n",
       "      <td>27.866155</td>\n",
       "    </tr>\n",
       "  </tbody>\n",
       "</table>\n",
       "</div>"
      ],
      "text/plain": [
       "   height_boolean  total-post  fake-post  value_fake_prcentage  \\\n",
       "1               1        3564       1315             36.896745   \n",
       "0               0        2435        508             20.862423   \n",
       "\n",
       "   fake_percentage  \n",
       "1        72.133845  \n",
       "0        27.866155  "
      ]
     },
     "execution_count": 105,
     "metadata": {},
     "output_type": "execute_result"
    }
   ],
   "source": [
    "train_data['height_boolean'] = np.where(train_data['height']<=600, 0, 1)\n",
    "fake_percenatge(train_data, 'height_boolean')"
   ]
  },
  {
   "cell_type": "code",
   "execution_count": 106,
   "id": "9da09bb3-60ff-4e9a-ba7c-d778f05834f5",
   "metadata": {},
   "outputs": [
    {
     "name": "stderr",
     "output_type": "stream",
     "text": [
      "/home/asma/.local/lib/python3.8/site-packages/seaborn/distributions.py:2557: FutureWarning: `distplot` is a deprecated function and will be removed in a future version. Please adapt your code to use either `displot` (a figure-level function with similar flexibility) or `histplot` (an axes-level function for histograms).\n",
      "  warnings.warn(msg, FutureWarning)\n"
     ]
    },
    {
     "data": {
      "text/plain": [
       "<AxesSubplot:xlabel='width', ylabel='Density'>"
      ]
     },
     "execution_count": 106,
     "metadata": {},
     "output_type": "execute_result"
    },
    {
     "data": {
      "image/png": "[encoded data removed]",
      "text/plain": [
       "<Figure size 432x288 with 1 Axes>"
      ]
     },
     "metadata": {
      "needs_background": "light"
     },
     "output_type": "display_data"
    }
   ],
   "source": [
    "sns.distplot(train_data['width'])"
   ]
  },
  {
   "cell_type": "code",
   "execution_count": 107,
   "id": "860556bd-6d29-4b86-bd25-72979662a2f0",
   "metadata": {},
   "outputs": [
    {
     "name": "stderr",
     "output_type": "stream",
     "text": [
      "/home/asma/.local/lib/python3.8/site-packages/seaborn/distributions.py:2557: FutureWarning: `distplot` is a deprecated function and will be removed in a future version. Please adapt your code to use either `displot` (a figure-level function with similar flexibility) or `histplot` (an axes-level function for histograms).\n",
      "  warnings.warn(msg, FutureWarning)\n"
     ]
    },
    {
     "data": {
      "text/plain": [
       "<AxesSubplot:xlabel='blurrness', ylabel='Density'>"
      ]
     },
     "execution_count": 107,
     "metadata": {},
     "output_type": "execute_result"
    },
    {
     "data": {
      "image/png": "[encoded data removed]",
      "text/plain": [
       "<Figure size 432x288 with 1 Axes>"
      ]
     },
     "metadata": {
      "needs_background": "light"
     },
     "output_type": "display_data"
    }
   ],
   "source": [
    "sns.distplot(train_data['blurrness'])"
   ]
  },
  {
   "cell_type": "code",
   "execution_count": 108,
   "id": "1191e145-5cc5-43fa-9f3d-64e10c512c05",
   "metadata": {},
   "outputs": [
    {
     "data": {
      "text/html": [
       "<div>\n",
       "<style scoped>\n",
       "    .dataframe tbody tr th:only-of-type {\n",
       "        vertical-align: middle;\n",
       "    }\n",
       "\n",
       "    .dataframe tbody tr th {\n",
       "        vertical-align: top;\n",
       "    }\n",
       "\n",
       "    .dataframe thead th {\n",
       "        text-align: right;\n",
       "    }\n",
       "</style>\n",
       "<table border=\"1\" class=\"dataframe\">\n",
       "  <thead>\n",
       "    <tr style=\"text-align: right;\">\n",
       "      <th></th>\n",
       "      <th>total-post</th>\n",
       "      <th>width_boolean</th>\n",
       "      <th>fake-post</th>\n",
       "      <th>value_fake_prcentage</th>\n",
       "      <th>fake_percentage</th>\n",
       "    </tr>\n",
       "  </thead>\n",
       "  <tbody>\n",
       "  </tbody>\n",
       "</table>\n",
       "</div>"
      ],
      "text/plain": [
       "Empty DataFrame\n",
       "Columns: [total-post, width_boolean, fake-post, value_fake_prcentage, fake_percentage]\n",
       "Index: []"
      ]
     },
     "execution_count": 108,
     "metadata": {},
     "output_type": "execute_result"
    }
   ],
   "source": [
    "train_data_x['width_boolean'] = np.where(train_data_x['width']<=600, 0, 1)\n",
    "fake_percenatge(train_data_x, 'width_boolean')"
   ]
  },
  {
   "cell_type": "code",
   "execution_count": 110,
   "id": "5b771b6f-4bf9-43a5-bd56-435291de0e1d",
   "metadata": {},
   "outputs": [
    {
     "data": {
      "text/plain": [
       "sell     2932\n",
       "false    1561\n",
       "true     1506\n",
       "Name: rent_to_single, dtype: int64"
      ]
     },
     "execution_count": 110,
     "metadata": {},
     "output_type": "execute_result"
    }
   ],
   "source": [
    "train_data['rent_to_single'].value_counts(dropna=False)"
   ]
  },
  {
   "cell_type": "code",
   "execution_count": 111,
   "id": "94606bbd-c2af-41b9-a8fb-5ee238c3c5e8",
   "metadata": {},
   "outputs": [
    {
     "data": {
      "text/plain": [
       "sell     2932\n",
       "true     1778\n",
       "false    1289\n",
       "Name: rent_credit_transform, dtype: int64"
      ]
     },
     "execution_count": 111,
     "metadata": {},
     "output_type": "execute_result"
    }
   ],
   "source": [
    "train_data['rent_credit_transform'].value_counts(dropna=False)"
   ]
  },
  {
   "cell_type": "code",
   "execution_count": 112,
   "id": "c287bbd7-3b80-442f-83d8-285e2c786fce",
   "metadata": {},
   "outputs": [
    {
     "data": {
      "text/plain": [
       "sell     2932\n",
       "true     1778\n",
       "false    1289\n",
       "Name: rent_credit_transform, dtype: int64"
      ]
     },
     "execution_count": 112,
     "metadata": {},
     "output_type": "execute_result"
    }
   ],
   "source": [
    "train_data['rent_credit_transform'].value_counts(dropna=False)"
   ]
  },
  {
   "cell_type": "code",
   "execution_count": 113,
   "id": "ff003629-8d30-4a9b-b3c3-1c34e44bbc53",
   "metadata": {},
   "outputs": [
    {
     "data": {
      "text/html": [
       "<div>\n",
       "<style scoped>\n",
       "    .dataframe tbody tr th:only-of-type {\n",
       "        vertical-align: middle;\n",
       "    }\n",
       "\n",
       "    .dataframe tbody tr th {\n",
       "        vertical-align: top;\n",
       "    }\n",
       "\n",
       "    .dataframe thead th {\n",
       "        text-align: right;\n",
       "    }\n",
       "</style>\n",
       "<table border=\"1\" class=\"dataframe\">\n",
       "  <thead>\n",
       "    <tr style=\"text-align: right;\">\n",
       "      <th></th>\n",
       "      <th>rent_to_single</th>\n",
       "      <th>total-post</th>\n",
       "      <th>fake-post</th>\n",
       "      <th>value_fake_prcentage</th>\n",
       "      <th>fake_percentage</th>\n",
       "    </tr>\n",
       "  </thead>\n",
       "  <tbody>\n",
       "    <tr>\n",
       "      <th>2</th>\n",
       "      <td>true</td>\n",
       "      <td>1506</td>\n",
       "      <td>746</td>\n",
       "      <td>49.535193</td>\n",
       "      <td>40.921558</td>\n",
       "    </tr>\n",
       "    <tr>\n",
       "      <th>0</th>\n",
       "      <td>false</td>\n",
       "      <td>1561</td>\n",
       "      <td>555</td>\n",
       "      <td>35.554132</td>\n",
       "      <td>30.444323</td>\n",
       "    </tr>\n",
       "    <tr>\n",
       "      <th>1</th>\n",
       "      <td>sell</td>\n",
       "      <td>2932</td>\n",
       "      <td>522</td>\n",
       "      <td>17.803547</td>\n",
       "      <td>28.634120</td>\n",
       "    </tr>\n",
       "  </tbody>\n",
       "</table>\n",
       "</div>"
      ],
      "text/plain": [
       "  rent_to_single  total-post  fake-post  value_fake_prcentage  fake_percentage\n",
       "2           true        1506        746             49.535193        40.921558\n",
       "0          false        1561        555             35.554132        30.444323\n",
       "1           sell        2932        522             17.803547        28.634120"
      ]
     },
     "execution_count": 113,
     "metadata": {},
     "output_type": "execute_result"
    }
   ],
   "source": [
    "fake_percenatge(train_data, 'rent_to_single')"
   ]
  },
  {
   "cell_type": "code",
   "execution_count": 114,
   "id": "57a5c558-2f3d-4219-b251-33ed3b906530",
   "metadata": {},
   "outputs": [
    {
     "data": {
      "text/html": [
       "<div>\n",
       "<style scoped>\n",
       "    .dataframe tbody tr th:only-of-type {\n",
       "        vertical-align: middle;\n",
       "    }\n",
       "\n",
       "    .dataframe tbody tr th {\n",
       "        vertical-align: top;\n",
       "    }\n",
       "\n",
       "    .dataframe thead th {\n",
       "        text-align: right;\n",
       "    }\n",
       "</style>\n",
       "<table border=\"1\" class=\"dataframe\">\n",
       "  <thead>\n",
       "    <tr style=\"text-align: right;\">\n",
       "      <th></th>\n",
       "      <th>rent_credit_transform</th>\n",
       "      <th>total-post</th>\n",
       "      <th>fake-post</th>\n",
       "      <th>value_fake_prcentage</th>\n",
       "      <th>fake_percentage</th>\n",
       "    </tr>\n",
       "  </thead>\n",
       "  <tbody>\n",
       "    <tr>\n",
       "      <th>2</th>\n",
       "      <td>true</td>\n",
       "      <td>1778</td>\n",
       "      <td>818</td>\n",
       "      <td>46.006749</td>\n",
       "      <td>44.871092</td>\n",
       "    </tr>\n",
       "    <tr>\n",
       "      <th>1</th>\n",
       "      <td>sell</td>\n",
       "      <td>2932</td>\n",
       "      <td>522</td>\n",
       "      <td>17.803547</td>\n",
       "      <td>28.634120</td>\n",
       "    </tr>\n",
       "    <tr>\n",
       "      <th>0</th>\n",
       "      <td>false</td>\n",
       "      <td>1289</td>\n",
       "      <td>483</td>\n",
       "      <td>37.470908</td>\n",
       "      <td>26.494789</td>\n",
       "    </tr>\n",
       "  </tbody>\n",
       "</table>\n",
       "</div>"
      ],
      "text/plain": [
       "  rent_credit_transform  total-post  fake-post  value_fake_prcentage  \\\n",
       "2                  true        1778        818             46.006749   \n",
       "1                  sell        2932        522             17.803547   \n",
       "0                 false        1289        483             37.470908   \n",
       "\n",
       "   fake_percentage  \n",
       "2        44.871092  \n",
       "1        28.634120  \n",
       "0        26.494789  "
      ]
     },
     "execution_count": 114,
     "metadata": {},
     "output_type": "execute_result"
    }
   ],
   "source": [
    "fake_percenatge(train_data, 'rent_credit_transform')"
   ]
  },
  {
   "cell_type": "code",
   "execution_count": 115,
   "id": "f78920d6-0690-4e01-8562-bf54888cf0d0",
   "metadata": {},
   "outputs": [
    {
     "data": {
      "text/html": [
       "<div>\n",
       "<style scoped>\n",
       "    .dataframe tbody tr th:only-of-type {\n",
       "        vertical-align: middle;\n",
       "    }\n",
       "\n",
       "    .dataframe tbody tr th {\n",
       "        vertical-align: top;\n",
       "    }\n",
       "\n",
       "    .dataframe thead th {\n",
       "        text-align: right;\n",
       "    }\n",
       "</style>\n",
       "<table border=\"1\" class=\"dataframe\">\n",
       "  <thead>\n",
       "    <tr style=\"text-align: right;\">\n",
       "      <th></th>\n",
       "      <th>rent_type</th>\n",
       "      <th>total-post</th>\n",
       "      <th>fake-post</th>\n",
       "      <th>value_fake_prcentage</th>\n",
       "      <th>fake_percentage</th>\n",
       "    </tr>\n",
       "  </thead>\n",
       "  <tbody>\n",
       "    <tr>\n",
       "      <th>1</th>\n",
       "      <td>rent_credit</td>\n",
       "      <td>1510</td>\n",
       "      <td>679</td>\n",
       "      <td>44.966887</td>\n",
       "      <td>37.246297</td>\n",
       "    </tr>\n",
       "    <tr>\n",
       "      <th>2</th>\n",
       "      <td>sell</td>\n",
       "      <td>2932</td>\n",
       "      <td>522</td>\n",
       "      <td>17.803547</td>\n",
       "      <td>28.634120</td>\n",
       "    </tr>\n",
       "    <tr>\n",
       "      <th>0</th>\n",
       "      <td>full_credit</td>\n",
       "      <td>697</td>\n",
       "      <td>281</td>\n",
       "      <td>40.315638</td>\n",
       "      <td>15.414152</td>\n",
       "    </tr>\n",
       "  </tbody>\n",
       "</table>\n",
       "</div>"
      ],
      "text/plain": [
       "     rent_type  total-post  fake-post  value_fake_prcentage  fake_percentage\n",
       "1  rent_credit        1510        679             44.966887        37.246297\n",
       "2         sell        2932        522             17.803547        28.634120\n",
       "0  full_credit         697        281             40.315638        15.414152"
      ]
     },
     "execution_count": 115,
     "metadata": {},
     "output_type": "execute_result"
    }
   ],
   "source": [
    "fake_percenatge(train_data, 'rent_type')"
   ]
  },
  {
   "cell_type": "code",
   "execution_count": 116,
   "id": "8bd5a7de-4931-4f9d-8bad-6e9b45f04cdd",
   "metadata": {},
   "outputs": [
    {
     "data": {
      "text/html": [
       "<div>\n",
       "<style scoped>\n",
       "    .dataframe tbody tr th:only-of-type {\n",
       "        vertical-align: middle;\n",
       "    }\n",
       "\n",
       "    .dataframe tbody tr th {\n",
       "        vertical-align: top;\n",
       "    }\n",
       "\n",
       "    .dataframe thead th {\n",
       "        text-align: right;\n",
       "    }\n",
       "</style>\n",
       "<table border=\"1\" class=\"dataframe\">\n",
       "  <thead>\n",
       "    <tr style=\"text-align: right;\">\n",
       "      <th></th>\n",
       "      <th>is_rent</th>\n",
       "      <th>total-post</th>\n",
       "      <th>fake-post</th>\n",
       "      <th>value_fake_prcentage</th>\n",
       "      <th>fake_percentage</th>\n",
       "    </tr>\n",
       "  </thead>\n",
       "  <tbody>\n",
       "    <tr>\n",
       "      <th>1</th>\n",
       "      <td>1</td>\n",
       "      <td>3067</td>\n",
       "      <td>1301</td>\n",
       "      <td>42.419302</td>\n",
       "      <td>71.36588</td>\n",
       "    </tr>\n",
       "    <tr>\n",
       "      <th>0</th>\n",
       "      <td>0</td>\n",
       "      <td>2932</td>\n",
       "      <td>522</td>\n",
       "      <td>17.803547</td>\n",
       "      <td>28.63412</td>\n",
       "    </tr>\n",
       "  </tbody>\n",
       "</table>\n",
       "</div>"
      ],
      "text/plain": [
       "   is_rent  total-post  fake-post  value_fake_prcentage  fake_percentage\n",
       "1        1        3067       1301             42.419302         71.36588\n",
       "0        0        2932        522             17.803547         28.63412"
      ]
     },
     "execution_count": 116,
     "metadata": {},
     "output_type": "execute_result"
    }
   ],
   "source": [
    "fake_percenatge(train_data, 'is_rent')"
   ]
  },
  {
   "cell_type": "code",
   "execution_count": 117,
   "id": "8c2f9c69-e632-4b7a-ae3e-fbe27782dac5",
   "metadata": {},
   "outputs": [
    {
     "data": {
      "text/html": [
       "<div>\n",
       "<style scoped>\n",
       "    .dataframe tbody tr th:only-of-type {\n",
       "        vertical-align: middle;\n",
       "    }\n",
       "\n",
       "    .dataframe tbody tr th {\n",
       "        vertical-align: top;\n",
       "    }\n",
       "\n",
       "    .dataframe thead th {\n",
       "        text-align: right;\n",
       "    }\n",
       "</style>\n",
       "<table border=\"1\" class=\"dataframe\">\n",
       "  <thead>\n",
       "    <tr style=\"text-align: right;\">\n",
       "      <th></th>\n",
       "      <th>pre_category</th>\n",
       "      <th>total-post</th>\n",
       "      <th>fake-post</th>\n",
       "      <th>value_fake_prcentage</th>\n",
       "      <th>fake_percentage</th>\n",
       "    </tr>\n",
       "  </thead>\n",
       "  <tbody>\n",
       "    <tr>\n",
       "      <th>3</th>\n",
       "      <td>residential_rent</td>\n",
       "      <td>2823</td>\n",
       "      <td>1263</td>\n",
       "      <td>44.739639</td>\n",
       "      <td>69.281404</td>\n",
       "    </tr>\n",
       "    <tr>\n",
       "      <th>4</th>\n",
       "      <td>residential_sell</td>\n",
       "      <td>2460</td>\n",
       "      <td>453</td>\n",
       "      <td>18.414634</td>\n",
       "      <td>24.849150</td>\n",
       "    </tr>\n",
       "    <tr>\n",
       "      <th>5</th>\n",
       "      <td>short_term_rent</td>\n",
       "      <td>273</td>\n",
       "      <td>50</td>\n",
       "      <td>18.315018</td>\n",
       "      <td>2.742732</td>\n",
       "    </tr>\n",
       "    <tr>\n",
       "      <th>0</th>\n",
       "      <td>commercial_rent</td>\n",
       "      <td>244</td>\n",
       "      <td>38</td>\n",
       "      <td>15.573770</td>\n",
       "      <td>2.084476</td>\n",
       "    </tr>\n",
       "    <tr>\n",
       "      <th>2</th>\n",
       "      <td>construction</td>\n",
       "      <td>64</td>\n",
       "      <td>11</td>\n",
       "      <td>17.187500</td>\n",
       "      <td>0.603401</td>\n",
       "    </tr>\n",
       "    <tr>\n",
       "      <th>1</th>\n",
       "      <td>commercial_sell</td>\n",
       "      <td>135</td>\n",
       "      <td>8</td>\n",
       "      <td>5.925926</td>\n",
       "      <td>0.438837</td>\n",
       "    </tr>\n",
       "  </tbody>\n",
       "</table>\n",
       "</div>"
      ],
      "text/plain": [
       "       pre_category  total-post  fake-post  value_fake_prcentage  \\\n",
       "3  residential_rent        2823       1263             44.739639   \n",
       "4  residential_sell        2460        453             18.414634   \n",
       "5   short_term_rent         273         50             18.315018   \n",
       "0   commercial_rent         244         38             15.573770   \n",
       "2      construction          64         11             17.187500   \n",
       "1   commercial_sell         135          8              5.925926   \n",
       "\n",
       "   fake_percentage  \n",
       "3        69.281404  \n",
       "4        24.849150  \n",
       "5         2.742732  \n",
       "0         2.084476  \n",
       "2         0.603401  \n",
       "1         0.438837  "
      ]
     },
     "execution_count": 117,
     "metadata": {},
     "output_type": "execute_result"
    }
   ],
   "source": [
    "fake_percenatge(train_data, 'pre_category')"
   ]
  },
  {
   "cell_type": "code",
   "execution_count": 118,
   "id": "ec0b5a02-82ab-4a7e-b7b8-f3c8ed666c7b",
   "metadata": {},
   "outputs": [
    {
     "data": {
      "text/plain": [
       "count    2748.000000\n",
       "mean       13.292326\n",
       "std       222.899624\n",
       "min         0.000000\n",
       "25%         0.000000\n",
       "50%         3.000000\n",
       "75%         7.000000\n",
       "max      9999.999999\n",
       "Name: new_rent, dtype: float64"
      ]
     },
     "execution_count": 118,
     "metadata": {},
     "output_type": "execute_result"
    }
   ],
   "source": [
    "(train_data['new_rent']/ 1000000).describe()"
   ]
  },
  {
   "cell_type": "code",
   "execution_count": 121,
   "id": "418fc87d-188d-4f80-a8f6-8c5c47f43094",
   "metadata": {},
   "outputs": [
    {
     "data": {
      "text/plain": [
       "count     2813.000000\n",
       "mean       374.005990\n",
       "std        616.728656\n",
       "min          0.000000\n",
       "25%        100.000000\n",
       "50%        200.000000\n",
       "75%        400.000000\n",
       "max      10000.000000\n",
       "Name: new_credit, dtype: float64"
      ]
     },
     "execution_count": 121,
     "metadata": {},
     "output_type": "execute_result"
    }
   ],
   "source": [
    "(train_data['new_credit']/ 1000000).describe()"
   ]
  },
  {
   "cell_type": "code",
   "execution_count": 128,
   "id": "9ec88e92-6937-445e-b5bc-6489cf437d1e",
   "metadata": {},
   "outputs": [
    {
     "data": {
      "text/html": [
       "<div>\n",
       "<style scoped>\n",
       "    .dataframe tbody tr th:only-of-type {\n",
       "        vertical-align: middle;\n",
       "    }\n",
       "\n",
       "    .dataframe tbody tr th {\n",
       "        vertical-align: top;\n",
       "    }\n",
       "\n",
       "    .dataframe thead th {\n",
       "        text-align: right;\n",
       "    }\n",
       "</style>\n",
       "<table border=\"1\" class=\"dataframe\">\n",
       "  <thead>\n",
       "    <tr style=\"text-align: right;\">\n",
       "      <th></th>\n",
       "      <th>published_season</th>\n",
       "      <th>total-post</th>\n",
       "      <th>fake-post</th>\n",
       "      <th>value_fake_prcentage</th>\n",
       "      <th>fake_percentage</th>\n",
       "    </tr>\n",
       "  </thead>\n",
       "  <tbody>\n",
       "    <tr>\n",
       "      <th>0</th>\n",
       "      <td>0</td>\n",
       "      <td>5040</td>\n",
       "      <td>1291</td>\n",
       "      <td>25.615079</td>\n",
       "      <td>70.817334</td>\n",
       "    </tr>\n",
       "    <tr>\n",
       "      <th>1</th>\n",
       "      <td>1</td>\n",
       "      <td>959</td>\n",
       "      <td>532</td>\n",
       "      <td>55.474453</td>\n",
       "      <td>29.182666</td>\n",
       "    </tr>\n",
       "  </tbody>\n",
       "</table>\n",
       "</div>"
      ],
      "text/plain": [
       "   published_season  total-post  fake-post  value_fake_prcentage  \\\n",
       "0                 0        5040       1291             25.615079   \n",
       "1                 1         959        532             55.474453   \n",
       "\n",
       "   fake_percentage  \n",
       "0        70.817334  \n",
       "1        29.182666  "
      ]
     },
     "execution_count": 128,
     "metadata": {},
     "output_type": "execute_result"
    }
   ],
   "source": [
    "fake_percenatge(train_data, 'published_season')"
   ]
  },
  {
   "cell_type": "code",
   "execution_count": 129,
   "id": "709353ce-c8cc-4649-8267-0cb1a2060beb",
   "metadata": {},
   "outputs": [
    {
     "data": {
      "text/html": [
       "<div>\n",
       "<style scoped>\n",
       "    .dataframe tbody tr th:only-of-type {\n",
       "        vertical-align: middle;\n",
       "    }\n",
       "\n",
       "    .dataframe tbody tr th {\n",
       "        vertical-align: top;\n",
       "    }\n",
       "\n",
       "    .dataframe thead th {\n",
       "        text-align: right;\n",
       "    }\n",
       "</style>\n",
       "<table border=\"1\" class=\"dataframe\">\n",
       "  <thead>\n",
       "    <tr style=\"text-align: right;\">\n",
       "      <th></th>\n",
       "      <th>username_category</th>\n",
       "      <th>total-post</th>\n",
       "      <th>fake-post</th>\n",
       "      <th>value_fake_prcentage</th>\n",
       "      <th>fake_percentage</th>\n",
       "    </tr>\n",
       "  </thead>\n",
       "  <tbody>\n",
       "    <tr>\n",
       "      <th>2</th>\n",
       "      <td>without_history</td>\n",
       "      <td>4757</td>\n",
       "      <td>1169</td>\n",
       "      <td>24.574312</td>\n",
       "      <td>64.125069</td>\n",
       "    </tr>\n",
       "    <tr>\n",
       "      <th>0</th>\n",
       "      <td>KOSKESH</td>\n",
       "      <td>637</td>\n",
       "      <td>497</td>\n",
       "      <td>78.021978</td>\n",
       "      <td>27.262754</td>\n",
       "    </tr>\n",
       "    <tr>\n",
       "      <th>1</th>\n",
       "      <td>Ok</td>\n",
       "      <td>605</td>\n",
       "      <td>157</td>\n",
       "      <td>25.950413</td>\n",
       "      <td>8.612178</td>\n",
       "    </tr>\n",
       "  </tbody>\n",
       "</table>\n",
       "</div>"
      ],
      "text/plain": [
       "  username_category  total-post  fake-post  value_fake_prcentage  \\\n",
       "2   without_history        4757       1169             24.574312   \n",
       "0           KOSKESH         637        497             78.021978   \n",
       "1                Ok         605        157             25.950413   \n",
       "\n",
       "   fake_percentage  \n",
       "2        64.125069  \n",
       "0        27.262754  \n",
       "1         8.612178  "
      ]
     },
     "execution_count": 129,
     "metadata": {},
     "output_type": "execute_result"
    }
   ],
   "source": [
    "fake_percenatge(train_data, 'username_category')"
   ]
  },
  {
   "cell_type": "code",
   "execution_count": 133,
   "id": "4be7c225-3825-44ee-a4aa-0eda3df97181",
   "metadata": {},
   "outputs": [
    {
     "data": {
      "text/html": [
       "<div>\n",
       "<style scoped>\n",
       "    .dataframe tbody tr th:only-of-type {\n",
       "        vertical-align: middle;\n",
       "    }\n",
       "\n",
       "    .dataframe tbody tr th {\n",
       "        vertical-align: top;\n",
       "    }\n",
       "\n",
       "    .dataframe thead th {\n",
       "        text-align: right;\n",
       "    }\n",
       "</style>\n",
       "<table border=\"1\" class=\"dataframe\">\n",
       "  <thead>\n",
       "    <tr style=\"text-align: right;\">\n",
       "      <th></th>\n",
       "      <th>full_options</th>\n",
       "      <th>total-post</th>\n",
       "      <th>fake-post</th>\n",
       "      <th>value_fake_prcentage</th>\n",
       "      <th>fake_percentage</th>\n",
       "    </tr>\n",
       "  </thead>\n",
       "  <tbody>\n",
       "    <tr>\n",
       "      <th>1</th>\n",
       "      <td>1</td>\n",
       "      <td>2414</td>\n",
       "      <td>948</td>\n",
       "      <td>39.270920</td>\n",
       "      <td>52.002194</td>\n",
       "    </tr>\n",
       "    <tr>\n",
       "      <th>0</th>\n",
       "      <td>0</td>\n",
       "      <td>3585</td>\n",
       "      <td>875</td>\n",
       "      <td>24.407252</td>\n",
       "      <td>47.997806</td>\n",
       "    </tr>\n",
       "  </tbody>\n",
       "</table>\n",
       "</div>"
      ],
      "text/plain": [
       "   full_options  total-post  fake-post  value_fake_prcentage  fake_percentage\n",
       "1             1        2414        948             39.270920        52.002194\n",
       "0             0        3585        875             24.407252        47.997806"
      ]
     },
     "execution_count": 133,
     "metadata": {},
     "output_type": "execute_result"
    }
   ],
   "source": [
    "fake_percenatge(train_data, 'full_options')"
   ]
  },
  {
   "cell_type": "code",
   "execution_count": 134,
   "id": "b66a79bf-da53-400e-a3c0-ddd3fa3698f4",
   "metadata": {},
   "outputs": [
    {
     "data": {
      "text/plain": [
       "without_history    4757\n",
       "KOSKESH             637\n",
       "Ok                  605\n",
       "Name: username_category, dtype: int64"
      ]
     },
     "execution_count": 134,
     "metadata": {},
     "output_type": "execute_result"
    }
   ],
   "source": [
    "train_data['username_category'].value_counts()"
   ]
  },
  {
   "cell_type": "code",
   "execution_count": 143,
   "id": "4b2ec00d-556e-45cb-b273-edb4c7525ccb",
   "metadata": {},
   "outputs": [
    {
     "data": {
      "text/plain": [
       "1335"
      ]
     },
     "execution_count": 143,
     "metadata": {},
     "output_type": "execute_result"
    }
   ],
   "source": [
    "train_data['username'].nunique()"
   ]
  },
  {
   "cell_type": "code",
   "execution_count": 144,
   "id": "117fce99-a76b-4bcf-bbee-233c3171ff66",
   "metadata": {},
   "outputs": [
    {
     "data": {
      "text/plain": [
       "754"
      ]
     },
     "execution_count": 144,
     "metadata": {},
     "output_type": "execute_result"
    }
   ],
   "source": [
    "gdf = train_data.groupby(['username'])['token'].count().reset_index().sort_values(by='token', ascending= False)\n",
    "gdf[gdf['token']>5].token.sum()"
   ]
  },
  {
   "cell_type": "code",
   "execution_count": 147,
   "id": "192c92a1-96aa-4189-8092-2ee42c9cbb84",
   "metadata": {},
   "outputs": [
    {
     "data": {
      "text/html": [
       "<div>\n",
       "<style scoped>\n",
       "    .dataframe tbody tr th:only-of-type {\n",
       "        vertical-align: middle;\n",
       "    }\n",
       "\n",
       "    .dataframe tbody tr th {\n",
       "        vertical-align: top;\n",
       "    }\n",
       "\n",
       "    .dataframe thead th {\n",
       "        text-align: right;\n",
       "    }\n",
       "</style>\n",
       "<table border=\"1\" class=\"dataframe\">\n",
       "  <thead>\n",
       "    <tr style=\"text-align: right;\">\n",
       "      <th></th>\n",
       "      <th>username</th>\n",
       "      <th>total-post</th>\n",
       "      <th>fake-post</th>\n",
       "      <th>value_fake_prcentage</th>\n",
       "      <th>fake_percentage</th>\n",
       "    </tr>\n",
       "  </thead>\n",
       "  <tbody>\n",
       "    <tr>\n",
       "      <th>584</th>\n",
       "      <td>real-estate-business_3099</td>\n",
       "      <td>24</td>\n",
       "      <td>22.0</td>\n",
       "      <td>91.666667</td>\n",
       "      <td>1.206802</td>\n",
       "    </tr>\n",
       "    <tr>\n",
       "      <th>333</th>\n",
       "      <td>real-estate-business_1809</td>\n",
       "      <td>25</td>\n",
       "      <td>21.0</td>\n",
       "      <td>84.000000</td>\n",
       "      <td>1.151947</td>\n",
       "    </tr>\n",
       "    <tr>\n",
       "      <th>234</th>\n",
       "      <td>real-estate-business_1538</td>\n",
       "      <td>23</td>\n",
       "      <td>17.0</td>\n",
       "      <td>73.913043</td>\n",
       "      <td>0.932529</td>\n",
       "    </tr>\n",
       "    <tr>\n",
       "      <th>774</th>\n",
       "      <td>real-estate-business_5415</td>\n",
       "      <td>16</td>\n",
       "      <td>15.0</td>\n",
       "      <td>93.750000</td>\n",
       "      <td>0.822820</td>\n",
       "    </tr>\n",
       "    <tr>\n",
       "      <th>934</th>\n",
       "      <td>real-estate-business_8213</td>\n",
       "      <td>20</td>\n",
       "      <td>15.0</td>\n",
       "      <td>75.000000</td>\n",
       "      <td>0.822820</td>\n",
       "    </tr>\n",
       "    <tr>\n",
       "      <th>...</th>\n",
       "      <td>...</td>\n",
       "      <td>...</td>\n",
       "      <td>...</td>\n",
       "      <td>...</td>\n",
       "      <td>...</td>\n",
       "    </tr>\n",
       "    <tr>\n",
       "      <th>1324</th>\n",
       "      <td>real-estate-business_agent_94264</td>\n",
       "      <td>1</td>\n",
       "      <td>NaN</td>\n",
       "      <td>NaN</td>\n",
       "      <td>NaN</td>\n",
       "    </tr>\n",
       "    <tr>\n",
       "      <th>1326</th>\n",
       "      <td>real-estate-business_agent_95012</td>\n",
       "      <td>2</td>\n",
       "      <td>NaN</td>\n",
       "      <td>NaN</td>\n",
       "      <td>NaN</td>\n",
       "    </tr>\n",
       "    <tr>\n",
       "      <th>1329</th>\n",
       "      <td>real-estate-business_agent_95934</td>\n",
       "      <td>1</td>\n",
       "      <td>NaN</td>\n",
       "      <td>NaN</td>\n",
       "      <td>NaN</td>\n",
       "    </tr>\n",
       "    <tr>\n",
       "      <th>1333</th>\n",
       "      <td>real-estate-business_agent_99026</td>\n",
       "      <td>1</td>\n",
       "      <td>NaN</td>\n",
       "      <td>NaN</td>\n",
       "      <td>NaN</td>\n",
       "    </tr>\n",
       "    <tr>\n",
       "      <th>1334</th>\n",
       "      <td>real-estate-business_agent_99920</td>\n",
       "      <td>1</td>\n",
       "      <td>NaN</td>\n",
       "      <td>NaN</td>\n",
       "      <td>NaN</td>\n",
       "    </tr>\n",
       "  </tbody>\n",
       "</table>\n",
       "<p>1335 rows × 5 columns</p>\n",
       "</div>"
      ],
      "text/plain": [
       "                              username  total-post  fake-post  \\\n",
       "584          real-estate-business_3099          24       22.0   \n",
       "333          real-estate-business_1809          25       21.0   \n",
       "234          real-estate-business_1538          23       17.0   \n",
       "774          real-estate-business_5415          16       15.0   \n",
       "934          real-estate-business_8213          20       15.0   \n",
       "...                                ...         ...        ...   \n",
       "1324  real-estate-business_agent_94264           1        NaN   \n",
       "1326  real-estate-business_agent_95012           2        NaN   \n",
       "1329  real-estate-business_agent_95934           1        NaN   \n",
       "1333  real-estate-business_agent_99026           1        NaN   \n",
       "1334  real-estate-business_agent_99920           1        NaN   \n",
       "\n",
       "      value_fake_prcentage  fake_percentage  \n",
       "584              91.666667         1.206802  \n",
       "333              84.000000         1.151947  \n",
       "234              73.913043         0.932529  \n",
       "774              93.750000         0.822820  \n",
       "934              75.000000         0.822820  \n",
       "...                    ...              ...  \n",
       "1324                   NaN              NaN  \n",
       "1326                   NaN              NaN  \n",
       "1329                   NaN              NaN  \n",
       "1333                   NaN              NaN  \n",
       "1334                   NaN              NaN  \n",
       "\n",
       "[1335 rows x 5 columns]"
      ]
     },
     "execution_count": 147,
     "metadata": {},
     "output_type": "execute_result"
    }
   ],
   "source": [
    "fake_percenatge(train_data, 'username')"
   ]
  },
  {
   "cell_type": "code",
   "execution_count": 148,
   "id": "d52e6008-63b8-4ce7-b670-9bdab20cc65f",
   "metadata": {},
   "outputs": [],
   "source": [
    "train_data['text'] = 'title: \\n' + train_data['title'] + '\\n' + 'description \\n' + train_data['description'] + '\\n' + 'end \\n'\n",
    "\n",
    "fake_texts = train_data[train_data['result']=='fake-post']['text']\n",
    "ok_texts = train_data[train_data['result']=='ok']['text']\n",
    "\n",
    "np.savetxt('fake_texts', fake_texts, fmt='%s')\n",
    "np.savetxt('ok_texts', ok_texts, fmt='%s')"
   ]
  },
  {
   "cell_type": "code",
   "execution_count": 149,
   "id": "d46c0a2e-e51f-475c-a501-a5d319ed5ef6",
   "metadata": {},
   "outputs": [],
   "source": [
    "def count_real_words(text):\n",
    "    words = hazm.word_tokenize(text)\n",
    "    real_words = []\n",
    "    \n",
    "    for word in words:\n",
    "        if (len(str(word)))>2:\n",
    "            real_words.append(word)\n",
    "            \n",
    "    return real_words"
   ]
  },
  {
   "cell_type": "code",
   "execution_count": 152,
   "id": "8b2afdd2-4c0e-4b35-b45c-621b8602c747",
   "metadata": {},
   "outputs": [
    {
     "data": {
      "text/plain": [
       "count                                                  5999\n",
       "unique                                                 5997\n",
       "top       [title, متر/تهرانپارس/تک, واحدی/کد, 183334, de...\n",
       "freq                                                      2\n",
       "Name: words_count, dtype: object"
      ]
     },
     "execution_count": 152,
     "metadata": {},
     "output_type": "execute_result"
    }
   ],
   "source": [
    "train_data['words_count'] = train_data['text'].apply(lambda s: count_real_words(s))\n",
    "train_data['words_count'].describe()"
   ]
  },
  {
   "cell_type": "code",
   "execution_count": 153,
   "id": "bad42493-2052-4afd-ba6c-b57d9f2a5bca",
   "metadata": {},
   "outputs": [
    {
     "data": {
      "text/plain": [
       "count                                                  4176\n",
       "unique                                                 4175\n",
       "top       [title, متر, خوابه, فول, امکانات, ساله, بلوار,...\n",
       "freq                                                      2\n",
       "Name: words_count, dtype: object"
      ]
     },
     "execution_count": 153,
     "metadata": {},
     "output_type": "execute_result"
    }
   ],
   "source": [
    "train_data[train_data['result']=='ok']['words_count'].describe()"
   ]
  },
  {
   "cell_type": "code",
   "execution_count": 154,
   "id": "3e7230ac-5083-43b9-877e-2ee4a27e272a",
   "metadata": {},
   "outputs": [
    {
     "data": {
      "text/plain": [
       "count                                                  1823\n",
       "unique                                                 1823\n",
       "top       [title, ۱۵۰, متر۲خواب, نیاوران, دسترسی, descri...\n",
       "freq                                                      1\n",
       "Name: words_count, dtype: object"
      ]
     },
     "execution_count": 154,
     "metadata": {},
     "output_type": "execute_result"
    }
   ],
   "source": [
    "train_data[train_data['result']=='fake-post']['words_count'].describe()"
   ]
  },
  {
   "cell_type": "code",
   "execution_count": 155,
   "id": "063811a8-ec50-453e-ad13-e02286910bd6",
   "metadata": {},
   "outputs": [],
   "source": [
    "suspicious_words = ['مشاور شما', 'فایل']"
   ]
  },
  {
   "cell_type": "code",
   "execution_count": 156,
   "id": "2a363596-5e76-45b2-ade8-3436c03d10b4",
   "metadata": {},
   "outputs": [],
   "source": [
    "train_data['description_size'] = train_data['description'].apply(lambda s: len(s))\n",
    "train_data['title_size'] = train_data['title'].apply(lambda s: len(s))"
   ]
  },
  {
   "cell_type": "code",
   "execution_count": 157,
   "id": "88e00ef5-d93e-4f46-bef3-8ba927e4fb1c",
   "metadata": {},
   "outputs": [
    {
     "data": {
      "text/plain": [
       "count    5999.000000\n",
       "mean      253.044507\n",
       "std       187.497346\n",
       "min         9.000000\n",
       "25%       122.000000\n",
       "50%       203.000000\n",
       "75%       327.000000\n",
       "max      1000.000000\n",
       "Name: description_size, dtype: float64"
      ]
     },
     "execution_count": 157,
     "metadata": {},
     "output_type": "execute_result"
    }
   ],
   "source": [
    "train_data['description_size'].describe()"
   ]
  },
  {
   "cell_type": "code",
   "execution_count": 158,
   "id": "bde6386f-d7b2-4bae-b29e-64513da75ecc",
   "metadata": {},
   "outputs": [
    {
     "data": {
      "text/plain": [
       "count    4176.000000\n",
       "mean      253.156130\n",
       "std       189.410394\n",
       "min         9.000000\n",
       "25%       121.000000\n",
       "50%       202.000000\n",
       "75%       329.000000\n",
       "max      1000.000000\n",
       "Name: description_size, dtype: float64"
      ]
     },
     "execution_count": 158,
     "metadata": {},
     "output_type": "execute_result"
    }
   ],
   "source": [
    "train_data[train_data['result']=='ok']['description_size'].describe()"
   ]
  },
  {
   "cell_type": "code",
   "execution_count": 159,
   "id": "870b61a9-45f3-44cc-9399-fd875b80491c",
   "metadata": {},
   "outputs": [
    {
     "data": {
      "text/plain": [
       "count    1823.000000\n",
       "mean      252.788810\n",
       "std       183.090774\n",
       "min        10.000000\n",
       "25%       128.000000\n",
       "50%       205.000000\n",
       "75%       323.500000\n",
       "max       998.000000\n",
       "Name: description_size, dtype: float64"
      ]
     },
     "execution_count": 159,
     "metadata": {},
     "output_type": "execute_result"
    }
   ],
   "source": [
    "train_data[train_data['result']=='fake-post']['description_size'].describe()"
   ]
  },
  {
   "cell_type": "code",
   "execution_count": 160,
   "id": "27c2b504-28d2-41ce-8aac-42da1223ede1",
   "metadata": {},
   "outputs": [
    {
     "data": {
      "text/plain": [
       "count    5999.000000\n",
       "mean       30.309718\n",
       "std         9.834412\n",
       "min         4.000000\n",
       "25%        23.000000\n",
       "50%        30.000000\n",
       "75%        38.000000\n",
       "max        50.000000\n",
       "Name: title_size, dtype: float64"
      ]
     },
     "execution_count": 160,
     "metadata": {},
     "output_type": "execute_result"
    }
   ],
   "source": [
    "train_data['title_size'].describe()"
   ]
  },
  {
   "cell_type": "code",
   "execution_count": 161,
   "id": "2345e242-0881-4223-bcad-7ea09f5120aa",
   "metadata": {},
   "outputs": [
    {
     "data": {
      "text/plain": [
       "count    4176.000000\n",
       "mean       30.278017\n",
       "std         9.892043\n",
       "min         4.000000\n",
       "25%        23.000000\n",
       "50%        30.000000\n",
       "75%        37.000000\n",
       "max        50.000000\n",
       "Name: title_size, dtype: float64"
      ]
     },
     "execution_count": 161,
     "metadata": {},
     "output_type": "execute_result"
    }
   ],
   "source": [
    "train_data[train_data['result']=='ok']['title_size'].describe()"
   ]
  },
  {
   "cell_type": "code",
   "execution_count": 162,
   "id": "7592363b-a2f6-44ae-89c3-968d0bebb2a4",
   "metadata": {},
   "outputs": [
    {
     "data": {
      "text/plain": [
       "count    1823.000000\n",
       "mean       30.382337\n",
       "std         9.703409\n",
       "min         4.000000\n",
       "25%        23.000000\n",
       "50%        30.000000\n",
       "75%        38.000000\n",
       "max        50.000000\n",
       "Name: title_size, dtype: float64"
      ]
     },
     "execution_count": 162,
     "metadata": {},
     "output_type": "execute_result"
    }
   ],
   "source": [
    "train_data[train_data['result']=='fake-post']['title_size'].describe()"
   ]
  },
  {
   "cell_type": "code",
   "execution_count": 164,
   "id": "0508b191-4265-41bd-aa1e-24551e0a09e8",
   "metadata": {},
   "outputs": [],
   "source": [
    "check_text = train_data[['result', 'title', 'description', 'other_options_and_attributes']]\n",
    "check_text.to_csv('check_text.csv', index=False)\n",
    "\n",
    "fake_titles = check_text[check_text['result']=='fake-post'][['description']]\n",
    "ok_titles = check_text[check_text['result']=='ok'][['description']]\n",
    "\n",
    "fake_titles['description'] = fake_titles['description']+'\\n'+'@@@@@@@@@@@'\n",
    "ok_titles['description'] = ok_titles['description']+'\\n'+'@@@@@@@@@@@'\n",
    "\n",
    "#fake_description = check_text[check_text['result']=='fake-post']['description']\n",
    "np.savetxt('fake_title', fake_titles, fmt='%s')\n",
    "np.savetxt('ok_title', ok_titles, fmt='%s')"
   ]
  },
  {
   "cell_type": "code",
   "execution_count": 165,
   "id": "ed1bf781-c500-4511-a6e5-f954163d7675",
   "metadata": {},
   "outputs": [
    {
     "name": "stdout",
     "output_type": "stream",
     "text": [
      "<class 'pandas.core.frame.DataFrame'>\n",
      "RangeIndex: 6000 entries, 0 to 5999\n",
      "Data columns (total 4 columns):\n",
      " #   Column     Non-Null Count  Dtype \n",
      "---  ------     --------------  ----- \n",
      " 0   token      6000 non-null   object\n",
      " 1   call_date  6000 non-null   object\n",
      " 2   result     6000 non-null   object\n",
      " 3   tag        2539 non-null   object\n",
      "dtypes: object(4)\n",
      "memory usage: 187.6+ KB\n"
     ]
    }
   ],
   "source": [
    "train_labels.info()"
   ]
  },
  {
   "cell_type": "code",
   "execution_count": 166,
   "id": "978c2886-be1f-4e0d-895c-b199a3a96ef9",
   "metadata": {},
   "outputs": [
    {
     "data": {
      "text/plain": [
       "ok           0.696167\n",
       "fake-post    0.303833\n",
       "Name: result, dtype: float64"
      ]
     },
     "execution_count": 166,
     "metadata": {},
     "output_type": "execute_result"
    }
   ],
   "source": [
    "train_labels['result'].value_counts()/train_labels.shape[0]"
   ]
  },
  {
   "cell_type": "code",
   "execution_count": 167,
   "id": "9afab55a-1c0e-4eac-a6cb-ff8a95e4d3be",
   "metadata": {},
   "outputs": [
    {
     "name": "stdout",
     "output_type": "stream",
     "text": [
      "<class 'pandas.core.frame.DataFrame'>\n",
      "RangeIndex: 2172 entries, 0 to 2171\n",
      "Data columns (total 2 columns):\n",
      " #   Column     Non-Null Count  Dtype \n",
      "---  ------     --------------  ----- \n",
      " 0   token      2172 non-null   object\n",
      " 1   call_date  2172 non-null   object\n",
      "dtypes: object(2)\n",
      "memory usage: 34.1+ KB\n"
     ]
    }
   ],
   "source": [
    "validation.info()"
   ]
  },
  {
   "cell_type": "code",
   "execution_count": 168,
   "id": "e9faeb2b-ad9b-4a70-a921-c5e7ff699c2e",
   "metadata": {},
   "outputs": [],
   "source": [
    "validation['call_date'] = pd.to_datetime(validation['call_date'])\n",
    "train_labels['call_date'] = pd.to_datetime(train_labels['call_date'])"
   ]
  },
  {
   "cell_type": "code",
   "execution_count": 169,
   "id": "7352e6f8-b3f6-4d52-ac26-87ae12bf308d",
   "metadata": {},
   "outputs": [
    {
     "name": "stdout",
     "output_type": "stream",
     "text": [
      "2021-10-16 00:00:00 \n",
      " 2022-02-06 00:00:00\n"
     ]
    }
   ],
   "source": [
    "print(validation['call_date'].min(),'\\n' ,validation['call_date'].max())"
   ]
  },
  {
   "cell_type": "code",
   "execution_count": 170,
   "id": "d9268fe9-015a-4dbd-a4d5-abd8d5b4df1e",
   "metadata": {},
   "outputs": [
    {
     "name": "stdout",
     "output_type": "stream",
     "text": [
      "2021-10-16 00:00:00 \n",
      " 2022-02-06 00:00:00\n"
     ]
    }
   ],
   "source": [
    "print(train_labels['call_date'].min(),'\\n' ,train_labels['call_date'].max())"
   ]
  },
  {
   "cell_type": "code",
   "execution_count": 171,
   "id": "04fc002d-2bb2-417b-9cc1-638bba5e1ba3",
   "metadata": {},
   "outputs": [],
   "source": [
    "ladder_count = ladder.groupby('token')['order_at'].count().reset_index().rename({'order_at': 'ladder_count'}, axis=1)"
   ]
  },
  {
   "cell_type": "code",
   "execution_count": 172,
   "id": "5b54a931-c08c-4f5e-bd4a-7cef0e291334",
   "metadata": {},
   "outputs": [],
   "source": [
    "x = validation.merge(ladder_count,  on='token', how='left')"
   ]
  },
  {
   "cell_type": "code",
   "execution_count": 173,
   "id": "e73a71cb-1a99-4a0e-aa27-1900f5690ded",
   "metadata": {},
   "outputs": [
    {
     "name": "stdout",
     "output_type": "stream",
     "text": [
      "<class 'pandas.core.frame.DataFrame'>\n",
      "Int64Index: 2172 entries, 0 to 2171\n",
      "Data columns (total 3 columns):\n",
      " #   Column        Non-Null Count  Dtype         \n",
      "---  ------        --------------  -----         \n",
      " 0   token         2172 non-null   object        \n",
      " 1   call_date     2172 non-null   datetime64[ns]\n",
      " 2   ladder_count  944 non-null    float64       \n",
      "dtypes: datetime64[ns](1), float64(1), object(1)\n",
      "memory usage: 67.9+ KB\n"
     ]
    }
   ],
   "source": [
    "x.info()"
   ]
  },
  {
   "cell_type": "code",
   "execution_count": 174,
   "id": "4333c92b-1440-4c64-9afb-6f3d6205a4d2",
   "metadata": {},
   "outputs": [],
   "source": [
    "train_posts_first = train_labels.merge(posts, on='token', how='left')"
   ]
  },
  {
   "cell_type": "code",
   "execution_count": 175,
   "id": "86a4410e-fe0b-47be-857e-74118508e621",
   "metadata": {},
   "outputs": [
    {
     "name": "stdout",
     "output_type": "stream",
     "text": [
      "<class 'pandas.core.frame.DataFrame'>\n",
      "Int64Index: 31229 entries, 0 to 31228\n",
      "Data columns (total 3 columns):\n",
      " #   Column    Non-Null Count  Dtype         \n",
      "---  ------    --------------  -----         \n",
      " 0   token     31229 non-null  object        \n",
      " 1   order_at  31229 non-null  datetime64[ns]\n",
      " 2   type      31229 non-null  object        \n",
      "dtypes: datetime64[ns](1), object(2)\n",
      "memory usage: 975.9+ KB\n"
     ]
    }
   ],
   "source": [
    "ladder.info()"
   ]
  },
  {
   "cell_type": "code",
   "execution_count": 176,
   "id": "939e6476-9308-499f-a82c-1da1179db277",
   "metadata": {},
   "outputs": [],
   "source": [
    "def time_between_ladders(group):\n",
    "    group = group.sort_values(by='order_at').reset_index(drop=True)\n",
    "    return (group['order_at'] -  group['order_at'].shift(1)).dt.days"
   ]
  },
  {
   "cell_type": "code",
   "execution_count": 177,
   "id": "088299a2-7202-4297-a018-3a0333b15cc1",
   "metadata": {},
   "outputs": [
    {
     "data": {
      "text/html": [
       "<div>\n",
       "<style scoped>\n",
       "    .dataframe tbody tr th:only-of-type {\n",
       "        vertical-align: middle;\n",
       "    }\n",
       "\n",
       "    .dataframe tbody tr th {\n",
       "        vertical-align: top;\n",
       "    }\n",
       "\n",
       "    .dataframe thead th {\n",
       "        text-align: right;\n",
       "    }\n",
       "</style>\n",
       "<table border=\"1\" class=\"dataframe\">\n",
       "  <thead>\n",
       "    <tr style=\"text-align: right;\">\n",
       "      <th></th>\n",
       "      <th>token</th>\n",
       "      <th>time_between</th>\n",
       "    </tr>\n",
       "  </thead>\n",
       "  <tbody>\n",
       "    <tr>\n",
       "      <th>0</th>\n",
       "      <td>AY-RNJEr</td>\n",
       "      <td>NaN</td>\n",
       "    </tr>\n",
       "    <tr>\n",
       "      <th>1</th>\n",
       "      <td>AY-RNJEr</td>\n",
       "      <td>6.0</td>\n",
       "    </tr>\n",
       "    <tr>\n",
       "      <th>2</th>\n",
       "      <td>AY-RNJEr</td>\n",
       "      <td>9.0</td>\n",
       "    </tr>\n",
       "    <tr>\n",
       "      <th>3</th>\n",
       "      <td>AY-RNJEr</td>\n",
       "      <td>10.0</td>\n",
       "    </tr>\n",
       "    <tr>\n",
       "      <th>4</th>\n",
       "      <td>AY-RNJEr</td>\n",
       "      <td>10.0</td>\n",
       "    </tr>\n",
       "    <tr>\n",
       "      <th>...</th>\n",
       "      <td>...</td>\n",
       "      <td>...</td>\n",
       "    </tr>\n",
       "    <tr>\n",
       "      <th>31224</th>\n",
       "      <td>wXo8QU1Z</td>\n",
       "      <td>13.0</td>\n",
       "    </tr>\n",
       "    <tr>\n",
       "      <th>31225</th>\n",
       "      <td>wXo8QU1Z</td>\n",
       "      <td>8.0</td>\n",
       "    </tr>\n",
       "    <tr>\n",
       "      <th>31226</th>\n",
       "      <td>wXo8QU1Z</td>\n",
       "      <td>29.0</td>\n",
       "    </tr>\n",
       "    <tr>\n",
       "      <th>31227</th>\n",
       "      <td>wXo8QU1Z</td>\n",
       "      <td>30.0</td>\n",
       "    </tr>\n",
       "    <tr>\n",
       "      <th>31228</th>\n",
       "      <td>wXo8QU1Z</td>\n",
       "      <td>33.0</td>\n",
       "    </tr>\n",
       "  </tbody>\n",
       "</table>\n",
       "<p>31229 rows × 2 columns</p>\n",
       "</div>"
      ],
      "text/plain": [
       "          token  time_between\n",
       "0      AY-RNJEr           NaN\n",
       "1      AY-RNJEr           6.0\n",
       "2      AY-RNJEr           9.0\n",
       "3      AY-RNJEr          10.0\n",
       "4      AY-RNJEr          10.0\n",
       "...         ...           ...\n",
       "31224  wXo8QU1Z          13.0\n",
       "31225  wXo8QU1Z           8.0\n",
       "31226  wXo8QU1Z          29.0\n",
       "31227  wXo8QU1Z          30.0\n",
       "31228  wXo8QU1Z          33.0\n",
       "\n",
       "[31229 rows x 2 columns]"
      ]
     },
     "execution_count": 177,
     "metadata": {},
     "output_type": "execute_result"
    }
   ],
   "source": [
    "grouped_ladder = ladder.groupby(['token'])\\\n",
    "                        .apply(lambda group: time_between_ladders(group))\\\n",
    "                        .reset_index()\\\n",
    "                        .rename({'order_at': 'time_between'}, axis=1)\\\n",
    "                        .drop(['level_1'], axis=1)\n",
    "\n",
    "grouped_ladder"
   ]
  },
  {
   "cell_type": "code",
   "execution_count": 178,
   "id": "91cb09c5-513c-4f4a-a7ab-93eec0549baf",
   "metadata": {},
   "outputs": [
    {
     "data": {
      "text/html": [
       "<div>\n",
       "<style scoped>\n",
       "    .dataframe tbody tr th:only-of-type {\n",
       "        vertical-align: middle;\n",
       "    }\n",
       "\n",
       "    .dataframe tbody tr th {\n",
       "        vertical-align: top;\n",
       "    }\n",
       "\n",
       "    .dataframe thead th {\n",
       "        text-align: right;\n",
       "    }\n",
       "</style>\n",
       "<table border=\"1\" class=\"dataframe\">\n",
       "  <thead>\n",
       "    <tr style=\"text-align: right;\">\n",
       "      <th></th>\n",
       "      <th>token</th>\n",
       "      <th>time_between</th>\n",
       "    </tr>\n",
       "  </thead>\n",
       "  <tbody>\n",
       "    <tr>\n",
       "      <th>0</th>\n",
       "      <td>AY-RNJEr</td>\n",
       "      <td>11.0</td>\n",
       "    </tr>\n",
       "    <tr>\n",
       "      <th>1</th>\n",
       "      <td>AY-ncLKW</td>\n",
       "      <td>42.0</td>\n",
       "    </tr>\n",
       "    <tr>\n",
       "      <th>2</th>\n",
       "      <td>AY0DAuv8</td>\n",
       "      <td>15.0</td>\n",
       "    </tr>\n",
       "    <tr>\n",
       "      <th>3</th>\n",
       "      <td>AY2mFWFP</td>\n",
       "      <td>13.0</td>\n",
       "    </tr>\n",
       "    <tr>\n",
       "      <th>4</th>\n",
       "      <td>AY6514xL</td>\n",
       "      <td>6.0</td>\n",
       "    </tr>\n",
       "  </tbody>\n",
       "</table>\n",
       "</div>"
      ],
      "text/plain": [
       "      token  time_between\n",
       "0  AY-RNJEr          11.0\n",
       "1  AY-ncLKW          42.0\n",
       "2  AY0DAuv8          15.0\n",
       "3  AY2mFWFP          13.0\n",
       "4  AY6514xL           6.0"
      ]
     },
     "execution_count": 178,
     "metadata": {},
     "output_type": "execute_result"
    }
   ],
   "source": [
    "grouped_ladder = grouped_ladder.groupby(['token'])['time_between'].max().reset_index()\n",
    "grouped_ladder.head(5)"
   ]
  },
  {
   "cell_type": "code",
   "execution_count": 179,
   "id": "61f14915-90a0-4be2-9b32-84e20a128a30",
   "metadata": {},
   "outputs": [
    {
     "data": {
      "text/plain": [
       "count    1781.000000\n",
       "mean        7.504211\n",
       "std         7.141083\n",
       "min         0.000000\n",
       "25%         3.000000\n",
       "50%         6.000000\n",
       "75%        10.000000\n",
       "max        65.000000\n",
       "Name: time_between, dtype: float64"
      ]
     },
     "execution_count": 179,
     "metadata": {},
     "output_type": "execute_result"
    }
   ],
   "source": [
    "train_with_ladder = train_posts_first.merge(grouped_ladder, on='token', how='left')\n",
    "train_with_ladder['time_between'].describe()"
   ]
  },
  {
   "cell_type": "code",
   "execution_count": 180,
   "id": "e22dcfea-e3a3-465f-bf82-cba5eb8017f7",
   "metadata": {},
   "outputs": [
    {
     "data": {
      "text/html": [
       "<div>\n",
       "<style scoped>\n",
       "    .dataframe tbody tr th:only-of-type {\n",
       "        vertical-align: middle;\n",
       "    }\n",
       "\n",
       "    .dataframe tbody tr th {\n",
       "        vertical-align: top;\n",
       "    }\n",
       "\n",
       "    .dataframe thead th {\n",
       "        text-align: right;\n",
       "    }\n",
       "</style>\n",
       "<table border=\"1\" class=\"dataframe\">\n",
       "  <thead>\n",
       "    <tr style=\"text-align: right;\">\n",
       "      <th></th>\n",
       "      <th>time_between</th>\n",
       "      <th>total-post</th>\n",
       "      <th>fake-post</th>\n",
       "      <th>value_fake_prcentage</th>\n",
       "      <th>fake_percentage</th>\n",
       "    </tr>\n",
       "  </thead>\n",
       "  <tbody>\n",
       "    <tr>\n",
       "      <th>1</th>\n",
       "      <td>1.0</td>\n",
       "      <td>148</td>\n",
       "      <td>69.0</td>\n",
       "      <td>46.621622</td>\n",
       "      <td>3.784970</td>\n",
       "    </tr>\n",
       "    <tr>\n",
       "      <th>3</th>\n",
       "      <td>3.0</td>\n",
       "      <td>182</td>\n",
       "      <td>57.0</td>\n",
       "      <td>31.318681</td>\n",
       "      <td>3.126714</td>\n",
       "    </tr>\n",
       "    <tr>\n",
       "      <th>2</th>\n",
       "      <td>2.0</td>\n",
       "      <td>154</td>\n",
       "      <td>51.0</td>\n",
       "      <td>33.116883</td>\n",
       "      <td>2.797586</td>\n",
       "    </tr>\n",
       "    <tr>\n",
       "      <th>4</th>\n",
       "      <td>4.0</td>\n",
       "      <td>153</td>\n",
       "      <td>50.0</td>\n",
       "      <td>32.679739</td>\n",
       "      <td>2.742732</td>\n",
       "    </tr>\n",
       "    <tr>\n",
       "      <th>5</th>\n",
       "      <td>5.0</td>\n",
       "      <td>167</td>\n",
       "      <td>37.0</td>\n",
       "      <td>22.155689</td>\n",
       "      <td>2.029622</td>\n",
       "    </tr>\n",
       "    <tr>\n",
       "      <th>0</th>\n",
       "      <td>0.0</td>\n",
       "      <td>84</td>\n",
       "      <td>33.0</td>\n",
       "      <td>39.285714</td>\n",
       "      <td>1.810203</td>\n",
       "    </tr>\n",
       "    <tr>\n",
       "      <th>6</th>\n",
       "      <td>6.0</td>\n",
       "      <td>120</td>\n",
       "      <td>30.0</td>\n",
       "      <td>25.000000</td>\n",
       "      <td>1.645639</td>\n",
       "    </tr>\n",
       "    <tr>\n",
       "      <th>8</th>\n",
       "      <td>8.0</td>\n",
       "      <td>111</td>\n",
       "      <td>27.0</td>\n",
       "      <td>24.324324</td>\n",
       "      <td>1.481075</td>\n",
       "    </tr>\n",
       "    <tr>\n",
       "      <th>7</th>\n",
       "      <td>7.0</td>\n",
       "      <td>137</td>\n",
       "      <td>24.0</td>\n",
       "      <td>17.518248</td>\n",
       "      <td>1.316511</td>\n",
       "    </tr>\n",
       "    <tr>\n",
       "      <th>10</th>\n",
       "      <td>10.0</td>\n",
       "      <td>60</td>\n",
       "      <td>16.0</td>\n",
       "      <td>26.666667</td>\n",
       "      <td>0.877674</td>\n",
       "    </tr>\n",
       "    <tr>\n",
       "      <th>9</th>\n",
       "      <td>9.0</td>\n",
       "      <td>72</td>\n",
       "      <td>12.0</td>\n",
       "      <td>16.666667</td>\n",
       "      <td>0.658256</td>\n",
       "    </tr>\n",
       "    <tr>\n",
       "      <th>15</th>\n",
       "      <td>15.0</td>\n",
       "      <td>32</td>\n",
       "      <td>10.0</td>\n",
       "      <td>31.250000</td>\n",
       "      <td>0.548546</td>\n",
       "    </tr>\n",
       "    <tr>\n",
       "      <th>11</th>\n",
       "      <td>11.0</td>\n",
       "      <td>48</td>\n",
       "      <td>9.0</td>\n",
       "      <td>18.750000</td>\n",
       "      <td>0.493692</td>\n",
       "    </tr>\n",
       "    <tr>\n",
       "      <th>14</th>\n",
       "      <td>14.0</td>\n",
       "      <td>38</td>\n",
       "      <td>8.0</td>\n",
       "      <td>21.052632</td>\n",
       "      <td>0.438837</td>\n",
       "    </tr>\n",
       "    <tr>\n",
       "      <th>13</th>\n",
       "      <td>13.0</td>\n",
       "      <td>44</td>\n",
       "      <td>7.0</td>\n",
       "      <td>15.909091</td>\n",
       "      <td>0.383982</td>\n",
       "    </tr>\n",
       "    <tr>\n",
       "      <th>12</th>\n",
       "      <td>12.0</td>\n",
       "      <td>37</td>\n",
       "      <td>6.0</td>\n",
       "      <td>16.216216</td>\n",
       "      <td>0.329128</td>\n",
       "    </tr>\n",
       "    <tr>\n",
       "      <th>23</th>\n",
       "      <td>23.0</td>\n",
       "      <td>18</td>\n",
       "      <td>6.0</td>\n",
       "      <td>33.333333</td>\n",
       "      <td>0.329128</td>\n",
       "    </tr>\n",
       "    <tr>\n",
       "      <th>17</th>\n",
       "      <td>17.0</td>\n",
       "      <td>25</td>\n",
       "      <td>5.0</td>\n",
       "      <td>20.000000</td>\n",
       "      <td>0.274273</td>\n",
       "    </tr>\n",
       "    <tr>\n",
       "      <th>16</th>\n",
       "      <td>16.0</td>\n",
       "      <td>16</td>\n",
       "      <td>5.0</td>\n",
       "      <td>31.250000</td>\n",
       "      <td>0.274273</td>\n",
       "    </tr>\n",
       "    <tr>\n",
       "      <th>28</th>\n",
       "      <td>28.0</td>\n",
       "      <td>9</td>\n",
       "      <td>4.0</td>\n",
       "      <td>44.444444</td>\n",
       "      <td>0.219419</td>\n",
       "    </tr>\n",
       "    <tr>\n",
       "      <th>19</th>\n",
       "      <td>19.0</td>\n",
       "      <td>14</td>\n",
       "      <td>3.0</td>\n",
       "      <td>21.428571</td>\n",
       "      <td>0.164564</td>\n",
       "    </tr>\n",
       "    <tr>\n",
       "      <th>20</th>\n",
       "      <td>20.0</td>\n",
       "      <td>19</td>\n",
       "      <td>3.0</td>\n",
       "      <td>15.789474</td>\n",
       "      <td>0.164564</td>\n",
       "    </tr>\n",
       "    <tr>\n",
       "      <th>22</th>\n",
       "      <td>22.0</td>\n",
       "      <td>10</td>\n",
       "      <td>3.0</td>\n",
       "      <td>30.000000</td>\n",
       "      <td>0.164564</td>\n",
       "    </tr>\n",
       "    <tr>\n",
       "      <th>25</th>\n",
       "      <td>25.0</td>\n",
       "      <td>7</td>\n",
       "      <td>2.0</td>\n",
       "      <td>28.571429</td>\n",
       "      <td>0.109709</td>\n",
       "    </tr>\n",
       "    <tr>\n",
       "      <th>29</th>\n",
       "      <td>29.0</td>\n",
       "      <td>4</td>\n",
       "      <td>2.0</td>\n",
       "      <td>50.000000</td>\n",
       "      <td>0.109709</td>\n",
       "    </tr>\n",
       "    <tr>\n",
       "      <th>31</th>\n",
       "      <td>31.0</td>\n",
       "      <td>5</td>\n",
       "      <td>2.0</td>\n",
       "      <td>40.000000</td>\n",
       "      <td>0.109709</td>\n",
       "    </tr>\n",
       "    <tr>\n",
       "      <th>18</th>\n",
       "      <td>18.0</td>\n",
       "      <td>13</td>\n",
       "      <td>1.0</td>\n",
       "      <td>7.692308</td>\n",
       "      <td>0.054855</td>\n",
       "    </tr>\n",
       "    <tr>\n",
       "      <th>21</th>\n",
       "      <td>21.0</td>\n",
       "      <td>11</td>\n",
       "      <td>1.0</td>\n",
       "      <td>9.090909</td>\n",
       "      <td>0.054855</td>\n",
       "    </tr>\n",
       "    <tr>\n",
       "      <th>24</th>\n",
       "      <td>24.0</td>\n",
       "      <td>6</td>\n",
       "      <td>1.0</td>\n",
       "      <td>16.666667</td>\n",
       "      <td>0.054855</td>\n",
       "    </tr>\n",
       "    <tr>\n",
       "      <th>26</th>\n",
       "      <td>26.0</td>\n",
       "      <td>11</td>\n",
       "      <td>1.0</td>\n",
       "      <td>9.090909</td>\n",
       "      <td>0.054855</td>\n",
       "    </tr>\n",
       "    <tr>\n",
       "      <th>30</th>\n",
       "      <td>30.0</td>\n",
       "      <td>4</td>\n",
       "      <td>1.0</td>\n",
       "      <td>25.000000</td>\n",
       "      <td>0.054855</td>\n",
       "    </tr>\n",
       "    <tr>\n",
       "      <th>33</th>\n",
       "      <td>33.0</td>\n",
       "      <td>4</td>\n",
       "      <td>1.0</td>\n",
       "      <td>25.000000</td>\n",
       "      <td>0.054855</td>\n",
       "    </tr>\n",
       "    <tr>\n",
       "      <th>34</th>\n",
       "      <td>34.0</td>\n",
       "      <td>1</td>\n",
       "      <td>1.0</td>\n",
       "      <td>100.000000</td>\n",
       "      <td>0.054855</td>\n",
       "    </tr>\n",
       "    <tr>\n",
       "      <th>41</th>\n",
       "      <td>56.0</td>\n",
       "      <td>1</td>\n",
       "      <td>1.0</td>\n",
       "      <td>100.000000</td>\n",
       "      <td>0.054855</td>\n",
       "    </tr>\n",
       "    <tr>\n",
       "      <th>27</th>\n",
       "      <td>27.0</td>\n",
       "      <td>4</td>\n",
       "      <td>NaN</td>\n",
       "      <td>NaN</td>\n",
       "      <td>NaN</td>\n",
       "    </tr>\n",
       "    <tr>\n",
       "      <th>32</th>\n",
       "      <td>32.0</td>\n",
       "      <td>3</td>\n",
       "      <td>NaN</td>\n",
       "      <td>NaN</td>\n",
       "      <td>NaN</td>\n",
       "    </tr>\n",
       "    <tr>\n",
       "      <th>35</th>\n",
       "      <td>36.0</td>\n",
       "      <td>1</td>\n",
       "      <td>NaN</td>\n",
       "      <td>NaN</td>\n",
       "      <td>NaN</td>\n",
       "    </tr>\n",
       "    <tr>\n",
       "      <th>36</th>\n",
       "      <td>42.0</td>\n",
       "      <td>1</td>\n",
       "      <td>NaN</td>\n",
       "      <td>NaN</td>\n",
       "      <td>NaN</td>\n",
       "    </tr>\n",
       "    <tr>\n",
       "      <th>37</th>\n",
       "      <td>44.0</td>\n",
       "      <td>1</td>\n",
       "      <td>NaN</td>\n",
       "      <td>NaN</td>\n",
       "      <td>NaN</td>\n",
       "    </tr>\n",
       "    <tr>\n",
       "      <th>38</th>\n",
       "      <td>45.0</td>\n",
       "      <td>1</td>\n",
       "      <td>NaN</td>\n",
       "      <td>NaN</td>\n",
       "      <td>NaN</td>\n",
       "    </tr>\n",
       "    <tr>\n",
       "      <th>39</th>\n",
       "      <td>48.0</td>\n",
       "      <td>2</td>\n",
       "      <td>NaN</td>\n",
       "      <td>NaN</td>\n",
       "      <td>NaN</td>\n",
       "    </tr>\n",
       "    <tr>\n",
       "      <th>40</th>\n",
       "      <td>55.0</td>\n",
       "      <td>1</td>\n",
       "      <td>NaN</td>\n",
       "      <td>NaN</td>\n",
       "      <td>NaN</td>\n",
       "    </tr>\n",
       "    <tr>\n",
       "      <th>42</th>\n",
       "      <td>62.0</td>\n",
       "      <td>1</td>\n",
       "      <td>NaN</td>\n",
       "      <td>NaN</td>\n",
       "      <td>NaN</td>\n",
       "    </tr>\n",
       "    <tr>\n",
       "      <th>43</th>\n",
       "      <td>65.0</td>\n",
       "      <td>1</td>\n",
       "      <td>NaN</td>\n",
       "      <td>NaN</td>\n",
       "      <td>NaN</td>\n",
       "    </tr>\n",
       "  </tbody>\n",
       "</table>\n",
       "</div>"
      ],
      "text/plain": [
       "    time_between  total-post  fake-post  value_fake_prcentage  fake_percentage\n",
       "1            1.0         148       69.0             46.621622         3.784970\n",
       "3            3.0         182       57.0             31.318681         3.126714\n",
       "2            2.0         154       51.0             33.116883         2.797586\n",
       "4            4.0         153       50.0             32.679739         2.742732\n",
       "5            5.0         167       37.0             22.155689         2.029622\n",
       "0            0.0          84       33.0             39.285714         1.810203\n",
       "6            6.0         120       30.0             25.000000         1.645639\n",
       "8            8.0         111       27.0             24.324324         1.481075\n",
       "7            7.0         137       24.0             17.518248         1.316511\n",
       "10          10.0          60       16.0             26.666667         0.877674\n",
       "9            9.0          72       12.0             16.666667         0.658256\n",
       "15          15.0          32       10.0             31.250000         0.548546\n",
       "11          11.0          48        9.0             18.750000         0.493692\n",
       "14          14.0          38        8.0             21.052632         0.438837\n",
       "13          13.0          44        7.0             15.909091         0.383982\n",
       "12          12.0          37        6.0             16.216216         0.329128\n",
       "23          23.0          18        6.0             33.333333         0.329128\n",
       "17          17.0          25        5.0             20.000000         0.274273\n",
       "16          16.0          16        5.0             31.250000         0.274273\n",
       "28          28.0           9        4.0             44.444444         0.219419\n",
       "19          19.0          14        3.0             21.428571         0.164564\n",
       "20          20.0          19        3.0             15.789474         0.164564\n",
       "22          22.0          10        3.0             30.000000         0.164564\n",
       "25          25.0           7        2.0             28.571429         0.109709\n",
       "29          29.0           4        2.0             50.000000         0.109709\n",
       "31          31.0           5        2.0             40.000000         0.109709\n",
       "18          18.0          13        1.0              7.692308         0.054855\n",
       "21          21.0          11        1.0              9.090909         0.054855\n",
       "24          24.0           6        1.0             16.666667         0.054855\n",
       "26          26.0          11        1.0              9.090909         0.054855\n",
       "30          30.0           4        1.0             25.000000         0.054855\n",
       "33          33.0           4        1.0             25.000000         0.054855\n",
       "34          34.0           1        1.0            100.000000         0.054855\n",
       "41          56.0           1        1.0            100.000000         0.054855\n",
       "27          27.0           4        NaN                   NaN              NaN\n",
       "32          32.0           3        NaN                   NaN              NaN\n",
       "35          36.0           1        NaN                   NaN              NaN\n",
       "36          42.0           1        NaN                   NaN              NaN\n",
       "37          44.0           1        NaN                   NaN              NaN\n",
       "38          45.0           1        NaN                   NaN              NaN\n",
       "39          48.0           2        NaN                   NaN              NaN\n",
       "40          55.0           1        NaN                   NaN              NaN\n",
       "42          62.0           1        NaN                   NaN              NaN\n",
       "43          65.0           1        NaN                   NaN              NaN"
      ]
     },
     "execution_count": 180,
     "metadata": {},
     "output_type": "execute_result"
    }
   ],
   "source": [
    "fake_percenatge(train_with_ladder, 'time_between')"
   ]
  },
  {
   "cell_type": "code",
   "execution_count": 181,
   "id": "688d58c9-afd1-477c-a4f4-fab0e65dc48a",
   "metadata": {},
   "outputs": [],
   "source": [
    "# condtions = [\n",
    "#     ((train_with_ladder['ladder_type']!='panel_reorder'])\\\n",
    "#       & (train_with_ladder['ladder_type']!=['reorder']))]\n",
    "\n",
    "# choices = [-1]\n",
    "\n",
    "ladder_type = ladder.groupby('token')['type'].unique().reset_index().rename({'type': 'ladder_type'}, axis=1)\n",
    "train_with_ladder = train_posts_first.merge(ladder_type, on='token',how='left')\n",
    "train_with_ladder['ladder_type'] = train_with_ladder['ladder_type'].str[0]"
   ]
  },
  {
   "cell_type": "code",
   "execution_count": 182,
   "id": "25e72b82-b507-4762-93b2-aa11a04003a7",
   "metadata": {},
   "outputs": [
    {
     "data": {
      "text/plain": [
       "reorder          1390\n",
       "panel_reorder    1161\n",
       "Name: ladder_type, dtype: int64"
      ]
     },
     "execution_count": 182,
     "metadata": {},
     "output_type": "execute_result"
    }
   ],
   "source": [
    "train_with_ladder['ladder_type'].value_counts()"
   ]
  },
  {
   "cell_type": "code",
   "execution_count": 183,
   "id": "efdd7b83-4ca1-43e8-8da5-49f88765f203",
   "metadata": {},
   "outputs": [
    {
     "data": {
      "text/html": [
       "<div>\n",
       "<style scoped>\n",
       "    .dataframe tbody tr th:only-of-type {\n",
       "        vertical-align: middle;\n",
       "    }\n",
       "\n",
       "    .dataframe tbody tr th {\n",
       "        vertical-align: top;\n",
       "    }\n",
       "\n",
       "    .dataframe thead th {\n",
       "        text-align: right;\n",
       "    }\n",
       "</style>\n",
       "<table border=\"1\" class=\"dataframe\">\n",
       "  <thead>\n",
       "    <tr style=\"text-align: right;\">\n",
       "      <th></th>\n",
       "      <th>ladder_type</th>\n",
       "      <th>total-post</th>\n",
       "      <th>fake-post</th>\n",
       "      <th>value_fake_prcentage</th>\n",
       "      <th>fake_percentage</th>\n",
       "    </tr>\n",
       "  </thead>\n",
       "  <tbody>\n",
       "    <tr>\n",
       "      <th>0</th>\n",
       "      <td>panel_reorder</td>\n",
       "      <td>1161</td>\n",
       "      <td>446</td>\n",
       "      <td>38.415159</td>\n",
       "      <td>24.465167</td>\n",
       "    </tr>\n",
       "    <tr>\n",
       "      <th>1</th>\n",
       "      <td>reorder</td>\n",
       "      <td>1390</td>\n",
       "      <td>278</td>\n",
       "      <td>20.000000</td>\n",
       "      <td>15.249589</td>\n",
       "    </tr>\n",
       "  </tbody>\n",
       "</table>\n",
       "</div>"
      ],
      "text/plain": [
       "     ladder_type  total-post  fake-post  value_fake_prcentage  fake_percentage\n",
       "0  panel_reorder        1161        446             38.415159        24.465167\n",
       "1        reorder        1390        278             20.000000        15.249589"
      ]
     },
     "execution_count": 183,
     "metadata": {},
     "output_type": "execute_result"
    }
   ],
   "source": [
    "fake_percenatge(train_with_ladder, 'ladder_type')"
   ]
  },
  {
   "cell_type": "code",
   "execution_count": 184,
   "id": "8fe7b37b-3ecb-435d-9174-603b94e45a21",
   "metadata": {},
   "outputs": [
    {
     "data": {
      "text/plain": [
       "count    2551.000000\n",
       "mean        9.092513\n",
       "std        25.349975\n",
       "min         1.000000\n",
       "25%         1.000000\n",
       "50%         3.000000\n",
       "75%         7.000000\n",
       "max       741.000000\n",
       "Name: ladder_count, dtype: float64"
      ]
     },
     "execution_count": 184,
     "metadata": {},
     "output_type": "execute_result"
    }
   ],
   "source": [
    "ladder_count = ladder.groupby('token')['order_at'].count().reset_index().rename({'order_at': 'ladder_count'}, axis=1)\n",
    "train_with_ladder = train_posts_first.merge(ladder_count, on='token',how='left')\n",
    "train_with_ladder['ladder_count'].describe()"
   ]
  },
  {
   "cell_type": "code",
   "execution_count": 185,
   "id": "90b34860-09d9-469a-9f47-cabbe2589602",
   "metadata": {},
   "outputs": [
    {
     "data": {
      "text/plain": [
       "NaN      3449\n",
       "1.0       770\n",
       "2.0       410\n",
       "3.0       240\n",
       "4.0       186\n",
       "         ... \n",
       "86.0        1\n",
       "163.0       1\n",
       "118.0       1\n",
       "141.0       1\n",
       "103.0       1\n",
       "Name: ladder_count, Length: 109, dtype: int64"
      ]
     },
     "execution_count": 185,
     "metadata": {},
     "output_type": "execute_result"
    }
   ],
   "source": [
    "train_with_ladder['ladder_count'].value_counts(dropna=False)"
   ]
  },
  {
   "cell_type": "code",
   "execution_count": 186,
   "id": "8d51b936-d2b4-46c8-8f52-59a997144b5b",
   "metadata": {},
   "outputs": [
    {
     "data": {
      "text/plain": [
       "(289, 15)"
      ]
     },
     "execution_count": 186,
     "metadata": {},
     "output_type": "execute_result"
    }
   ],
   "source": [
    "train_with_ladder[(train_with_ladder['ladder_count']>3) & (train_with_ladder['result']=='fake-post')].shape"
   ]
  },
  {
   "cell_type": "code",
   "execution_count": 187,
   "id": "ef2c3801-4128-49de-bd2e-ebc01ef8bb06",
   "metadata": {},
   "outputs": [],
   "source": [
    "conditions = [\n",
    "    train_with_ladder['ladder_count'].isnull(),\n",
    "    train_with_ladder['ladder_count']<=3,\n",
    "    train_with_ladder['ladder_count']>3]\n",
    "\n",
    "choices = [-1, 0, 1]\n",
    "\n",
    "train_with_ladder['ladder'] = np.select(condlist=conditions, choicelist=choices)"
   ]
  },
  {
   "cell_type": "code",
   "execution_count": 188,
   "id": "f44cc07c-1c32-404f-93d7-5145a2a9e625",
   "metadata": {},
   "outputs": [
    {
     "data": {
      "text/plain": [
       "-1    3449\n",
       " 0    1420\n",
       " 1    1131\n",
       "Name: ladder, dtype: int64"
      ]
     },
     "execution_count": 188,
     "metadata": {},
     "output_type": "execute_result"
    }
   ],
   "source": [
    "train_with_ladder['ladder'].value_counts(dropna=False)"
   ]
  },
  {
   "cell_type": "code",
   "execution_count": 189,
   "id": "87fd9cd9-0831-431a-84f5-490440245c7e",
   "metadata": {},
   "outputs": [
    {
     "data": {
      "text/html": [
       "<div>\n",
       "<style scoped>\n",
       "    .dataframe tbody tr th:only-of-type {\n",
       "        vertical-align: middle;\n",
       "    }\n",
       "\n",
       "    .dataframe tbody tr th {\n",
       "        vertical-align: top;\n",
       "    }\n",
       "\n",
       "    .dataframe thead th {\n",
       "        text-align: right;\n",
       "    }\n",
       "</style>\n",
       "<table border=\"1\" class=\"dataframe\">\n",
       "  <thead>\n",
       "    <tr style=\"text-align: right;\">\n",
       "      <th></th>\n",
       "      <th>ladder</th>\n",
       "      <th>total-post</th>\n",
       "      <th>fake-post</th>\n",
       "      <th>value_fake_prcentage</th>\n",
       "      <th>fake_percentage</th>\n",
       "    </tr>\n",
       "  </thead>\n",
       "  <tbody>\n",
       "    <tr>\n",
       "      <th>0</th>\n",
       "      <td>-1</td>\n",
       "      <td>3449</td>\n",
       "      <td>1099</td>\n",
       "      <td>31.864308</td>\n",
       "      <td>60.285244</td>\n",
       "    </tr>\n",
       "    <tr>\n",
       "      <th>1</th>\n",
       "      <td>0</td>\n",
       "      <td>1420</td>\n",
       "      <td>435</td>\n",
       "      <td>30.633803</td>\n",
       "      <td>23.861766</td>\n",
       "    </tr>\n",
       "    <tr>\n",
       "      <th>2</th>\n",
       "      <td>1</td>\n",
       "      <td>1131</td>\n",
       "      <td>289</td>\n",
       "      <td>25.552608</td>\n",
       "      <td>15.852990</td>\n",
       "    </tr>\n",
       "  </tbody>\n",
       "</table>\n",
       "</div>"
      ],
      "text/plain": [
       "   ladder  total-post  fake-post  value_fake_prcentage  fake_percentage\n",
       "0      -1        3449       1099             31.864308        60.285244\n",
       "1       0        1420        435             30.633803        23.861766\n",
       "2       1        1131        289             25.552608        15.852990"
      ]
     },
     "execution_count": 189,
     "metadata": {},
     "output_type": "execute_result"
    }
   ],
   "source": [
    "fake_percenatge(train_with_ladder, 'ladder').head(5)"
   ]
  },
  {
   "cell_type": "code",
   "execution_count": 190,
   "id": "84ce6150-8ce4-4525-9e47-ba357c7b8a3c",
   "metadata": {},
   "outputs": [
    {
     "data": {
      "text/plain": [
       "ok           4177\n",
       "fake-post    1823\n",
       "Name: result, dtype: int64"
      ]
     },
     "execution_count": 190,
     "metadata": {},
     "output_type": "execute_result"
    }
   ],
   "source": [
    "train_posts_first['result'].value_counts()"
   ]
  },
  {
   "cell_type": "code",
   "execution_count": 191,
   "id": "ed99a741-f884-43da-8db7-703bd7e22f30",
   "metadata": {},
   "outputs": [
    {
     "name": "stdout",
     "output_type": "stream",
     "text": [
      "<class 'pandas.core.frame.DataFrame'>\n",
      "RangeIndex: 2172 entries, 0 to 2171\n",
      "Data columns (total 2 columns):\n",
      " #   Column     Non-Null Count  Dtype         \n",
      "---  ------     --------------  -----         \n",
      " 0   token      2172 non-null   object        \n",
      " 1   call_date  2172 non-null   datetime64[ns]\n",
      "dtypes: datetime64[ns](1), object(1)\n",
      "memory usage: 34.1+ KB\n"
     ]
    }
   ],
   "source": [
    "validation.info()"
   ]
  },
  {
   "cell_type": "code",
   "execution_count": 192,
   "id": "33b50dfd-1ff1-42d8-845d-fc92ded0ce0c",
   "metadata": {},
   "outputs": [],
   "source": [
    "validation_posts = validation.merge(posts, on='token', how='left')"
   ]
  },
  {
   "cell_type": "code",
   "execution_count": 193,
   "id": "df5fc134-ab3a-46bc-8842-03e53b7c6b8b",
   "metadata": {},
   "outputs": [
    {
     "name": "stdout",
     "output_type": "stream",
     "text": [
      "<class 'pandas.core.frame.DataFrame'>\n",
      "Int64Index: 2172 entries, 0 to 2171\n",
      "Data columns (total 12 columns):\n",
      " #   Column              Non-Null Count  Dtype         \n",
      "---  ------              --------------  -----         \n",
      " 0   token               2172 non-null   object        \n",
      " 1   call_date           2172 non-null   datetime64[ns]\n",
      " 2   first_published_at  2172 non-null   datetime64[ns]\n",
      " 3   data                2172 non-null   object        \n",
      " 4   image_count         2172 non-null   int16         \n",
      " 5   device_id           2172 non-null   object        \n",
      " 6   username            929 non-null    object        \n",
      " 7   retiredAtUtc        0 non-null      object        \n",
      " 8   city                2172 non-null   object        \n",
      " 9   district            1667 non-null   object        \n",
      " 10  category            2172 non-null   object        \n",
      " 11  user_hash           2172 non-null   object        \n",
      "dtypes: datetime64[ns](2), int16(1), object(9)\n",
      "memory usage: 207.9+ KB\n"
     ]
    }
   ],
   "source": [
    "validation_posts.info()"
   ]
  },
  {
   "cell_type": "code",
   "execution_count": 194,
   "id": "192dd98a-b381-4f84-84f5-c137b06c0a5f",
   "metadata": {},
   "outputs": [
    {
     "name": "stdout",
     "output_type": "stream",
     "text": [
      "<class 'pandas.core.frame.DataFrame'>\n",
      "Int64Index: 6000 entries, 0 to 5999\n",
      "Data columns (total 14 columns):\n",
      " #   Column              Non-Null Count  Dtype         \n",
      "---  ------              --------------  -----         \n",
      " 0   token               6000 non-null   object        \n",
      " 1   call_date           6000 non-null   datetime64[ns]\n",
      " 2   result              6000 non-null   object        \n",
      " 3   tag                 2539 non-null   object        \n",
      " 4   first_published_at  5999 non-null   datetime64[ns]\n",
      " 5   data                5999 non-null   object        \n",
      " 6   image_count         5999 non-null   float64       \n",
      " 7   device_id           5999 non-null   object        \n",
      " 8   username            2594 non-null   object        \n",
      " 9   retiredAtUtc        0 non-null      object        \n",
      " 10  city                5999 non-null   object        \n",
      " 11  district            4568 non-null   object        \n",
      " 12  category            5999 non-null   object        \n",
      " 13  user_hash           5999 non-null   object        \n",
      "dtypes: datetime64[ns](2), float64(1), object(11)\n",
      "memory usage: 703.1+ KB\n"
     ]
    }
   ],
   "source": [
    "train_posts_first.info()"
   ]
  },
  {
   "cell_type": "code",
   "execution_count": 195,
   "id": "1ee941c6-ab70-4d75-a69b-f8b0d97d3eaa",
   "metadata": {},
   "outputs": [],
   "source": [
    "train_posts = train_posts_first.dropna(subset=['first_published_at']).copy()"
   ]
  },
  {
   "cell_type": "code",
   "execution_count": 196,
   "id": "af34a5b2-1652-462a-931b-23e0e068e9a9",
   "metadata": {},
   "outputs": [
    {
     "data": {
      "text/plain": [
       "5999"
      ]
     },
     "execution_count": 196,
     "metadata": {},
     "output_type": "execute_result"
    }
   ],
   "source": [
    "train_posts['token'].nunique()"
   ]
  },
  {
   "cell_type": "code",
   "execution_count": 197,
   "id": "316feb1a-f7d9-49cd-a865-59c0c9cbb335",
   "metadata": {},
   "outputs": [
    {
     "data": {
      "text/plain": [
       "5348"
      ]
     },
     "execution_count": 197,
     "metadata": {},
     "output_type": "execute_result"
    }
   ],
   "source": [
    "train_posts['device_id'].nunique()"
   ]
  },
  {
   "cell_type": "code",
   "execution_count": 198,
   "id": "e9565864-ff7c-4f78-96dc-d2067f456305",
   "metadata": {},
   "outputs": [
    {
     "data": {
      "text/plain": [
       "56"
      ]
     },
     "execution_count": 198,
     "metadata": {},
     "output_type": "execute_result"
    }
   ],
   "source": [
    "train_posts['city'].nunique()"
   ]
  },
  {
   "cell_type": "code",
   "execution_count": 199,
   "id": "86659801-1e2e-41ad-aa99-1775535fe40e",
   "metadata": {},
   "outputs": [
    {
     "data": {
      "text/plain": [
       "292"
      ]
     },
     "execution_count": 199,
     "metadata": {},
     "output_type": "execute_result"
    }
   ],
   "source": [
    "train_posts['district'].nunique()"
   ]
  },
  {
   "cell_type": "code",
   "execution_count": 200,
   "id": "f7c10925-bb42-45a2-abd8-8d50f50be90c",
   "metadata": {},
   "outputs": [
    {
     "data": {
      "text/plain": [
       "16"
      ]
     },
     "execution_count": 200,
     "metadata": {},
     "output_type": "execute_result"
    }
   ],
   "source": [
    "train_posts['category'].nunique()"
   ]
  },
  {
   "cell_type": "code",
   "execution_count": 354,
   "id": "25448966-d9a5-4207-9ed1-94944855785d",
   "metadata": {},
   "outputs": [
    {
     "data": {
      "text/plain": [
       "count    5.950000e+03\n",
       "mean     2.471344e+03\n",
       "std      1.316640e+05\n",
       "min      1.000000e+00\n",
       "25%      6.500000e+01\n",
       "50%      9.000000e+01\n",
       "75%      1.487500e+02\n",
       "max      1.000000e+07\n",
       "Name: size, dtype: float64"
      ]
     },
     "execution_count": 354,
     "metadata": {},
     "output_type": "execute_result"
    }
   ],
   "source": [
    "train_posts['size'].describe()"
   ]
  },
  {
   "cell_type": "code",
   "execution_count": 355,
   "id": "b475019a-c5d9-4308-a2f8-08d0d33fe5e1",
   "metadata": {},
   "outputs": [
    {
     "data": {
      "text/plain": [
       "token                              0\n",
       "result                             0\n",
       "first_published_at                 0\n",
       "image_count                        0\n",
       "device_id                          0\n",
       "username                        3405\n",
       "city                               0\n",
       "district                        1431\n",
       "rent                            2928\n",
       "size                              49\n",
       "year                             820\n",
       "floor                           1641\n",
       "rooms                            545\n",
       "title                              0\n",
       "credit                          2928\n",
       "contact                            0\n",
       "parking                         1074\n",
       "elevator                        1641\n",
       "new_rent                        3251\n",
       "rent_type                       3789\n",
       "user_type                          0\n",
       "warehouse                       1074\n",
       "new_credit                      3186\n",
       "description                        0\n",
       "rent_to_single                  3176\n",
       "rent_credit_transform           2932\n",
       "other_options_and_attributes    3552\n",
       "price                           3389\n",
       "new_price                       4044\n",
       "balcony                         5432\n",
       "category                           0\n",
       "dtype: int64"
      ]
     },
     "execution_count": 355,
     "metadata": {},
     "output_type": "execute_result"
    }
   ],
   "source": [
    "train_posts.isnull().sum()"
   ]
  },
  {
   "cell_type": "code",
   "execution_count": 356,
   "id": "177a6cbd-db47-47aa-9b1e-fc25aba74f08",
   "metadata": {},
   "outputs": [
    {
     "name": "stdout",
     "output_type": "stream",
     "text": [
      "<class 'pandas.core.frame.DataFrame'>\n",
      "Int64Index: 5999 entries, 0 to 5999\n",
      "Data columns (total 31 columns):\n",
      " #   Column                        Non-Null Count  Dtype         \n",
      "---  ------                        --------------  -----         \n",
      " 0   token                         5999 non-null   object        \n",
      " 1   result                        5999 non-null   object        \n",
      " 2   first_published_at            5999 non-null   datetime64[ns]\n",
      " 3   image_count                   5999 non-null   float64       \n",
      " 4   device_id                     5999 non-null   object        \n",
      " 5   username                      2594 non-null   object        \n",
      " 6   city                          5999 non-null   object        \n",
      " 7   district                      4568 non-null   object        \n",
      " 8   rent                          3071 non-null   object        \n",
      " 9   size                          5950 non-null   float64       \n",
      " 10  year                          5179 non-null   object        \n",
      " 11  floor                         4358 non-null   object        \n",
      " 12  rooms                         5454 non-null   object        \n",
      " 13  title                         5999 non-null   object        \n",
      " 14  credit                        3071 non-null   object        \n",
      " 15  contact                       5999 non-null   object        \n",
      " 16  parking                       4925 non-null   object        \n",
      " 17  elevator                      4358 non-null   object        \n",
      " 18  new_rent                      2748 non-null   float64       \n",
      " 19  rent_type                     2210 non-null   object        \n",
      " 20  user_type                     5999 non-null   object        \n",
      " 21  warehouse                     4925 non-null   object        \n",
      " 22  new_credit                    2813 non-null   float64       \n",
      " 23  description                   5999 non-null   object        \n",
      " 24  rent_to_single                2823 non-null   object        \n",
      " 25  rent_credit_transform         3067 non-null   object        \n",
      " 26  other_options_and_attributes  2447 non-null   object        \n",
      " 27  price                         2610 non-null   object        \n",
      " 28  new_price                     1955 non-null   float64       \n",
      " 29  balcony                       567 non-null    object        \n",
      " 30  category                      5999 non-null   object        \n",
      "dtypes: datetime64[ns](1), float64(5), object(25)\n",
      "memory usage: 1.5+ MB\n"
     ]
    }
   ],
   "source": [
    "train_posts.info()"
   ]
  },
  {
   "cell_type": "code",
   "execution_count": 357,
   "id": "d2fe91c9-2f2e-45f6-9d1d-e339d0793e26",
   "metadata": {},
   "outputs": [],
   "source": [
    "dic_columns = ['rent', 'contact', 'credit', 'other_options_and_attributes', 'price']"
   ]
  },
  {
   "cell_type": "code",
   "execution_count": 358,
   "id": "5f621f81-0f37-48f8-adcf-10f860cb8ae1",
   "metadata": {},
   "outputs": [
    {
     "data": {
      "text/plain": [
       "0              آپارتمان 87 متری فول امکانات پهلوان حسن\n",
       "1                         ۸۰متر فول امکانات شیک و زیبا\n",
       "2               ۶۵متری یک خواب  بزرگ بدون پرتی غرق نور\n",
       "3                                       دربستی ۱۸۰ متر\n",
       "4                       50 متر مبله موقعیت اداری شرایط\n",
       "5        ١٠٥متر٢خواب زینعلی/فول مشاعات/ورودی لابی مجلل\n",
       "6                     ۷۰متر۲خ پارکینگ انباری روب افتاب\n",
       "7     اجاره ویلای استخردار، ویلا استخردار ، اجاره ویلا\n",
       "8                                زمین به مساحت 580 متر\n",
       "9              رهن و اجاره / 120 متر پروژه مدرن بهاران\n",
       "10                 خیابان حیدری ۶۰ متر ۲ خواب طبقه اول\n",
       "11                       اپارتمان۱۲۰متری ۲خواب نیاوران\n",
       "12                                     آپارتمان 63 متر\n",
       "13        اجاره ویلا با امکانات و خدمات  فرح آباد ساری\n",
       "14                   اپارتمان ۶۵ متری طبقه اول یک خواب\n",
       "15            ٩٣متر دوخوابه برج مسکونی در پاسدار گمنام\n",
       "16           آپارتمان ۱۰۵ متر سعادت آباد صرافهای شمالی\n",
       "17                           60متر یک خواب  بلوار و131\n",
       "18                           زمین کوهپایه 500 متری شفت\n",
       "19                           ۶۰متر/تهرانپارس/کد766428/\n",
       "Name: title, dtype: object"
      ]
     },
     "execution_count": 358,
     "metadata": {},
     "output_type": "execute_result"
    }
   ],
   "source": [
    "train_posts['title'].head(20)"
   ]
  },
  {
   "cell_type": "code",
   "execution_count": 359,
   "id": "6af58194-e044-4715-a43b-0e795debb4cf",
   "metadata": {},
   "outputs": [
    {
     "data": {
      "text/plain": [
       "NaN      2932\n",
       "true     1778\n",
       "false    1289\n",
       "Name: rent_credit_transform, dtype: int64"
      ]
     },
     "execution_count": 359,
     "metadata": {},
     "output_type": "execute_result"
    }
   ],
   "source": [
    "train_posts['rent_credit_transform'].value_counts(dropna=False)"
   ]
  },
  {
   "cell_type": "code",
   "execution_count": 360,
   "id": "1b2275ad-22c4-40e2-97b2-27f84400100d",
   "metadata": {},
   "outputs": [
    {
     "data": {
      "text/html": [
       "<div>\n",
       "<style scoped>\n",
       "    .dataframe tbody tr th:only-of-type {\n",
       "        vertical-align: middle;\n",
       "    }\n",
       "\n",
       "    .dataframe tbody tr th {\n",
       "        vertical-align: top;\n",
       "    }\n",
       "\n",
       "    .dataframe thead th {\n",
       "        text-align: right;\n",
       "    }\n",
       "</style>\n",
       "<table border=\"1\" class=\"dataframe\">\n",
       "  <thead>\n",
       "    <tr style=\"text-align: right;\">\n",
       "      <th></th>\n",
       "      <th>rent_credit_transform</th>\n",
       "      <th>total-post</th>\n",
       "      <th>fake-post</th>\n",
       "      <th>value_fake_prcentage</th>\n",
       "      <th>fake_percentage</th>\n",
       "    </tr>\n",
       "  </thead>\n",
       "  <tbody>\n",
       "    <tr>\n",
       "      <th>2</th>\n",
       "      <td>true</td>\n",
       "      <td>1778</td>\n",
       "      <td>818</td>\n",
       "      <td>46.006749</td>\n",
       "      <td>44.871092</td>\n",
       "    </tr>\n",
       "    <tr>\n",
       "      <th>0</th>\n",
       "      <td>-1</td>\n",
       "      <td>2932</td>\n",
       "      <td>522</td>\n",
       "      <td>17.803547</td>\n",
       "      <td>28.634120</td>\n",
       "    </tr>\n",
       "    <tr>\n",
       "      <th>1</th>\n",
       "      <td>false</td>\n",
       "      <td>1289</td>\n",
       "      <td>483</td>\n",
       "      <td>37.470908</td>\n",
       "      <td>26.494789</td>\n",
       "    </tr>\n",
       "  </tbody>\n",
       "</table>\n",
       "</div>"
      ],
      "text/plain": [
       "  rent_credit_transform  total-post  fake-post  value_fake_prcentage  \\\n",
       "2                  true        1778        818             46.006749   \n",
       "0                    -1        2932        522             17.803547   \n",
       "1                 false        1289        483             37.470908   \n",
       "\n",
       "   fake_percentage  \n",
       "2        44.871092  \n",
       "0        28.634120  \n",
       "1        26.494789  "
      ]
     },
     "execution_count": 360,
     "metadata": {},
     "output_type": "execute_result"
    }
   ],
   "source": [
    "train_posts['rent_credit_transform'] = train_posts['rent_credit_transform'].fillna(-1)\n",
    "fake_percenatge(train_posts, 'rent_credit_transform')"
   ]
  },
  {
   "cell_type": "code",
   "execution_count": 361,
   "id": "b58b55e7-7dfc-408f-9f07-660e46f9b597",
   "metadata": {},
   "outputs": [
    {
     "data": {
      "text/plain": [
       "true     1506\n",
       "false    1317\n",
       "Name: rent_to_single, dtype: int64"
      ]
     },
     "execution_count": 361,
     "metadata": {},
     "output_type": "execute_result"
    }
   ],
   "source": [
    "train_posts['rent_to_single'].value_counts()"
   ]
  },
  {
   "cell_type": "code",
   "execution_count": 362,
   "id": "595ac5df-6198-487b-ad77-8817eb132744",
   "metadata": {},
   "outputs": [
    {
     "data": {
      "text/html": [
       "<div>\n",
       "<style scoped>\n",
       "    .dataframe tbody tr th:only-of-type {\n",
       "        vertical-align: middle;\n",
       "    }\n",
       "\n",
       "    .dataframe tbody tr th {\n",
       "        vertical-align: top;\n",
       "    }\n",
       "\n",
       "    .dataframe thead th {\n",
       "        text-align: right;\n",
       "    }\n",
       "</style>\n",
       "<table border=\"1\" class=\"dataframe\">\n",
       "  <thead>\n",
       "    <tr style=\"text-align: right;\">\n",
       "      <th></th>\n",
       "      <th>rent_to_single</th>\n",
       "      <th>total-post</th>\n",
       "      <th>fake-post</th>\n",
       "      <th>value_fake_prcentage</th>\n",
       "      <th>fake_percentage</th>\n",
       "    </tr>\n",
       "  </thead>\n",
       "  <tbody>\n",
       "    <tr>\n",
       "      <th>2</th>\n",
       "      <td>true</td>\n",
       "      <td>1506</td>\n",
       "      <td>746</td>\n",
       "      <td>49.535193</td>\n",
       "      <td>40.921558</td>\n",
       "    </tr>\n",
       "    <tr>\n",
       "      <th>0</th>\n",
       "      <td>-1</td>\n",
       "      <td>3176</td>\n",
       "      <td>560</td>\n",
       "      <td>17.632242</td>\n",
       "      <td>30.718596</td>\n",
       "    </tr>\n",
       "    <tr>\n",
       "      <th>1</th>\n",
       "      <td>false</td>\n",
       "      <td>1317</td>\n",
       "      <td>517</td>\n",
       "      <td>39.255885</td>\n",
       "      <td>28.359846</td>\n",
       "    </tr>\n",
       "  </tbody>\n",
       "</table>\n",
       "</div>"
      ],
      "text/plain": [
       "  rent_to_single  total-post  fake-post  value_fake_prcentage  fake_percentage\n",
       "2           true        1506        746             49.535193        40.921558\n",
       "0             -1        3176        560             17.632242        30.718596\n",
       "1          false        1317        517             39.255885        28.359846"
      ]
     },
     "execution_count": 362,
     "metadata": {},
     "output_type": "execute_result"
    }
   ],
   "source": [
    "train_posts['rent_to_single'] = train_posts['rent_to_single'].fillna(-1)\n",
    "fake_percenatge(train_posts, 'rent_to_single')"
   ]
  },
  {
   "cell_type": "code",
   "execution_count": 363,
   "id": "e051c229-350b-402b-9dec-3125de43f20a",
   "metadata": {},
   "outputs": [
    {
     "data": {
      "text/plain": [
       "مشاور املاک    4088\n",
       "شخصی           1911\n",
       "Name: user_type, dtype: int64"
      ]
     },
     "execution_count": 363,
     "metadata": {},
     "output_type": "execute_result"
    }
   ],
   "source": [
    "train_posts['user_type'].value_counts(dropna=False)"
   ]
  },
  {
   "cell_type": "code",
   "execution_count": 364,
   "id": "83b6231e-963f-45b6-9086-5a43c283789f",
   "metadata": {},
   "outputs": [
    {
     "data": {
      "text/html": [
       "<div>\n",
       "<style scoped>\n",
       "    .dataframe tbody tr th:only-of-type {\n",
       "        vertical-align: middle;\n",
       "    }\n",
       "\n",
       "    .dataframe tbody tr th {\n",
       "        vertical-align: top;\n",
       "    }\n",
       "\n",
       "    .dataframe thead th {\n",
       "        text-align: right;\n",
       "    }\n",
       "</style>\n",
       "<table border=\"1\" class=\"dataframe\">\n",
       "  <thead>\n",
       "    <tr style=\"text-align: right;\">\n",
       "      <th></th>\n",
       "      <th>user_type</th>\n",
       "      <th>total-post</th>\n",
       "      <th>fake-post</th>\n",
       "      <th>value_fake_prcentage</th>\n",
       "      <th>fake_percentage</th>\n",
       "    </tr>\n",
       "  </thead>\n",
       "  <tbody>\n",
       "    <tr>\n",
       "      <th>1</th>\n",
       "      <td>مشاور املاک</td>\n",
       "      <td>4088</td>\n",
       "      <td>1512</td>\n",
       "      <td>36.986301</td>\n",
       "      <td>82.940208</td>\n",
       "    </tr>\n",
       "    <tr>\n",
       "      <th>0</th>\n",
       "      <td>شخصی</td>\n",
       "      <td>1911</td>\n",
       "      <td>311</td>\n",
       "      <td>16.274202</td>\n",
       "      <td>17.059792</td>\n",
       "    </tr>\n",
       "  </tbody>\n",
       "</table>\n",
       "</div>"
      ],
      "text/plain": [
       "     user_type  total-post  fake-post  value_fake_prcentage  fake_percentage\n",
       "1  مشاور املاک        4088       1512             36.986301        82.940208\n",
       "0         شخصی        1911        311             16.274202        17.059792"
      ]
     },
     "execution_count": 364,
     "metadata": {},
     "output_type": "execute_result"
    }
   ],
   "source": [
    "fake_percenatge(train_posts, 'user_type')"
   ]
  },
  {
   "cell_type": "code",
   "execution_count": 365,
   "id": "a8ff14d6-9b12-49b6-acde-f5307d8980f2",
   "metadata": {},
   "outputs": [
    {
     "data": {
      "text/plain": [
       "NaN            3789\n",
       "rent_credit    1512\n",
       "full_credit     698\n",
       "Name: rent_type, dtype: int64"
      ]
     },
     "execution_count": 365,
     "metadata": {},
     "output_type": "execute_result"
    }
   ],
   "source": [
    "train_posts['rent_type'].value_counts(dropna=False)"
   ]
  },
  {
   "cell_type": "code",
   "execution_count": 366,
   "id": "071bb2ea-2599-4f0b-bbdd-7ca08acd485e",
   "metadata": {},
   "outputs": [],
   "source": [
    "apartment_rent_df = train_posts[train_posts['category']=='apartment-rent'].copy()"
   ]
  },
  {
   "cell_type": "code",
   "execution_count": 367,
   "id": "c4573988-bb66-4dd9-8640-0331c9ece7d8",
   "metadata": {},
   "outputs": [
    {
     "data": {
      "text/plain": [
       "56"
      ]
     },
     "execution_count": 367,
     "metadata": {},
     "output_type": "execute_result"
    }
   ],
   "source": [
    "train_posts['city'].nunique()"
   ]
  },
  {
   "cell_type": "code",
   "execution_count": 368,
   "id": "3d7372c4-f35b-489c-aec8-c95d29bc7bbf",
   "metadata": {},
   "outputs": [
    {
     "data": {
      "text/html": [
       "<div>\n",
       "<style scoped>\n",
       "    .dataframe tbody tr th:only-of-type {\n",
       "        vertical-align: middle;\n",
       "    }\n",
       "\n",
       "    .dataframe tbody tr th {\n",
       "        vertical-align: top;\n",
       "    }\n",
       "\n",
       "    .dataframe thead th {\n",
       "        text-align: right;\n",
       "    }\n",
       "</style>\n",
       "<table border=\"1\" class=\"dataframe\">\n",
       "  <thead>\n",
       "    <tr style=\"text-align: right;\">\n",
       "      <th></th>\n",
       "      <th>rent_type</th>\n",
       "      <th>total-post</th>\n",
       "      <th>fake-post</th>\n",
       "      <th>value_fake_prcentage</th>\n",
       "      <th>fake_percentage</th>\n",
       "    </tr>\n",
       "  </thead>\n",
       "  <tbody>\n",
       "    <tr>\n",
       "      <th>2</th>\n",
       "      <td>rent_credit</td>\n",
       "      <td>1277</td>\n",
       "      <td>625</td>\n",
       "      <td>48.942835</td>\n",
       "      <td>51.567657</td>\n",
       "    </tr>\n",
       "    <tr>\n",
       "      <th>0</th>\n",
       "      <td>-1</td>\n",
       "      <td>737</td>\n",
       "      <td>312</td>\n",
       "      <td>42.333786</td>\n",
       "      <td>25.742574</td>\n",
       "    </tr>\n",
       "    <tr>\n",
       "      <th>1</th>\n",
       "      <td>full_credit</td>\n",
       "      <td>655</td>\n",
       "      <td>275</td>\n",
       "      <td>41.984733</td>\n",
       "      <td>22.689769</td>\n",
       "    </tr>\n",
       "  </tbody>\n",
       "</table>\n",
       "</div>"
      ],
      "text/plain": [
       "     rent_type  total-post  fake-post  value_fake_prcentage  fake_percentage\n",
       "2  rent_credit        1277        625             48.942835        51.567657\n",
       "0           -1         737        312             42.333786        25.742574\n",
       "1  full_credit         655        275             41.984733        22.689769"
      ]
     },
     "execution_count": 368,
     "metadata": {},
     "output_type": "execute_result"
    }
   ],
   "source": [
    "apartment_rent_df['rent_type'].fillna(-1, inplace=True)\n",
    "fake_percenatge(apartment_rent_df, 'rent_type')"
   ]
  },
  {
   "cell_type": "code",
   "execution_count": 369,
   "id": "4e7f3018-9d05-4bb0-9a4b-65af0d10fb98",
   "metadata": {},
   "outputs": [
    {
     "data": {
      "text/plain": [
       "true     3797\n",
       "false    1128\n",
       "NaN      1074\n",
       "Name: parking, dtype: int64"
      ]
     },
     "execution_count": 369,
     "metadata": {},
     "output_type": "execute_result"
    }
   ],
   "source": [
    "train_posts['parking'].value_counts(dropna=False)"
   ]
  },
  {
   "cell_type": "code",
   "execution_count": 370,
   "id": "0c07231a-0d13-49e7-a510-57ed914404b0",
   "metadata": {},
   "outputs": [],
   "source": [
    "train_posts['full_options'] = np.where(((train_posts['parking']=='true')\\\n",
    "                                        & (train_posts['elevator']=='true') & (train_posts['warehouse']=='true')), 'true', 'false')"
   ]
  },
  {
   "cell_type": "code",
   "execution_count": 371,
   "id": "033ee761-d6ca-4bbd-841d-5e3096f04aab",
   "metadata": {},
   "outputs": [
    {
     "data": {
      "text/plain": [
       "false    3585\n",
       "true     2414\n",
       "Name: full_options, dtype: int64"
      ]
     },
     "execution_count": 371,
     "metadata": {},
     "output_type": "execute_result"
    }
   ],
   "source": [
    "train_posts['full_options'].value_counts(dropna=False)"
   ]
  },
  {
   "cell_type": "code",
   "execution_count": 372,
   "id": "dd9cdead-8496-4eef-b8e6-f19a69e9847b",
   "metadata": {},
   "outputs": [
    {
     "data": {
      "text/html": [
       "<div>\n",
       "<style scoped>\n",
       "    .dataframe tbody tr th:only-of-type {\n",
       "        vertical-align: middle;\n",
       "    }\n",
       "\n",
       "    .dataframe tbody tr th {\n",
       "        vertical-align: top;\n",
       "    }\n",
       "\n",
       "    .dataframe thead th {\n",
       "        text-align: right;\n",
       "    }\n",
       "</style>\n",
       "<table border=\"1\" class=\"dataframe\">\n",
       "  <thead>\n",
       "    <tr style=\"text-align: right;\">\n",
       "      <th></th>\n",
       "      <th>full_options</th>\n",
       "      <th>total-post</th>\n",
       "      <th>fake-post</th>\n",
       "      <th>value_fake_prcentage</th>\n",
       "      <th>fake_percentage</th>\n",
       "    </tr>\n",
       "  </thead>\n",
       "  <tbody>\n",
       "    <tr>\n",
       "      <th>1</th>\n",
       "      <td>true</td>\n",
       "      <td>2414</td>\n",
       "      <td>948</td>\n",
       "      <td>39.270920</td>\n",
       "      <td>52.002194</td>\n",
       "    </tr>\n",
       "    <tr>\n",
       "      <th>0</th>\n",
       "      <td>false</td>\n",
       "      <td>3585</td>\n",
       "      <td>875</td>\n",
       "      <td>24.407252</td>\n",
       "      <td>47.997806</td>\n",
       "    </tr>\n",
       "  </tbody>\n",
       "</table>\n",
       "</div>"
      ],
      "text/plain": [
       "  full_options  total-post  fake-post  value_fake_prcentage  fake_percentage\n",
       "1         true        2414        948             39.270920        52.002194\n",
       "0        false        3585        875             24.407252        47.997806"
      ]
     },
     "execution_count": 372,
     "metadata": {},
     "output_type": "execute_result"
    }
   ],
   "source": [
    "fake_percenatge(train_posts, 'full_options')"
   ]
  },
  {
   "cell_type": "code",
   "execution_count": 373,
   "id": "516f7ce9-9e45-4477-9a49-2e88f91edc26",
   "metadata": {},
   "outputs": [
    {
     "data": {
      "text/html": [
       "<div>\n",
       "<style scoped>\n",
       "    .dataframe tbody tr th:only-of-type {\n",
       "        vertical-align: middle;\n",
       "    }\n",
       "\n",
       "    .dataframe tbody tr th {\n",
       "        vertical-align: top;\n",
       "    }\n",
       "\n",
       "    .dataframe thead th {\n",
       "        text-align: right;\n",
       "    }\n",
       "</style>\n",
       "<table border=\"1\" class=\"dataframe\">\n",
       "  <thead>\n",
       "    <tr style=\"text-align: right;\">\n",
       "      <th></th>\n",
       "      <th>parking</th>\n",
       "      <th>total-post</th>\n",
       "      <th>fake-post</th>\n",
       "      <th>value_fake_prcentage</th>\n",
       "      <th>fake_percentage</th>\n",
       "    </tr>\n",
       "  </thead>\n",
       "  <tbody>\n",
       "    <tr>\n",
       "      <th>2</th>\n",
       "      <td>true</td>\n",
       "      <td>3797</td>\n",
       "      <td>1338</td>\n",
       "      <td>35.238346</td>\n",
       "      <td>73.395502</td>\n",
       "    </tr>\n",
       "    <tr>\n",
       "      <th>1</th>\n",
       "      <td>false</td>\n",
       "      <td>1128</td>\n",
       "      <td>329</td>\n",
       "      <td>29.166667</td>\n",
       "      <td>18.047175</td>\n",
       "    </tr>\n",
       "    <tr>\n",
       "      <th>0</th>\n",
       "      <td>-1</td>\n",
       "      <td>1074</td>\n",
       "      <td>156</td>\n",
       "      <td>14.525140</td>\n",
       "      <td>8.557323</td>\n",
       "    </tr>\n",
       "  </tbody>\n",
       "</table>\n",
       "</div>"
      ],
      "text/plain": [
       "  parking  total-post  fake-post  value_fake_prcentage  fake_percentage\n",
       "2    true        3797       1338             35.238346        73.395502\n",
       "1   false        1128        329             29.166667        18.047175\n",
       "0      -1        1074        156             14.525140         8.557323"
      ]
     },
     "execution_count": 373,
     "metadata": {},
     "output_type": "execute_result"
    }
   ],
   "source": [
    "x= train_posts.fillna({'parking': -1})\n",
    "fake_percenatge(x, 'parking')"
   ]
  },
  {
   "cell_type": "code",
   "execution_count": 374,
   "id": "d8cd66cb-8198-4565-9cf4-0b619830e932",
   "metadata": {},
   "outputs": [
    {
     "data": {
      "text/html": [
       "<div>\n",
       "<style scoped>\n",
       "    .dataframe tbody tr th:only-of-type {\n",
       "        vertical-align: middle;\n",
       "    }\n",
       "\n",
       "    .dataframe tbody tr th {\n",
       "        vertical-align: top;\n",
       "    }\n",
       "\n",
       "    .dataframe thead th {\n",
       "        text-align: right;\n",
       "    }\n",
       "</style>\n",
       "<table border=\"1\" class=\"dataframe\">\n",
       "  <thead>\n",
       "    <tr style=\"text-align: right;\">\n",
       "      <th></th>\n",
       "      <th>elevator</th>\n",
       "      <th>total-post</th>\n",
       "      <th>fake-post</th>\n",
       "      <th>value_fake_prcentage</th>\n",
       "      <th>fake_percentage</th>\n",
       "    </tr>\n",
       "  </thead>\n",
       "  <tbody>\n",
       "    <tr>\n",
       "      <th>2</th>\n",
       "      <td>true</td>\n",
       "      <td>3076</td>\n",
       "      <td>1151</td>\n",
       "      <td>37.418726</td>\n",
       "      <td>63.137685</td>\n",
       "    </tr>\n",
       "    <tr>\n",
       "      <th>1</th>\n",
       "      <td>false</td>\n",
       "      <td>1282</td>\n",
       "      <td>380</td>\n",
       "      <td>29.641186</td>\n",
       "      <td>20.844761</td>\n",
       "    </tr>\n",
       "    <tr>\n",
       "      <th>0</th>\n",
       "      <td>-1</td>\n",
       "      <td>1641</td>\n",
       "      <td>292</td>\n",
       "      <td>17.794028</td>\n",
       "      <td>16.017553</td>\n",
       "    </tr>\n",
       "  </tbody>\n",
       "</table>\n",
       "</div>"
      ],
      "text/plain": [
       "  elevator  total-post  fake-post  value_fake_prcentage  fake_percentage\n",
       "2     true        3076       1151             37.418726        63.137685\n",
       "1    false        1282        380             29.641186        20.844761\n",
       "0       -1        1641        292             17.794028        16.017553"
      ]
     },
     "execution_count": 374,
     "metadata": {},
     "output_type": "execute_result"
    }
   ],
   "source": [
    "x= train_posts.fillna({'elevator': -1})\n",
    "fake_percenatge(x, 'elevator')"
   ]
  },
  {
   "cell_type": "code",
   "execution_count": 375,
   "id": "8dfeab58-c39a-4f9a-a75a-3b4e6ae4214a",
   "metadata": {},
   "outputs": [
    {
     "data": {
      "text/plain": [
       "true     4153\n",
       "false     772\n",
       "Name: warehouse, dtype: int64"
      ]
     },
     "execution_count": 375,
     "metadata": {},
     "output_type": "execute_result"
    }
   ],
   "source": [
    "train_posts['warehouse'].value_counts()"
   ]
  },
  {
   "cell_type": "code",
   "execution_count": 376,
   "id": "4b5daa2a-1387-4e9a-95bc-4e886b4c47a6",
   "metadata": {},
   "outputs": [
    {
     "data": {
      "text/html": [
       "<div>\n",
       "<style scoped>\n",
       "    .dataframe tbody tr th:only-of-type {\n",
       "        vertical-align: middle;\n",
       "    }\n",
       "\n",
       "    .dataframe tbody tr th {\n",
       "        vertical-align: top;\n",
       "    }\n",
       "\n",
       "    .dataframe thead th {\n",
       "        text-align: right;\n",
       "    }\n",
       "</style>\n",
       "<table border=\"1\" class=\"dataframe\">\n",
       "  <thead>\n",
       "    <tr style=\"text-align: right;\">\n",
       "      <th></th>\n",
       "      <th>warehouse</th>\n",
       "      <th>total-post</th>\n",
       "      <th>fake-post</th>\n",
       "      <th>value_fake_prcentage</th>\n",
       "      <th>fake_percentage</th>\n",
       "    </tr>\n",
       "  </thead>\n",
       "  <tbody>\n",
       "    <tr>\n",
       "      <th>2</th>\n",
       "      <td>true</td>\n",
       "      <td>4153</td>\n",
       "      <td>1460</td>\n",
       "      <td>35.155309</td>\n",
       "      <td>80.087767</td>\n",
       "    </tr>\n",
       "    <tr>\n",
       "      <th>1</th>\n",
       "      <td>false</td>\n",
       "      <td>772</td>\n",
       "      <td>207</td>\n",
       "      <td>26.813472</td>\n",
       "      <td>11.354909</td>\n",
       "    </tr>\n",
       "    <tr>\n",
       "      <th>0</th>\n",
       "      <td>-1</td>\n",
       "      <td>1074</td>\n",
       "      <td>156</td>\n",
       "      <td>14.525140</td>\n",
       "      <td>8.557323</td>\n",
       "    </tr>\n",
       "  </tbody>\n",
       "</table>\n",
       "</div>"
      ],
      "text/plain": [
       "  warehouse  total-post  fake-post  value_fake_prcentage  fake_percentage\n",
       "2      true        4153       1460             35.155309        80.087767\n",
       "1     false         772        207             26.813472        11.354909\n",
       "0        -1        1074        156             14.525140         8.557323"
      ]
     },
     "execution_count": 376,
     "metadata": {},
     "output_type": "execute_result"
    }
   ],
   "source": [
    "train_posts['warehouse'] = train_posts['warehouse'].fillna(-1)\n",
    "fake_percenatge(train_posts, 'warehouse')"
   ]
  },
  {
   "cell_type": "code",
   "execution_count": 379,
   "id": "fa7d2005-c8fa-4770-9e3e-7cb74d257dcb",
   "metadata": {},
   "outputs": [
    {
     "data": {
      "text/plain": [
       "True     3057\n",
       "False    2942\n",
       "Name: chat_enabled, dtype: int64"
      ]
     },
     "execution_count": 379,
     "metadata": {},
     "output_type": "execute_result"
    }
   ],
   "source": [
    "train_posts['chat_enabled'].value_counts()"
   ]
  },
  {
   "cell_type": "code",
   "execution_count": 381,
   "id": "1b406d14-04c0-40f0-9f6a-5799c07bd9a1",
   "metadata": {},
   "outputs": [
    {
     "data": {
      "text/plain": [
       "True     3057\n",
       "False    2942\n",
       "Name: chat_enabled, dtype: int64"
      ]
     },
     "execution_count": 381,
     "metadata": {},
     "output_type": "execute_result"
    }
   ],
   "source": [
    "train_posts['chat_enabled'].value_counts(dropna=False)"
   ]
  },
  {
   "cell_type": "code",
   "execution_count": 382,
   "id": "97527882-2896-4ee8-b10d-b854aa28a748",
   "metadata": {},
   "outputs": [
    {
     "data": {
      "text/html": [
       "<div>\n",
       "<style scoped>\n",
       "    .dataframe tbody tr th:only-of-type {\n",
       "        vertical-align: middle;\n",
       "    }\n",
       "\n",
       "    .dataframe tbody tr th {\n",
       "        vertical-align: top;\n",
       "    }\n",
       "\n",
       "    .dataframe thead th {\n",
       "        text-align: right;\n",
       "    }\n",
       "</style>\n",
       "<table border=\"1\" class=\"dataframe\">\n",
       "  <thead>\n",
       "    <tr style=\"text-align: right;\">\n",
       "      <th></th>\n",
       "      <th>chat_enabled</th>\n",
       "      <th>total-post</th>\n",
       "      <th>fake-post</th>\n",
       "      <th>value_fake_prcentage</th>\n",
       "      <th>fake_percentage</th>\n",
       "    </tr>\n",
       "  </thead>\n",
       "  <tbody>\n",
       "    <tr>\n",
       "      <th>0</th>\n",
       "      <td>False</td>\n",
       "      <td>2942</td>\n",
       "      <td>1046</td>\n",
       "      <td>35.554045</td>\n",
       "      <td>57.377948</td>\n",
       "    </tr>\n",
       "    <tr>\n",
       "      <th>1</th>\n",
       "      <td>True</td>\n",
       "      <td>3057</td>\n",
       "      <td>777</td>\n",
       "      <td>25.417076</td>\n",
       "      <td>42.622052</td>\n",
       "    </tr>\n",
       "  </tbody>\n",
       "</table>\n",
       "</div>"
      ],
      "text/plain": [
       "   chat_enabled  total-post  fake-post  value_fake_prcentage  fake_percentage\n",
       "0         False        2942       1046             35.554045        57.377948\n",
       "1          True        3057        777             25.417076        42.622052"
      ]
     },
     "execution_count": 382,
     "metadata": {},
     "output_type": "execute_result"
    }
   ],
   "source": [
    "fake_percenatge(train_posts,'chat_enabled')"
   ]
  },
  {
   "cell_type": "code",
   "execution_count": 383,
   "id": "f438c828-cfda-4ef5-af77-a880927c3564",
   "metadata": {},
   "outputs": [
    {
     "name": "stdout",
     "output_type": "stream",
     "text": [
      "<class 'pandas.core.frame.DataFrame'>\n",
      "Int64Index: 5999 entries, 0 to 5999\n",
      "Data columns (total 32 columns):\n",
      " #   Column                        Non-Null Count  Dtype         \n",
      "---  ------                        --------------  -----         \n",
      " 0   token                         5999 non-null   object        \n",
      " 1   result                        5999 non-null   object        \n",
      " 2   first_published_at            5999 non-null   datetime64[ns]\n",
      " 3   image_count                   5999 non-null   float64       \n",
      " 4   device_id                     5999 non-null   object        \n",
      " 5   username                      2594 non-null   object        \n",
      " 6   city                          5999 non-null   object        \n",
      " 7   district                      4568 non-null   object        \n",
      " 8   rent                          3071 non-null   object        \n",
      " 9   size                          5950 non-null   float64       \n",
      " 10  year                          5179 non-null   object        \n",
      " 11  floor                         4358 non-null   object        \n",
      " 12  rooms                         5454 non-null   object        \n",
      " 13  title                         5999 non-null   object        \n",
      " 14  credit                        3071 non-null   object        \n",
      " 15  parking                       4925 non-null   object        \n",
      " 16  elevator                      4358 non-null   object        \n",
      " 17  new_rent                      2748 non-null   float64       \n",
      " 18  rent_type                     2210 non-null   object        \n",
      " 19  user_type                     5999 non-null   object        \n",
      " 20  warehouse                     5999 non-null   object        \n",
      " 21  new_credit                    2813 non-null   float64       \n",
      " 22  description                   5999 non-null   object        \n",
      " 23  rent_to_single                5999 non-null   object        \n",
      " 24  rent_credit_transform         5999 non-null   object        \n",
      " 25  other_options_and_attributes  2447 non-null   object        \n",
      " 26  price                         2610 non-null   object        \n",
      " 27  new_price                     1955 non-null   float64       \n",
      " 28  balcony                       567 non-null    object        \n",
      " 29  category                      5999 non-null   object        \n",
      " 30  full_options                  5999 non-null   object        \n",
      " 31  chat_enabled                  5999 non-null   bool          \n",
      "dtypes: bool(1), datetime64[ns](1), float64(5), object(25)\n",
      "memory usage: 1.5+ MB\n"
     ]
    }
   ],
   "source": [
    "train_posts.info()"
   ]
  },
  {
   "cell_type": "code",
   "execution_count": 384,
   "id": "ef1c576e-07d7-4eae-809f-320161f04a24",
   "metadata": {},
   "outputs": [
    {
     "data": {
      "text/html": [
       "<div>\n",
       "<style scoped>\n",
       "    .dataframe tbody tr th:only-of-type {\n",
       "        vertical-align: middle;\n",
       "    }\n",
       "\n",
       "    .dataframe tbody tr th {\n",
       "        vertical-align: top;\n",
       "    }\n",
       "\n",
       "    .dataframe thead th {\n",
       "        text-align: right;\n",
       "    }\n",
       "</style>\n",
       "<table border=\"1\" class=\"dataframe\">\n",
       "  <thead>\n",
       "    <tr style=\"text-align: right;\">\n",
       "      <th></th>\n",
       "      <th>chat_enabled</th>\n",
       "      <th>total-post</th>\n",
       "      <th>fake-post</th>\n",
       "      <th>value_fake_prcentage</th>\n",
       "      <th>fake_percentage</th>\n",
       "    </tr>\n",
       "  </thead>\n",
       "  <tbody>\n",
       "    <tr>\n",
       "      <th>0</th>\n",
       "      <td>False</td>\n",
       "      <td>2942</td>\n",
       "      <td>1046</td>\n",
       "      <td>35.554045</td>\n",
       "      <td>57.377948</td>\n",
       "    </tr>\n",
       "    <tr>\n",
       "      <th>1</th>\n",
       "      <td>True</td>\n",
       "      <td>3057</td>\n",
       "      <td>777</td>\n",
       "      <td>25.417076</td>\n",
       "      <td>42.622052</td>\n",
       "    </tr>\n",
       "  </tbody>\n",
       "</table>\n",
       "</div>"
      ],
      "text/plain": [
       "   chat_enabled  total-post  fake-post  value_fake_prcentage  fake_percentage\n",
       "0         False        2942       1046             35.554045        57.377948\n",
       "1          True        3057        777             25.417076        42.622052"
      ]
     },
     "execution_count": 384,
     "metadata": {},
     "output_type": "execute_result"
    }
   ],
   "source": [
    "fake_percenatge(train_posts, 'chat_enabled')"
   ]
  },
  {
   "cell_type": "code",
   "execution_count": 385,
   "id": "434d0068-fffa-4bc9-bd9f-55ca18779cc6",
   "metadata": {},
   "outputs": [
    {
     "data": {
      "text/plain": [
       "2     376\n",
       "1     322\n",
       "3     308\n",
       "0     125\n",
       "4     110\n",
       "-1     33\n",
       "5       8\n",
       "Name: floor, dtype: int64"
      ]
     },
     "execution_count": 385,
     "metadata": {},
     "output_type": "execute_result"
    }
   ],
   "source": [
    "x = train_posts[(train_posts['elevator']=='false') & (train_posts['floor']!='+30')]\n",
    "x['floor'].value_counts()"
   ]
  },
  {
   "cell_type": "code",
   "execution_count": 386,
   "id": "cd7168fe-2234-466c-9dd3-a7dc7a626138",
   "metadata": {},
   "outputs": [
    {
     "data": {
      "text/html": [
       "<div>\n",
       "<style scoped>\n",
       "    .dataframe tbody tr th:only-of-type {\n",
       "        vertical-align: middle;\n",
       "    }\n",
       "\n",
       "    .dataframe tbody tr th {\n",
       "        vertical-align: top;\n",
       "    }\n",
       "\n",
       "    .dataframe thead th {\n",
       "        text-align: right;\n",
       "    }\n",
       "</style>\n",
       "<table border=\"1\" class=\"dataframe\">\n",
       "  <thead>\n",
       "    <tr style=\"text-align: right;\">\n",
       "      <th></th>\n",
       "      <th>floor</th>\n",
       "      <th>total-post</th>\n",
       "      <th>fake-post</th>\n",
       "      <th>value_fake_prcentage</th>\n",
       "      <th>fake_percentage</th>\n",
       "    </tr>\n",
       "  </thead>\n",
       "  <tbody>\n",
       "    <tr>\n",
       "      <th>3</th>\n",
       "      <td>2</td>\n",
       "      <td>376</td>\n",
       "      <td>111</td>\n",
       "      <td>29.521277</td>\n",
       "      <td>29.210526</td>\n",
       "    </tr>\n",
       "    <tr>\n",
       "      <th>4</th>\n",
       "      <td>3</td>\n",
       "      <td>308</td>\n",
       "      <td>95</td>\n",
       "      <td>30.844156</td>\n",
       "      <td>25.000000</td>\n",
       "    </tr>\n",
       "    <tr>\n",
       "      <th>2</th>\n",
       "      <td>1</td>\n",
       "      <td>322</td>\n",
       "      <td>91</td>\n",
       "      <td>28.260870</td>\n",
       "      <td>23.947368</td>\n",
       "    </tr>\n",
       "    <tr>\n",
       "      <th>1</th>\n",
       "      <td>0</td>\n",
       "      <td>125</td>\n",
       "      <td>36</td>\n",
       "      <td>28.800000</td>\n",
       "      <td>9.473684</td>\n",
       "    </tr>\n",
       "    <tr>\n",
       "      <th>5</th>\n",
       "      <td>4</td>\n",
       "      <td>110</td>\n",
       "      <td>34</td>\n",
       "      <td>30.909091</td>\n",
       "      <td>8.947368</td>\n",
       "    </tr>\n",
       "    <tr>\n",
       "      <th>0</th>\n",
       "      <td>-1</td>\n",
       "      <td>33</td>\n",
       "      <td>12</td>\n",
       "      <td>36.363636</td>\n",
       "      <td>3.157895</td>\n",
       "    </tr>\n",
       "    <tr>\n",
       "      <th>6</th>\n",
       "      <td>5</td>\n",
       "      <td>8</td>\n",
       "      <td>1</td>\n",
       "      <td>12.500000</td>\n",
       "      <td>0.263158</td>\n",
       "    </tr>\n",
       "  </tbody>\n",
       "</table>\n",
       "</div>"
      ],
      "text/plain": [
       "  floor  total-post  fake-post  value_fake_prcentage  fake_percentage\n",
       "3     2         376        111             29.521277        29.210526\n",
       "4     3         308         95             30.844156        25.000000\n",
       "2     1         322         91             28.260870        23.947368\n",
       "1     0         125         36             28.800000         9.473684\n",
       "5     4         110         34             30.909091         8.947368\n",
       "0    -1          33         12             36.363636         3.157895\n",
       "6     5           8          1             12.500000         0.263158"
      ]
     },
     "execution_count": 386,
     "metadata": {},
     "output_type": "execute_result"
    }
   ],
   "source": [
    "fake_percenatge(x, 'floor')"
   ]
  },
  {
   "cell_type": "code",
   "execution_count": 387,
   "id": "3559affc-bfe5-490a-bac3-f9d802f4afc8",
   "metadata": {},
   "outputs": [
    {
     "data": {
      "text/plain": [
       "2      998\n",
       "3      938\n",
       "1      878\n",
       "4      647\n",
       "5      402\n",
       "0      170\n",
       "6      115\n",
       "8       39\n",
       "7       38\n",
       "-1      36\n",
       "10      28\n",
       "9       25\n",
       "14      10\n",
       "11       9\n",
       "13       5\n",
       "19       4\n",
       "12       4\n",
       "15       3\n",
       "20       3\n",
       "16       2\n",
       "26       2\n",
       "18       1\n",
       "30+      1\n",
       "Name: floor, dtype: int64"
      ]
     },
     "execution_count": 387,
     "metadata": {},
     "output_type": "execute_result"
    }
   ],
   "source": [
    "train_posts['floor'].value_counts()"
   ]
  },
  {
   "cell_type": "code",
   "execution_count": 388,
   "id": "3a9af59f-0e0e-4b0b-84a6-ae72fa8e8286",
   "metadata": {},
   "outputs": [
    {
     "data": {
      "text/html": [
       "<div>\n",
       "<style scoped>\n",
       "    .dataframe tbody tr th:only-of-type {\n",
       "        vertical-align: middle;\n",
       "    }\n",
       "\n",
       "    .dataframe tbody tr th {\n",
       "        vertical-align: top;\n",
       "    }\n",
       "\n",
       "    .dataframe thead th {\n",
       "        text-align: right;\n",
       "    }\n",
       "</style>\n",
       "<table border=\"1\" class=\"dataframe\">\n",
       "  <thead>\n",
       "    <tr style=\"text-align: right;\">\n",
       "      <th></th>\n",
       "      <th>floor</th>\n",
       "      <th>total-post</th>\n",
       "      <th>fake-post</th>\n",
       "      <th>value_fake_prcentage</th>\n",
       "      <th>fake_percentage</th>\n",
       "    </tr>\n",
       "  </thead>\n",
       "  <tbody>\n",
       "    <tr>\n",
       "      <th>12</th>\n",
       "      <td>2</td>\n",
       "      <td>998</td>\n",
       "      <td>333.0</td>\n",
       "      <td>33.366733</td>\n",
       "      <td>18.266594</td>\n",
       "    </tr>\n",
       "    <tr>\n",
       "      <th>15</th>\n",
       "      <td>3</td>\n",
       "      <td>938</td>\n",
       "      <td>331.0</td>\n",
       "      <td>35.287846</td>\n",
       "      <td>18.156884</td>\n",
       "    </tr>\n",
       "    <tr>\n",
       "      <th>2</th>\n",
       "      <td>1</td>\n",
       "      <td>878</td>\n",
       "      <td>291.0</td>\n",
       "      <td>33.143508</td>\n",
       "      <td>15.962699</td>\n",
       "    </tr>\n",
       "    <tr>\n",
       "      <th>17</th>\n",
       "      <td>4</td>\n",
       "      <td>647</td>\n",
       "      <td>222.0</td>\n",
       "      <td>34.312210</td>\n",
       "      <td>12.177729</td>\n",
       "    </tr>\n",
       "    <tr>\n",
       "      <th>18</th>\n",
       "      <td>5</td>\n",
       "      <td>402</td>\n",
       "      <td>158.0</td>\n",
       "      <td>39.303483</td>\n",
       "      <td>8.667032</td>\n",
       "    </tr>\n",
       "    <tr>\n",
       "      <th>19</th>\n",
       "      <td>6</td>\n",
       "      <td>115</td>\n",
       "      <td>62.0</td>\n",
       "      <td>53.913043</td>\n",
       "      <td>3.400987</td>\n",
       "    </tr>\n",
       "    <tr>\n",
       "      <th>1</th>\n",
       "      <td>0</td>\n",
       "      <td>170</td>\n",
       "      <td>47.0</td>\n",
       "      <td>27.647059</td>\n",
       "      <td>2.578168</td>\n",
       "    </tr>\n",
       "    <tr>\n",
       "      <th>20</th>\n",
       "      <td>7</td>\n",
       "      <td>38</td>\n",
       "      <td>22.0</td>\n",
       "      <td>57.894737</td>\n",
       "      <td>1.206802</td>\n",
       "    </tr>\n",
       "    <tr>\n",
       "      <th>21</th>\n",
       "      <td>8</td>\n",
       "      <td>39</td>\n",
       "      <td>16.0</td>\n",
       "      <td>41.025641</td>\n",
       "      <td>0.877674</td>\n",
       "    </tr>\n",
       "    <tr>\n",
       "      <th>0</th>\n",
       "      <td>-1</td>\n",
       "      <td>36</td>\n",
       "      <td>14.0</td>\n",
       "      <td>38.888889</td>\n",
       "      <td>0.767965</td>\n",
       "    </tr>\n",
       "    <tr>\n",
       "      <th>3</th>\n",
       "      <td>10</td>\n",
       "      <td>28</td>\n",
       "      <td>13.0</td>\n",
       "      <td>46.428571</td>\n",
       "      <td>0.713110</td>\n",
       "    </tr>\n",
       "    <tr>\n",
       "      <th>22</th>\n",
       "      <td>9</td>\n",
       "      <td>25</td>\n",
       "      <td>8.0</td>\n",
       "      <td>32.000000</td>\n",
       "      <td>0.438837</td>\n",
       "    </tr>\n",
       "    <tr>\n",
       "      <th>6</th>\n",
       "      <td>13</td>\n",
       "      <td>5</td>\n",
       "      <td>3.0</td>\n",
       "      <td>60.000000</td>\n",
       "      <td>0.164564</td>\n",
       "    </tr>\n",
       "    <tr>\n",
       "      <th>7</th>\n",
       "      <td>14</td>\n",
       "      <td>10</td>\n",
       "      <td>2.0</td>\n",
       "      <td>20.000000</td>\n",
       "      <td>0.109709</td>\n",
       "    </tr>\n",
       "    <tr>\n",
       "      <th>5</th>\n",
       "      <td>12</td>\n",
       "      <td>4</td>\n",
       "      <td>2.0</td>\n",
       "      <td>50.000000</td>\n",
       "      <td>0.109709</td>\n",
       "    </tr>\n",
       "    <tr>\n",
       "      <th>4</th>\n",
       "      <td>11</td>\n",
       "      <td>9</td>\n",
       "      <td>2.0</td>\n",
       "      <td>22.222222</td>\n",
       "      <td>0.109709</td>\n",
       "    </tr>\n",
       "    <tr>\n",
       "      <th>11</th>\n",
       "      <td>19</td>\n",
       "      <td>4</td>\n",
       "      <td>2.0</td>\n",
       "      <td>50.000000</td>\n",
       "      <td>0.109709</td>\n",
       "    </tr>\n",
       "    <tr>\n",
       "      <th>13</th>\n",
       "      <td>20</td>\n",
       "      <td>3</td>\n",
       "      <td>1.0</td>\n",
       "      <td>33.333333</td>\n",
       "      <td>0.054855</td>\n",
       "    </tr>\n",
       "    <tr>\n",
       "      <th>14</th>\n",
       "      <td>26</td>\n",
       "      <td>2</td>\n",
       "      <td>1.0</td>\n",
       "      <td>50.000000</td>\n",
       "      <td>0.054855</td>\n",
       "    </tr>\n",
       "    <tr>\n",
       "      <th>8</th>\n",
       "      <td>15</td>\n",
       "      <td>3</td>\n",
       "      <td>1.0</td>\n",
       "      <td>33.333333</td>\n",
       "      <td>0.054855</td>\n",
       "    </tr>\n",
       "    <tr>\n",
       "      <th>10</th>\n",
       "      <td>18</td>\n",
       "      <td>1</td>\n",
       "      <td>0.0</td>\n",
       "      <td>0.000000</td>\n",
       "      <td>0.000000</td>\n",
       "    </tr>\n",
       "    <tr>\n",
       "      <th>9</th>\n",
       "      <td>16</td>\n",
       "      <td>2</td>\n",
       "      <td>0.0</td>\n",
       "      <td>0.000000</td>\n",
       "      <td>0.000000</td>\n",
       "    </tr>\n",
       "    <tr>\n",
       "      <th>16</th>\n",
       "      <td>30+</td>\n",
       "      <td>1</td>\n",
       "      <td>0.0</td>\n",
       "      <td>0.000000</td>\n",
       "      <td>0.000000</td>\n",
       "    </tr>\n",
       "  </tbody>\n",
       "</table>\n",
       "</div>"
      ],
      "text/plain": [
       "   floor  total-post  fake-post  value_fake_prcentage  fake_percentage\n",
       "12     2         998      333.0             33.366733        18.266594\n",
       "15     3         938      331.0             35.287846        18.156884\n",
       "2      1         878      291.0             33.143508        15.962699\n",
       "17     4         647      222.0             34.312210        12.177729\n",
       "18     5         402      158.0             39.303483         8.667032\n",
       "19     6         115       62.0             53.913043         3.400987\n",
       "1      0         170       47.0             27.647059         2.578168\n",
       "20     7          38       22.0             57.894737         1.206802\n",
       "21     8          39       16.0             41.025641         0.877674\n",
       "0     -1          36       14.0             38.888889         0.767965\n",
       "3     10          28       13.0             46.428571         0.713110\n",
       "22     9          25        8.0             32.000000         0.438837\n",
       "6     13           5        3.0             60.000000         0.164564\n",
       "7     14          10        2.0             20.000000         0.109709\n",
       "5     12           4        2.0             50.000000         0.109709\n",
       "4     11           9        2.0             22.222222         0.109709\n",
       "11    19           4        2.0             50.000000         0.109709\n",
       "13    20           3        1.0             33.333333         0.054855\n",
       "14    26           2        1.0             50.000000         0.054855\n",
       "8     15           3        1.0             33.333333         0.054855\n",
       "10    18           1        0.0              0.000000         0.000000\n",
       "9     16           2        0.0              0.000000         0.000000\n",
       "16   30+           1        0.0              0.000000         0.000000"
      ]
     },
     "execution_count": 388,
     "metadata": {},
     "output_type": "execute_result"
    }
   ],
   "source": [
    "fake_percenatge(train_posts, 'floor')"
   ]
  },
  {
   "cell_type": "code",
   "execution_count": 389,
   "id": "bc0f112e-35f0-4a65-8104-8631dc4f635a",
   "metadata": {},
   "outputs": [],
   "source": [
    "string_year = 'قبل از ۱۳۷۰'\n",
    "train_posts['year'] = np.where(train_posts['year']== string_year, 1361, train_posts['year'])\n",
    "train_posts['year'] = train_posts['year'].apply(lambda x:persian.convert_fa_numbers(x))\n",
    "train_posts['year'] = np.where(train_posts['year']=='nan', -1, train_posts['year'])\n",
    "train_posts['year'] = pd.to_numeric(train_posts['year'])"
   ]
  },
  {
   "cell_type": "code",
   "execution_count": 390,
   "id": "f3823652-ddb1-477f-8dfe-fdc3fdf79a30",
   "metadata": {},
   "outputs": [
    {
     "data": {
      "text/plain": [
       "-1       820\n",
       " 1400    797\n",
       " 1395    391\n",
       " 1390    367\n",
       " 1385    348\n",
       " 1399    320\n",
       " 1396    286\n",
       " 1398    271\n",
       " 1394    227\n",
       " 1397    227\n",
       " 1388    211\n",
       " 1392    210\n",
       " 1393    206\n",
       " 1380    193\n",
       " 1387    150\n",
       " 1386    132\n",
       " 1389    130\n",
       " 1391    116\n",
       " 1361    115\n",
       " 1384    101\n",
       " 1383     94\n",
       " 1382     65\n",
       " 1375     52\n",
       " 1381     46\n",
       " 1371     27\n",
       " 1379     22\n",
       " 1378     20\n",
       " 1374     17\n",
       " 1372     16\n",
       " 1377     12\n",
       " 1373      6\n",
       " 1376      4\n",
       "Name: year, dtype: int64"
      ]
     },
     "execution_count": 390,
     "metadata": {},
     "output_type": "execute_result"
    }
   ],
   "source": [
    "train_posts['year'].value_counts()"
   ]
  },
  {
   "cell_type": "code",
   "execution_count": 391,
   "id": "68704fd8-9eeb-4908-94d0-6085592d83e1",
   "metadata": {},
   "outputs": [
    {
     "data": {
      "text/plain": [
       "count    5999.000000\n",
       "mean     1201.024837\n",
       "std       478.395432\n",
       "min        -1.000000\n",
       "25%      1383.000000\n",
       "50%      1391.000000\n",
       "75%      1397.000000\n",
       "max      1400.000000\n",
       "Name: year, dtype: float64"
      ]
     },
     "execution_count": 391,
     "metadata": {},
     "output_type": "execute_result"
    }
   ],
   "source": [
    "train_posts['year'].describe()"
   ]
  },
  {
   "cell_type": "code",
   "execution_count": 392,
   "id": "bb16d69e-e84e-430f-ae60-7d3763e22524",
   "metadata": {},
   "outputs": [],
   "source": [
    "train_posts['year_mode5'] = np.where((train_posts['year']%5==0), 0 , 1)"
   ]
  },
  {
   "cell_type": "code",
   "execution_count": 393,
   "id": "b3272315-23dd-4cc3-9091-941f4753baeb",
   "metadata": {},
   "outputs": [
    {
     "data": {
      "text/html": [
       "<div>\n",
       "<style scoped>\n",
       "    .dataframe tbody tr th:only-of-type {\n",
       "        vertical-align: middle;\n",
       "    }\n",
       "\n",
       "    .dataframe tbody tr th {\n",
       "        vertical-align: top;\n",
       "    }\n",
       "\n",
       "    .dataframe thead th {\n",
       "        text-align: right;\n",
       "    }\n",
       "</style>\n",
       "<table border=\"1\" class=\"dataframe\">\n",
       "  <thead>\n",
       "    <tr style=\"text-align: right;\">\n",
       "      <th></th>\n",
       "      <th>year_mode5</th>\n",
       "      <th>total-post</th>\n",
       "      <th>fake-post</th>\n",
       "      <th>value_fake_prcentage</th>\n",
       "      <th>fake_percentage</th>\n",
       "    </tr>\n",
       "  </thead>\n",
       "  <tbody>\n",
       "    <tr>\n",
       "      <th>1</th>\n",
       "      <td>1</td>\n",
       "      <td>3851</td>\n",
       "      <td>1081</td>\n",
       "      <td>28.070631</td>\n",
       "      <td>59.297861</td>\n",
       "    </tr>\n",
       "    <tr>\n",
       "      <th>0</th>\n",
       "      <td>0</td>\n",
       "      <td>2148</td>\n",
       "      <td>742</td>\n",
       "      <td>34.543762</td>\n",
       "      <td>40.702139</td>\n",
       "    </tr>\n",
       "  </tbody>\n",
       "</table>\n",
       "</div>"
      ],
      "text/plain": [
       "   year_mode5  total-post  fake-post  value_fake_prcentage  fake_percentage\n",
       "1           1        3851       1081             28.070631        59.297861\n",
       "0           0        2148        742             34.543762        40.702139"
      ]
     },
     "execution_count": 393,
     "metadata": {},
     "output_type": "execute_result"
    }
   ],
   "source": [
    "fake_percenatge(train_posts,'year_mode5')"
   ]
  },
  {
   "cell_type": "code",
   "execution_count": 394,
   "id": "4afa40a6-1def-4c80-bc6a-ee9f150f7366",
   "metadata": {},
   "outputs": [
    {
     "data": {
      "text/html": [
       "<div>\n",
       "<style scoped>\n",
       "    .dataframe tbody tr th:only-of-type {\n",
       "        vertical-align: middle;\n",
       "    }\n",
       "\n",
       "    .dataframe tbody tr th {\n",
       "        vertical-align: top;\n",
       "    }\n",
       "\n",
       "    .dataframe thead th {\n",
       "        text-align: right;\n",
       "    }\n",
       "</style>\n",
       "<table border=\"1\" class=\"dataframe\">\n",
       "  <thead>\n",
       "    <tr style=\"text-align: right;\">\n",
       "      <th></th>\n",
       "      <th>year</th>\n",
       "      <th>total-post</th>\n",
       "      <th>fake-post</th>\n",
       "      <th>value_fake_prcentage</th>\n",
       "      <th>fake_percentage</th>\n",
       "    </tr>\n",
       "  </thead>\n",
       "  <tbody>\n",
       "    <tr>\n",
       "      <th>31</th>\n",
       "      <td>1400</td>\n",
       "      <td>797</td>\n",
       "      <td>270.0</td>\n",
       "      <td>33.877039</td>\n",
       "      <td>14.810752</td>\n",
       "    </tr>\n",
       "    <tr>\n",
       "      <th>26</th>\n",
       "      <td>1395</td>\n",
       "      <td>391</td>\n",
       "      <td>156.0</td>\n",
       "      <td>39.897698</td>\n",
       "      <td>8.557323</td>\n",
       "    </tr>\n",
       "    <tr>\n",
       "      <th>21</th>\n",
       "      <td>1390</td>\n",
       "      <td>367</td>\n",
       "      <td>125.0</td>\n",
       "      <td>34.059946</td>\n",
       "      <td>6.856829</td>\n",
       "    </tr>\n",
       "    <tr>\n",
       "      <th>0</th>\n",
       "      <td>-1</td>\n",
       "      <td>820</td>\n",
       "      <td>124.0</td>\n",
       "      <td>15.121951</td>\n",
       "      <td>6.801975</td>\n",
       "    </tr>\n",
       "    <tr>\n",
       "      <th>16</th>\n",
       "      <td>1385</td>\n",
       "      <td>348</td>\n",
       "      <td>113.0</td>\n",
       "      <td>32.471264</td>\n",
       "      <td>6.198574</td>\n",
       "    </tr>\n",
       "    <tr>\n",
       "      <th>29</th>\n",
       "      <td>1398</td>\n",
       "      <td>271</td>\n",
       "      <td>102.0</td>\n",
       "      <td>37.638376</td>\n",
       "      <td>5.595173</td>\n",
       "    </tr>\n",
       "    <tr>\n",
       "      <th>30</th>\n",
       "      <td>1399</td>\n",
       "      <td>320</td>\n",
       "      <td>97.0</td>\n",
       "      <td>30.312500</td>\n",
       "      <td>5.320900</td>\n",
       "    </tr>\n",
       "    <tr>\n",
       "      <th>27</th>\n",
       "      <td>1396</td>\n",
       "      <td>286</td>\n",
       "      <td>95.0</td>\n",
       "      <td>33.216783</td>\n",
       "      <td>5.211190</td>\n",
       "    </tr>\n",
       "    <tr>\n",
       "      <th>28</th>\n",
       "      <td>1397</td>\n",
       "      <td>227</td>\n",
       "      <td>82.0</td>\n",
       "      <td>36.123348</td>\n",
       "      <td>4.498080</td>\n",
       "    </tr>\n",
       "    <tr>\n",
       "      <th>25</th>\n",
       "      <td>1394</td>\n",
       "      <td>227</td>\n",
       "      <td>74.0</td>\n",
       "      <td>32.599119</td>\n",
       "      <td>4.059243</td>\n",
       "    </tr>\n",
       "    <tr>\n",
       "      <th>24</th>\n",
       "      <td>1393</td>\n",
       "      <td>206</td>\n",
       "      <td>74.0</td>\n",
       "      <td>35.922330</td>\n",
       "      <td>4.059243</td>\n",
       "    </tr>\n",
       "    <tr>\n",
       "      <th>19</th>\n",
       "      <td>1388</td>\n",
       "      <td>211</td>\n",
       "      <td>63.0</td>\n",
       "      <td>29.857820</td>\n",
       "      <td>3.455842</td>\n",
       "    </tr>\n",
       "    <tr>\n",
       "      <th>11</th>\n",
       "      <td>1380</td>\n",
       "      <td>193</td>\n",
       "      <td>61.0</td>\n",
       "      <td>31.606218</td>\n",
       "      <td>3.346133</td>\n",
       "    </tr>\n",
       "    <tr>\n",
       "      <th>23</th>\n",
       "      <td>1392</td>\n",
       "      <td>210</td>\n",
       "      <td>61.0</td>\n",
       "      <td>29.047619</td>\n",
       "      <td>3.346133</td>\n",
       "    </tr>\n",
       "    <tr>\n",
       "      <th>17</th>\n",
       "      <td>1386</td>\n",
       "      <td>132</td>\n",
       "      <td>56.0</td>\n",
       "      <td>42.424242</td>\n",
       "      <td>3.071860</td>\n",
       "    </tr>\n",
       "    <tr>\n",
       "      <th>18</th>\n",
       "      <td>1387</td>\n",
       "      <td>150</td>\n",
       "      <td>52.0</td>\n",
       "      <td>34.666667</td>\n",
       "      <td>2.852441</td>\n",
       "    </tr>\n",
       "    <tr>\n",
       "      <th>22</th>\n",
       "      <td>1391</td>\n",
       "      <td>116</td>\n",
       "      <td>39.0</td>\n",
       "      <td>33.620690</td>\n",
       "      <td>2.139331</td>\n",
       "    </tr>\n",
       "    <tr>\n",
       "      <th>20</th>\n",
       "      <td>1389</td>\n",
       "      <td>130</td>\n",
       "      <td>37.0</td>\n",
       "      <td>28.461538</td>\n",
       "      <td>2.029622</td>\n",
       "    </tr>\n",
       "    <tr>\n",
       "      <th>14</th>\n",
       "      <td>1383</td>\n",
       "      <td>94</td>\n",
       "      <td>30.0</td>\n",
       "      <td>31.914894</td>\n",
       "      <td>1.645639</td>\n",
       "    </tr>\n",
       "    <tr>\n",
       "      <th>15</th>\n",
       "      <td>1384</td>\n",
       "      <td>101</td>\n",
       "      <td>23.0</td>\n",
       "      <td>22.772277</td>\n",
       "      <td>1.261657</td>\n",
       "    </tr>\n",
       "    <tr>\n",
       "      <th>13</th>\n",
       "      <td>1382</td>\n",
       "      <td>65</td>\n",
       "      <td>18.0</td>\n",
       "      <td>27.692308</td>\n",
       "      <td>0.987383</td>\n",
       "    </tr>\n",
       "    <tr>\n",
       "      <th>6</th>\n",
       "      <td>1375</td>\n",
       "      <td>52</td>\n",
       "      <td>17.0</td>\n",
       "      <td>32.692308</td>\n",
       "      <td>0.932529</td>\n",
       "    </tr>\n",
       "    <tr>\n",
       "      <th>1</th>\n",
       "      <td>1361</td>\n",
       "      <td>115</td>\n",
       "      <td>16.0</td>\n",
       "      <td>13.913043</td>\n",
       "      <td>0.877674</td>\n",
       "    </tr>\n",
       "    <tr>\n",
       "      <th>12</th>\n",
       "      <td>1381</td>\n",
       "      <td>46</td>\n",
       "      <td>16.0</td>\n",
       "      <td>34.782609</td>\n",
       "      <td>0.877674</td>\n",
       "    </tr>\n",
       "    <tr>\n",
       "      <th>9</th>\n",
       "      <td>1378</td>\n",
       "      <td>20</td>\n",
       "      <td>8.0</td>\n",
       "      <td>40.000000</td>\n",
       "      <td>0.438837</td>\n",
       "    </tr>\n",
       "    <tr>\n",
       "      <th>2</th>\n",
       "      <td>1371</td>\n",
       "      <td>27</td>\n",
       "      <td>6.0</td>\n",
       "      <td>22.222222</td>\n",
       "      <td>0.329128</td>\n",
       "    </tr>\n",
       "    <tr>\n",
       "      <th>10</th>\n",
       "      <td>1379</td>\n",
       "      <td>22</td>\n",
       "      <td>5.0</td>\n",
       "      <td>22.727273</td>\n",
       "      <td>0.274273</td>\n",
       "    </tr>\n",
       "    <tr>\n",
       "      <th>5</th>\n",
       "      <td>1374</td>\n",
       "      <td>17</td>\n",
       "      <td>1.0</td>\n",
       "      <td>5.882353</td>\n",
       "      <td>0.054855</td>\n",
       "    </tr>\n",
       "    <tr>\n",
       "      <th>8</th>\n",
       "      <td>1377</td>\n",
       "      <td>12</td>\n",
       "      <td>1.0</td>\n",
       "      <td>8.333333</td>\n",
       "      <td>0.054855</td>\n",
       "    </tr>\n",
       "    <tr>\n",
       "      <th>4</th>\n",
       "      <td>1373</td>\n",
       "      <td>6</td>\n",
       "      <td>1.0</td>\n",
       "      <td>16.666667</td>\n",
       "      <td>0.054855</td>\n",
       "    </tr>\n",
       "    <tr>\n",
       "      <th>3</th>\n",
       "      <td>1372</td>\n",
       "      <td>16</td>\n",
       "      <td>0.0</td>\n",
       "      <td>0.000000</td>\n",
       "      <td>0.000000</td>\n",
       "    </tr>\n",
       "    <tr>\n",
       "      <th>7</th>\n",
       "      <td>1376</td>\n",
       "      <td>4</td>\n",
       "      <td>0.0</td>\n",
       "      <td>0.000000</td>\n",
       "      <td>0.000000</td>\n",
       "    </tr>\n",
       "  </tbody>\n",
       "</table>\n",
       "</div>"
      ],
      "text/plain": [
       "    year  total-post  fake-post  value_fake_prcentage  fake_percentage\n",
       "31  1400         797      270.0             33.877039        14.810752\n",
       "26  1395         391      156.0             39.897698         8.557323\n",
       "21  1390         367      125.0             34.059946         6.856829\n",
       "0     -1         820      124.0             15.121951         6.801975\n",
       "16  1385         348      113.0             32.471264         6.198574\n",
       "29  1398         271      102.0             37.638376         5.595173\n",
       "30  1399         320       97.0             30.312500         5.320900\n",
       "27  1396         286       95.0             33.216783         5.211190\n",
       "28  1397         227       82.0             36.123348         4.498080\n",
       "25  1394         227       74.0             32.599119         4.059243\n",
       "24  1393         206       74.0             35.922330         4.059243\n",
       "19  1388         211       63.0             29.857820         3.455842\n",
       "11  1380         193       61.0             31.606218         3.346133\n",
       "23  1392         210       61.0             29.047619         3.346133\n",
       "17  1386         132       56.0             42.424242         3.071860\n",
       "18  1387         150       52.0             34.666667         2.852441\n",
       "22  1391         116       39.0             33.620690         2.139331\n",
       "20  1389         130       37.0             28.461538         2.029622\n",
       "14  1383          94       30.0             31.914894         1.645639\n",
       "15  1384         101       23.0             22.772277         1.261657\n",
       "13  1382          65       18.0             27.692308         0.987383\n",
       "6   1375          52       17.0             32.692308         0.932529\n",
       "1   1361         115       16.0             13.913043         0.877674\n",
       "12  1381          46       16.0             34.782609         0.877674\n",
       "9   1378          20        8.0             40.000000         0.438837\n",
       "2   1371          27        6.0             22.222222         0.329128\n",
       "10  1379          22        5.0             22.727273         0.274273\n",
       "5   1374          17        1.0              5.882353         0.054855\n",
       "8   1377          12        1.0              8.333333         0.054855\n",
       "4   1373           6        1.0             16.666667         0.054855\n",
       "3   1372          16        0.0              0.000000         0.000000\n",
       "7   1376           4        0.0              0.000000         0.000000"
      ]
     },
     "execution_count": 394,
     "metadata": {},
     "output_type": "execute_result"
    }
   ],
   "source": [
    "fake_percenatge(train_posts,'year')"
   ]
  },
  {
   "cell_type": "code",
   "execution_count": 395,
   "id": "ab11178b-44bf-45fd-ba20-8228d678607a",
   "metadata": {},
   "outputs": [],
   "source": [
    "train_posts['is_new'] = np.where(train_posts['year']>1390, 1, 0)"
   ]
  },
  {
   "cell_type": "code",
   "execution_count": 396,
   "id": "c98749fe-5aa2-4702-98dd-0b2bcd76dfb5",
   "metadata": {},
   "outputs": [
    {
     "data": {
      "text/html": [
       "<div>\n",
       "<style scoped>\n",
       "    .dataframe tbody tr th:only-of-type {\n",
       "        vertical-align: middle;\n",
       "    }\n",
       "\n",
       "    .dataframe tbody tr th {\n",
       "        vertical-align: top;\n",
       "    }\n",
       "\n",
       "    .dataframe thead th {\n",
       "        text-align: right;\n",
       "    }\n",
       "</style>\n",
       "<table border=\"1\" class=\"dataframe\">\n",
       "  <thead>\n",
       "    <tr style=\"text-align: right;\">\n",
       "      <th></th>\n",
       "      <th>is_new</th>\n",
       "      <th>total-post</th>\n",
       "      <th>fake-post</th>\n",
       "      <th>value_fake_prcentage</th>\n",
       "      <th>fake_percentage</th>\n",
       "    </tr>\n",
       "  </thead>\n",
       "  <tbody>\n",
       "    <tr>\n",
       "      <th>1</th>\n",
       "      <td>1</td>\n",
       "      <td>3051</td>\n",
       "      <td>1050</td>\n",
       "      <td>34.414946</td>\n",
       "      <td>57.597367</td>\n",
       "    </tr>\n",
       "    <tr>\n",
       "      <th>0</th>\n",
       "      <td>0</td>\n",
       "      <td>2948</td>\n",
       "      <td>773</td>\n",
       "      <td>26.221167</td>\n",
       "      <td>42.402633</td>\n",
       "    </tr>\n",
       "  </tbody>\n",
       "</table>\n",
       "</div>"
      ],
      "text/plain": [
       "   is_new  total-post  fake-post  value_fake_prcentage  fake_percentage\n",
       "1       1        3051       1050             34.414946        57.597367\n",
       "0       0        2948        773             26.221167        42.402633"
      ]
     },
     "execution_count": 396,
     "metadata": {},
     "output_type": "execute_result"
    }
   ],
   "source": [
    "fake_percenatge(train_posts, 'is_new')"
   ]
  },
  {
   "cell_type": "code",
   "execution_count": 397,
   "id": "43ab1566-4e01-4379-8f7c-bd61c9b1fffe",
   "metadata": {},
   "outputs": [
    {
     "data": {
      "text/plain": [
       "count    2669.000000\n",
       "mean      103.263395\n",
       "std        60.635162\n",
       "min        14.000000\n",
       "25%        65.000000\n",
       "50%        85.000000\n",
       "75%       120.000000\n",
       "max       900.000000\n",
       "Name: size, dtype: float64"
      ]
     },
     "execution_count": 397,
     "metadata": {},
     "output_type": "execute_result"
    }
   ],
   "source": [
    "apartment_rent_df['size'].describe()"
   ]
  },
  {
   "cell_type": "code",
   "execution_count": 398,
   "id": "a5e2da14-8f37-47b4-b4bb-b6368c90296e",
   "metadata": {},
   "outputs": [
    {
     "data": {
      "text/plain": [
       "x_small    758\n",
       "medium     634\n",
       "small      612\n",
       "x_large    371\n",
       "large      294\n",
       "Name: size_cat, dtype: int64"
      ]
     },
     "execution_count": 398,
     "metadata": {},
     "output_type": "execute_result"
    }
   ],
   "source": [
    "conditions = [\n",
    "    apartment_rent_df['size']<=65,\n",
    "    (apartment_rent_df['size']>65) & (apartment_rent_df['size']<=85),\n",
    "    (apartment_rent_df['size']>85) & (apartment_rent_df['size']<=120),\n",
    "    (apartment_rent_df['size']>120) & (apartment_rent_df['size']<=150),\n",
    "    apartment_rent_df['size']>150]\n",
    "\n",
    "\n",
    "choices = ['x_small','small', 'medium','large', 'x_large']\n",
    "\n",
    "apartment_rent_df['size_cat'] = np.select(condlist=conditions, choicelist=choices)\n",
    "apartment_rent_df['size_cat'].value_counts()"
   ]
  },
  {
   "cell_type": "code",
   "execution_count": 399,
   "id": "d862e439-4dc0-402e-af33-ca0cc4c5432c",
   "metadata": {},
   "outputs": [
    {
     "data": {
      "text/html": [
       "<div>\n",
       "<style scoped>\n",
       "    .dataframe tbody tr th:only-of-type {\n",
       "        vertical-align: middle;\n",
       "    }\n",
       "\n",
       "    .dataframe tbody tr th {\n",
       "        vertical-align: top;\n",
       "    }\n",
       "\n",
       "    .dataframe thead th {\n",
       "        text-align: right;\n",
       "    }\n",
       "</style>\n",
       "<table border=\"1\" class=\"dataframe\">\n",
       "  <thead>\n",
       "    <tr style=\"text-align: right;\">\n",
       "      <th></th>\n",
       "      <th>size_cat</th>\n",
       "      <th>total-post</th>\n",
       "      <th>fake-post</th>\n",
       "      <th>value_fake_prcentage</th>\n",
       "      <th>fake_percentage</th>\n",
       "    </tr>\n",
       "  </thead>\n",
       "  <tbody>\n",
       "    <tr>\n",
       "      <th>4</th>\n",
       "      <td>x_small</td>\n",
       "      <td>758</td>\n",
       "      <td>310</td>\n",
       "      <td>40.897098</td>\n",
       "      <td>25.577558</td>\n",
       "    </tr>\n",
       "    <tr>\n",
       "      <th>3</th>\n",
       "      <td>x_large</td>\n",
       "      <td>371</td>\n",
       "      <td>251</td>\n",
       "      <td>67.654987</td>\n",
       "      <td>20.709571</td>\n",
       "    </tr>\n",
       "    <tr>\n",
       "      <th>1</th>\n",
       "      <td>medium</td>\n",
       "      <td>634</td>\n",
       "      <td>249</td>\n",
       "      <td>39.274448</td>\n",
       "      <td>20.544554</td>\n",
       "    </tr>\n",
       "    <tr>\n",
       "      <th>2</th>\n",
       "      <td>small</td>\n",
       "      <td>612</td>\n",
       "      <td>234</td>\n",
       "      <td>38.235294</td>\n",
       "      <td>19.306931</td>\n",
       "    </tr>\n",
       "    <tr>\n",
       "      <th>0</th>\n",
       "      <td>large</td>\n",
       "      <td>294</td>\n",
       "      <td>168</td>\n",
       "      <td>57.142857</td>\n",
       "      <td>13.861386</td>\n",
       "    </tr>\n",
       "  </tbody>\n",
       "</table>\n",
       "</div>"
      ],
      "text/plain": [
       "  size_cat  total-post  fake-post  value_fake_prcentage  fake_percentage\n",
       "4  x_small         758        310             40.897098        25.577558\n",
       "3  x_large         371        251             67.654987        20.709571\n",
       "1   medium         634        249             39.274448        20.544554\n",
       "2    small         612        234             38.235294        19.306931\n",
       "0    large         294        168             57.142857        13.861386"
      ]
     },
     "execution_count": 399,
     "metadata": {},
     "output_type": "execute_result"
    }
   ],
   "source": [
    "fake_percenatge(apartment_rent_df, 'size_cat')"
   ]
  },
  {
   "cell_type": "code",
   "execution_count": 400,
   "id": "3ef632cb-dfab-40db-a146-a8ccd09ecae5",
   "metadata": {},
   "outputs": [
    {
     "data": {
      "text/plain": [
       "دو              2571\n",
       "یک              1511\n",
       "سه               896\n",
       "بدون اتاق        266\n",
       "چهار             142\n",
       "پنج یا بیشتر      68\n",
       "Name: rooms, dtype: int64"
      ]
     },
     "execution_count": 400,
     "metadata": {},
     "output_type": "execute_result"
    }
   ],
   "source": [
    "train_posts['rooms'].value_counts()"
   ]
  },
  {
   "cell_type": "code",
   "execution_count": 401,
   "id": "547bdb77-f6d1-4fcf-beaf-5e8b517cb58b",
   "metadata": {},
   "outputs": [
    {
     "data": {
      "text/html": [
       "<div>\n",
       "<style scoped>\n",
       "    .dataframe tbody tr th:only-of-type {\n",
       "        vertical-align: middle;\n",
       "    }\n",
       "\n",
       "    .dataframe tbody tr th {\n",
       "        vertical-align: top;\n",
       "    }\n",
       "\n",
       "    .dataframe thead th {\n",
       "        text-align: right;\n",
       "    }\n",
       "</style>\n",
       "<table border=\"1\" class=\"dataframe\">\n",
       "  <thead>\n",
       "    <tr style=\"text-align: right;\">\n",
       "      <th></th>\n",
       "      <th>rooms</th>\n",
       "      <th>total-post</th>\n",
       "      <th>fake-post</th>\n",
       "      <th>value_fake_prcentage</th>\n",
       "      <th>fake_percentage</th>\n",
       "    </tr>\n",
       "  </thead>\n",
       "  <tbody>\n",
       "    <tr>\n",
       "      <th>1</th>\n",
       "      <td>دو</td>\n",
       "      <td>2571</td>\n",
       "      <td>799</td>\n",
       "      <td>31.077402</td>\n",
       "      <td>43.828854</td>\n",
       "    </tr>\n",
       "    <tr>\n",
       "      <th>5</th>\n",
       "      <td>یک</td>\n",
       "      <td>1511</td>\n",
       "      <td>450</td>\n",
       "      <td>29.781602</td>\n",
       "      <td>24.684586</td>\n",
       "    </tr>\n",
       "    <tr>\n",
       "      <th>2</th>\n",
       "      <td>سه</td>\n",
       "      <td>896</td>\n",
       "      <td>360</td>\n",
       "      <td>40.178571</td>\n",
       "      <td>19.747669</td>\n",
       "    </tr>\n",
       "    <tr>\n",
       "      <th>4</th>\n",
       "      <td>چهار</td>\n",
       "      <td>142</td>\n",
       "      <td>70</td>\n",
       "      <td>49.295775</td>\n",
       "      <td>3.839824</td>\n",
       "    </tr>\n",
       "    <tr>\n",
       "      <th>0</th>\n",
       "      <td>بدون اتاق</td>\n",
       "      <td>266</td>\n",
       "      <td>51</td>\n",
       "      <td>19.172932</td>\n",
       "      <td>2.797586</td>\n",
       "    </tr>\n",
       "    <tr>\n",
       "      <th>3</th>\n",
       "      <td>پنج یا بیشتر</td>\n",
       "      <td>68</td>\n",
       "      <td>19</td>\n",
       "      <td>27.941176</td>\n",
       "      <td>1.042238</td>\n",
       "    </tr>\n",
       "  </tbody>\n",
       "</table>\n",
       "</div>"
      ],
      "text/plain": [
       "          rooms  total-post  fake-post  value_fake_prcentage  fake_percentage\n",
       "1            دو        2571        799             31.077402        43.828854\n",
       "5            یک        1511        450             29.781602        24.684586\n",
       "2            سه         896        360             40.178571        19.747669\n",
       "4          چهار         142         70             49.295775         3.839824\n",
       "0     بدون اتاق         266         51             19.172932         2.797586\n",
       "3  پنج یا بیشتر          68         19             27.941176         1.042238"
      ]
     },
     "execution_count": 401,
     "metadata": {},
     "output_type": "execute_result"
    }
   ],
   "source": [
    "fake_percenatge(train_posts, 'rooms')"
   ]
  },
  {
   "cell_type": "code",
   "execution_count": 402,
   "id": "0f1f5450-e925-4114-8e39-c6a7f95ab1ac",
   "metadata": {},
   "outputs": [],
   "source": [
    "train_posts['pre_category'] = find_pre_category(train_posts)"
   ]
  },
  {
   "cell_type": "code",
   "execution_count": 403,
   "id": "564835e7-63e6-4c7f-94c3-b85c06c85653",
   "metadata": {},
   "outputs": [],
   "source": [
    "train_posts['published_year'] = train_posts['first_published_at'].dt.year\n",
    "train_posts['published_dayofweek'] = train_posts['first_published_at'].dt.dayofweek\n",
    "train_posts['published_hour'] = train_posts['first_published_at'].dt.hour\n",
    "train_posts['published_month'] = train_posts['first_published_at'].dt.month"
   ]
  },
  {
   "cell_type": "code",
   "execution_count": 404,
   "id": "73f5de9f-519f-44d8-9f75-751232b5b37a",
   "metadata": {},
   "outputs": [
    {
     "data": {
      "text/html": [
       "<div>\n",
       "<style scoped>\n",
       "    .dataframe tbody tr th:only-of-type {\n",
       "        vertical-align: middle;\n",
       "    }\n",
       "\n",
       "    .dataframe tbody tr th {\n",
       "        vertical-align: top;\n",
       "    }\n",
       "\n",
       "    .dataframe thead th {\n",
       "        text-align: right;\n",
       "    }\n",
       "</style>\n",
       "<table border=\"1\" class=\"dataframe\">\n",
       "  <thead>\n",
       "    <tr style=\"text-align: right;\">\n",
       "      <th></th>\n",
       "      <th>published_month</th>\n",
       "      <th>total-post</th>\n",
       "      <th>fake-post</th>\n",
       "      <th>value_fake_prcentage</th>\n",
       "      <th>fake_percentage</th>\n",
       "    </tr>\n",
       "  </thead>\n",
       "  <tbody>\n",
       "    <tr>\n",
       "      <th>10</th>\n",
       "      <td>11</td>\n",
       "      <td>2126</td>\n",
       "      <td>554.0</td>\n",
       "      <td>26.058325</td>\n",
       "      <td>30.389468</td>\n",
       "    </tr>\n",
       "    <tr>\n",
       "      <th>0</th>\n",
       "      <td>1</td>\n",
       "      <td>888</td>\n",
       "      <td>493.0</td>\n",
       "      <td>55.518018</td>\n",
       "      <td>27.043335</td>\n",
       "    </tr>\n",
       "    <tr>\n",
       "      <th>11</th>\n",
       "      <td>12</td>\n",
       "      <td>1390</td>\n",
       "      <td>440.0</td>\n",
       "      <td>31.654676</td>\n",
       "      <td>24.136039</td>\n",
       "    </tr>\n",
       "    <tr>\n",
       "      <th>9</th>\n",
       "      <td>10</td>\n",
       "      <td>1307</td>\n",
       "      <td>253.0</td>\n",
       "      <td>19.357307</td>\n",
       "      <td>13.878223</td>\n",
       "    </tr>\n",
       "    <tr>\n",
       "      <th>1</th>\n",
       "      <td>2</td>\n",
       "      <td>68</td>\n",
       "      <td>38.0</td>\n",
       "      <td>55.882353</td>\n",
       "      <td>2.084476</td>\n",
       "    </tr>\n",
       "    <tr>\n",
       "      <th>8</th>\n",
       "      <td>9</td>\n",
       "      <td>146</td>\n",
       "      <td>29.0</td>\n",
       "      <td>19.863014</td>\n",
       "      <td>1.590784</td>\n",
       "    </tr>\n",
       "    <tr>\n",
       "      <th>7</th>\n",
       "      <td>8</td>\n",
       "      <td>31</td>\n",
       "      <td>6.0</td>\n",
       "      <td>19.354839</td>\n",
       "      <td>0.329128</td>\n",
       "    </tr>\n",
       "    <tr>\n",
       "      <th>5</th>\n",
       "      <td>6</td>\n",
       "      <td>12</td>\n",
       "      <td>5.0</td>\n",
       "      <td>41.666667</td>\n",
       "      <td>0.274273</td>\n",
       "    </tr>\n",
       "    <tr>\n",
       "      <th>6</th>\n",
       "      <td>7</td>\n",
       "      <td>18</td>\n",
       "      <td>3.0</td>\n",
       "      <td>16.666667</td>\n",
       "      <td>0.164564</td>\n",
       "    </tr>\n",
       "    <tr>\n",
       "      <th>2</th>\n",
       "      <td>3</td>\n",
       "      <td>3</td>\n",
       "      <td>1.0</td>\n",
       "      <td>33.333333</td>\n",
       "      <td>0.054855</td>\n",
       "    </tr>\n",
       "    <tr>\n",
       "      <th>4</th>\n",
       "      <td>5</td>\n",
       "      <td>7</td>\n",
       "      <td>1.0</td>\n",
       "      <td>14.285714</td>\n",
       "      <td>0.054855</td>\n",
       "    </tr>\n",
       "    <tr>\n",
       "      <th>3</th>\n",
       "      <td>4</td>\n",
       "      <td>3</td>\n",
       "      <td>0.0</td>\n",
       "      <td>0.000000</td>\n",
       "      <td>0.000000</td>\n",
       "    </tr>\n",
       "  </tbody>\n",
       "</table>\n",
       "</div>"
      ],
      "text/plain": [
       "    published_month  total-post  fake-post  value_fake_prcentage  \\\n",
       "10               11        2126      554.0             26.058325   \n",
       "0                 1         888      493.0             55.518018   \n",
       "11               12        1390      440.0             31.654676   \n",
       "9                10        1307      253.0             19.357307   \n",
       "1                 2          68       38.0             55.882353   \n",
       "8                 9         146       29.0             19.863014   \n",
       "7                 8          31        6.0             19.354839   \n",
       "5                 6          12        5.0             41.666667   \n",
       "6                 7          18        3.0             16.666667   \n",
       "2                 3           3        1.0             33.333333   \n",
       "4                 5           7        1.0             14.285714   \n",
       "3                 4           3        0.0              0.000000   \n",
       "\n",
       "    fake_percentage  \n",
       "10        30.389468  \n",
       "0         27.043335  \n",
       "11        24.136039  \n",
       "9         13.878223  \n",
       "1          2.084476  \n",
       "8          1.590784  \n",
       "7          0.329128  \n",
       "5          0.274273  \n",
       "6          0.164564  \n",
       "2          0.054855  \n",
       "4          0.054855  \n",
       "3          0.000000  "
      ]
     },
     "execution_count": 404,
     "metadata": {},
     "output_type": "execute_result"
    }
   ],
   "source": [
    "fake_percenatge(train_posts, 'published_month')"
   ]
  },
  {
   "cell_type": "code",
   "execution_count": 405,
   "id": "fdee5bd1-1ffc-4a25-8e41-99e5eb192b0a",
   "metadata": {},
   "outputs": [
    {
     "data": {
      "text/html": [
       "<div>\n",
       "<style scoped>\n",
       "    .dataframe tbody tr th:only-of-type {\n",
       "        vertical-align: middle;\n",
       "    }\n",
       "\n",
       "    .dataframe tbody tr th {\n",
       "        vertical-align: top;\n",
       "    }\n",
       "\n",
       "    .dataframe thead th {\n",
       "        text-align: right;\n",
       "    }\n",
       "</style>\n",
       "<table border=\"1\" class=\"dataframe\">\n",
       "  <thead>\n",
       "    <tr style=\"text-align: right;\">\n",
       "      <th></th>\n",
       "      <th>published_dayofweek</th>\n",
       "      <th>total-post</th>\n",
       "      <th>fake-post</th>\n",
       "      <th>value_fake_prcentage</th>\n",
       "      <th>fake_percentage</th>\n",
       "    </tr>\n",
       "  </thead>\n",
       "  <tbody>\n",
       "    <tr>\n",
       "      <th>2</th>\n",
       "      <td>2</td>\n",
       "      <td>879</td>\n",
       "      <td>308</td>\n",
       "      <td>35.039818</td>\n",
       "      <td>16.895228</td>\n",
       "    </tr>\n",
       "    <tr>\n",
       "      <th>0</th>\n",
       "      <td>0</td>\n",
       "      <td>996</td>\n",
       "      <td>301</td>\n",
       "      <td>30.220884</td>\n",
       "      <td>16.511245</td>\n",
       "    </tr>\n",
       "    <tr>\n",
       "      <th>5</th>\n",
       "      <td>5</td>\n",
       "      <td>956</td>\n",
       "      <td>299</td>\n",
       "      <td>31.276151</td>\n",
       "      <td>16.401536</td>\n",
       "    </tr>\n",
       "    <tr>\n",
       "      <th>6</th>\n",
       "      <td>6</td>\n",
       "      <td>969</td>\n",
       "      <td>284</td>\n",
       "      <td>29.308566</td>\n",
       "      <td>15.578716</td>\n",
       "    </tr>\n",
       "    <tr>\n",
       "      <th>1</th>\n",
       "      <td>1</td>\n",
       "      <td>909</td>\n",
       "      <td>262</td>\n",
       "      <td>28.822882</td>\n",
       "      <td>14.371914</td>\n",
       "    </tr>\n",
       "    <tr>\n",
       "      <th>3</th>\n",
       "      <td>3</td>\n",
       "      <td>796</td>\n",
       "      <td>242</td>\n",
       "      <td>30.402010</td>\n",
       "      <td>13.274822</td>\n",
       "    </tr>\n",
       "    <tr>\n",
       "      <th>4</th>\n",
       "      <td>4</td>\n",
       "      <td>494</td>\n",
       "      <td>127</td>\n",
       "      <td>25.708502</td>\n",
       "      <td>6.966539</td>\n",
       "    </tr>\n",
       "  </tbody>\n",
       "</table>\n",
       "</div>"
      ],
      "text/plain": [
       "   published_dayofweek  total-post  fake-post  value_fake_prcentage  \\\n",
       "2                    2         879        308             35.039818   \n",
       "0                    0         996        301             30.220884   \n",
       "5                    5         956        299             31.276151   \n",
       "6                    6         969        284             29.308566   \n",
       "1                    1         909        262             28.822882   \n",
       "3                    3         796        242             30.402010   \n",
       "4                    4         494        127             25.708502   \n",
       "\n",
       "   fake_percentage  \n",
       "2        16.895228  \n",
       "0        16.511245  \n",
       "5        16.401536  \n",
       "6        15.578716  \n",
       "1        14.371914  \n",
       "3        13.274822  \n",
       "4         6.966539  "
      ]
     },
     "execution_count": 405,
     "metadata": {},
     "output_type": "execute_result"
    }
   ],
   "source": [
    "fake_percenatge(train_posts, 'published_dayofweek')"
   ]
  },
  {
   "cell_type": "code",
   "execution_count": 406,
   "id": "e4d540d6-ad0d-408e-a7dd-b910505e6962",
   "metadata": {},
   "outputs": [
    {
     "data": {
      "text/html": [
       "<div>\n",
       "<style scoped>\n",
       "    .dataframe tbody tr th:only-of-type {\n",
       "        vertical-align: middle;\n",
       "    }\n",
       "\n",
       "    .dataframe tbody tr th {\n",
       "        vertical-align: top;\n",
       "    }\n",
       "\n",
       "    .dataframe thead th {\n",
       "        text-align: right;\n",
       "    }\n",
       "</style>\n",
       "<table border=\"1\" class=\"dataframe\">\n",
       "  <thead>\n",
       "    <tr style=\"text-align: right;\">\n",
       "      <th></th>\n",
       "      <th>published_year</th>\n",
       "      <th>total-post</th>\n",
       "      <th>fake-post</th>\n",
       "      <th>value_fake_prcentage</th>\n",
       "      <th>fake_percentage</th>\n",
       "    </tr>\n",
       "  </thead>\n",
       "  <tbody>\n",
       "    <tr>\n",
       "      <th>2</th>\n",
       "      <td>2021</td>\n",
       "      <td>5041</td>\n",
       "      <td>1293.0</td>\n",
       "      <td>25.649673</td>\n",
       "      <td>70.927043</td>\n",
       "    </tr>\n",
       "    <tr>\n",
       "      <th>3</th>\n",
       "      <td>2022</td>\n",
       "      <td>949</td>\n",
       "      <td>529.0</td>\n",
       "      <td>55.742887</td>\n",
       "      <td>29.018102</td>\n",
       "    </tr>\n",
       "    <tr>\n",
       "      <th>1</th>\n",
       "      <td>2020</td>\n",
       "      <td>7</td>\n",
       "      <td>1.0</td>\n",
       "      <td>14.285714</td>\n",
       "      <td>0.054855</td>\n",
       "    </tr>\n",
       "    <tr>\n",
       "      <th>0</th>\n",
       "      <td>2019</td>\n",
       "      <td>2</td>\n",
       "      <td>0.0</td>\n",
       "      <td>0.000000</td>\n",
       "      <td>0.000000</td>\n",
       "    </tr>\n",
       "  </tbody>\n",
       "</table>\n",
       "</div>"
      ],
      "text/plain": [
       "   published_year  total-post  fake-post  value_fake_prcentage  \\\n",
       "2            2021        5041     1293.0             25.649673   \n",
       "3            2022         949      529.0             55.742887   \n",
       "1            2020           7        1.0             14.285714   \n",
       "0            2019           2        0.0              0.000000   \n",
       "\n",
       "   fake_percentage  \n",
       "2        70.927043  \n",
       "3        29.018102  \n",
       "1         0.054855  \n",
       "0         0.000000  "
      ]
     },
     "execution_count": 406,
     "metadata": {},
     "output_type": "execute_result"
    }
   ],
   "source": [
    "fake_percenatge(train_posts, 'published_year')"
   ]
  },
  {
   "cell_type": "code",
   "execution_count": 407,
   "id": "3c49cbad-b88e-4a5f-8d2a-90998172672c",
   "metadata": {},
   "outputs": [
    {
     "data": {
      "text/html": [
       "<div>\n",
       "<style scoped>\n",
       "    .dataframe tbody tr th:only-of-type {\n",
       "        vertical-align: middle;\n",
       "    }\n",
       "\n",
       "    .dataframe tbody tr th {\n",
       "        vertical-align: top;\n",
       "    }\n",
       "\n",
       "    .dataframe thead th {\n",
       "        text-align: right;\n",
       "    }\n",
       "</style>\n",
       "<table border=\"1\" class=\"dataframe\">\n",
       "  <thead>\n",
       "    <tr style=\"text-align: right;\">\n",
       "      <th></th>\n",
       "      <th>published_hour</th>\n",
       "      <th>total-post</th>\n",
       "      <th>fake-post</th>\n",
       "      <th>value_fake_prcentage</th>\n",
       "      <th>fake_percentage</th>\n",
       "    </tr>\n",
       "  </thead>\n",
       "  <tbody>\n",
       "    <tr>\n",
       "      <th>11</th>\n",
       "      <td>11</td>\n",
       "      <td>720</td>\n",
       "      <td>235.0</td>\n",
       "      <td>32.638889</td>\n",
       "      <td>12.890839</td>\n",
       "    </tr>\n",
       "    <tr>\n",
       "      <th>12</th>\n",
       "      <td>12</td>\n",
       "      <td>652</td>\n",
       "      <td>231.0</td>\n",
       "      <td>35.429448</td>\n",
       "      <td>12.671421</td>\n",
       "    </tr>\n",
       "    <tr>\n",
       "      <th>10</th>\n",
       "      <td>10</td>\n",
       "      <td>484</td>\n",
       "      <td>154.0</td>\n",
       "      <td>31.818182</td>\n",
       "      <td>8.447614</td>\n",
       "    </tr>\n",
       "    <tr>\n",
       "      <th>13</th>\n",
       "      <td>13</td>\n",
       "      <td>487</td>\n",
       "      <td>152.0</td>\n",
       "      <td>31.211499</td>\n",
       "      <td>8.337905</td>\n",
       "    </tr>\n",
       "    <tr>\n",
       "      <th>17</th>\n",
       "      <td>17</td>\n",
       "      <td>460</td>\n",
       "      <td>149.0</td>\n",
       "      <td>32.391304</td>\n",
       "      <td>8.173341</td>\n",
       "    </tr>\n",
       "    <tr>\n",
       "      <th>18</th>\n",
       "      <td>18</td>\n",
       "      <td>432</td>\n",
       "      <td>129.0</td>\n",
       "      <td>29.861111</td>\n",
       "      <td>7.076248</td>\n",
       "    </tr>\n",
       "    <tr>\n",
       "      <th>16</th>\n",
       "      <td>16</td>\n",
       "      <td>357</td>\n",
       "      <td>119.0</td>\n",
       "      <td>33.333333</td>\n",
       "      <td>6.527702</td>\n",
       "    </tr>\n",
       "    <tr>\n",
       "      <th>15</th>\n",
       "      <td>15</td>\n",
       "      <td>330</td>\n",
       "      <td>111.0</td>\n",
       "      <td>33.636364</td>\n",
       "      <td>6.088865</td>\n",
       "    </tr>\n",
       "    <tr>\n",
       "      <th>19</th>\n",
       "      <td>19</td>\n",
       "      <td>323</td>\n",
       "      <td>104.0</td>\n",
       "      <td>32.198142</td>\n",
       "      <td>5.704882</td>\n",
       "    </tr>\n",
       "    <tr>\n",
       "      <th>14</th>\n",
       "      <td>14</td>\n",
       "      <td>385</td>\n",
       "      <td>98.0</td>\n",
       "      <td>25.454545</td>\n",
       "      <td>5.375754</td>\n",
       "    </tr>\n",
       "    <tr>\n",
       "      <th>20</th>\n",
       "      <td>20</td>\n",
       "      <td>297</td>\n",
       "      <td>79.0</td>\n",
       "      <td>26.599327</td>\n",
       "      <td>4.333516</td>\n",
       "    </tr>\n",
       "    <tr>\n",
       "      <th>9</th>\n",
       "      <td>9</td>\n",
       "      <td>159</td>\n",
       "      <td>55.0</td>\n",
       "      <td>34.591195</td>\n",
       "      <td>3.017005</td>\n",
       "    </tr>\n",
       "    <tr>\n",
       "      <th>22</th>\n",
       "      <td>22</td>\n",
       "      <td>199</td>\n",
       "      <td>48.0</td>\n",
       "      <td>24.120603</td>\n",
       "      <td>2.633022</td>\n",
       "    </tr>\n",
       "    <tr>\n",
       "      <th>21</th>\n",
       "      <td>21</td>\n",
       "      <td>196</td>\n",
       "      <td>42.0</td>\n",
       "      <td>21.428571</td>\n",
       "      <td>2.303895</td>\n",
       "    </tr>\n",
       "    <tr>\n",
       "      <th>23</th>\n",
       "      <td>23</td>\n",
       "      <td>175</td>\n",
       "      <td>41.0</td>\n",
       "      <td>23.428571</td>\n",
       "      <td>2.249040</td>\n",
       "    </tr>\n",
       "    <tr>\n",
       "      <th>0</th>\n",
       "      <td>0</td>\n",
       "      <td>111</td>\n",
       "      <td>21.0</td>\n",
       "      <td>18.918919</td>\n",
       "      <td>1.151947</td>\n",
       "    </tr>\n",
       "    <tr>\n",
       "      <th>1</th>\n",
       "      <td>1</td>\n",
       "      <td>66</td>\n",
       "      <td>17.0</td>\n",
       "      <td>25.757576</td>\n",
       "      <td>0.932529</td>\n",
       "    </tr>\n",
       "    <tr>\n",
       "      <th>8</th>\n",
       "      <td>8</td>\n",
       "      <td>71</td>\n",
       "      <td>16.0</td>\n",
       "      <td>22.535211</td>\n",
       "      <td>0.877674</td>\n",
       "    </tr>\n",
       "    <tr>\n",
       "      <th>2</th>\n",
       "      <td>2</td>\n",
       "      <td>29</td>\n",
       "      <td>9.0</td>\n",
       "      <td>31.034483</td>\n",
       "      <td>0.493692</td>\n",
       "    </tr>\n",
       "    <tr>\n",
       "      <th>7</th>\n",
       "      <td>7</td>\n",
       "      <td>21</td>\n",
       "      <td>7.0</td>\n",
       "      <td>33.333333</td>\n",
       "      <td>0.383982</td>\n",
       "    </tr>\n",
       "    <tr>\n",
       "      <th>3</th>\n",
       "      <td>3</td>\n",
       "      <td>19</td>\n",
       "      <td>4.0</td>\n",
       "      <td>21.052632</td>\n",
       "      <td>0.219419</td>\n",
       "    </tr>\n",
       "    <tr>\n",
       "      <th>5</th>\n",
       "      <td>5</td>\n",
       "      <td>9</td>\n",
       "      <td>1.0</td>\n",
       "      <td>11.111111</td>\n",
       "      <td>0.054855</td>\n",
       "    </tr>\n",
       "    <tr>\n",
       "      <th>4</th>\n",
       "      <td>4</td>\n",
       "      <td>7</td>\n",
       "      <td>1.0</td>\n",
       "      <td>14.285714</td>\n",
       "      <td>0.054855</td>\n",
       "    </tr>\n",
       "    <tr>\n",
       "      <th>6</th>\n",
       "      <td>6</td>\n",
       "      <td>10</td>\n",
       "      <td>0.0</td>\n",
       "      <td>0.000000</td>\n",
       "      <td>0.000000</td>\n",
       "    </tr>\n",
       "  </tbody>\n",
       "</table>\n",
       "</div>"
      ],
      "text/plain": [
       "    published_hour  total-post  fake-post  value_fake_prcentage  \\\n",
       "11              11         720      235.0             32.638889   \n",
       "12              12         652      231.0             35.429448   \n",
       "10              10         484      154.0             31.818182   \n",
       "13              13         487      152.0             31.211499   \n",
       "17              17         460      149.0             32.391304   \n",
       "18              18         432      129.0             29.861111   \n",
       "16              16         357      119.0             33.333333   \n",
       "15              15         330      111.0             33.636364   \n",
       "19              19         323      104.0             32.198142   \n",
       "14              14         385       98.0             25.454545   \n",
       "20              20         297       79.0             26.599327   \n",
       "9                9         159       55.0             34.591195   \n",
       "22              22         199       48.0             24.120603   \n",
       "21              21         196       42.0             21.428571   \n",
       "23              23         175       41.0             23.428571   \n",
       "0                0         111       21.0             18.918919   \n",
       "1                1          66       17.0             25.757576   \n",
       "8                8          71       16.0             22.535211   \n",
       "2                2          29        9.0             31.034483   \n",
       "7                7          21        7.0             33.333333   \n",
       "3                3          19        4.0             21.052632   \n",
       "5                5           9        1.0             11.111111   \n",
       "4                4           7        1.0             14.285714   \n",
       "6                6          10        0.0              0.000000   \n",
       "\n",
       "    fake_percentage  \n",
       "11        12.890839  \n",
       "12        12.671421  \n",
       "10         8.447614  \n",
       "13         8.337905  \n",
       "17         8.173341  \n",
       "18         7.076248  \n",
       "16         6.527702  \n",
       "15         6.088865  \n",
       "19         5.704882  \n",
       "14         5.375754  \n",
       "20         4.333516  \n",
       "9          3.017005  \n",
       "22         2.633022  \n",
       "21         2.303895  \n",
       "23         2.249040  \n",
       "0          1.151947  \n",
       "1          0.932529  \n",
       "8          0.877674  \n",
       "2          0.493692  \n",
       "7          0.383982  \n",
       "3          0.219419  \n",
       "5          0.054855  \n",
       "4          0.054855  \n",
       "6          0.000000  "
      ]
     },
     "execution_count": 407,
     "metadata": {},
     "output_type": "execute_result"
    }
   ],
   "source": [
    "fake_percenatge(train_posts, 'published_hour')"
   ]
  },
  {
   "cell_type": "code",
   "execution_count": 408,
   "id": "78b8c8d2-0a87-439a-9d7f-9f88a5c06516",
   "metadata": {},
   "outputs": [
    {
     "data": {
      "text/html": [
       "<div>\n",
       "<style scoped>\n",
       "    .dataframe tbody tr th:only-of-type {\n",
       "        vertical-align: middle;\n",
       "    }\n",
       "\n",
       "    .dataframe tbody tr th {\n",
       "        vertical-align: top;\n",
       "    }\n",
       "\n",
       "    .dataframe thead th {\n",
       "        text-align: right;\n",
       "    }\n",
       "</style>\n",
       "<table border=\"1\" class=\"dataframe\">\n",
       "  <thead>\n",
       "    <tr style=\"text-align: right;\">\n",
       "      <th></th>\n",
       "      <th>is_agent</th>\n",
       "      <th>total-post</th>\n",
       "      <th>fake-post</th>\n",
       "      <th>value_fake_prcentage</th>\n",
       "      <th>fake_percentage</th>\n",
       "    </tr>\n",
       "  </thead>\n",
       "  <tbody>\n",
       "    <tr>\n",
       "      <th>1</th>\n",
       "      <td>1</td>\n",
       "      <td>2594</td>\n",
       "      <td>1107</td>\n",
       "      <td>42.675405</td>\n",
       "      <td>60.724081</td>\n",
       "    </tr>\n",
       "    <tr>\n",
       "      <th>0</th>\n",
       "      <td>0</td>\n",
       "      <td>3405</td>\n",
       "      <td>716</td>\n",
       "      <td>21.027900</td>\n",
       "      <td>39.275919</td>\n",
       "    </tr>\n",
       "  </tbody>\n",
       "</table>\n",
       "</div>"
      ],
      "text/plain": [
       "   is_agent  total-post  fake-post  value_fake_prcentage  fake_percentage\n",
       "1         1        2594       1107             42.675405        60.724081\n",
       "0         0        3405        716             21.027900        39.275919"
      ]
     },
     "execution_count": 408,
     "metadata": {},
     "output_type": "execute_result"
    }
   ],
   "source": [
    "train_posts['is_agent'] = np.where(train_posts['username'].isnull(), 0, 1)\n",
    "fake_percenatge(train_posts, 'is_agent')"
   ]
  },
  {
   "cell_type": "code",
   "execution_count": 409,
   "id": "ece37b68-29eb-4a55-abfe-43234a2de7ed",
   "metadata": {},
   "outputs": [
    {
     "data": {
      "text/html": [
       "<div>\n",
       "<style scoped>\n",
       "    .dataframe tbody tr th:only-of-type {\n",
       "        vertical-align: middle;\n",
       "    }\n",
       "\n",
       "    .dataframe tbody tr th {\n",
       "        vertical-align: top;\n",
       "    }\n",
       "\n",
       "    .dataframe thead th {\n",
       "        text-align: right;\n",
       "    }\n",
       "</style>\n",
       "<table border=\"1\" class=\"dataframe\">\n",
       "  <thead>\n",
       "    <tr style=\"text-align: right;\">\n",
       "      <th></th>\n",
       "      <th>pre_category</th>\n",
       "      <th>total-post</th>\n",
       "      <th>fake-post</th>\n",
       "      <th>value_fake_prcentage</th>\n",
       "      <th>fake_percentage</th>\n",
       "    </tr>\n",
       "  </thead>\n",
       "  <tbody>\n",
       "    <tr>\n",
       "      <th>3</th>\n",
       "      <td>residential_rent</td>\n",
       "      <td>2823</td>\n",
       "      <td>1263</td>\n",
       "      <td>44.739639</td>\n",
       "      <td>69.281404</td>\n",
       "    </tr>\n",
       "    <tr>\n",
       "      <th>4</th>\n",
       "      <td>residential_sell</td>\n",
       "      <td>2460</td>\n",
       "      <td>453</td>\n",
       "      <td>18.414634</td>\n",
       "      <td>24.849150</td>\n",
       "    </tr>\n",
       "    <tr>\n",
       "      <th>5</th>\n",
       "      <td>short_term_rent</td>\n",
       "      <td>273</td>\n",
       "      <td>50</td>\n",
       "      <td>18.315018</td>\n",
       "      <td>2.742732</td>\n",
       "    </tr>\n",
       "    <tr>\n",
       "      <th>0</th>\n",
       "      <td>commercial_rent</td>\n",
       "      <td>244</td>\n",
       "      <td>38</td>\n",
       "      <td>15.573770</td>\n",
       "      <td>2.084476</td>\n",
       "    </tr>\n",
       "    <tr>\n",
       "      <th>2</th>\n",
       "      <td>construction</td>\n",
       "      <td>64</td>\n",
       "      <td>11</td>\n",
       "      <td>17.187500</td>\n",
       "      <td>0.603401</td>\n",
       "    </tr>\n",
       "    <tr>\n",
       "      <th>1</th>\n",
       "      <td>commercial_sell</td>\n",
       "      <td>135</td>\n",
       "      <td>8</td>\n",
       "      <td>5.925926</td>\n",
       "      <td>0.438837</td>\n",
       "    </tr>\n",
       "  </tbody>\n",
       "</table>\n",
       "</div>"
      ],
      "text/plain": [
       "       pre_category  total-post  fake-post  value_fake_prcentage  \\\n",
       "3  residential_rent        2823       1263             44.739639   \n",
       "4  residential_sell        2460        453             18.414634   \n",
       "5   short_term_rent         273         50             18.315018   \n",
       "0   commercial_rent         244         38             15.573770   \n",
       "2      construction          64         11             17.187500   \n",
       "1   commercial_sell         135          8              5.925926   \n",
       "\n",
       "   fake_percentage  \n",
       "3        69.281404  \n",
       "4        24.849150  \n",
       "5         2.742732  \n",
       "0         2.084476  \n",
       "2         0.603401  \n",
       "1         0.438837  "
      ]
     },
     "execution_count": 409,
     "metadata": {},
     "output_type": "execute_result"
    }
   ],
   "source": [
    "fake_percenatge(train_posts, 'pre_category')"
   ]
  },
  {
   "cell_type": "code",
   "execution_count": 410,
   "id": "774f26ce-9f2f-43fd-832e-90759cba7d8f",
   "metadata": {},
   "outputs": [
    {
     "data": {
      "text/html": [
       "<div>\n",
       "<style scoped>\n",
       "    .dataframe tbody tr th:only-of-type {\n",
       "        vertical-align: middle;\n",
       "    }\n",
       "\n",
       "    .dataframe tbody tr th {\n",
       "        vertical-align: top;\n",
       "    }\n",
       "\n",
       "    .dataframe thead th {\n",
       "        text-align: right;\n",
       "    }\n",
       "</style>\n",
       "<table border=\"1\" class=\"dataframe\">\n",
       "  <thead>\n",
       "    <tr style=\"text-align: right;\">\n",
       "      <th></th>\n",
       "      <th>category</th>\n",
       "      <th>total-post</th>\n",
       "      <th>fake-post</th>\n",
       "      <th>value_fake_prcentage</th>\n",
       "      <th>fake_percentage</th>\n",
       "    </tr>\n",
       "  </thead>\n",
       "  <tbody>\n",
       "    <tr>\n",
       "      <th>0</th>\n",
       "      <td>apartment-rent</td>\n",
       "      <td>2669</td>\n",
       "      <td>1212.0</td>\n",
       "      <td>45.410266</td>\n",
       "      <td>66.483818</td>\n",
       "    </tr>\n",
       "    <tr>\n",
       "      <th>1</th>\n",
       "      <td>apartment-sell</td>\n",
       "      <td>1599</td>\n",
       "      <td>306.0</td>\n",
       "      <td>19.136961</td>\n",
       "      <td>16.785518</td>\n",
       "    </tr>\n",
       "    <tr>\n",
       "      <th>3</th>\n",
       "      <td>house-villa-sell</td>\n",
       "      <td>413</td>\n",
       "      <td>85.0</td>\n",
       "      <td>20.581114</td>\n",
       "      <td>4.662644</td>\n",
       "    </tr>\n",
       "    <tr>\n",
       "      <th>9</th>\n",
       "      <td>plot-old</td>\n",
       "      <td>448</td>\n",
       "      <td>62.0</td>\n",
       "      <td>13.839286</td>\n",
       "      <td>3.400987</td>\n",
       "    </tr>\n",
       "    <tr>\n",
       "      <th>2</th>\n",
       "      <td>house-villa-rent</td>\n",
       "      <td>154</td>\n",
       "      <td>51.0</td>\n",
       "      <td>33.116883</td>\n",
       "      <td>2.797586</td>\n",
       "    </tr>\n",
       "    <tr>\n",
       "      <th>13</th>\n",
       "      <td>suite-apartment</td>\n",
       "      <td>154</td>\n",
       "      <td>28.0</td>\n",
       "      <td>18.181818</td>\n",
       "      <td>1.535930</td>\n",
       "    </tr>\n",
       "    <tr>\n",
       "      <th>11</th>\n",
       "      <td>shop-rent</td>\n",
       "      <td>145</td>\n",
       "      <td>22.0</td>\n",
       "      <td>15.172414</td>\n",
       "      <td>1.206802</td>\n",
       "    </tr>\n",
       "    <tr>\n",
       "      <th>14</th>\n",
       "      <td>villa</td>\n",
       "      <td>115</td>\n",
       "      <td>22.0</td>\n",
       "      <td>19.130435</td>\n",
       "      <td>1.206802</td>\n",
       "    </tr>\n",
       "    <tr>\n",
       "      <th>6</th>\n",
       "      <td>office-rent</td>\n",
       "      <td>70</td>\n",
       "      <td>13.0</td>\n",
       "      <td>18.571429</td>\n",
       "      <td>0.713110</td>\n",
       "    </tr>\n",
       "    <tr>\n",
       "      <th>10</th>\n",
       "      <td>presell</td>\n",
       "      <td>51</td>\n",
       "      <td>9.0</td>\n",
       "      <td>17.647059</td>\n",
       "      <td>0.493692</td>\n",
       "    </tr>\n",
       "    <tr>\n",
       "      <th>12</th>\n",
       "      <td>shop-sell</td>\n",
       "      <td>68</td>\n",
       "      <td>6.0</td>\n",
       "      <td>8.823529</td>\n",
       "      <td>0.329128</td>\n",
       "    </tr>\n",
       "    <tr>\n",
       "      <th>4</th>\n",
       "      <td>industry-agriculture-business-rent</td>\n",
       "      <td>29</td>\n",
       "      <td>3.0</td>\n",
       "      <td>10.344828</td>\n",
       "      <td>0.164564</td>\n",
       "    </tr>\n",
       "    <tr>\n",
       "      <th>5</th>\n",
       "      <td>industry-agriculture-business-sell</td>\n",
       "      <td>47</td>\n",
       "      <td>2.0</td>\n",
       "      <td>4.255319</td>\n",
       "      <td>0.109709</td>\n",
       "    </tr>\n",
       "    <tr>\n",
       "      <th>8</th>\n",
       "      <td>partnership</td>\n",
       "      <td>13</td>\n",
       "      <td>2.0</td>\n",
       "      <td>15.384615</td>\n",
       "      <td>0.109709</td>\n",
       "    </tr>\n",
       "    <tr>\n",
       "      <th>7</th>\n",
       "      <td>office-sell</td>\n",
       "      <td>20</td>\n",
       "      <td>0.0</td>\n",
       "      <td>0.000000</td>\n",
       "      <td>0.000000</td>\n",
       "    </tr>\n",
       "    <tr>\n",
       "      <th>15</th>\n",
       "      <td>workspace</td>\n",
       "      <td>4</td>\n",
       "      <td>0.0</td>\n",
       "      <td>0.000000</td>\n",
       "      <td>0.000000</td>\n",
       "    </tr>\n",
       "  </tbody>\n",
       "</table>\n",
       "</div>"
      ],
      "text/plain": [
       "                              category  total-post  fake-post  \\\n",
       "0                       apartment-rent        2669     1212.0   \n",
       "1                       apartment-sell        1599      306.0   \n",
       "3                     house-villa-sell         413       85.0   \n",
       "9                             plot-old         448       62.0   \n",
       "2                     house-villa-rent         154       51.0   \n",
       "13                     suite-apartment         154       28.0   \n",
       "11                           shop-rent         145       22.0   \n",
       "14                               villa         115       22.0   \n",
       "6                          office-rent          70       13.0   \n",
       "10                             presell          51        9.0   \n",
       "12                           shop-sell          68        6.0   \n",
       "4   industry-agriculture-business-rent          29        3.0   \n",
       "5   industry-agriculture-business-sell          47        2.0   \n",
       "8                          partnership          13        2.0   \n",
       "7                          office-sell          20        0.0   \n",
       "15                           workspace           4        0.0   \n",
       "\n",
       "    value_fake_prcentage  fake_percentage  \n",
       "0              45.410266        66.483818  \n",
       "1              19.136961        16.785518  \n",
       "3              20.581114         4.662644  \n",
       "9              13.839286         3.400987  \n",
       "2              33.116883         2.797586  \n",
       "13             18.181818         1.535930  \n",
       "11             15.172414         1.206802  \n",
       "14             19.130435         1.206802  \n",
       "6              18.571429         0.713110  \n",
       "10             17.647059         0.493692  \n",
       "12              8.823529         0.329128  \n",
       "4              10.344828         0.164564  \n",
       "5               4.255319         0.109709  \n",
       "8              15.384615         0.109709  \n",
       "7               0.000000         0.000000  \n",
       "15              0.000000         0.000000  "
      ]
     },
     "execution_count": 410,
     "metadata": {},
     "output_type": "execute_result"
    }
   ],
   "source": [
    "fake_percenatge(train_posts, 'category')"
   ]
  },
  {
   "cell_type": "code",
   "execution_count": 411,
   "id": "c1a381c5-3e8f-4ed2-9eba-f188bc88968f",
   "metadata": {},
   "outputs": [
    {
     "data": {
      "text/html": [
       "<div>\n",
       "<style scoped>\n",
       "    .dataframe tbody tr th:only-of-type {\n",
       "        vertical-align: middle;\n",
       "    }\n",
       "\n",
       "    .dataframe tbody tr th {\n",
       "        vertical-align: top;\n",
       "    }\n",
       "\n",
       "    .dataframe thead th {\n",
       "        text-align: right;\n",
       "    }\n",
       "</style>\n",
       "<table border=\"1\" class=\"dataframe\">\n",
       "  <thead>\n",
       "    <tr style=\"text-align: right;\">\n",
       "      <th></th>\n",
       "      <th>image_count</th>\n",
       "      <th>total-post</th>\n",
       "      <th>fake-post</th>\n",
       "      <th>value_fake_prcentage</th>\n",
       "      <th>fake_percentage</th>\n",
       "    </tr>\n",
       "  </thead>\n",
       "  <tbody>\n",
       "    <tr>\n",
       "      <th>1</th>\n",
       "      <td>1.0</td>\n",
       "      <td>1121</td>\n",
       "      <td>541</td>\n",
       "      <td>48.260482</td>\n",
       "      <td>29.676358</td>\n",
       "    </tr>\n",
       "    <tr>\n",
       "      <th>0</th>\n",
       "      <td>0.0</td>\n",
       "      <td>1106</td>\n",
       "      <td>297</td>\n",
       "      <td>26.853526</td>\n",
       "      <td>16.291827</td>\n",
       "    </tr>\n",
       "    <tr>\n",
       "      <th>2</th>\n",
       "      <td>2.0</td>\n",
       "      <td>492</td>\n",
       "      <td>201</td>\n",
       "      <td>40.853659</td>\n",
       "      <td>11.025782</td>\n",
       "    </tr>\n",
       "    <tr>\n",
       "      <th>3</th>\n",
       "      <td>3.0</td>\n",
       "      <td>465</td>\n",
       "      <td>147</td>\n",
       "      <td>31.612903</td>\n",
       "      <td>8.063631</td>\n",
       "    </tr>\n",
       "    <tr>\n",
       "      <th>5</th>\n",
       "      <td>5.0</td>\n",
       "      <td>477</td>\n",
       "      <td>138</td>\n",
       "      <td>28.930818</td>\n",
       "      <td>7.569940</td>\n",
       "    </tr>\n",
       "    <tr>\n",
       "      <th>4</th>\n",
       "      <td>4.0</td>\n",
       "      <td>458</td>\n",
       "      <td>122</td>\n",
       "      <td>26.637555</td>\n",
       "      <td>6.692265</td>\n",
       "    </tr>\n",
       "    <tr>\n",
       "      <th>6</th>\n",
       "      <td>6.0</td>\n",
       "      <td>381</td>\n",
       "      <td>92</td>\n",
       "      <td>24.146982</td>\n",
       "      <td>5.046626</td>\n",
       "    </tr>\n",
       "    <tr>\n",
       "      <th>7</th>\n",
       "      <td>7.0</td>\n",
       "      <td>340</td>\n",
       "      <td>80</td>\n",
       "      <td>23.529412</td>\n",
       "      <td>4.388371</td>\n",
       "    </tr>\n",
       "    <tr>\n",
       "      <th>8</th>\n",
       "      <td>8.0</td>\n",
       "      <td>240</td>\n",
       "      <td>44</td>\n",
       "      <td>18.333333</td>\n",
       "      <td>2.413604</td>\n",
       "    </tr>\n",
       "    <tr>\n",
       "      <th>10</th>\n",
       "      <td>10.0</td>\n",
       "      <td>241</td>\n",
       "      <td>41</td>\n",
       "      <td>17.012448</td>\n",
       "      <td>2.249040</td>\n",
       "    </tr>\n",
       "    <tr>\n",
       "      <th>9</th>\n",
       "      <td>9.0</td>\n",
       "      <td>209</td>\n",
       "      <td>33</td>\n",
       "      <td>15.789474</td>\n",
       "      <td>1.810203</td>\n",
       "    </tr>\n",
       "    <tr>\n",
       "      <th>11</th>\n",
       "      <td>11.0</td>\n",
       "      <td>103</td>\n",
       "      <td>21</td>\n",
       "      <td>20.388350</td>\n",
       "      <td>1.151947</td>\n",
       "    </tr>\n",
       "    <tr>\n",
       "      <th>20</th>\n",
       "      <td>20.0</td>\n",
       "      <td>58</td>\n",
       "      <td>15</td>\n",
       "      <td>25.862069</td>\n",
       "      <td>0.822820</td>\n",
       "    </tr>\n",
       "    <tr>\n",
       "      <th>12</th>\n",
       "      <td>12.0</td>\n",
       "      <td>75</td>\n",
       "      <td>12</td>\n",
       "      <td>16.000000</td>\n",
       "      <td>0.658256</td>\n",
       "    </tr>\n",
       "    <tr>\n",
       "      <th>13</th>\n",
       "      <td>13.0</td>\n",
       "      <td>65</td>\n",
       "      <td>10</td>\n",
       "      <td>15.384615</td>\n",
       "      <td>0.548546</td>\n",
       "    </tr>\n",
       "    <tr>\n",
       "      <th>18</th>\n",
       "      <td>18.0</td>\n",
       "      <td>26</td>\n",
       "      <td>8</td>\n",
       "      <td>30.769231</td>\n",
       "      <td>0.438837</td>\n",
       "    </tr>\n",
       "    <tr>\n",
       "      <th>14</th>\n",
       "      <td>14.0</td>\n",
       "      <td>45</td>\n",
       "      <td>6</td>\n",
       "      <td>13.333333</td>\n",
       "      <td>0.329128</td>\n",
       "    </tr>\n",
       "    <tr>\n",
       "      <th>19</th>\n",
       "      <td>19.0</td>\n",
       "      <td>25</td>\n",
       "      <td>6</td>\n",
       "      <td>24.000000</td>\n",
       "      <td>0.329128</td>\n",
       "    </tr>\n",
       "    <tr>\n",
       "      <th>15</th>\n",
       "      <td>15.0</td>\n",
       "      <td>39</td>\n",
       "      <td>4</td>\n",
       "      <td>10.256410</td>\n",
       "      <td>0.219419</td>\n",
       "    </tr>\n",
       "    <tr>\n",
       "      <th>17</th>\n",
       "      <td>17.0</td>\n",
       "      <td>19</td>\n",
       "      <td>3</td>\n",
       "      <td>15.789474</td>\n",
       "      <td>0.164564</td>\n",
       "    </tr>\n",
       "    <tr>\n",
       "      <th>16</th>\n",
       "      <td>16.0</td>\n",
       "      <td>14</td>\n",
       "      <td>2</td>\n",
       "      <td>14.285714</td>\n",
       "      <td>0.109709</td>\n",
       "    </tr>\n",
       "  </tbody>\n",
       "</table>\n",
       "</div>"
      ],
      "text/plain": [
       "    image_count  total-post  fake-post  value_fake_prcentage  fake_percentage\n",
       "1           1.0        1121        541             48.260482        29.676358\n",
       "0           0.0        1106        297             26.853526        16.291827\n",
       "2           2.0         492        201             40.853659        11.025782\n",
       "3           3.0         465        147             31.612903         8.063631\n",
       "5           5.0         477        138             28.930818         7.569940\n",
       "4           4.0         458        122             26.637555         6.692265\n",
       "6           6.0         381         92             24.146982         5.046626\n",
       "7           7.0         340         80             23.529412         4.388371\n",
       "8           8.0         240         44             18.333333         2.413604\n",
       "10         10.0         241         41             17.012448         2.249040\n",
       "9           9.0         209         33             15.789474         1.810203\n",
       "11         11.0         103         21             20.388350         1.151947\n",
       "20         20.0          58         15             25.862069         0.822820\n",
       "12         12.0          75         12             16.000000         0.658256\n",
       "13         13.0          65         10             15.384615         0.548546\n",
       "18         18.0          26          8             30.769231         0.438837\n",
       "14         14.0          45          6             13.333333         0.329128\n",
       "19         19.0          25          6             24.000000         0.329128\n",
       "15         15.0          39          4             10.256410         0.219419\n",
       "17         17.0          19          3             15.789474         0.164564\n",
       "16         16.0          14          2             14.285714         0.109709"
      ]
     },
     "execution_count": 411,
     "metadata": {},
     "output_type": "execute_result"
    }
   ],
   "source": [
    "fake_percenatge(train_posts, 'image_count')"
   ]
  },
  {
   "cell_type": "code",
   "execution_count": 412,
   "id": "7ec7e039-55a0-4126-a795-e2086ab61120",
   "metadata": {},
   "outputs": [
    {
     "data": {
      "text/html": [
       "<div>\n",
       "<style scoped>\n",
       "    .dataframe tbody tr th:only-of-type {\n",
       "        vertical-align: middle;\n",
       "    }\n",
       "\n",
       "    .dataframe tbody tr th {\n",
       "        vertical-align: top;\n",
       "    }\n",
       "\n",
       "    .dataframe thead th {\n",
       "        text-align: right;\n",
       "    }\n",
       "</style>\n",
       "<table border=\"1\" class=\"dataframe\">\n",
       "  <thead>\n",
       "    <tr style=\"text-align: right;\">\n",
       "      <th></th>\n",
       "      <th>year</th>\n",
       "      <th>total-post</th>\n",
       "      <th>fake-post</th>\n",
       "      <th>value_fake_prcentage</th>\n",
       "      <th>fake_percentage</th>\n",
       "    </tr>\n",
       "  </thead>\n",
       "  <tbody>\n",
       "    <tr>\n",
       "      <th>31</th>\n",
       "      <td>1400</td>\n",
       "      <td>797</td>\n",
       "      <td>270.0</td>\n",
       "      <td>33.877039</td>\n",
       "      <td>14.810752</td>\n",
       "    </tr>\n",
       "    <tr>\n",
       "      <th>26</th>\n",
       "      <td>1395</td>\n",
       "      <td>391</td>\n",
       "      <td>156.0</td>\n",
       "      <td>39.897698</td>\n",
       "      <td>8.557323</td>\n",
       "    </tr>\n",
       "    <tr>\n",
       "      <th>21</th>\n",
       "      <td>1390</td>\n",
       "      <td>367</td>\n",
       "      <td>125.0</td>\n",
       "      <td>34.059946</td>\n",
       "      <td>6.856829</td>\n",
       "    </tr>\n",
       "    <tr>\n",
       "      <th>0</th>\n",
       "      <td>-1</td>\n",
       "      <td>820</td>\n",
       "      <td>124.0</td>\n",
       "      <td>15.121951</td>\n",
       "      <td>6.801975</td>\n",
       "    </tr>\n",
       "    <tr>\n",
       "      <th>16</th>\n",
       "      <td>1385</td>\n",
       "      <td>348</td>\n",
       "      <td>113.0</td>\n",
       "      <td>32.471264</td>\n",
       "      <td>6.198574</td>\n",
       "    </tr>\n",
       "    <tr>\n",
       "      <th>29</th>\n",
       "      <td>1398</td>\n",
       "      <td>271</td>\n",
       "      <td>102.0</td>\n",
       "      <td>37.638376</td>\n",
       "      <td>5.595173</td>\n",
       "    </tr>\n",
       "    <tr>\n",
       "      <th>30</th>\n",
       "      <td>1399</td>\n",
       "      <td>320</td>\n",
       "      <td>97.0</td>\n",
       "      <td>30.312500</td>\n",
       "      <td>5.320900</td>\n",
       "    </tr>\n",
       "    <tr>\n",
       "      <th>27</th>\n",
       "      <td>1396</td>\n",
       "      <td>286</td>\n",
       "      <td>95.0</td>\n",
       "      <td>33.216783</td>\n",
       "      <td>5.211190</td>\n",
       "    </tr>\n",
       "    <tr>\n",
       "      <th>28</th>\n",
       "      <td>1397</td>\n",
       "      <td>227</td>\n",
       "      <td>82.0</td>\n",
       "      <td>36.123348</td>\n",
       "      <td>4.498080</td>\n",
       "    </tr>\n",
       "    <tr>\n",
       "      <th>25</th>\n",
       "      <td>1394</td>\n",
       "      <td>227</td>\n",
       "      <td>74.0</td>\n",
       "      <td>32.599119</td>\n",
       "      <td>4.059243</td>\n",
       "    </tr>\n",
       "    <tr>\n",
       "      <th>24</th>\n",
       "      <td>1393</td>\n",
       "      <td>206</td>\n",
       "      <td>74.0</td>\n",
       "      <td>35.922330</td>\n",
       "      <td>4.059243</td>\n",
       "    </tr>\n",
       "    <tr>\n",
       "      <th>19</th>\n",
       "      <td>1388</td>\n",
       "      <td>211</td>\n",
       "      <td>63.0</td>\n",
       "      <td>29.857820</td>\n",
       "      <td>3.455842</td>\n",
       "    </tr>\n",
       "    <tr>\n",
       "      <th>11</th>\n",
       "      <td>1380</td>\n",
       "      <td>193</td>\n",
       "      <td>61.0</td>\n",
       "      <td>31.606218</td>\n",
       "      <td>3.346133</td>\n",
       "    </tr>\n",
       "    <tr>\n",
       "      <th>23</th>\n",
       "      <td>1392</td>\n",
       "      <td>210</td>\n",
       "      <td>61.0</td>\n",
       "      <td>29.047619</td>\n",
       "      <td>3.346133</td>\n",
       "    </tr>\n",
       "    <tr>\n",
       "      <th>17</th>\n",
       "      <td>1386</td>\n",
       "      <td>132</td>\n",
       "      <td>56.0</td>\n",
       "      <td>42.424242</td>\n",
       "      <td>3.071860</td>\n",
       "    </tr>\n",
       "    <tr>\n",
       "      <th>18</th>\n",
       "      <td>1387</td>\n",
       "      <td>150</td>\n",
       "      <td>52.0</td>\n",
       "      <td>34.666667</td>\n",
       "      <td>2.852441</td>\n",
       "    </tr>\n",
       "    <tr>\n",
       "      <th>22</th>\n",
       "      <td>1391</td>\n",
       "      <td>116</td>\n",
       "      <td>39.0</td>\n",
       "      <td>33.620690</td>\n",
       "      <td>2.139331</td>\n",
       "    </tr>\n",
       "    <tr>\n",
       "      <th>20</th>\n",
       "      <td>1389</td>\n",
       "      <td>130</td>\n",
       "      <td>37.0</td>\n",
       "      <td>28.461538</td>\n",
       "      <td>2.029622</td>\n",
       "    </tr>\n",
       "    <tr>\n",
       "      <th>14</th>\n",
       "      <td>1383</td>\n",
       "      <td>94</td>\n",
       "      <td>30.0</td>\n",
       "      <td>31.914894</td>\n",
       "      <td>1.645639</td>\n",
       "    </tr>\n",
       "    <tr>\n",
       "      <th>15</th>\n",
       "      <td>1384</td>\n",
       "      <td>101</td>\n",
       "      <td>23.0</td>\n",
       "      <td>22.772277</td>\n",
       "      <td>1.261657</td>\n",
       "    </tr>\n",
       "    <tr>\n",
       "      <th>13</th>\n",
       "      <td>1382</td>\n",
       "      <td>65</td>\n",
       "      <td>18.0</td>\n",
       "      <td>27.692308</td>\n",
       "      <td>0.987383</td>\n",
       "    </tr>\n",
       "    <tr>\n",
       "      <th>6</th>\n",
       "      <td>1375</td>\n",
       "      <td>52</td>\n",
       "      <td>17.0</td>\n",
       "      <td>32.692308</td>\n",
       "      <td>0.932529</td>\n",
       "    </tr>\n",
       "    <tr>\n",
       "      <th>1</th>\n",
       "      <td>1361</td>\n",
       "      <td>115</td>\n",
       "      <td>16.0</td>\n",
       "      <td>13.913043</td>\n",
       "      <td>0.877674</td>\n",
       "    </tr>\n",
       "    <tr>\n",
       "      <th>12</th>\n",
       "      <td>1381</td>\n",
       "      <td>46</td>\n",
       "      <td>16.0</td>\n",
       "      <td>34.782609</td>\n",
       "      <td>0.877674</td>\n",
       "    </tr>\n",
       "    <tr>\n",
       "      <th>9</th>\n",
       "      <td>1378</td>\n",
       "      <td>20</td>\n",
       "      <td>8.0</td>\n",
       "      <td>40.000000</td>\n",
       "      <td>0.438837</td>\n",
       "    </tr>\n",
       "    <tr>\n",
       "      <th>2</th>\n",
       "      <td>1371</td>\n",
       "      <td>27</td>\n",
       "      <td>6.0</td>\n",
       "      <td>22.222222</td>\n",
       "      <td>0.329128</td>\n",
       "    </tr>\n",
       "    <tr>\n",
       "      <th>10</th>\n",
       "      <td>1379</td>\n",
       "      <td>22</td>\n",
       "      <td>5.0</td>\n",
       "      <td>22.727273</td>\n",
       "      <td>0.274273</td>\n",
       "    </tr>\n",
       "    <tr>\n",
       "      <th>5</th>\n",
       "      <td>1374</td>\n",
       "      <td>17</td>\n",
       "      <td>1.0</td>\n",
       "      <td>5.882353</td>\n",
       "      <td>0.054855</td>\n",
       "    </tr>\n",
       "    <tr>\n",
       "      <th>8</th>\n",
       "      <td>1377</td>\n",
       "      <td>12</td>\n",
       "      <td>1.0</td>\n",
       "      <td>8.333333</td>\n",
       "      <td>0.054855</td>\n",
       "    </tr>\n",
       "    <tr>\n",
       "      <th>4</th>\n",
       "      <td>1373</td>\n",
       "      <td>6</td>\n",
       "      <td>1.0</td>\n",
       "      <td>16.666667</td>\n",
       "      <td>0.054855</td>\n",
       "    </tr>\n",
       "    <tr>\n",
       "      <th>3</th>\n",
       "      <td>1372</td>\n",
       "      <td>16</td>\n",
       "      <td>0.0</td>\n",
       "      <td>0.000000</td>\n",
       "      <td>0.000000</td>\n",
       "    </tr>\n",
       "    <tr>\n",
       "      <th>7</th>\n",
       "      <td>1376</td>\n",
       "      <td>4</td>\n",
       "      <td>0.0</td>\n",
       "      <td>0.000000</td>\n",
       "      <td>0.000000</td>\n",
       "    </tr>\n",
       "  </tbody>\n",
       "</table>\n",
       "</div>"
      ],
      "text/plain": [
       "    year  total-post  fake-post  value_fake_prcentage  fake_percentage\n",
       "31  1400         797      270.0             33.877039        14.810752\n",
       "26  1395         391      156.0             39.897698         8.557323\n",
       "21  1390         367      125.0             34.059946         6.856829\n",
       "0     -1         820      124.0             15.121951         6.801975\n",
       "16  1385         348      113.0             32.471264         6.198574\n",
       "29  1398         271      102.0             37.638376         5.595173\n",
       "30  1399         320       97.0             30.312500         5.320900\n",
       "27  1396         286       95.0             33.216783         5.211190\n",
       "28  1397         227       82.0             36.123348         4.498080\n",
       "25  1394         227       74.0             32.599119         4.059243\n",
       "24  1393         206       74.0             35.922330         4.059243\n",
       "19  1388         211       63.0             29.857820         3.455842\n",
       "11  1380         193       61.0             31.606218         3.346133\n",
       "23  1392         210       61.0             29.047619         3.346133\n",
       "17  1386         132       56.0             42.424242         3.071860\n",
       "18  1387         150       52.0             34.666667         2.852441\n",
       "22  1391         116       39.0             33.620690         2.139331\n",
       "20  1389         130       37.0             28.461538         2.029622\n",
       "14  1383          94       30.0             31.914894         1.645639\n",
       "15  1384         101       23.0             22.772277         1.261657\n",
       "13  1382          65       18.0             27.692308         0.987383\n",
       "6   1375          52       17.0             32.692308         0.932529\n",
       "1   1361         115       16.0             13.913043         0.877674\n",
       "12  1381          46       16.0             34.782609         0.877674\n",
       "9   1378          20        8.0             40.000000         0.438837\n",
       "2   1371          27        6.0             22.222222         0.329128\n",
       "10  1379          22        5.0             22.727273         0.274273\n",
       "5   1374          17        1.0              5.882353         0.054855\n",
       "8   1377          12        1.0              8.333333         0.054855\n",
       "4   1373           6        1.0             16.666667         0.054855\n",
       "3   1372          16        0.0              0.000000         0.000000\n",
       "7   1376           4        0.0              0.000000         0.000000"
      ]
     },
     "execution_count": 412,
     "metadata": {},
     "output_type": "execute_result"
    }
   ],
   "source": [
    "fake_percenatge(train_posts, 'year')"
   ]
  },
  {
   "cell_type": "code",
   "execution_count": 413,
   "id": "bca9f285-0b85-43ef-8c23-056940ff9ac4",
   "metadata": {},
   "outputs": [
    {
     "data": {
      "text/html": [
       "<div>\n",
       "<style scoped>\n",
       "    .dataframe tbody tr th:only-of-type {\n",
       "        vertical-align: middle;\n",
       "    }\n",
       "\n",
       "    .dataframe tbody tr th {\n",
       "        vertical-align: top;\n",
       "    }\n",
       "\n",
       "    .dataframe thead th {\n",
       "        text-align: right;\n",
       "    }\n",
       "</style>\n",
       "<table border=\"1\" class=\"dataframe\">\n",
       "  <thead>\n",
       "    <tr style=\"text-align: right;\">\n",
       "      <th></th>\n",
       "      <th>city</th>\n",
       "      <th>total-post</th>\n",
       "      <th>fake-post</th>\n",
       "      <th>value_fake_prcentage</th>\n",
       "      <th>fake_percentage</th>\n",
       "    </tr>\n",
       "  </thead>\n",
       "  <tbody>\n",
       "    <tr>\n",
       "      <th>53</th>\n",
       "      <td>tehran</td>\n",
       "      <td>4568</td>\n",
       "      <td>1553.0</td>\n",
       "      <td>33.997373</td>\n",
       "      <td>85.189248</td>\n",
       "    </tr>\n",
       "    <tr>\n",
       "      <th>43</th>\n",
       "      <td>rasht</td>\n",
       "      <td>323</td>\n",
       "      <td>58.0</td>\n",
       "      <td>17.956656</td>\n",
       "      <td>3.181569</td>\n",
       "    </tr>\n",
       "    <tr>\n",
       "      <th>22</th>\n",
       "      <td>gorgan</td>\n",
       "      <td>166</td>\n",
       "      <td>34.0</td>\n",
       "      <td>20.481928</td>\n",
       "      <td>1.865058</td>\n",
       "    </tr>\n",
       "  </tbody>\n",
       "</table>\n",
       "</div>"
      ],
      "text/plain": [
       "      city  total-post  fake-post  value_fake_prcentage  fake_percentage\n",
       "53  tehran        4568     1553.0             33.997373        85.189248\n",
       "43   rasht         323       58.0             17.956656         3.181569\n",
       "22  gorgan         166       34.0             20.481928         1.865058"
      ]
     },
     "execution_count": 413,
     "metadata": {},
     "output_type": "execute_result"
    }
   ],
   "source": [
    "city_fake_percentage =fake_percenatge(train_posts, 'city')\n",
    "city_fake_percentage[city_fake_percentage['fake_percentage']>1]"
   ]
  },
  {
   "cell_type": "code",
   "execution_count": 414,
   "id": "10323d30-3279-4241-bc5b-1cba454d79a8",
   "metadata": {},
   "outputs": [
    {
     "data": {
      "text/html": [
       "<div>\n",
       "<style scoped>\n",
       "    .dataframe tbody tr th:only-of-type {\n",
       "        vertical-align: middle;\n",
       "    }\n",
       "\n",
       "    .dataframe tbody tr th {\n",
       "        vertical-align: top;\n",
       "    }\n",
       "\n",
       "    .dataframe thead th {\n",
       "        text-align: right;\n",
       "    }\n",
       "</style>\n",
       "<table border=\"1\" class=\"dataframe\">\n",
       "  <thead>\n",
       "    <tr style=\"text-align: right;\">\n",
       "      <th></th>\n",
       "      <th>is_tehran</th>\n",
       "      <th>total-post</th>\n",
       "      <th>fake-post</th>\n",
       "      <th>value_fake_prcentage</th>\n",
       "      <th>fake_percentage</th>\n",
       "    </tr>\n",
       "  </thead>\n",
       "  <tbody>\n",
       "    <tr>\n",
       "      <th>1</th>\n",
       "      <td>1</td>\n",
       "      <td>4568</td>\n",
       "      <td>1553</td>\n",
       "      <td>33.997373</td>\n",
       "      <td>85.189248</td>\n",
       "    </tr>\n",
       "    <tr>\n",
       "      <th>0</th>\n",
       "      <td>0</td>\n",
       "      <td>1431</td>\n",
       "      <td>270</td>\n",
       "      <td>18.867925</td>\n",
       "      <td>14.810752</td>\n",
       "    </tr>\n",
       "  </tbody>\n",
       "</table>\n",
       "</div>"
      ],
      "text/plain": [
       "   is_tehran  total-post  fake-post  value_fake_prcentage  fake_percentage\n",
       "1          1        4568       1553             33.997373        85.189248\n",
       "0          0        1431        270             18.867925        14.810752"
      ]
     },
     "execution_count": 414,
     "metadata": {},
     "output_type": "execute_result"
    }
   ],
   "source": [
    "train_posts['is_tehran'] = np.where(train_posts['city']=='tehran', 1, 0)\n",
    "fake_percenatge(train_posts, 'is_tehran')"
   ]
  },
  {
   "cell_type": "code",
   "execution_count": 415,
   "id": "574d217a-e0da-4d12-81e5-622e240948f6",
   "metadata": {},
   "outputs": [
    {
     "data": {
      "text/html": [
       "<div>\n",
       "<style scoped>\n",
       "    .dataframe tbody tr th:only-of-type {\n",
       "        vertical-align: middle;\n",
       "    }\n",
       "\n",
       "    .dataframe tbody tr th {\n",
       "        vertical-align: top;\n",
       "    }\n",
       "\n",
       "    .dataframe thead th {\n",
       "        text-align: right;\n",
       "    }\n",
       "</style>\n",
       "<table border=\"1\" class=\"dataframe\">\n",
       "  <thead>\n",
       "    <tr style=\"text-align: right;\">\n",
       "      <th></th>\n",
       "      <th>district</th>\n",
       "      <th>total-post</th>\n",
       "      <th>fake-post</th>\n",
       "      <th>value_fake_prcentage</th>\n",
       "      <th>fake_percentage</th>\n",
       "    </tr>\n",
       "  </thead>\n",
       "  <tbody>\n",
       "    <tr>\n",
       "      <th>66</th>\n",
       "      <td>east-tehranpars</td>\n",
       "      <td>782</td>\n",
       "      <td>305.0</td>\n",
       "      <td>39.002558</td>\n",
       "      <td>16.730664</td>\n",
       "    </tr>\n",
       "    <tr>\n",
       "      <th>162</th>\n",
       "      <td>niavaran</td>\n",
       "      <td>722</td>\n",
       "      <td>551.0</td>\n",
       "      <td>76.315789</td>\n",
       "      <td>30.224904</td>\n",
       "    </tr>\n",
       "    <tr>\n",
       "      <th>226</th>\n",
       "      <td>shahrak-e-vali-e-asr</td>\n",
       "      <td>160</td>\n",
       "      <td>66.0</td>\n",
       "      <td>41.250000</td>\n",
       "      <td>3.620406</td>\n",
       "    </tr>\n",
       "    <tr>\n",
       "      <th>176</th>\n",
       "      <td>pardis</td>\n",
       "      <td>119</td>\n",
       "      <td>37.0</td>\n",
       "      <td>31.092437</td>\n",
       "      <td>2.029622</td>\n",
       "    </tr>\n",
       "    <tr>\n",
       "      <th>174</th>\n",
       "      <td>parand</td>\n",
       "      <td>94</td>\n",
       "      <td>19.0</td>\n",
       "      <td>20.212766</td>\n",
       "      <td>1.042238</td>\n",
       "    </tr>\n",
       "    <tr>\n",
       "      <th>231</th>\n",
       "      <td>shahriar</td>\n",
       "      <td>84</td>\n",
       "      <td>12.0</td>\n",
       "      <td>14.285714</td>\n",
       "      <td>0.658256</td>\n",
       "    </tr>\n",
       "    <tr>\n",
       "      <th>17</th>\n",
       "      <td>andisheh</td>\n",
       "      <td>77</td>\n",
       "      <td>17.0</td>\n",
       "      <td>22.077922</td>\n",
       "      <td>0.932529</td>\n",
       "    </tr>\n",
       "    <tr>\n",
       "      <th>179</th>\n",
       "      <td>poonak</td>\n",
       "      <td>74</td>\n",
       "      <td>19.0</td>\n",
       "      <td>25.675676</td>\n",
       "      <td>1.042238</td>\n",
       "    </tr>\n",
       "    <tr>\n",
       "      <th>281</th>\n",
       "      <td>west-tehranpars</td>\n",
       "      <td>69</td>\n",
       "      <td>18.0</td>\n",
       "      <td>26.086957</td>\n",
       "      <td>0.987383</td>\n",
       "    </tr>\n",
       "    <tr>\n",
       "      <th>189</th>\n",
       "      <td>saadat-abad</td>\n",
       "      <td>68</td>\n",
       "      <td>14.0</td>\n",
       "      <td>20.588235</td>\n",
       "      <td>0.767965</td>\n",
       "    </tr>\n",
       "  </tbody>\n",
       "</table>\n",
       "</div>"
      ],
      "text/plain": [
       "                 district  total-post  fake-post  value_fake_prcentage  \\\n",
       "66        east-tehranpars         782      305.0             39.002558   \n",
       "162              niavaran         722      551.0             76.315789   \n",
       "226  shahrak-e-vali-e-asr         160       66.0             41.250000   \n",
       "176                pardis         119       37.0             31.092437   \n",
       "174                parand          94       19.0             20.212766   \n",
       "231              shahriar          84       12.0             14.285714   \n",
       "17               andisheh          77       17.0             22.077922   \n",
       "179                poonak          74       19.0             25.675676   \n",
       "281       west-tehranpars          69       18.0             26.086957   \n",
       "189           saadat-abad          68       14.0             20.588235   \n",
       "\n",
       "     fake_percentage  \n",
       "66         16.730664  \n",
       "162        30.224904  \n",
       "226         3.620406  \n",
       "176         2.029622  \n",
       "174         1.042238  \n",
       "231         0.658256  \n",
       "17          0.932529  \n",
       "179         1.042238  \n",
       "281         0.987383  \n",
       "189         0.767965  "
      ]
     },
     "execution_count": 415,
     "metadata": {},
     "output_type": "execute_result"
    }
   ],
   "source": [
    "fake_percenatge(train_posts, 'district').sort_values(by='total-post', ascending=False).head(10)"
   ]
  },
  {
   "cell_type": "code",
   "execution_count": 416,
   "id": "efd0d209-e170-4e8c-99f6-f1cc62013dee",
   "metadata": {},
   "outputs": [
    {
     "name": "stdout",
     "output_type": "stream",
     "text": [
      "<class 'pandas.core.frame.DataFrame'>\n",
      "Int64Index: 5999 entries, 0 to 5999\n",
      "Data columns (total 41 columns):\n",
      " #   Column                        Non-Null Count  Dtype         \n",
      "---  ------                        --------------  -----         \n",
      " 0   token                         5999 non-null   object        \n",
      " 1   result                        5999 non-null   object        \n",
      " 2   first_published_at            5999 non-null   datetime64[ns]\n",
      " 3   image_count                   5999 non-null   float64       \n",
      " 4   device_id                     5999 non-null   object        \n",
      " 5   username                      2594 non-null   object        \n",
      " 6   city                          5999 non-null   object        \n",
      " 7   district                      4568 non-null   object        \n",
      " 8   rent                          3071 non-null   object        \n",
      " 9   size                          5950 non-null   float64       \n",
      " 10  year                          5999 non-null   int64         \n",
      " 11  floor                         4358 non-null   object        \n",
      " 12  rooms                         5454 non-null   object        \n",
      " 13  title                         5999 non-null   object        \n",
      " 14  credit                        3071 non-null   object        \n",
      " 15  parking                       4925 non-null   object        \n",
      " 16  elevator                      4358 non-null   object        \n",
      " 17  new_rent                      2748 non-null   float64       \n",
      " 18  rent_type                     2210 non-null   object        \n",
      " 19  user_type                     5999 non-null   object        \n",
      " 20  warehouse                     5999 non-null   object        \n",
      " 21  new_credit                    2813 non-null   float64       \n",
      " 22  description                   5999 non-null   object        \n",
      " 23  rent_to_single                5999 non-null   object        \n",
      " 24  rent_credit_transform         5999 non-null   object        \n",
      " 25  other_options_and_attributes  2447 non-null   object        \n",
      " 26  price                         2610 non-null   object        \n",
      " 27  new_price                     1955 non-null   float64       \n",
      " 28  balcony                       567 non-null    object        \n",
      " 29  category                      5999 non-null   object        \n",
      " 30  full_options                  5999 non-null   object        \n",
      " 31  chat_enabled                  5999 non-null   bool          \n",
      " 32  year_mode5                    5999 non-null   int64         \n",
      " 33  is_new                        5999 non-null   int64         \n",
      " 34  pre_category                  5999 non-null   object        \n",
      " 35  published_year                5999 non-null   int64         \n",
      " 36  published_dayofweek           5999 non-null   int64         \n",
      " 37  published_hour                5999 non-null   int64         \n",
      " 38  published_month               5999 non-null   int64         \n",
      " 39  is_agent                      5999 non-null   int64         \n",
      " 40  is_tehran                     5999 non-null   int64         \n",
      "dtypes: bool(1), datetime64[ns](1), float64(5), int64(9), object(25)\n",
      "memory usage: 1.9+ MB\n"
     ]
    }
   ],
   "source": [
    "train_posts.info()"
   ]
  },
  {
   "cell_type": "code",
   "execution_count": 417,
   "id": "e6cacd41-ea07-4a49-b907-3672392e6b3a",
   "metadata": {},
   "outputs": [],
   "source": [
    "train_posts['is_niavaran'] = np.where(train_posts.district=='niavaran',1,0)"
   ]
  },
  {
   "cell_type": "code",
   "execution_count": 418,
   "id": "e1016367-83fb-4d82-a31b-9bf759fdb4eb",
   "metadata": {},
   "outputs": [],
   "source": [
    "drop_list = ['first_published_at','device_id','username','city','district','rent','size','year','floor','rooms','title','credit',\\\n",
    "            'new_credit','description','rent_credit_transform','other_options_and_attributes','price','new_price','balcony','year_mode5',\\\n",
    "            'published_dayofweek','published_hour']"
   ]
  },
  {
   "cell_type": "code",
   "execution_count": 419,
   "id": "74f97823-7136-41b7-8781-13ea9fe7f6ce",
   "metadata": {},
   "outputs": [],
   "source": [
    "train_data = train_posts.drop(drop_list,axis = 1)"
   ]
  },
  {
   "cell_type": "code",
   "execution_count": 420,
   "id": "50836718-cff4-4841-b643-e6d4e1d885ac",
   "metadata": {},
   "outputs": [
    {
     "name": "stdout",
     "output_type": "stream",
     "text": [
      "<class 'pandas.core.frame.DataFrame'>\n",
      "Int64Index: 5999 entries, 0 to 5999\n",
      "Data columns (total 20 columns):\n",
      " #   Column           Non-Null Count  Dtype  \n",
      "---  ------           --------------  -----  \n",
      " 0   token            5999 non-null   object \n",
      " 1   result           5999 non-null   object \n",
      " 2   image_count      5999 non-null   float64\n",
      " 3   parking          4925 non-null   object \n",
      " 4   elevator         4358 non-null   object \n",
      " 5   new_rent         2748 non-null   float64\n",
      " 6   rent_type        2210 non-null   object \n",
      " 7   user_type        5999 non-null   object \n",
      " 8   warehouse        5999 non-null   object \n",
      " 9   rent_to_single   5999 non-null   object \n",
      " 10  category         5999 non-null   object \n",
      " 11  full_options     5999 non-null   object \n",
      " 12  chat_enabled     5999 non-null   bool   \n",
      " 13  is_new           5999 non-null   int64  \n",
      " 14  pre_category     5999 non-null   object \n",
      " 15  published_year   5999 non-null   int64  \n",
      " 16  published_month  5999 non-null   int64  \n",
      " 17  is_agent         5999 non-null   int64  \n",
      " 18  is_tehran        5999 non-null   int64  \n",
      " 19  is_niavaran      5999 non-null   int64  \n",
      "dtypes: bool(1), float64(2), int64(6), object(11)\n",
      "memory usage: 943.2+ KB\n"
     ]
    }
   ],
   "source": [
    "train_data.info()"
   ]
  },
  {
   "cell_type": "code",
   "execution_count": 421,
   "id": "67d92a60-4d42-430c-9704-2c1fe50d1f52",
   "metadata": {},
   "outputs": [
    {
     "data": {
      "text/plain": [
       "1335"
      ]
     },
     "execution_count": 421,
     "metadata": {},
     "output_type": "execute_result"
    }
   ],
   "source": [
    "train_posts['username'].nunique()"
   ]
  },
  {
   "cell_type": "code",
   "execution_count": 422,
   "id": "09967eb7-bc9a-4b2c-b4f5-a8c22bf789f9",
   "metadata": {},
   "outputs": [],
   "source": [
    "train_data['chat_enabled'] = np.where(train_data.chat_enabled==True,1,0)"
   ]
  },
  {
   "cell_type": "code",
   "execution_count": 423,
   "id": "8b80f123-a490-4591-b8ae-402dfe47674a",
   "metadata": {},
   "outputs": [
    {
     "data": {
      "text/html": [
       "<div>\n",
       "<style scoped>\n",
       "    .dataframe tbody tr th:only-of-type {\n",
       "        vertical-align: middle;\n",
       "    }\n",
       "\n",
       "    .dataframe tbody tr th {\n",
       "        vertical-align: top;\n",
       "    }\n",
       "\n",
       "    .dataframe thead th {\n",
       "        text-align: right;\n",
       "    }\n",
       "</style>\n",
       "<table border=\"1\" class=\"dataframe\">\n",
       "  <thead>\n",
       "    <tr style=\"text-align: right;\">\n",
       "      <th></th>\n",
       "      <th>token</th>\n",
       "      <th>result</th>\n",
       "      <th>parking</th>\n",
       "      <th>elevator</th>\n",
       "      <th>rent_type</th>\n",
       "      <th>user_type</th>\n",
       "      <th>warehouse</th>\n",
       "      <th>rent_to_single</th>\n",
       "      <th>category</th>\n",
       "      <th>full_options</th>\n",
       "      <th>pre_category</th>\n",
       "    </tr>\n",
       "  </thead>\n",
       "  <tbody>\n",
       "    <tr>\n",
       "      <th>0</th>\n",
       "      <td>QYbqr3ge</td>\n",
       "      <td>ok</td>\n",
       "      <td>true</td>\n",
       "      <td>true</td>\n",
       "      <td>full_credit</td>\n",
       "      <td>شخصی</td>\n",
       "      <td>true</td>\n",
       "      <td>false</td>\n",
       "      <td>apartment-rent</td>\n",
       "      <td>true</td>\n",
       "      <td>residential_rent</td>\n",
       "    </tr>\n",
       "    <tr>\n",
       "      <th>1</th>\n",
       "      <td>QYkqKwFf</td>\n",
       "      <td>ok</td>\n",
       "      <td>true</td>\n",
       "      <td>true</td>\n",
       "      <td>NaN</td>\n",
       "      <td>مشاور املاک</td>\n",
       "      <td>true</td>\n",
       "      <td>true</td>\n",
       "      <td>apartment-rent</td>\n",
       "      <td>true</td>\n",
       "      <td>residential_rent</td>\n",
       "    </tr>\n",
       "    <tr>\n",
       "      <th>2</th>\n",
       "      <td>QYXiqmnm</td>\n",
       "      <td>ok</td>\n",
       "      <td>false</td>\n",
       "      <td>false</td>\n",
       "      <td>NaN</td>\n",
       "      <td>شخصی</td>\n",
       "      <td>false</td>\n",
       "      <td>-1</td>\n",
       "      <td>apartment-sell</td>\n",
       "      <td>false</td>\n",
       "      <td>residential_sell</td>\n",
       "    </tr>\n",
       "    <tr>\n",
       "      <th>3</th>\n",
       "      <td>QYS2yZff</td>\n",
       "      <td>ok</td>\n",
       "      <td>true</td>\n",
       "      <td>NaN</td>\n",
       "      <td>full_credit</td>\n",
       "      <td>شخصی</td>\n",
       "      <td>true</td>\n",
       "      <td>true</td>\n",
       "      <td>house-villa-rent</td>\n",
       "      <td>false</td>\n",
       "      <td>residential_rent</td>\n",
       "    </tr>\n",
       "    <tr>\n",
       "      <th>4</th>\n",
       "      <td>QYSRcUII</td>\n",
       "      <td>ok</td>\n",
       "      <td>true</td>\n",
       "      <td>true</td>\n",
       "      <td>rent_credit</td>\n",
       "      <td>مشاور املاک</td>\n",
       "      <td>true</td>\n",
       "      <td>-1</td>\n",
       "      <td>office-rent</td>\n",
       "      <td>true</td>\n",
       "      <td>commercial_rent</td>\n",
       "    </tr>\n",
       "    <tr>\n",
       "      <th>...</th>\n",
       "      <td>...</td>\n",
       "      <td>...</td>\n",
       "      <td>...</td>\n",
       "      <td>...</td>\n",
       "      <td>...</td>\n",
       "      <td>...</td>\n",
       "      <td>...</td>\n",
       "      <td>...</td>\n",
       "      <td>...</td>\n",
       "      <td>...</td>\n",
       "      <td>...</td>\n",
       "    </tr>\n",
       "    <tr>\n",
       "      <th>5995</th>\n",
       "      <td>QYLypWqC</td>\n",
       "      <td>ok</td>\n",
       "      <td>NaN</td>\n",
       "      <td>NaN</td>\n",
       "      <td>NaN</td>\n",
       "      <td>شخصی</td>\n",
       "      <td>-1</td>\n",
       "      <td>-1</td>\n",
       "      <td>shop-sell</td>\n",
       "      <td>false</td>\n",
       "      <td>commercial_sell</td>\n",
       "    </tr>\n",
       "    <tr>\n",
       "      <th>5996</th>\n",
       "      <td>QYZyA21F</td>\n",
       "      <td>ok</td>\n",
       "      <td>true</td>\n",
       "      <td>true</td>\n",
       "      <td>full_credit</td>\n",
       "      <td>مشاور املاک</td>\n",
       "      <td>true</td>\n",
       "      <td>-1</td>\n",
       "      <td>office-rent</td>\n",
       "      <td>true</td>\n",
       "      <td>commercial_rent</td>\n",
       "    </tr>\n",
       "    <tr>\n",
       "      <th>5997</th>\n",
       "      <td>QY0JAIi3</td>\n",
       "      <td>fake-post</td>\n",
       "      <td>false</td>\n",
       "      <td>true</td>\n",
       "      <td>rent_credit</td>\n",
       "      <td>مشاور املاک</td>\n",
       "      <td>true</td>\n",
       "      <td>true</td>\n",
       "      <td>apartment-rent</td>\n",
       "      <td>false</td>\n",
       "      <td>residential_rent</td>\n",
       "    </tr>\n",
       "    <tr>\n",
       "      <th>5998</th>\n",
       "      <td>QYefO65p</td>\n",
       "      <td>ok</td>\n",
       "      <td>false</td>\n",
       "      <td>false</td>\n",
       "      <td>rent_credit</td>\n",
       "      <td>مشاور املاک</td>\n",
       "      <td>true</td>\n",
       "      <td>false</td>\n",
       "      <td>apartment-rent</td>\n",
       "      <td>false</td>\n",
       "      <td>residential_rent</td>\n",
       "    </tr>\n",
       "    <tr>\n",
       "      <th>5999</th>\n",
       "      <td>QY8m6C9B</td>\n",
       "      <td>ok</td>\n",
       "      <td>true</td>\n",
       "      <td>true</td>\n",
       "      <td>NaN</td>\n",
       "      <td>مشاور املاک</td>\n",
       "      <td>true</td>\n",
       "      <td>false</td>\n",
       "      <td>apartment-rent</td>\n",
       "      <td>true</td>\n",
       "      <td>residential_rent</td>\n",
       "    </tr>\n",
       "  </tbody>\n",
       "</table>\n",
       "<p>5999 rows × 11 columns</p>\n",
       "</div>"
      ],
      "text/plain": [
       "         token     result parking elevator    rent_type    user_type  \\\n",
       "0     QYbqr3ge         ok    true     true  full_credit         شخصی   \n",
       "1     QYkqKwFf         ok    true     true          NaN  مشاور املاک   \n",
       "2     QYXiqmnm         ok   false    false          NaN         شخصی   \n",
       "3     QYS2yZff         ok    true      NaN  full_credit         شخصی   \n",
       "4     QYSRcUII         ok    true     true  rent_credit  مشاور املاک   \n",
       "...        ...        ...     ...      ...          ...          ...   \n",
       "5995  QYLypWqC         ok     NaN      NaN          NaN         شخصی   \n",
       "5996  QYZyA21F         ok    true     true  full_credit  مشاور املاک   \n",
       "5997  QY0JAIi3  fake-post   false     true  rent_credit  مشاور املاک   \n",
       "5998  QYefO65p         ok   false    false  rent_credit  مشاور املاک   \n",
       "5999  QY8m6C9B         ok    true     true          NaN  مشاور املاک   \n",
       "\n",
       "     warehouse rent_to_single          category full_options      pre_category  \n",
       "0         true          false    apartment-rent         true  residential_rent  \n",
       "1         true           true    apartment-rent         true  residential_rent  \n",
       "2        false             -1    apartment-sell        false  residential_sell  \n",
       "3         true           true  house-villa-rent        false  residential_rent  \n",
       "4         true             -1       office-rent         true   commercial_rent  \n",
       "...        ...            ...               ...          ...               ...  \n",
       "5995        -1             -1         shop-sell        false   commercial_sell  \n",
       "5996      true             -1       office-rent         true   commercial_rent  \n",
       "5997      true           true    apartment-rent        false  residential_rent  \n",
       "5998      true          false    apartment-rent        false  residential_rent  \n",
       "5999      true          false    apartment-rent         true  residential_rent  \n",
       "\n",
       "[5999 rows x 11 columns]"
      ]
     },
     "execution_count": 423,
     "metadata": {},
     "output_type": "execute_result"
    }
   ],
   "source": [
    "X = train_data.select_dtypes(include=[object])\n",
    "X"
   ]
  },
  {
   "cell_type": "code",
   "execution_count": 424,
   "id": "3fbb91c2-b52f-4ccd-9faf-7aca1f6b11f4",
   "metadata": {},
   "outputs": [
    {
     "name": "stdout",
     "output_type": "stream",
     "text": [
      "<class 'pandas.core.frame.DataFrame'>\n",
      "Int64Index: 5999 entries, 0 to 5999\n",
      "Data columns (total 11 columns):\n",
      " #   Column          Non-Null Count  Dtype \n",
      "---  ------          --------------  ----- \n",
      " 0   token           5999 non-null   object\n",
      " 1   result          5999 non-null   object\n",
      " 2   parking         4925 non-null   object\n",
      " 3   elevator        4358 non-null   object\n",
      " 4   rent_type       2210 non-null   object\n",
      " 5   user_type       5999 non-null   object\n",
      " 6   warehouse       5999 non-null   object\n",
      " 7   rent_to_single  5999 non-null   object\n",
      " 8   category        5999 non-null   object\n",
      " 9   full_options    5999 non-null   object\n",
      " 10  pre_category    5999 non-null   object\n",
      "dtypes: object(11)\n",
      "memory usage: 562.4+ KB\n"
     ]
    }
   ],
   "source": [
    "X.info()"
   ]
  },
  {
   "cell_type": "code",
   "execution_count": null,
   "id": "aaa06c05-ecc1-4bfb-9da3-8631a4f215bc",
   "metadata": {},
   "outputs": [],
   "source": []
  }
 ],
 "metadata": {
  "kernelspec": {
   "display_name": "Python 3",
   "language": "python",
   "name": "python3"
  },
  "language_info": {
   "codemirror_mode": {
    "name": "ipython",
    "version": 3
   },
   "file_extension": ".py",
   "mimetype": "text/x-python",
   "name": "python",
   "nbconvert_exporter": "python",
   "pygments_lexer": "ipython3",
   "version": "3.8.10"
  }
 },
 "nbformat": 4,
 "nbformat_minor": 5
}
